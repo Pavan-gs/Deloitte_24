{
 "cells": [
  {
   "cell_type": "code",
   "execution_count": 0,
   "metadata": {
    "application/vnd.databricks.v1+cell": {
     "cellMetadata": {
      "byteLimit": 2048000,
      "rowLimit": 10000
     },
     "inputWidgets": {},
     "nuid": "f4fd2532-2c33-45b9-aa85-9f720820876e",
     "showTitle": false,
     "title": ""
    }
   },
   "outputs": [],
   "source": [
    "df = spark.read.format(\"delta\").option(\"inferschema\", True).option(\"header\", True).option(\"sep\", \",\").load(\"dbfs:/user/hive/warehouse/b1\")"
   ]
  },
  {
   "cell_type": "code",
   "execution_count": 0,
   "metadata": {
    "application/vnd.databricks.v1+cell": {
     "cellMetadata": {
      "byteLimit": 2048000,
      "rowLimit": 10000
     },
     "collapsed": true,
     "inputWidgets": {},
     "nuid": "8a4c18ca-b745-4bf7-98c8-3afa470868fe",
     "showTitle": false,
     "title": ""
    }
   },
   "outputs": [
    {
     "output_type": "display_data",
     "data": {
      "text/html": [
       "<style scoped>\n",
       "  .table-result-container {\n",
       "    max-height: 300px;\n",
       "    overflow: auto;\n",
       "  }\n",
       "  table, th, td {\n",
       "    border: 1px solid black;\n",
       "    border-collapse: collapse;\n",
       "  }\n",
       "  th, td {\n",
       "    padding: 5px;\n",
       "  }\n",
       "  th {\n",
       "    text-align: left;\n",
       "  }\n",
       "</style><div class='table-result-container'><table class='table-result'><thead style='background-color: white'><tr><th>crim</th><th>zn</th><th>indus</th><th>chas</th><th>nox</th><th>rm</th><th>age</th><th>dis</th><th>rad</th><th>tax</th><th>ptratio</th><th>black</th><th>lstat</th><th>medv</th></tr></thead><tbody><tr><td>0.00632</td><td>18.0</td><td>2.31</td><td>0</td><td>0.538</td><td>6.575</td><td>65.2</td><td>4.09</td><td>1</td><td>296</td><td>15.3</td><td>396.9</td><td>4.98</td><td>24.0</td></tr><tr><td>0.02731</td><td>0.0</td><td>7.07</td><td>0</td><td>0.469</td><td>6.421</td><td>78.9</td><td>4.9671</td><td>2</td><td>242</td><td>17.8</td><td>396.9</td><td>9.14</td><td>21.6</td></tr><tr><td>0.02729</td><td>0.0</td><td>7.07</td><td>0</td><td>0.469</td><td>7.185</td><td>61.1</td><td>4.9671</td><td>2</td><td>242</td><td>17.8</td><td>392.83</td><td>4.03</td><td>34.7</td></tr><tr><td>0.03237</td><td>0.0</td><td>2.18</td><td>0</td><td>0.458</td><td>6.998</td><td>45.8</td><td>6.0622</td><td>3</td><td>222</td><td>18.7</td><td>394.63</td><td>2.94</td><td>33.4</td></tr><tr><td>0.06905</td><td>0.0</td><td>2.18</td><td>0</td><td>0.458</td><td>7.147</td><td>54.2</td><td>6.0622</td><td>3</td><td>222</td><td>18.7</td><td>396.9</td><td>5.33</td><td>36.2</td></tr><tr><td>0.02985</td><td>0.0</td><td>2.18</td><td>0</td><td>0.458</td><td>6.43</td><td>58.7</td><td>6.0622</td><td>3</td><td>222</td><td>18.7</td><td>394.12</td><td>5.21</td><td>28.7</td></tr><tr><td>0.08829</td><td>12.5</td><td>7.87</td><td>0</td><td>0.524</td><td>6.012</td><td>66.6</td><td>5.5605</td><td>5</td><td>311</td><td>15.2</td><td>395.6</td><td>12.43</td><td>22.9</td></tr><tr><td>0.14455</td><td>12.5</td><td>7.87</td><td>0</td><td>0.524</td><td>6.172</td><td>96.1</td><td>5.9505</td><td>5</td><td>311</td><td>15.2</td><td>396.9</td><td>19.15</td><td>27.1</td></tr><tr><td>0.21124</td><td>12.5</td><td>7.87</td><td>0</td><td>0.524</td><td>5.631</td><td>100.0</td><td>6.0821</td><td>5</td><td>311</td><td>15.2</td><td>386.63</td><td>29.93</td><td>16.5</td></tr><tr><td>0.17004</td><td>12.5</td><td>7.87</td><td>0</td><td>0.524</td><td>6.004</td><td>85.9</td><td>6.5921</td><td>5</td><td>311</td><td>15.2</td><td>386.71</td><td>17.1</td><td>18.9</td></tr><tr><td>0.22489</td><td>12.5</td><td>7.87</td><td>0</td><td>0.524</td><td>6.377</td><td>94.3</td><td>6.3467</td><td>5</td><td>311</td><td>15.2</td><td>392.52</td><td>20.45</td><td>15.0</td></tr><tr><td>0.11747</td><td>12.5</td><td>7.87</td><td>0</td><td>0.524</td><td>6.009</td><td>82.9</td><td>6.2267</td><td>5</td><td>311</td><td>15.2</td><td>396.9</td><td>13.27</td><td>18.9</td></tr><tr><td>0.09378</td><td>12.5</td><td>7.87</td><td>0</td><td>0.524</td><td>5.889</td><td>39.0</td><td>5.4509</td><td>5</td><td>311</td><td>15.2</td><td>390.5</td><td>15.71</td><td>21.7</td></tr><tr><td>0.62976</td><td>0.0</td><td>8.14</td><td>0</td><td>0.538</td><td>5.949</td><td>61.8</td><td>4.7075</td><td>4</td><td>307</td><td>21.0</td><td>396.9</td><td>8.26</td><td>20.4</td></tr><tr><td>0.63796</td><td>0.0</td><td>8.14</td><td>0</td><td>0.538</td><td>6.096</td><td>84.5</td><td>4.4619</td><td>4</td><td>307</td><td>21.0</td><td>380.02</td><td>10.26</td><td>18.2</td></tr><tr><td>0.62739</td><td>0.0</td><td>8.14</td><td>0</td><td>0.538</td><td>5.834</td><td>56.5</td><td>4.4986</td><td>4</td><td>307</td><td>21.0</td><td>395.62</td><td>8.47</td><td>19.9</td></tr><tr><td>1.05393</td><td>0.0</td><td>8.14</td><td>0</td><td>0.538</td><td>5.935</td><td>29.3</td><td>4.4986</td><td>4</td><td>307</td><td>21.0</td><td>386.85</td><td>6.58</td><td>23.1</td></tr><tr><td>0.7842</td><td>0.0</td><td>8.14</td><td>0</td><td>0.538</td><td>5.99</td><td>81.7</td><td>4.2579</td><td>4</td><td>307</td><td>21.0</td><td>386.75</td><td>14.67</td><td>17.5</td></tr><tr><td>0.80271</td><td>0.0</td><td>8.14</td><td>0</td><td>0.538</td><td>5.456</td><td>36.6</td><td>3.7965</td><td>4</td><td>307</td><td>21.0</td><td>288.99</td><td>11.69</td><td>20.2</td></tr><tr><td>0.7258</td><td>0.0</td><td>8.14</td><td>0</td><td>0.538</td><td>5.727</td><td>69.5</td><td>3.7965</td><td>4</td><td>307</td><td>21.0</td><td>390.95</td><td>11.28</td><td>18.2</td></tr><tr><td>1.25179</td><td>0.0</td><td>8.14</td><td>0</td><td>0.538</td><td>5.57</td><td>98.1</td><td>3.7979</td><td>4</td><td>307</td><td>21.0</td><td>376.57</td><td>21.02</td><td>13.6</td></tr><tr><td>0.85204</td><td>0.0</td><td>8.14</td><td>0</td><td>0.538</td><td>5.965</td><td>89.2</td><td>4.0123</td><td>4</td><td>307</td><td>21.0</td><td>392.53</td><td>13.83</td><td>19.6</td></tr><tr><td>1.23247</td><td>0.0</td><td>8.14</td><td>0</td><td>0.538</td><td>6.142</td><td>91.7</td><td>3.9769</td><td>4</td><td>307</td><td>21.0</td><td>396.9</td><td>18.72</td><td>15.2</td></tr><tr><td>0.98843</td><td>0.0</td><td>8.14</td><td>0</td><td>0.538</td><td>5.813</td><td>100.0</td><td>4.0952</td><td>4</td><td>307</td><td>21.0</td><td>394.54</td><td>19.88</td><td>14.5</td></tr><tr><td>0.75026</td><td>0.0</td><td>8.14</td><td>0</td><td>0.538</td><td>5.924</td><td>94.1</td><td>4.3996</td><td>4</td><td>307</td><td>21.0</td><td>394.33</td><td>16.3</td><td>15.6</td></tr><tr><td>0.84054</td><td>0.0</td><td>8.14</td><td>0</td><td>0.538</td><td>5.599</td><td>85.7</td><td>4.4546</td><td>4</td><td>307</td><td>21.0</td><td>303.42</td><td>16.51</td><td>13.9</td></tr><tr><td>0.67191</td><td>0.0</td><td>8.14</td><td>0</td><td>0.538</td><td>5.813</td><td>90.3</td><td>4.682</td><td>4</td><td>307</td><td>21.0</td><td>376.88</td><td>14.81</td><td>16.6</td></tr><tr><td>0.95577</td><td>0.0</td><td>8.14</td><td>0</td><td>0.538</td><td>6.047</td><td>88.8</td><td>4.4534</td><td>4</td><td>307</td><td>21.0</td><td>306.38</td><td>17.28</td><td>14.8</td></tr><tr><td>0.77299</td><td>0.0</td><td>8.14</td><td>0</td><td>0.538</td><td>6.495</td><td>94.4</td><td>4.4547</td><td>4</td><td>307</td><td>21.0</td><td>387.94</td><td>12.8</td><td>18.4</td></tr><tr><td>1.00245</td><td>0.0</td><td>8.14</td><td>0</td><td>0.538</td><td>6.674</td><td>87.3</td><td>4.239</td><td>4</td><td>307</td><td>21.0</td><td>380.23</td><td>11.98</td><td>21.0</td></tr><tr><td>1.13081</td><td>0.0</td><td>8.14</td><td>0</td><td>0.538</td><td>5.713</td><td>94.1</td><td>4.233</td><td>4</td><td>307</td><td>21.0</td><td>360.17</td><td>22.6</td><td>12.7</td></tr><tr><td>1.35472</td><td>0.0</td><td>8.14</td><td>0</td><td>0.538</td><td>6.072</td><td>100.0</td><td>4.175</td><td>4</td><td>307</td><td>21.0</td><td>376.73</td><td>13.04</td><td>14.5</td></tr><tr><td>1.38799</td><td>0.0</td><td>8.14</td><td>0</td><td>0.538</td><td>5.95</td><td>82.0</td><td>3.99</td><td>4</td><td>307</td><td>21.0</td><td>232.6</td><td>27.71</td><td>13.2</td></tr><tr><td>1.15172</td><td>0.0</td><td>8.14</td><td>0</td><td>0.538</td><td>5.701</td><td>95.0</td><td>3.7872</td><td>4</td><td>307</td><td>21.0</td><td>358.77</td><td>18.35</td><td>13.1</td></tr><tr><td>1.61282</td><td>0.0</td><td>8.14</td><td>0</td><td>0.538</td><td>6.096</td><td>96.9</td><td>3.7598</td><td>4</td><td>307</td><td>21.0</td><td>248.31</td><td>20.34</td><td>13.5</td></tr><tr><td>0.06417</td><td>0.0</td><td>5.96</td><td>0</td><td>0.499</td><td>5.933</td><td>68.2</td><td>3.3603</td><td>5</td><td>279</td><td>19.2</td><td>396.9</td><td>9.68</td><td>18.9</td></tr><tr><td>0.09744</td><td>0.0</td><td>5.96</td><td>0</td><td>0.499</td><td>5.841</td><td>61.4</td><td>3.3779</td><td>5</td><td>279</td><td>19.2</td><td>377.56</td><td>11.41</td><td>20.0</td></tr><tr><td>0.08014</td><td>0.0</td><td>5.96</td><td>0</td><td>0.499</td><td>5.85</td><td>41.5</td><td>3.9342</td><td>5</td><td>279</td><td>19.2</td><td>396.9</td><td>8.77</td><td>21.0</td></tr><tr><td>0.17505</td><td>0.0</td><td>5.96</td><td>0</td><td>0.499</td><td>5.966</td><td>30.2</td><td>3.8473</td><td>5</td><td>279</td><td>19.2</td><td>393.43</td><td>10.13</td><td>24.7</td></tr><tr><td>0.02763</td><td>75.0</td><td>2.95</td><td>0</td><td>0.428</td><td>6.595</td><td>21.8</td><td>5.4011</td><td>3</td><td>252</td><td>18.3</td><td>395.63</td><td>4.32</td><td>30.8</td></tr><tr><td>0.03359</td><td>75.0</td><td>2.95</td><td>0</td><td>0.428</td><td>7.024</td><td>15.8</td><td>5.4011</td><td>3</td><td>252</td><td>18.3</td><td>395.62</td><td>1.98</td><td>34.9</td></tr><tr><td>0.12744</td><td>0.0</td><td>6.91</td><td>0</td><td>0.448</td><td>6.77</td><td>2.9</td><td>5.7209</td><td>3</td><td>233</td><td>17.9</td><td>385.41</td><td>4.84</td><td>26.6</td></tr><tr><td>0.1415</td><td>0.0</td><td>6.91</td><td>0</td><td>0.448</td><td>6.169</td><td>6.6</td><td>5.7209</td><td>3</td><td>233</td><td>17.9</td><td>383.37</td><td>5.81</td><td>25.3</td></tr><tr><td>0.15936</td><td>0.0</td><td>6.91</td><td>0</td><td>0.448</td><td>6.211</td><td>6.5</td><td>5.7209</td><td>3</td><td>233</td><td>17.9</td><td>394.46</td><td>7.44</td><td>24.7</td></tr><tr><td>0.12269</td><td>0.0</td><td>6.91</td><td>0</td><td>0.448</td><td>6.069</td><td>40.0</td><td>5.7209</td><td>3</td><td>233</td><td>17.9</td><td>389.39</td><td>9.55</td><td>21.2</td></tr><tr><td>0.17142</td><td>0.0</td><td>6.91</td><td>0</td><td>0.448</td><td>5.682</td><td>33.8</td><td>5.1004</td><td>3</td><td>233</td><td>17.9</td><td>396.9</td><td>10.21</td><td>19.3</td></tr><tr><td>0.18836</td><td>0.0</td><td>6.91</td><td>0</td><td>0.448</td><td>5.786</td><td>33.3</td><td>5.1004</td><td>3</td><td>233</td><td>17.9</td><td>396.9</td><td>14.15</td><td>20.0</td></tr><tr><td>0.22927</td><td>0.0</td><td>6.91</td><td>0</td><td>0.448</td><td>6.03</td><td>85.5</td><td>5.6894</td><td>3</td><td>233</td><td>17.9</td><td>392.74</td><td>18.8</td><td>16.6</td></tr><tr><td>0.25387</td><td>0.0</td><td>6.91</td><td>0</td><td>0.448</td><td>5.399</td><td>95.3</td><td>5.87</td><td>3</td><td>233</td><td>17.9</td><td>396.9</td><td>30.81</td><td>14.4</td></tr><tr><td>0.21977</td><td>0.0</td><td>6.91</td><td>0</td><td>0.448</td><td>5.602</td><td>62.0</td><td>6.0877</td><td>3</td><td>233</td><td>17.9</td><td>396.9</td><td>16.2</td><td>19.4</td></tr><tr><td>0.08873</td><td>21.0</td><td>5.64</td><td>0</td><td>0.439</td><td>5.963</td><td>45.7</td><td>6.8147</td><td>4</td><td>243</td><td>16.8</td><td>395.56</td><td>13.45</td><td>19.7</td></tr><tr><td>0.04337</td><td>21.0</td><td>5.64</td><td>0</td><td>0.439</td><td>6.115</td><td>63.0</td><td>6.8147</td><td>4</td><td>243</td><td>16.8</td><td>393.97</td><td>9.43</td><td>20.5</td></tr><tr><td>0.0536</td><td>21.0</td><td>5.64</td><td>0</td><td>0.439</td><td>6.511</td><td>21.1</td><td>6.8147</td><td>4</td><td>243</td><td>16.8</td><td>396.9</td><td>5.28</td><td>25.0</td></tr><tr><td>0.04981</td><td>21.0</td><td>5.64</td><td>0</td><td>0.439</td><td>5.998</td><td>21.4</td><td>6.8147</td><td>4</td><td>243</td><td>16.8</td><td>396.9</td><td>8.43</td><td>23.4</td></tr><tr><td>0.0136</td><td>75.0</td><td>4.0</td><td>0</td><td>0.41</td><td>5.888</td><td>47.6</td><td>7.3197</td><td>3</td><td>469</td><td>21.1</td><td>396.9</td><td>14.8</td><td>18.9</td></tr><tr><td>0.01311</td><td>90.0</td><td>1.22</td><td>0</td><td>0.403</td><td>7.249</td><td>21.9</td><td>8.6966</td><td>5</td><td>226</td><td>17.9</td><td>395.93</td><td>4.81</td><td>35.4</td></tr><tr><td>0.02055</td><td>85.0</td><td>0.74</td><td>0</td><td>0.41</td><td>6.383</td><td>35.7</td><td>9.1876</td><td>2</td><td>313</td><td>17.3</td><td>396.9</td><td>5.77</td><td>24.7</td></tr><tr><td>0.01432</td><td>100.0</td><td>1.32</td><td>0</td><td>0.411</td><td>6.816</td><td>40.5</td><td>8.3248</td><td>5</td><td>256</td><td>15.1</td><td>392.9</td><td>3.95</td><td>31.6</td></tr><tr><td>0.15445</td><td>25.0</td><td>5.13</td><td>0</td><td>0.453</td><td>6.145</td><td>29.2</td><td>7.8148</td><td>8</td><td>284</td><td>19.7</td><td>390.68</td><td>6.86</td><td>23.3</td></tr><tr><td>0.10328</td><td>25.0</td><td>5.13</td><td>0</td><td>0.453</td><td>5.927</td><td>47.2</td><td>6.932</td><td>8</td><td>284</td><td>19.7</td><td>396.9</td><td>9.22</td><td>19.6</td></tr><tr><td>0.14932</td><td>25.0</td><td>5.13</td><td>0</td><td>0.453</td><td>5.741</td><td>66.2</td><td>7.2254</td><td>8</td><td>284</td><td>19.7</td><td>395.11</td><td>13.15</td><td>18.7</td></tr><tr><td>0.17171</td><td>25.0</td><td>5.13</td><td>0</td><td>0.453</td><td>5.966</td><td>93.4</td><td>6.8185</td><td>8</td><td>284</td><td>19.7</td><td>378.08</td><td>14.44</td><td>16.0</td></tr><tr><td>0.11027</td><td>25.0</td><td>5.13</td><td>0</td><td>0.453</td><td>6.456</td><td>67.8</td><td>7.2255</td><td>8</td><td>284</td><td>19.7</td><td>396.9</td><td>6.73</td><td>22.2</td></tr><tr><td>0.1265</td><td>25.0</td><td>5.13</td><td>0</td><td>0.453</td><td>6.762</td><td>43.4</td><td>7.9809</td><td>8</td><td>284</td><td>19.7</td><td>395.58</td><td>9.5</td><td>25.0</td></tr><tr><td>0.01951</td><td>17.5</td><td>1.38</td><td>0</td><td>0.4161</td><td>7.104</td><td>59.5</td><td>9.2229</td><td>3</td><td>216</td><td>18.6</td><td>393.24</td><td>8.05</td><td>33.0</td></tr><tr><td>0.03584</td><td>80.0</td><td>3.37</td><td>0</td><td>0.398</td><td>6.29</td><td>17.8</td><td>6.6115</td><td>4</td><td>337</td><td>16.1</td><td>396.9</td><td>4.67</td><td>23.5</td></tr><tr><td>0.04379</td><td>80.0</td><td>3.37</td><td>0</td><td>0.398</td><td>5.787</td><td>31.1</td><td>6.6115</td><td>4</td><td>337</td><td>16.1</td><td>396.9</td><td>10.24</td><td>19.4</td></tr><tr><td>0.05789</td><td>12.5</td><td>6.07</td><td>0</td><td>0.409</td><td>5.878</td><td>21.4</td><td>6.498</td><td>4</td><td>345</td><td>18.9</td><td>396.21</td><td>8.1</td><td>22.0</td></tr><tr><td>0.13554</td><td>12.5</td><td>6.07</td><td>0</td><td>0.409</td><td>5.594</td><td>36.8</td><td>6.498</td><td>4</td><td>345</td><td>18.9</td><td>396.9</td><td>13.09</td><td>17.4</td></tr><tr><td>0.12816</td><td>12.5</td><td>6.07</td><td>0</td><td>0.409</td><td>5.885</td><td>33.0</td><td>6.498</td><td>4</td><td>345</td><td>18.9</td><td>396.9</td><td>8.79</td><td>20.9</td></tr><tr><td>0.08826</td><td>0.0</td><td>10.81</td><td>0</td><td>0.413</td><td>6.417</td><td>6.6</td><td>5.2873</td><td>4</td><td>305</td><td>19.2</td><td>383.73</td><td>6.72</td><td>24.2</td></tr><tr><td>0.15876</td><td>0.0</td><td>10.81</td><td>0</td><td>0.413</td><td>5.961</td><td>17.5</td><td>5.2873</td><td>4</td><td>305</td><td>19.2</td><td>376.94</td><td>9.88</td><td>21.7</td></tr><tr><td>0.09164</td><td>0.0</td><td>10.81</td><td>0</td><td>0.413</td><td>6.065</td><td>7.8</td><td>5.2873</td><td>4</td><td>305</td><td>19.2</td><td>390.91</td><td>5.52</td><td>22.8</td></tr><tr><td>0.19539</td><td>0.0</td><td>10.81</td><td>0</td><td>0.413</td><td>6.245</td><td>6.2</td><td>5.2873</td><td>4</td><td>305</td><td>19.2</td><td>377.17</td><td>7.54</td><td>23.4</td></tr><tr><td>0.07896</td><td>0.0</td><td>12.83</td><td>0</td><td>0.437</td><td>6.273</td><td>6.0</td><td>4.2515</td><td>5</td><td>398</td><td>18.7</td><td>394.92</td><td>6.78</td><td>24.1</td></tr><tr><td>0.09512</td><td>0.0</td><td>12.83</td><td>0</td><td>0.437</td><td>6.286</td><td>45.0</td><td>4.5026</td><td>5</td><td>398</td><td>18.7</td><td>383.23</td><td>8.94</td><td>21.4</td></tr><tr><td>0.10153</td><td>0.0</td><td>12.83</td><td>0</td><td>0.437</td><td>6.279</td><td>74.5</td><td>4.0522</td><td>5</td><td>398</td><td>18.7</td><td>373.66</td><td>11.97</td><td>20.0</td></tr><tr><td>0.08707</td><td>0.0</td><td>12.83</td><td>0</td><td>0.437</td><td>6.14</td><td>45.8</td><td>4.0905</td><td>5</td><td>398</td><td>18.7</td><td>386.96</td><td>10.27</td><td>20.8</td></tr><tr><td>0.05646</td><td>0.0</td><td>12.83</td><td>0</td><td>0.437</td><td>6.232</td><td>53.7</td><td>5.0141</td><td>5</td><td>398</td><td>18.7</td><td>386.4</td><td>12.34</td><td>21.2</td></tr><tr><td>0.08387</td><td>0.0</td><td>12.83</td><td>0</td><td>0.437</td><td>5.874</td><td>36.6</td><td>4.5026</td><td>5</td><td>398</td><td>18.7</td><td>396.06</td><td>9.1</td><td>20.3</td></tr><tr><td>0.04113</td><td>25.0</td><td>4.86</td><td>0</td><td>0.426</td><td>6.727</td><td>33.5</td><td>5.4007</td><td>4</td><td>281</td><td>19.0</td><td>396.9</td><td>5.29</td><td>28.0</td></tr><tr><td>0.04462</td><td>25.0</td><td>4.86</td><td>0</td><td>0.426</td><td>6.619</td><td>70.4</td><td>5.4007</td><td>4</td><td>281</td><td>19.0</td><td>395.63</td><td>7.22</td><td>23.9</td></tr><tr><td>0.03659</td><td>25.0</td><td>4.86</td><td>0</td><td>0.426</td><td>6.302</td><td>32.2</td><td>5.4007</td><td>4</td><td>281</td><td>19.0</td><td>396.9</td><td>6.72</td><td>24.8</td></tr><tr><td>0.03551</td><td>25.0</td><td>4.86</td><td>0</td><td>0.426</td><td>6.167</td><td>46.7</td><td>5.4007</td><td>4</td><td>281</td><td>19.0</td><td>390.64</td><td>7.51</td><td>22.9</td></tr><tr><td>0.05059</td><td>0.0</td><td>4.49</td><td>0</td><td>0.449</td><td>6.389</td><td>48.0</td><td>4.7794</td><td>3</td><td>247</td><td>18.5</td><td>396.9</td><td>9.62</td><td>23.9</td></tr><tr><td>0.05735</td><td>0.0</td><td>4.49</td><td>0</td><td>0.449</td><td>6.63</td><td>56.1</td><td>4.4377</td><td>3</td><td>247</td><td>18.5</td><td>392.3</td><td>6.53</td><td>26.6</td></tr><tr><td>0.05188</td><td>0.0</td><td>4.49</td><td>0</td><td>0.449</td><td>6.015</td><td>45.1</td><td>4.4272</td><td>3</td><td>247</td><td>18.5</td><td>395.99</td><td>12.86</td><td>22.5</td></tr><tr><td>0.07151</td><td>0.0</td><td>4.49</td><td>0</td><td>0.449</td><td>6.121</td><td>56.8</td><td>3.7476</td><td>3</td><td>247</td><td>18.5</td><td>395.15</td><td>8.44</td><td>22.2</td></tr><tr><td>0.0566</td><td>0.0</td><td>3.41</td><td>0</td><td>0.489</td><td>7.007</td><td>86.3</td><td>3.4217</td><td>2</td><td>270</td><td>17.8</td><td>396.9</td><td>5.5</td><td>23.6</td></tr><tr><td>0.05302</td><td>0.0</td><td>3.41</td><td>0</td><td>0.489</td><td>7.079</td><td>63.1</td><td>3.4145</td><td>2</td><td>270</td><td>17.8</td><td>396.06</td><td>5.7</td><td>28.7</td></tr><tr><td>0.04684</td><td>0.0</td><td>3.41</td><td>0</td><td>0.489</td><td>6.417</td><td>66.1</td><td>3.0923</td><td>2</td><td>270</td><td>17.8</td><td>392.18</td><td>8.81</td><td>22.6</td></tr><tr><td>0.03932</td><td>0.0</td><td>3.41</td><td>0</td><td>0.489</td><td>6.405</td><td>73.9</td><td>3.0921</td><td>2</td><td>270</td><td>17.8</td><td>393.55</td><td>8.2</td><td>22.0</td></tr><tr><td>0.04203</td><td>28.0</td><td>15.04</td><td>0</td><td>0.464</td><td>6.442</td><td>53.6</td><td>3.6659</td><td>4</td><td>270</td><td>18.2</td><td>395.01</td><td>8.16</td><td>22.9</td></tr><tr><td>0.02875</td><td>28.0</td><td>15.04</td><td>0</td><td>0.464</td><td>6.211</td><td>28.9</td><td>3.6659</td><td>4</td><td>270</td><td>18.2</td><td>396.33</td><td>6.21</td><td>25.0</td></tr><tr><td>0.04294</td><td>28.0</td><td>15.04</td><td>0</td><td>0.464</td><td>6.249</td><td>77.3</td><td>3.615</td><td>4</td><td>270</td><td>18.2</td><td>396.9</td><td>10.59</td><td>20.6</td></tr><tr><td>0.12204</td><td>0.0</td><td>2.89</td><td>0</td><td>0.445</td><td>6.625</td><td>57.8</td><td>3.4952</td><td>2</td><td>276</td><td>18.0</td><td>357.98</td><td>6.65</td><td>28.4</td></tr><tr><td>0.11504</td><td>0.0</td><td>2.89</td><td>0</td><td>0.445</td><td>6.163</td><td>69.6</td><td>3.4952</td><td>2</td><td>276</td><td>18.0</td><td>391.83</td><td>11.34</td><td>21.4</td></tr><tr><td>0.12083</td><td>0.0</td><td>2.89</td><td>0</td><td>0.445</td><td>8.069</td><td>76.0</td><td>3.4952</td><td>2</td><td>276</td><td>18.0</td><td>396.9</td><td>4.21</td><td>38.7</td></tr><tr><td>0.08187</td><td>0.0</td><td>2.89</td><td>0</td><td>0.445</td><td>7.82</td><td>36.9</td><td>3.4952</td><td>2</td><td>276</td><td>18.0</td><td>393.53</td><td>3.57</td><td>43.8</td></tr><tr><td>0.0686</td><td>0.0</td><td>2.89</td><td>0</td><td>0.445</td><td>7.416</td><td>62.5</td><td>3.4952</td><td>2</td><td>276</td><td>18.0</td><td>396.9</td><td>6.19</td><td>33.2</td></tr><tr><td>0.14866</td><td>0.0</td><td>8.56</td><td>0</td><td>0.52</td><td>6.727</td><td>79.9</td><td>2.7778</td><td>5</td><td>384</td><td>20.9</td><td>394.76</td><td>9.42</td><td>27.5</td></tr><tr><td>0.11432</td><td>0.0</td><td>8.56</td><td>0</td><td>0.52</td><td>6.781</td><td>71.3</td><td>2.8561</td><td>5</td><td>384</td><td>20.9</td><td>395.58</td><td>7.67</td><td>26.5</td></tr><tr><td>0.22876</td><td>0.0</td><td>8.56</td><td>0</td><td>0.52</td><td>6.405</td><td>85.4</td><td>2.7147</td><td>5</td><td>384</td><td>20.9</td><td>70.8</td><td>10.63</td><td>18.6</td></tr><tr><td>0.21161</td><td>0.0</td><td>8.56</td><td>0</td><td>0.52</td><td>6.137</td><td>87.4</td><td>2.7147</td><td>5</td><td>384</td><td>20.9</td><td>394.47</td><td>13.44</td><td>19.3</td></tr><tr><td>0.1396</td><td>0.0</td><td>8.56</td><td>0</td><td>0.52</td><td>6.167</td><td>90.0</td><td>2.421</td><td>5</td><td>384</td><td>20.9</td><td>392.69</td><td>12.33</td><td>20.1</td></tr><tr><td>0.13262</td><td>0.0</td><td>8.56</td><td>0</td><td>0.52</td><td>5.851</td><td>96.7</td><td>2.1069</td><td>5</td><td>384</td><td>20.9</td><td>394.05</td><td>16.47</td><td>19.5</td></tr><tr><td>0.1712</td><td>0.0</td><td>8.56</td><td>0</td><td>0.52</td><td>5.836</td><td>91.9</td><td>2.211</td><td>5</td><td>384</td><td>20.9</td><td>395.67</td><td>18.66</td><td>19.5</td></tr><tr><td>0.13117</td><td>0.0</td><td>8.56</td><td>0</td><td>0.52</td><td>6.127</td><td>85.2</td><td>2.1224</td><td>5</td><td>384</td><td>20.9</td><td>387.69</td><td>14.09</td><td>20.4</td></tr><tr><td>0.12802</td><td>0.0</td><td>8.56</td><td>0</td><td>0.52</td><td>6.474</td><td>97.1</td><td>2.4329</td><td>5</td><td>384</td><td>20.9</td><td>395.24</td><td>12.27</td><td>19.8</td></tr><tr><td>0.26363</td><td>0.0</td><td>8.56</td><td>0</td><td>0.52</td><td>6.229</td><td>91.2</td><td>2.5451</td><td>5</td><td>384</td><td>20.9</td><td>391.23</td><td>15.55</td><td>19.4</td></tr><tr><td>0.10793</td><td>0.0</td><td>8.56</td><td>0</td><td>0.52</td><td>6.195</td><td>54.4</td><td>2.7778</td><td>5</td><td>384</td><td>20.9</td><td>393.49</td><td>13.0</td><td>21.7</td></tr><tr><td>0.10084</td><td>0.0</td><td>10.01</td><td>0</td><td>0.547</td><td>6.715</td><td>81.6</td><td>2.6775</td><td>6</td><td>432</td><td>17.8</td><td>395.59</td><td>10.16</td><td>22.8</td></tr><tr><td>0.12329</td><td>0.0</td><td>10.01</td><td>0</td><td>0.547</td><td>5.913</td><td>92.9</td><td>2.3534</td><td>6</td><td>432</td><td>17.8</td><td>394.95</td><td>16.21</td><td>18.8</td></tr><tr><td>0.22212</td><td>0.0</td><td>10.01</td><td>0</td><td>0.547</td><td>6.092</td><td>95.4</td><td>2.548</td><td>6</td><td>432</td><td>17.8</td><td>396.9</td><td>17.09</td><td>18.7</td></tr><tr><td>0.14231</td><td>0.0</td><td>10.01</td><td>0</td><td>0.547</td><td>6.254</td><td>84.2</td><td>2.2565</td><td>6</td><td>432</td><td>17.8</td><td>388.74</td><td>10.45</td><td>18.5</td></tr><tr><td>0.17134</td><td>0.0</td><td>10.01</td><td>0</td><td>0.547</td><td>5.928</td><td>88.2</td><td>2.4631</td><td>6</td><td>432</td><td>17.8</td><td>344.91</td><td>15.76</td><td>18.3</td></tr><tr><td>0.13158</td><td>0.0</td><td>10.01</td><td>0</td><td>0.547</td><td>6.176</td><td>72.5</td><td>2.7301</td><td>6</td><td>432</td><td>17.8</td><td>393.3</td><td>12.04</td><td>21.2</td></tr><tr><td>0.15098</td><td>0.0</td><td>10.01</td><td>0</td><td>0.547</td><td>6.021</td><td>82.6</td><td>2.7474</td><td>6</td><td>432</td><td>17.8</td><td>394.51</td><td>10.3</td><td>19.2</td></tr><tr><td>0.13058</td><td>0.0</td><td>10.01</td><td>0</td><td>0.547</td><td>5.872</td><td>73.1</td><td>2.4775</td><td>6</td><td>432</td><td>17.8</td><td>338.63</td><td>15.37</td><td>20.4</td></tr><tr><td>0.14476</td><td>0.0</td><td>10.01</td><td>0</td><td>0.547</td><td>5.731</td><td>65.2</td><td>2.7592</td><td>6</td><td>432</td><td>17.8</td><td>391.5</td><td>13.61</td><td>19.3</td></tr><tr><td>0.06899</td><td>0.0</td><td>25.65</td><td>0</td><td>0.581</td><td>5.87</td><td>69.7</td><td>2.2577</td><td>2</td><td>188</td><td>19.1</td><td>389.15</td><td>14.37</td><td>22.0</td></tr><tr><td>0.07165</td><td>0.0</td><td>25.65</td><td>0</td><td>0.581</td><td>6.004</td><td>84.1</td><td>2.1974</td><td>2</td><td>188</td><td>19.1</td><td>377.67</td><td>14.27</td><td>20.3</td></tr><tr><td>0.09299</td><td>0.0</td><td>25.65</td><td>0</td><td>0.581</td><td>5.961</td><td>92.9</td><td>2.0869</td><td>2</td><td>188</td><td>19.1</td><td>378.09</td><td>17.93</td><td>20.5</td></tr><tr><td>0.15038</td><td>0.0</td><td>25.65</td><td>0</td><td>0.581</td><td>5.856</td><td>97.0</td><td>1.9444</td><td>2</td><td>188</td><td>19.1</td><td>370.31</td><td>25.41</td><td>17.3</td></tr><tr><td>0.09849</td><td>0.0</td><td>25.65</td><td>0</td><td>0.581</td><td>5.879</td><td>95.8</td><td>2.0063</td><td>2</td><td>188</td><td>19.1</td><td>379.38</td><td>17.58</td><td>18.8</td></tr><tr><td>0.16902</td><td>0.0</td><td>25.65</td><td>0</td><td>0.581</td><td>5.986</td><td>88.4</td><td>1.9929</td><td>2</td><td>188</td><td>19.1</td><td>385.02</td><td>14.81</td><td>21.4</td></tr><tr><td>0.38735</td><td>0.0</td><td>25.65</td><td>0</td><td>0.581</td><td>5.613</td><td>95.6</td><td>1.7572</td><td>2</td><td>188</td><td>19.1</td><td>359.29</td><td>27.26</td><td>15.7</td></tr><tr><td>0.25915</td><td>0.0</td><td>21.89</td><td>0</td><td>0.624</td><td>5.693</td><td>96.0</td><td>1.7883</td><td>4</td><td>437</td><td>21.2</td><td>392.11</td><td>17.19</td><td>16.2</td></tr><tr><td>0.32543</td><td>0.0</td><td>21.89</td><td>0</td><td>0.624</td><td>6.431</td><td>98.8</td><td>1.8125</td><td>4</td><td>437</td><td>21.2</td><td>396.9</td><td>15.39</td><td>18.0</td></tr><tr><td>0.88125</td><td>0.0</td><td>21.89</td><td>0</td><td>0.624</td><td>5.637</td><td>94.7</td><td>1.9799</td><td>4</td><td>437</td><td>21.2</td><td>396.9</td><td>18.34</td><td>14.3</td></tr><tr><td>0.34006</td><td>0.0</td><td>21.89</td><td>0</td><td>0.624</td><td>6.458</td><td>98.9</td><td>2.1185</td><td>4</td><td>437</td><td>21.2</td><td>395.04</td><td>12.6</td><td>19.2</td></tr><tr><td>1.19294</td><td>0.0</td><td>21.89</td><td>0</td><td>0.624</td><td>6.326</td><td>97.7</td><td>2.271</td><td>4</td><td>437</td><td>21.2</td><td>396.9</td><td>12.26</td><td>19.6</td></tr><tr><td>0.59005</td><td>0.0</td><td>21.89</td><td>0</td><td>0.624</td><td>6.372</td><td>97.9</td><td>2.3274</td><td>4</td><td>437</td><td>21.2</td><td>385.76</td><td>11.12</td><td>23.0</td></tr><tr><td>0.32982</td><td>0.0</td><td>21.89</td><td>0</td><td>0.624</td><td>5.822</td><td>95.4</td><td>2.4699</td><td>4</td><td>437</td><td>21.2</td><td>388.69</td><td>15.03</td><td>18.4</td></tr><tr><td>0.97617</td><td>0.0</td><td>21.89</td><td>0</td><td>0.624</td><td>5.757</td><td>98.4</td><td>2.346</td><td>4</td><td>437</td><td>21.2</td><td>262.76</td><td>17.31</td><td>15.6</td></tr><tr><td>0.55778</td><td>0.0</td><td>21.89</td><td>0</td><td>0.624</td><td>6.335</td><td>98.2</td><td>2.1107</td><td>4</td><td>437</td><td>21.2</td><td>394.67</td><td>16.96</td><td>18.1</td></tr><tr><td>0.32264</td><td>0.0</td><td>21.89</td><td>0</td><td>0.624</td><td>5.942</td><td>93.5</td><td>1.9669</td><td>4</td><td>437</td><td>21.2</td><td>378.25</td><td>16.9</td><td>17.4</td></tr><tr><td>0.35233</td><td>0.0</td><td>21.89</td><td>0</td><td>0.624</td><td>6.454</td><td>98.4</td><td>1.8498</td><td>4</td><td>437</td><td>21.2</td><td>394.08</td><td>14.59</td><td>17.1</td></tr><tr><td>0.2498</td><td>0.0</td><td>21.89</td><td>0</td><td>0.624</td><td>5.857</td><td>98.2</td><td>1.6686</td><td>4</td><td>437</td><td>21.2</td><td>392.04</td><td>21.32</td><td>13.3</td></tr><tr><td>0.54452</td><td>0.0</td><td>21.89</td><td>0</td><td>0.624</td><td>6.151</td><td>97.9</td><td>1.6687</td><td>4</td><td>437</td><td>21.2</td><td>396.9</td><td>18.46</td><td>17.8</td></tr><tr><td>0.2909</td><td>0.0</td><td>21.89</td><td>0</td><td>0.624</td><td>6.174</td><td>93.6</td><td>1.6119</td><td>4</td><td>437</td><td>21.2</td><td>388.08</td><td>24.16</td><td>14.0</td></tr><tr><td>1.62864</td><td>0.0</td><td>21.89</td><td>0</td><td>0.624</td><td>5.019</td><td>100.0</td><td>1.4394</td><td>4</td><td>437</td><td>21.2</td><td>396.9</td><td>34.41</td><td>14.4</td></tr><tr><td>3.32105</td><td>0.0</td><td>19.58</td><td>1</td><td>0.871</td><td>5.403</td><td>100.0</td><td>1.3216</td><td>5</td><td>403</td><td>14.7</td><td>396.9</td><td>26.82</td><td>13.4</td></tr><tr><td>4.0974</td><td>0.0</td><td>19.58</td><td>0</td><td>0.871</td><td>5.468</td><td>100.0</td><td>1.4118</td><td>5</td><td>403</td><td>14.7</td><td>396.9</td><td>26.42</td><td>15.6</td></tr><tr><td>2.77974</td><td>0.0</td><td>19.58</td><td>0</td><td>0.871</td><td>4.903</td><td>97.8</td><td>1.3459</td><td>5</td><td>403</td><td>14.7</td><td>396.9</td><td>29.29</td><td>11.8</td></tr><tr><td>2.37934</td><td>0.0</td><td>19.58</td><td>0</td><td>0.871</td><td>6.13</td><td>100.0</td><td>1.4191</td><td>5</td><td>403</td><td>14.7</td><td>172.91</td><td>27.8</td><td>13.8</td></tr><tr><td>2.15505</td><td>0.0</td><td>19.58</td><td>0</td><td>0.871</td><td>5.628</td><td>100.0</td><td>1.5166</td><td>5</td><td>403</td><td>14.7</td><td>169.27</td><td>16.65</td><td>15.6</td></tr><tr><td>2.36862</td><td>0.0</td><td>19.58</td><td>0</td><td>0.871</td><td>4.926</td><td>95.7</td><td>1.4608</td><td>5</td><td>403</td><td>14.7</td><td>391.71</td><td>29.53</td><td>14.6</td></tr><tr><td>2.33099</td><td>0.0</td><td>19.58</td><td>0</td><td>0.871</td><td>5.186</td><td>93.8</td><td>1.5296</td><td>5</td><td>403</td><td>14.7</td><td>356.99</td><td>28.32</td><td>17.8</td></tr><tr><td>2.73397</td><td>0.0</td><td>19.58</td><td>0</td><td>0.871</td><td>5.597</td><td>94.9</td><td>1.5257</td><td>5</td><td>403</td><td>14.7</td><td>351.85</td><td>21.45</td><td>15.4</td></tr><tr><td>1.6566</td><td>0.0</td><td>19.58</td><td>0</td><td>0.871</td><td>6.122</td><td>97.3</td><td>1.618</td><td>5</td><td>403</td><td>14.7</td><td>372.8</td><td>14.1</td><td>21.5</td></tr><tr><td>1.49632</td><td>0.0</td><td>19.58</td><td>0</td><td>0.871</td><td>5.404</td><td>100.0</td><td>1.5916</td><td>5</td><td>403</td><td>14.7</td><td>341.6</td><td>13.28</td><td>19.6</td></tr><tr><td>1.12658</td><td>0.0</td><td>19.58</td><td>1</td><td>0.871</td><td>5.012</td><td>88.0</td><td>1.6102</td><td>5</td><td>403</td><td>14.7</td><td>343.28</td><td>12.12</td><td>15.3</td></tr><tr><td>2.14918</td><td>0.0</td><td>19.58</td><td>0</td><td>0.871</td><td>5.709</td><td>98.5</td><td>1.6232</td><td>5</td><td>403</td><td>14.7</td><td>261.95</td><td>15.79</td><td>19.4</td></tr><tr><td>1.41385</td><td>0.0</td><td>19.58</td><td>1</td><td>0.871</td><td>6.129</td><td>96.0</td><td>1.7494</td><td>5</td><td>403</td><td>14.7</td><td>321.02</td><td>15.12</td><td>17.0</td></tr><tr><td>3.53501</td><td>0.0</td><td>19.58</td><td>1</td><td>0.871</td><td>6.152</td><td>82.6</td><td>1.7455</td><td>5</td><td>403</td><td>14.7</td><td>88.01</td><td>15.02</td><td>15.6</td></tr><tr><td>2.44668</td><td>0.0</td><td>19.58</td><td>0</td><td>0.871</td><td>5.272</td><td>94.0</td><td>1.7364</td><td>5</td><td>403</td><td>14.7</td><td>88.63</td><td>16.14</td><td>13.1</td></tr><tr><td>1.22358</td><td>0.0</td><td>19.58</td><td>0</td><td>0.605</td><td>6.943</td><td>97.4</td><td>1.8773</td><td>5</td><td>403</td><td>14.7</td><td>363.43</td><td>4.59</td><td>41.3</td></tr><tr><td>1.34284</td><td>0.0</td><td>19.58</td><td>0</td><td>0.605</td><td>6.066</td><td>100.0</td><td>1.7573</td><td>5</td><td>403</td><td>14.7</td><td>353.89</td><td>6.43</td><td>24.3</td></tr><tr><td>1.42502</td><td>0.0</td><td>19.58</td><td>0</td><td>0.871</td><td>6.51</td><td>100.0</td><td>1.7659</td><td>5</td><td>403</td><td>14.7</td><td>364.31</td><td>7.39</td><td>23.3</td></tr><tr><td>1.27346</td><td>0.0</td><td>19.58</td><td>1</td><td>0.605</td><td>6.25</td><td>92.6</td><td>1.7984</td><td>5</td><td>403</td><td>14.7</td><td>338.92</td><td>5.5</td><td>27.0</td></tr><tr><td>1.46336</td><td>0.0</td><td>19.58</td><td>0</td><td>0.605</td><td>7.489</td><td>90.8</td><td>1.9709</td><td>5</td><td>403</td><td>14.7</td><td>374.43</td><td>1.73</td><td>50.0</td></tr><tr><td>1.83377</td><td>0.0</td><td>19.58</td><td>1</td><td>0.605</td><td>7.802</td><td>98.2</td><td>2.0407</td><td>5</td><td>403</td><td>14.7</td><td>389.61</td><td>1.92</td><td>50.0</td></tr><tr><td>1.51902</td><td>0.0</td><td>19.58</td><td>1</td><td>0.605</td><td>8.375</td><td>93.9</td><td>2.162</td><td>5</td><td>403</td><td>14.7</td><td>388.45</td><td>3.32</td><td>50.0</td></tr><tr><td>2.24236</td><td>0.0</td><td>19.58</td><td>0</td><td>0.605</td><td>5.854</td><td>91.8</td><td>2.422</td><td>5</td><td>403</td><td>14.7</td><td>395.11</td><td>11.64</td><td>22.7</td></tr><tr><td>2.924</td><td>0.0</td><td>19.58</td><td>0</td><td>0.605</td><td>6.101</td><td>93.0</td><td>2.2834</td><td>5</td><td>403</td><td>14.7</td><td>240.16</td><td>9.81</td><td>25.0</td></tr><tr><td>2.01019</td><td>0.0</td><td>19.58</td><td>0</td><td>0.605</td><td>7.929</td><td>96.2</td><td>2.0459</td><td>5</td><td>403</td><td>14.7</td><td>369.3</td><td>3.7</td><td>50.0</td></tr><tr><td>1.80028</td><td>0.0</td><td>19.58</td><td>0</td><td>0.605</td><td>5.877</td><td>79.2</td><td>2.4259</td><td>5</td><td>403</td><td>14.7</td><td>227.61</td><td>12.14</td><td>23.8</td></tr><tr><td>2.3004</td><td>0.0</td><td>19.58</td><td>0</td><td>0.605</td><td>6.319</td><td>96.1</td><td>2.1</td><td>5</td><td>403</td><td>14.7</td><td>297.09</td><td>11.1</td><td>23.8</td></tr><tr><td>2.44953</td><td>0.0</td><td>19.58</td><td>0</td><td>0.605</td><td>6.402</td><td>95.2</td><td>2.2625</td><td>5</td><td>403</td><td>14.7</td><td>330.04</td><td>11.32</td><td>22.3</td></tr><tr><td>1.20742</td><td>0.0</td><td>19.58</td><td>0</td><td>0.605</td><td>5.875</td><td>94.6</td><td>2.4259</td><td>5</td><td>403</td><td>14.7</td><td>292.29</td><td>14.43</td><td>17.4</td></tr><tr><td>2.3139</td><td>0.0</td><td>19.58</td><td>0</td><td>0.605</td><td>5.88</td><td>97.3</td><td>2.3887</td><td>5</td><td>403</td><td>14.7</td><td>348.13</td><td>12.03</td><td>19.1</td></tr><tr><td>0.13914</td><td>0.0</td><td>4.05</td><td>0</td><td>0.51</td><td>5.572</td><td>88.5</td><td>2.5961</td><td>5</td><td>296</td><td>16.6</td><td>396.9</td><td>14.69</td><td>23.1</td></tr><tr><td>0.09178</td><td>0.0</td><td>4.05</td><td>0</td><td>0.51</td><td>6.416</td><td>84.1</td><td>2.6463</td><td>5</td><td>296</td><td>16.6</td><td>395.5</td><td>9.04</td><td>23.6</td></tr><tr><td>0.08447</td><td>0.0</td><td>4.05</td><td>0</td><td>0.51</td><td>5.859</td><td>68.7</td><td>2.7019</td><td>5</td><td>296</td><td>16.6</td><td>393.23</td><td>9.64</td><td>22.6</td></tr><tr><td>0.06664</td><td>0.0</td><td>4.05</td><td>0</td><td>0.51</td><td>6.546</td><td>33.1</td><td>3.1323</td><td>5</td><td>296</td><td>16.6</td><td>390.96</td><td>5.33</td><td>29.4</td></tr><tr><td>0.07022</td><td>0.0</td><td>4.05</td><td>0</td><td>0.51</td><td>6.02</td><td>47.2</td><td>3.5549</td><td>5</td><td>296</td><td>16.6</td><td>393.23</td><td>10.11</td><td>23.2</td></tr><tr><td>0.05425</td><td>0.0</td><td>4.05</td><td>0</td><td>0.51</td><td>6.315</td><td>73.4</td><td>3.3175</td><td>5</td><td>296</td><td>16.6</td><td>395.6</td><td>6.29</td><td>24.6</td></tr><tr><td>0.06642</td><td>0.0</td><td>4.05</td><td>0</td><td>0.51</td><td>6.86</td><td>74.4</td><td>2.9153</td><td>5</td><td>296</td><td>16.6</td><td>391.27</td><td>6.92</td><td>29.9</td></tr><tr><td>0.0578</td><td>0.0</td><td>2.46</td><td>0</td><td>0.488</td><td>6.98</td><td>58.4</td><td>2.829</td><td>3</td><td>193</td><td>17.8</td><td>396.9</td><td>5.04</td><td>37.2</td></tr><tr><td>0.06588</td><td>0.0</td><td>2.46</td><td>0</td><td>0.488</td><td>7.765</td><td>83.3</td><td>2.741</td><td>3</td><td>193</td><td>17.8</td><td>395.56</td><td>7.56</td><td>39.8</td></tr><tr><td>0.06888</td><td>0.0</td><td>2.46</td><td>0</td><td>0.488</td><td>6.144</td><td>62.2</td><td>2.5979</td><td>3</td><td>193</td><td>17.8</td><td>396.9</td><td>9.45</td><td>36.2</td></tr><tr><td>0.09103</td><td>0.0</td><td>2.46</td><td>0</td><td>0.488</td><td>7.155</td><td>92.2</td><td>2.7006</td><td>3</td><td>193</td><td>17.8</td><td>394.12</td><td>4.82</td><td>37.9</td></tr><tr><td>0.10008</td><td>0.0</td><td>2.46</td><td>0</td><td>0.488</td><td>6.563</td><td>95.6</td><td>2.847</td><td>3</td><td>193</td><td>17.8</td><td>396.9</td><td>5.68</td><td>32.5</td></tr><tr><td>0.08308</td><td>0.0</td><td>2.46</td><td>0</td><td>0.488</td><td>5.604</td><td>89.8</td><td>2.9879</td><td>3</td><td>193</td><td>17.8</td><td>391.0</td><td>13.98</td><td>26.4</td></tr><tr><td>0.06047</td><td>0.0</td><td>2.46</td><td>0</td><td>0.488</td><td>6.153</td><td>68.8</td><td>3.2797</td><td>3</td><td>193</td><td>17.8</td><td>387.11</td><td>13.15</td><td>29.6</td></tr><tr><td>0.05602</td><td>0.0</td><td>2.46</td><td>0</td><td>0.488</td><td>7.831</td><td>53.6</td><td>3.1992</td><td>3</td><td>193</td><td>17.8</td><td>392.63</td><td>4.45</td><td>50.0</td></tr><tr><td>0.07875</td><td>45.0</td><td>3.44</td><td>0</td><td>0.437</td><td>6.782</td><td>41.1</td><td>3.7886</td><td>5</td><td>398</td><td>15.2</td><td>393.87</td><td>6.68</td><td>32.0</td></tr><tr><td>0.12579</td><td>45.0</td><td>3.44</td><td>0</td><td>0.437</td><td>6.556</td><td>29.1</td><td>4.5667</td><td>5</td><td>398</td><td>15.2</td><td>382.84</td><td>4.56</td><td>29.8</td></tr><tr><td>0.0837</td><td>45.0</td><td>3.44</td><td>0</td><td>0.437</td><td>7.185</td><td>38.9</td><td>4.5667</td><td>5</td><td>398</td><td>15.2</td><td>396.9</td><td>5.39</td><td>34.9</td></tr><tr><td>0.09068</td><td>45.0</td><td>3.44</td><td>0</td><td>0.437</td><td>6.951</td><td>21.5</td><td>6.4798</td><td>5</td><td>398</td><td>15.2</td><td>377.68</td><td>5.1</td><td>37.0</td></tr><tr><td>0.06911</td><td>45.0</td><td>3.44</td><td>0</td><td>0.437</td><td>6.739</td><td>30.8</td><td>6.4798</td><td>5</td><td>398</td><td>15.2</td><td>389.71</td><td>4.69</td><td>30.5</td></tr><tr><td>0.08664</td><td>45.0</td><td>3.44</td><td>0</td><td>0.437</td><td>7.178</td><td>26.3</td><td>6.4798</td><td>5</td><td>398</td><td>15.2</td><td>390.49</td><td>2.87</td><td>36.4</td></tr><tr><td>0.02187</td><td>60.0</td><td>2.93</td><td>0</td><td>0.401</td><td>6.8</td><td>9.9</td><td>6.2196</td><td>1</td><td>265</td><td>15.6</td><td>393.37</td><td>5.03</td><td>31.1</td></tr><tr><td>0.01439</td><td>60.0</td><td>2.93</td><td>0</td><td>0.401</td><td>6.604</td><td>18.8</td><td>6.2196</td><td>1</td><td>265</td><td>15.6</td><td>376.7</td><td>4.38</td><td>29.1</td></tr><tr><td>0.01381</td><td>80.0</td><td>0.46</td><td>0</td><td>0.422</td><td>7.875</td><td>32.0</td><td>5.6484</td><td>4</td><td>255</td><td>14.4</td><td>394.23</td><td>2.97</td><td>50.0</td></tr><tr><td>0.04011</td><td>80.0</td><td>1.52</td><td>0</td><td>0.404</td><td>7.287</td><td>34.1</td><td>7.309</td><td>2</td><td>329</td><td>12.6</td><td>396.9</td><td>4.08</td><td>33.3</td></tr><tr><td>0.04666</td><td>80.0</td><td>1.52</td><td>0</td><td>0.404</td><td>7.107</td><td>36.6</td><td>7.309</td><td>2</td><td>329</td><td>12.6</td><td>354.31</td><td>8.61</td><td>30.3</td></tr><tr><td>0.03768</td><td>80.0</td><td>1.52</td><td>0</td><td>0.404</td><td>7.274</td><td>38.3</td><td>7.309</td><td>2</td><td>329</td><td>12.6</td><td>392.2</td><td>6.62</td><td>34.6</td></tr><tr><td>0.0315</td><td>95.0</td><td>1.47</td><td>0</td><td>0.403</td><td>6.975</td><td>15.3</td><td>7.6534</td><td>3</td><td>402</td><td>17.0</td><td>396.9</td><td>4.56</td><td>34.9</td></tr><tr><td>0.01778</td><td>95.0</td><td>1.47</td><td>0</td><td>0.403</td><td>7.135</td><td>13.9</td><td>7.6534</td><td>3</td><td>402</td><td>17.0</td><td>384.3</td><td>4.45</td><td>32.9</td></tr><tr><td>0.03445</td><td>82.5</td><td>2.03</td><td>0</td><td>0.415</td><td>6.162</td><td>38.4</td><td>6.27</td><td>2</td><td>348</td><td>14.7</td><td>393.77</td><td>7.43</td><td>24.1</td></tr><tr><td>0.02177</td><td>82.5</td><td>2.03</td><td>0</td><td>0.415</td><td>7.61</td><td>15.7</td><td>6.27</td><td>2</td><td>348</td><td>14.7</td><td>395.38</td><td>3.11</td><td>42.3</td></tr><tr><td>0.0351</td><td>95.0</td><td>2.68</td><td>0</td><td>0.4161</td><td>7.853</td><td>33.2</td><td>5.118</td><td>4</td><td>224</td><td>14.7</td><td>392.78</td><td>3.81</td><td>48.5</td></tr><tr><td>0.02009</td><td>95.0</td><td>2.68</td><td>0</td><td>0.4161</td><td>8.034</td><td>31.9</td><td>5.118</td><td>4</td><td>224</td><td>14.7</td><td>390.55</td><td>2.88</td><td>50.0</td></tr><tr><td>0.13642</td><td>0.0</td><td>10.59</td><td>0</td><td>0.489</td><td>5.891</td><td>22.3</td><td>3.9454</td><td>4</td><td>277</td><td>18.6</td><td>396.9</td><td>10.87</td><td>22.6</td></tr><tr><td>0.22969</td><td>0.0</td><td>10.59</td><td>0</td><td>0.489</td><td>6.326</td><td>52.5</td><td>4.3549</td><td>4</td><td>277</td><td>18.6</td><td>394.87</td><td>10.97</td><td>24.4</td></tr><tr><td>0.25199</td><td>0.0</td><td>10.59</td><td>0</td><td>0.489</td><td>5.783</td><td>72.7</td><td>4.3549</td><td>4</td><td>277</td><td>18.6</td><td>389.43</td><td>18.06</td><td>22.5</td></tr><tr><td>0.13587</td><td>0.0</td><td>10.59</td><td>1</td><td>0.489</td><td>6.064</td><td>59.1</td><td>4.2392</td><td>4</td><td>277</td><td>18.6</td><td>381.32</td><td>14.66</td><td>24.4</td></tr><tr><td>0.43571</td><td>0.0</td><td>10.59</td><td>1</td><td>0.489</td><td>5.344</td><td>100.0</td><td>3.875</td><td>4</td><td>277</td><td>18.6</td><td>396.9</td><td>23.09</td><td>20.0</td></tr><tr><td>0.17446</td><td>0.0</td><td>10.59</td><td>1</td><td>0.489</td><td>5.96</td><td>92.1</td><td>3.8771</td><td>4</td><td>277</td><td>18.6</td><td>393.25</td><td>17.27</td><td>21.7</td></tr><tr><td>0.37578</td><td>0.0</td><td>10.59</td><td>1</td><td>0.489</td><td>5.404</td><td>88.6</td><td>3.665</td><td>4</td><td>277</td><td>18.6</td><td>395.24</td><td>23.98</td><td>19.3</td></tr><tr><td>0.21719</td><td>0.0</td><td>10.59</td><td>1</td><td>0.489</td><td>5.807</td><td>53.8</td><td>3.6526</td><td>4</td><td>277</td><td>18.6</td><td>390.94</td><td>16.03</td><td>22.4</td></tr><tr><td>0.14052</td><td>0.0</td><td>10.59</td><td>0</td><td>0.489</td><td>6.375</td><td>32.3</td><td>3.9454</td><td>4</td><td>277</td><td>18.6</td><td>385.81</td><td>9.38</td><td>28.1</td></tr><tr><td>0.28955</td><td>0.0</td><td>10.59</td><td>0</td><td>0.489</td><td>5.412</td><td>9.8</td><td>3.5875</td><td>4</td><td>277</td><td>18.6</td><td>348.93</td><td>29.55</td><td>23.7</td></tr><tr><td>0.19802</td><td>0.0</td><td>10.59</td><td>0</td><td>0.489</td><td>6.182</td><td>42.4</td><td>3.9454</td><td>4</td><td>277</td><td>18.6</td><td>393.63</td><td>9.47</td><td>25.0</td></tr><tr><td>0.0456</td><td>0.0</td><td>13.89</td><td>1</td><td>0.55</td><td>5.888</td><td>56.0</td><td>3.1121</td><td>5</td><td>276</td><td>16.4</td><td>392.8</td><td>13.51</td><td>23.3</td></tr><tr><td>0.07013</td><td>0.0</td><td>13.89</td><td>0</td><td>0.55</td><td>6.642</td><td>85.1</td><td>3.4211</td><td>5</td><td>276</td><td>16.4</td><td>392.78</td><td>9.69</td><td>28.7</td></tr><tr><td>0.11069</td><td>0.0</td><td>13.89</td><td>1</td><td>0.55</td><td>5.951</td><td>93.8</td><td>2.8893</td><td>5</td><td>276</td><td>16.4</td><td>396.9</td><td>17.92</td><td>21.5</td></tr><tr><td>0.11425</td><td>0.0</td><td>13.89</td><td>1</td><td>0.55</td><td>6.373</td><td>92.4</td><td>3.3633</td><td>5</td><td>276</td><td>16.4</td><td>393.74</td><td>10.5</td><td>23.0</td></tr><tr><td>0.35809</td><td>0.0</td><td>6.2</td><td>1</td><td>0.507</td><td>6.951</td><td>88.5</td><td>2.8617</td><td>8</td><td>307</td><td>17.4</td><td>391.7</td><td>9.71</td><td>26.7</td></tr><tr><td>0.40771</td><td>0.0</td><td>6.2</td><td>1</td><td>0.507</td><td>6.164</td><td>91.3</td><td>3.048</td><td>8</td><td>307</td><td>17.4</td><td>395.24</td><td>21.46</td><td>21.7</td></tr><tr><td>0.62356</td><td>0.0</td><td>6.2</td><td>1</td><td>0.507</td><td>6.879</td><td>77.7</td><td>3.2721</td><td>8</td><td>307</td><td>17.4</td><td>390.39</td><td>9.93</td><td>27.5</td></tr><tr><td>0.6147</td><td>0.0</td><td>6.2</td><td>0</td><td>0.507</td><td>6.618</td><td>80.8</td><td>3.2721</td><td>8</td><td>307</td><td>17.4</td><td>396.9</td><td>7.6</td><td>30.1</td></tr><tr><td>0.31533</td><td>0.0</td><td>6.2</td><td>0</td><td>0.504</td><td>8.266</td><td>78.3</td><td>2.8944</td><td>8</td><td>307</td><td>17.4</td><td>385.05</td><td>4.14</td><td>44.8</td></tr><tr><td>0.52693</td><td>0.0</td><td>6.2</td><td>0</td><td>0.504</td><td>8.725</td><td>83.0</td><td>2.8944</td><td>8</td><td>307</td><td>17.4</td><td>382.0</td><td>4.63</td><td>50.0</td></tr><tr><td>0.38214</td><td>0.0</td><td>6.2</td><td>0</td><td>0.504</td><td>8.04</td><td>86.5</td><td>3.2157</td><td>8</td><td>307</td><td>17.4</td><td>387.38</td><td>3.13</td><td>37.6</td></tr><tr><td>0.41238</td><td>0.0</td><td>6.2</td><td>0</td><td>0.504</td><td>7.163</td><td>79.9</td><td>3.2157</td><td>8</td><td>307</td><td>17.4</td><td>372.08</td><td>6.36</td><td>31.6</td></tr><tr><td>0.29819</td><td>0.0</td><td>6.2</td><td>0</td><td>0.504</td><td>7.686</td><td>17.0</td><td>3.3751</td><td>8</td><td>307</td><td>17.4</td><td>377.51</td><td>3.92</td><td>46.7</td></tr><tr><td>0.44178</td><td>0.0</td><td>6.2</td><td>0</td><td>0.504</td><td>6.552</td><td>21.4</td><td>3.3751</td><td>8</td><td>307</td><td>17.4</td><td>380.34</td><td>3.76</td><td>31.5</td></tr><tr><td>0.537</td><td>0.0</td><td>6.2</td><td>0</td><td>0.504</td><td>5.981</td><td>68.1</td><td>3.6715</td><td>8</td><td>307</td><td>17.4</td><td>378.35</td><td>11.65</td><td>24.3</td></tr><tr><td>0.46296</td><td>0.0</td><td>6.2</td><td>0</td><td>0.504</td><td>7.412</td><td>76.9</td><td>3.6715</td><td>8</td><td>307</td><td>17.4</td><td>376.14</td><td>5.25</td><td>31.7</td></tr><tr><td>0.57529</td><td>0.0</td><td>6.2</td><td>0</td><td>0.507</td><td>8.337</td><td>73.3</td><td>3.8384</td><td>8</td><td>307</td><td>17.4</td><td>385.91</td><td>2.47</td><td>41.7</td></tr><tr><td>0.33147</td><td>0.0</td><td>6.2</td><td>0</td><td>0.507</td><td>8.247</td><td>70.4</td><td>3.6519</td><td>8</td><td>307</td><td>17.4</td><td>378.95</td><td>3.95</td><td>48.3</td></tr><tr><td>0.44791</td><td>0.0</td><td>6.2</td><td>1</td><td>0.507</td><td>6.726</td><td>66.5</td><td>3.6519</td><td>8</td><td>307</td><td>17.4</td><td>360.2</td><td>8.05</td><td>29.0</td></tr><tr><td>0.33045</td><td>0.0</td><td>6.2</td><td>0</td><td>0.507</td><td>6.086</td><td>61.5</td><td>3.6519</td><td>8</td><td>307</td><td>17.4</td><td>376.75</td><td>10.88</td><td>24.0</td></tr><tr><td>0.52058</td><td>0.0</td><td>6.2</td><td>1</td><td>0.507</td><td>6.631</td><td>76.5</td><td>4.148</td><td>8</td><td>307</td><td>17.4</td><td>388.45</td><td>9.54</td><td>25.1</td></tr><tr><td>0.51183</td><td>0.0</td><td>6.2</td><td>0</td><td>0.507</td><td>7.358</td><td>71.6</td><td>4.148</td><td>8</td><td>307</td><td>17.4</td><td>390.07</td><td>4.73</td><td>31.5</td></tr><tr><td>0.08244</td><td>30.0</td><td>4.93</td><td>0</td><td>0.428</td><td>6.481</td><td>18.5</td><td>6.1899</td><td>6</td><td>300</td><td>16.6</td><td>379.41</td><td>6.36</td><td>23.7</td></tr><tr><td>0.09252</td><td>30.0</td><td>4.93</td><td>0</td><td>0.428</td><td>6.606</td><td>42.2</td><td>6.1899</td><td>6</td><td>300</td><td>16.6</td><td>383.78</td><td>7.37</td><td>23.3</td></tr><tr><td>0.11329</td><td>30.0</td><td>4.93</td><td>0</td><td>0.428</td><td>6.897</td><td>54.3</td><td>6.3361</td><td>6</td><td>300</td><td>16.6</td><td>391.25</td><td>11.38</td><td>22.0</td></tr><tr><td>0.10612</td><td>30.0</td><td>4.93</td><td>0</td><td>0.428</td><td>6.095</td><td>65.1</td><td>6.3361</td><td>6</td><td>300</td><td>16.6</td><td>394.62</td><td>12.4</td><td>20.1</td></tr><tr><td>0.1029</td><td>30.0</td><td>4.93</td><td>0</td><td>0.428</td><td>6.358</td><td>52.9</td><td>7.0355</td><td>6</td><td>300</td><td>16.6</td><td>372.75</td><td>11.22</td><td>22.2</td></tr><tr><td>0.12757</td><td>30.0</td><td>4.93</td><td>0</td><td>0.428</td><td>6.393</td><td>7.8</td><td>7.0355</td><td>6</td><td>300</td><td>16.6</td><td>374.71</td><td>5.19</td><td>23.7</td></tr><tr><td>0.20608</td><td>22.0</td><td>5.86</td><td>0</td><td>0.431</td><td>5.593</td><td>76.5</td><td>7.9549</td><td>7</td><td>330</td><td>19.1</td><td>372.49</td><td>12.5</td><td>17.6</td></tr><tr><td>0.19133</td><td>22.0</td><td>5.86</td><td>0</td><td>0.431</td><td>5.605</td><td>70.2</td><td>7.9549</td><td>7</td><td>330</td><td>19.1</td><td>389.13</td><td>18.46</td><td>18.5</td></tr><tr><td>0.33983</td><td>22.0</td><td>5.86</td><td>0</td><td>0.431</td><td>6.108</td><td>34.9</td><td>8.0555</td><td>7</td><td>330</td><td>19.1</td><td>390.18</td><td>9.16</td><td>24.3</td></tr><tr><td>0.19657</td><td>22.0</td><td>5.86</td><td>0</td><td>0.431</td><td>6.226</td><td>79.2</td><td>8.0555</td><td>7</td><td>330</td><td>19.1</td><td>376.14</td><td>10.15</td><td>20.5</td></tr><tr><td>0.16439</td><td>22.0</td><td>5.86</td><td>0</td><td>0.431</td><td>6.433</td><td>49.1</td><td>7.8265</td><td>7</td><td>330</td><td>19.1</td><td>374.71</td><td>9.52</td><td>24.5</td></tr><tr><td>0.19073</td><td>22.0</td><td>5.86</td><td>0</td><td>0.431</td><td>6.718</td><td>17.5</td><td>7.8265</td><td>7</td><td>330</td><td>19.1</td><td>393.74</td><td>6.56</td><td>26.2</td></tr><tr><td>0.1403</td><td>22.0</td><td>5.86</td><td>0</td><td>0.431</td><td>6.487</td><td>13.0</td><td>7.3967</td><td>7</td><td>330</td><td>19.1</td><td>396.28</td><td>5.9</td><td>24.4</td></tr><tr><td>0.21409</td><td>22.0</td><td>5.86</td><td>0</td><td>0.431</td><td>6.438</td><td>8.9</td><td>7.3967</td><td>7</td><td>330</td><td>19.1</td><td>377.07</td><td>3.59</td><td>24.8</td></tr><tr><td>0.08221</td><td>22.0</td><td>5.86</td><td>0</td><td>0.431</td><td>6.957</td><td>6.8</td><td>8.9067</td><td>7</td><td>330</td><td>19.1</td><td>386.09</td><td>3.53</td><td>29.6</td></tr><tr><td>0.36894</td><td>22.0</td><td>5.86</td><td>0</td><td>0.431</td><td>8.259</td><td>8.4</td><td>8.9067</td><td>7</td><td>330</td><td>19.1</td><td>396.9</td><td>3.54</td><td>42.8</td></tr><tr><td>0.04819</td><td>80.0</td><td>3.64</td><td>0</td><td>0.392</td><td>6.108</td><td>32.0</td><td>9.2203</td><td>1</td><td>315</td><td>16.4</td><td>392.89</td><td>6.57</td><td>21.9</td></tr><tr><td>0.03548</td><td>80.0</td><td>3.64</td><td>0</td><td>0.392</td><td>5.876</td><td>19.1</td><td>9.2203</td><td>1</td><td>315</td><td>16.4</td><td>395.18</td><td>9.25</td><td>20.9</td></tr><tr><td>0.01538</td><td>90.0</td><td>3.75</td><td>0</td><td>0.394</td><td>7.454</td><td>34.2</td><td>6.3361</td><td>3</td><td>244</td><td>15.9</td><td>386.34</td><td>3.11</td><td>44.0</td></tr><tr><td>0.61154</td><td>20.0</td><td>3.97</td><td>0</td><td>0.647</td><td>8.704</td><td>86.9</td><td>1.801</td><td>5</td><td>264</td><td>13.0</td><td>389.7</td><td>5.12</td><td>50.0</td></tr><tr><td>0.66351</td><td>20.0</td><td>3.97</td><td>0</td><td>0.647</td><td>7.333</td><td>100.0</td><td>1.8946</td><td>5</td><td>264</td><td>13.0</td><td>383.29</td><td>7.79</td><td>36.0</td></tr><tr><td>0.65665</td><td>20.0</td><td>3.97</td><td>0</td><td>0.647</td><td>6.842</td><td>100.0</td><td>2.0107</td><td>5</td><td>264</td><td>13.0</td><td>391.93</td><td>6.9</td><td>30.1</td></tr><tr><td>0.54011</td><td>20.0</td><td>3.97</td><td>0</td><td>0.647</td><td>7.203</td><td>81.8</td><td>2.1121</td><td>5</td><td>264</td><td>13.0</td><td>392.8</td><td>9.59</td><td>33.8</td></tr><tr><td>0.53412</td><td>20.0</td><td>3.97</td><td>0</td><td>0.647</td><td>7.52</td><td>89.4</td><td>2.1398</td><td>5</td><td>264</td><td>13.0</td><td>388.37</td><td>7.26</td><td>43.1</td></tr><tr><td>0.52014</td><td>20.0</td><td>3.97</td><td>0</td><td>0.647</td><td>8.398</td><td>91.5</td><td>2.2885</td><td>5</td><td>264</td><td>13.0</td><td>386.86</td><td>5.91</td><td>48.8</td></tr><tr><td>0.82526</td><td>20.0</td><td>3.97</td><td>0</td><td>0.647</td><td>7.327</td><td>94.5</td><td>2.0788</td><td>5</td><td>264</td><td>13.0</td><td>393.42</td><td>11.25</td><td>31.0</td></tr><tr><td>0.55007</td><td>20.0</td><td>3.97</td><td>0</td><td>0.647</td><td>7.206</td><td>91.6</td><td>1.9301</td><td>5</td><td>264</td><td>13.0</td><td>387.89</td><td>8.1</td><td>36.5</td></tr><tr><td>0.76162</td><td>20.0</td><td>3.97</td><td>0</td><td>0.647</td><td>5.56</td><td>62.8</td><td>1.9865</td><td>5</td><td>264</td><td>13.0</td><td>392.4</td><td>10.45</td><td>22.8</td></tr><tr><td>0.7857</td><td>20.0</td><td>3.97</td><td>0</td><td>0.647</td><td>7.014</td><td>84.6</td><td>2.1329</td><td>5</td><td>264</td><td>13.0</td><td>384.07</td><td>14.79</td><td>30.7</td></tr><tr><td>0.57834</td><td>20.0</td><td>3.97</td><td>0</td><td>0.575</td><td>8.297</td><td>67.0</td><td>2.4216</td><td>5</td><td>264</td><td>13.0</td><td>384.54</td><td>7.44</td><td>50.0</td></tr><tr><td>0.5405</td><td>20.0</td><td>3.97</td><td>0</td><td>0.575</td><td>7.47</td><td>52.6</td><td>2.872</td><td>5</td><td>264</td><td>13.0</td><td>390.3</td><td>3.16</td><td>43.5</td></tr><tr><td>0.09065</td><td>20.0</td><td>6.96</td><td>1</td><td>0.464</td><td>5.92</td><td>61.5</td><td>3.9175</td><td>3</td><td>223</td><td>18.6</td><td>391.34</td><td>13.65</td><td>20.7</td></tr><tr><td>0.29916</td><td>20.0</td><td>6.96</td><td>0</td><td>0.464</td><td>5.856</td><td>42.1</td><td>4.429</td><td>3</td><td>223</td><td>18.6</td><td>388.65</td><td>13.0</td><td>21.1</td></tr></tbody></table></div>"
      ]
     },
     "metadata": {
      "application/vnd.databricks.v1+output": {
       "addedWidgets": {},
       "aggData": [],
       "aggError": "",
       "aggOverflow": false,
       "aggSchema": [],
       "aggSeriesLimitReached": false,
       "aggType": "",
       "arguments": {},
       "columnCustomDisplayInfos": {},
       "data": [
        [
         0.00632,
         18.0,
         2.31,
         0,
         0.538,
         6.575,
         65.2,
         4.09,
         1,
         296,
         15.3,
         396.9,
         4.98,
         24.0
        ],
        [
         0.02731,
         0.0,
         7.07,
         0,
         0.469,
         6.421,
         78.9,
         4.9671,
         2,
         242,
         17.8,
         396.9,
         9.14,
         21.6
        ],
        [
         0.02729,
         0.0,
         7.07,
         0,
         0.469,
         7.185,
         61.1,
         4.9671,
         2,
         242,
         17.8,
         392.83,
         4.03,
         34.7
        ],
        [
         0.03237,
         0.0,
         2.18,
         0,
         0.458,
         6.998,
         45.8,
         6.0622,
         3,
         222,
         18.7,
         394.63,
         2.94,
         33.4
        ],
        [
         0.06905,
         0.0,
         2.18,
         0,
         0.458,
         7.147,
         54.2,
         6.0622,
         3,
         222,
         18.7,
         396.9,
         5.33,
         36.2
        ],
        [
         0.02985,
         0.0,
         2.18,
         0,
         0.458,
         6.43,
         58.7,
         6.0622,
         3,
         222,
         18.7,
         394.12,
         5.21,
         28.7
        ],
        [
         0.08829,
         12.5,
         7.87,
         0,
         0.524,
         6.012,
         66.6,
         5.5605,
         5,
         311,
         15.2,
         395.6,
         12.43,
         22.9
        ],
        [
         0.14455,
         12.5,
         7.87,
         0,
         0.524,
         6.172,
         96.1,
         5.9505,
         5,
         311,
         15.2,
         396.9,
         19.15,
         27.1
        ],
        [
         0.21124,
         12.5,
         7.87,
         0,
         0.524,
         5.631,
         100.0,
         6.0821,
         5,
         311,
         15.2,
         386.63,
         29.93,
         16.5
        ],
        [
         0.17004,
         12.5,
         7.87,
         0,
         0.524,
         6.004,
         85.9,
         6.5921,
         5,
         311,
         15.2,
         386.71,
         17.1,
         18.9
        ],
        [
         0.22489,
         12.5,
         7.87,
         0,
         0.524,
         6.377,
         94.3,
         6.3467,
         5,
         311,
         15.2,
         392.52,
         20.45,
         15.0
        ],
        [
         0.11747,
         12.5,
         7.87,
         0,
         0.524,
         6.009,
         82.9,
         6.2267,
         5,
         311,
         15.2,
         396.9,
         13.27,
         18.9
        ],
        [
         0.09378,
         12.5,
         7.87,
         0,
         0.524,
         5.889,
         39.0,
         5.4509,
         5,
         311,
         15.2,
         390.5,
         15.71,
         21.7
        ],
        [
         0.62976,
         0.0,
         8.14,
         0,
         0.538,
         5.949,
         61.8,
         4.7075,
         4,
         307,
         21.0,
         396.9,
         8.26,
         20.4
        ],
        [
         0.63796,
         0.0,
         8.14,
         0,
         0.538,
         6.096,
         84.5,
         4.4619,
         4,
         307,
         21.0,
         380.02,
         10.26,
         18.2
        ],
        [
         0.62739,
         0.0,
         8.14,
         0,
         0.538,
         5.834,
         56.5,
         4.4986,
         4,
         307,
         21.0,
         395.62,
         8.47,
         19.9
        ],
        [
         1.05393,
         0.0,
         8.14,
         0,
         0.538,
         5.935,
         29.3,
         4.4986,
         4,
         307,
         21.0,
         386.85,
         6.58,
         23.1
        ],
        [
         0.7842,
         0.0,
         8.14,
         0,
         0.538,
         5.99,
         81.7,
         4.2579,
         4,
         307,
         21.0,
         386.75,
         14.67,
         17.5
        ],
        [
         0.80271,
         0.0,
         8.14,
         0,
         0.538,
         5.456,
         36.6,
         3.7965,
         4,
         307,
         21.0,
         288.99,
         11.69,
         20.2
        ],
        [
         0.7258,
         0.0,
         8.14,
         0,
         0.538,
         5.727,
         69.5,
         3.7965,
         4,
         307,
         21.0,
         390.95,
         11.28,
         18.2
        ],
        [
         1.25179,
         0.0,
         8.14,
         0,
         0.538,
         5.57,
         98.1,
         3.7979,
         4,
         307,
         21.0,
         376.57,
         21.02,
         13.6
        ],
        [
         0.85204,
         0.0,
         8.14,
         0,
         0.538,
         5.965,
         89.2,
         4.0123,
         4,
         307,
         21.0,
         392.53,
         13.83,
         19.6
        ],
        [
         1.23247,
         0.0,
         8.14,
         0,
         0.538,
         6.142,
         91.7,
         3.9769,
         4,
         307,
         21.0,
         396.9,
         18.72,
         15.2
        ],
        [
         0.98843,
         0.0,
         8.14,
         0,
         0.538,
         5.813,
         100.0,
         4.0952,
         4,
         307,
         21.0,
         394.54,
         19.88,
         14.5
        ],
        [
         0.75026,
         0.0,
         8.14,
         0,
         0.538,
         5.924,
         94.1,
         4.3996,
         4,
         307,
         21.0,
         394.33,
         16.3,
         15.6
        ],
        [
         0.84054,
         0.0,
         8.14,
         0,
         0.538,
         5.599,
         85.7,
         4.4546,
         4,
         307,
         21.0,
         303.42,
         16.51,
         13.9
        ],
        [
         0.67191,
         0.0,
         8.14,
         0,
         0.538,
         5.813,
         90.3,
         4.682,
         4,
         307,
         21.0,
         376.88,
         14.81,
         16.6
        ],
        [
         0.95577,
         0.0,
         8.14,
         0,
         0.538,
         6.047,
         88.8,
         4.4534,
         4,
         307,
         21.0,
         306.38,
         17.28,
         14.8
        ],
        [
         0.77299,
         0.0,
         8.14,
         0,
         0.538,
         6.495,
         94.4,
         4.4547,
         4,
         307,
         21.0,
         387.94,
         12.8,
         18.4
        ],
        [
         1.00245,
         0.0,
         8.14,
         0,
         0.538,
         6.674,
         87.3,
         4.239,
         4,
         307,
         21.0,
         380.23,
         11.98,
         21.0
        ],
        [
         1.13081,
         0.0,
         8.14,
         0,
         0.538,
         5.713,
         94.1,
         4.233,
         4,
         307,
         21.0,
         360.17,
         22.6,
         12.7
        ],
        [
         1.35472,
         0.0,
         8.14,
         0,
         0.538,
         6.072,
         100.0,
         4.175,
         4,
         307,
         21.0,
         376.73,
         13.04,
         14.5
        ],
        [
         1.38799,
         0.0,
         8.14,
         0,
         0.538,
         5.95,
         82.0,
         3.99,
         4,
         307,
         21.0,
         232.6,
         27.71,
         13.2
        ],
        [
         1.15172,
         0.0,
         8.14,
         0,
         0.538,
         5.701,
         95.0,
         3.7872,
         4,
         307,
         21.0,
         358.77,
         18.35,
         13.1
        ],
        [
         1.61282,
         0.0,
         8.14,
         0,
         0.538,
         6.096,
         96.9,
         3.7598,
         4,
         307,
         21.0,
         248.31,
         20.34,
         13.5
        ],
        [
         0.06417,
         0.0,
         5.96,
         0,
         0.499,
         5.933,
         68.2,
         3.3603,
         5,
         279,
         19.2,
         396.9,
         9.68,
         18.9
        ],
        [
         0.09744,
         0.0,
         5.96,
         0,
         0.499,
         5.841,
         61.4,
         3.3779,
         5,
         279,
         19.2,
         377.56,
         11.41,
         20.0
        ],
        [
         0.08014,
         0.0,
         5.96,
         0,
         0.499,
         5.85,
         41.5,
         3.9342,
         5,
         279,
         19.2,
         396.9,
         8.77,
         21.0
        ],
        [
         0.17505,
         0.0,
         5.96,
         0,
         0.499,
         5.966,
         30.2,
         3.8473,
         5,
         279,
         19.2,
         393.43,
         10.13,
         24.7
        ],
        [
         0.02763,
         75.0,
         2.95,
         0,
         0.428,
         6.595,
         21.8,
         5.4011,
         3,
         252,
         18.3,
         395.63,
         4.32,
         30.8
        ],
        [
         0.03359,
         75.0,
         2.95,
         0,
         0.428,
         7.024,
         15.8,
         5.4011,
         3,
         252,
         18.3,
         395.62,
         1.98,
         34.9
        ],
        [
         0.12744,
         0.0,
         6.91,
         0,
         0.448,
         6.77,
         2.9,
         5.7209,
         3,
         233,
         17.9,
         385.41,
         4.84,
         26.6
        ],
        [
         0.1415,
         0.0,
         6.91,
         0,
         0.448,
         6.169,
         6.6,
         5.7209,
         3,
         233,
         17.9,
         383.37,
         5.81,
         25.3
        ],
        [
         0.15936,
         0.0,
         6.91,
         0,
         0.448,
         6.211,
         6.5,
         5.7209,
         3,
         233,
         17.9,
         394.46,
         7.44,
         24.7
        ],
        [
         0.12269,
         0.0,
         6.91,
         0,
         0.448,
         6.069,
         40.0,
         5.7209,
         3,
         233,
         17.9,
         389.39,
         9.55,
         21.2
        ],
        [
         0.17142,
         0.0,
         6.91,
         0,
         0.448,
         5.682,
         33.8,
         5.1004,
         3,
         233,
         17.9,
         396.9,
         10.21,
         19.3
        ],
        [
         0.18836,
         0.0,
         6.91,
         0,
         0.448,
         5.786,
         33.3,
         5.1004,
         3,
         233,
         17.9,
         396.9,
         14.15,
         20.0
        ],
        [
         0.22927,
         0.0,
         6.91,
         0,
         0.448,
         6.03,
         85.5,
         5.6894,
         3,
         233,
         17.9,
         392.74,
         18.8,
         16.6
        ],
        [
         0.25387,
         0.0,
         6.91,
         0,
         0.448,
         5.399,
         95.3,
         5.87,
         3,
         233,
         17.9,
         396.9,
         30.81,
         14.4
        ],
        [
         0.21977,
         0.0,
         6.91,
         0,
         0.448,
         5.602,
         62.0,
         6.0877,
         3,
         233,
         17.9,
         396.9,
         16.2,
         19.4
        ],
        [
         0.08873,
         21.0,
         5.64,
         0,
         0.439,
         5.963,
         45.7,
         6.8147,
         4,
         243,
         16.8,
         395.56,
         13.45,
         19.7
        ],
        [
         0.04337,
         21.0,
         5.64,
         0,
         0.439,
         6.115,
         63.0,
         6.8147,
         4,
         243,
         16.8,
         393.97,
         9.43,
         20.5
        ],
        [
         0.0536,
         21.0,
         5.64,
         0,
         0.439,
         6.511,
         21.1,
         6.8147,
         4,
         243,
         16.8,
         396.9,
         5.28,
         25.0
        ],
        [
         0.04981,
         21.0,
         5.64,
         0,
         0.439,
         5.998,
         21.4,
         6.8147,
         4,
         243,
         16.8,
         396.9,
         8.43,
         23.4
        ],
        [
         0.0136,
         75.0,
         4.0,
         0,
         0.41,
         5.888,
         47.6,
         7.3197,
         3,
         469,
         21.1,
         396.9,
         14.8,
         18.9
        ],
        [
         0.01311,
         90.0,
         1.22,
         0,
         0.403,
         7.249,
         21.9,
         8.6966,
         5,
         226,
         17.9,
         395.93,
         4.81,
         35.4
        ],
        [
         0.02055,
         85.0,
         0.74,
         0,
         0.41,
         6.383,
         35.7,
         9.1876,
         2,
         313,
         17.3,
         396.9,
         5.77,
         24.7
        ],
        [
         0.01432,
         100.0,
         1.32,
         0,
         0.411,
         6.816,
         40.5,
         8.3248,
         5,
         256,
         15.1,
         392.9,
         3.95,
         31.6
        ],
        [
         0.15445,
         25.0,
         5.13,
         0,
         0.453,
         6.145,
         29.2,
         7.8148,
         8,
         284,
         19.7,
         390.68,
         6.86,
         23.3
        ],
        [
         0.10328,
         25.0,
         5.13,
         0,
         0.453,
         5.927,
         47.2,
         6.932,
         8,
         284,
         19.7,
         396.9,
         9.22,
         19.6
        ],
        [
         0.14932,
         25.0,
         5.13,
         0,
         0.453,
         5.741,
         66.2,
         7.2254,
         8,
         284,
         19.7,
         395.11,
         13.15,
         18.7
        ],
        [
         0.17171,
         25.0,
         5.13,
         0,
         0.453,
         5.966,
         93.4,
         6.8185,
         8,
         284,
         19.7,
         378.08,
         14.44,
         16.0
        ],
        [
         0.11027,
         25.0,
         5.13,
         0,
         0.453,
         6.456,
         67.8,
         7.2255,
         8,
         284,
         19.7,
         396.9,
         6.73,
         22.2
        ],
        [
         0.1265,
         25.0,
         5.13,
         0,
         0.453,
         6.762,
         43.4,
         7.9809,
         8,
         284,
         19.7,
         395.58,
         9.5,
         25.0
        ],
        [
         0.01951,
         17.5,
         1.38,
         0,
         0.4161,
         7.104,
         59.5,
         9.2229,
         3,
         216,
         18.6,
         393.24,
         8.05,
         33.0
        ],
        [
         0.03584,
         80.0,
         3.37,
         0,
         0.398,
         6.29,
         17.8,
         6.6115,
         4,
         337,
         16.1,
         396.9,
         4.67,
         23.5
        ],
        [
         0.04379,
         80.0,
         3.37,
         0,
         0.398,
         5.787,
         31.1,
         6.6115,
         4,
         337,
         16.1,
         396.9,
         10.24,
         19.4
        ],
        [
         0.05789,
         12.5,
         6.07,
         0,
         0.409,
         5.878,
         21.4,
         6.498,
         4,
         345,
         18.9,
         396.21,
         8.1,
         22.0
        ],
        [
         0.13554,
         12.5,
         6.07,
         0,
         0.409,
         5.594,
         36.8,
         6.498,
         4,
         345,
         18.9,
         396.9,
         13.09,
         17.4
        ],
        [
         0.12816,
         12.5,
         6.07,
         0,
         0.409,
         5.885,
         33.0,
         6.498,
         4,
         345,
         18.9,
         396.9,
         8.79,
         20.9
        ],
        [
         0.08826,
         0.0,
         10.81,
         0,
         0.413,
         6.417,
         6.6,
         5.2873,
         4,
         305,
         19.2,
         383.73,
         6.72,
         24.2
        ],
        [
         0.15876,
         0.0,
         10.81,
         0,
         0.413,
         5.961,
         17.5,
         5.2873,
         4,
         305,
         19.2,
         376.94,
         9.88,
         21.7
        ],
        [
         0.09164,
         0.0,
         10.81,
         0,
         0.413,
         6.065,
         7.8,
         5.2873,
         4,
         305,
         19.2,
         390.91,
         5.52,
         22.8
        ],
        [
         0.19539,
         0.0,
         10.81,
         0,
         0.413,
         6.245,
         6.2,
         5.2873,
         4,
         305,
         19.2,
         377.17,
         7.54,
         23.4
        ],
        [
         0.07896,
         0.0,
         12.83,
         0,
         0.437,
         6.273,
         6.0,
         4.2515,
         5,
         398,
         18.7,
         394.92,
         6.78,
         24.1
        ],
        [
         0.09512,
         0.0,
         12.83,
         0,
         0.437,
         6.286,
         45.0,
         4.5026,
         5,
         398,
         18.7,
         383.23,
         8.94,
         21.4
        ],
        [
         0.10153,
         0.0,
         12.83,
         0,
         0.437,
         6.279,
         74.5,
         4.0522,
         5,
         398,
         18.7,
         373.66,
         11.97,
         20.0
        ],
        [
         0.08707,
         0.0,
         12.83,
         0,
         0.437,
         6.14,
         45.8,
         4.0905,
         5,
         398,
         18.7,
         386.96,
         10.27,
         20.8
        ],
        [
         0.05646,
         0.0,
         12.83,
         0,
         0.437,
         6.232,
         53.7,
         5.0141,
         5,
         398,
         18.7,
         386.4,
         12.34,
         21.2
        ],
        [
         0.08387,
         0.0,
         12.83,
         0,
         0.437,
         5.874,
         36.6,
         4.5026,
         5,
         398,
         18.7,
         396.06,
         9.1,
         20.3
        ],
        [
         0.04113,
         25.0,
         4.86,
         0,
         0.426,
         6.727,
         33.5,
         5.4007,
         4,
         281,
         19.0,
         396.9,
         5.29,
         28.0
        ],
        [
         0.04462,
         25.0,
         4.86,
         0,
         0.426,
         6.619,
         70.4,
         5.4007,
         4,
         281,
         19.0,
         395.63,
         7.22,
         23.9
        ],
        [
         0.03659,
         25.0,
         4.86,
         0,
         0.426,
         6.302,
         32.2,
         5.4007,
         4,
         281,
         19.0,
         396.9,
         6.72,
         24.8
        ],
        [
         0.03551,
         25.0,
         4.86,
         0,
         0.426,
         6.167,
         46.7,
         5.4007,
         4,
         281,
         19.0,
         390.64,
         7.51,
         22.9
        ],
        [
         0.05059,
         0.0,
         4.49,
         0,
         0.449,
         6.389,
         48.0,
         4.7794,
         3,
         247,
         18.5,
         396.9,
         9.62,
         23.9
        ],
        [
         0.05735,
         0.0,
         4.49,
         0,
         0.449,
         6.63,
         56.1,
         4.4377,
         3,
         247,
         18.5,
         392.3,
         6.53,
         26.6
        ],
        [
         0.05188,
         0.0,
         4.49,
         0,
         0.449,
         6.015,
         45.1,
         4.4272,
         3,
         247,
         18.5,
         395.99,
         12.86,
         22.5
        ],
        [
         0.07151,
         0.0,
         4.49,
         0,
         0.449,
         6.121,
         56.8,
         3.7476,
         3,
         247,
         18.5,
         395.15,
         8.44,
         22.2
        ],
        [
         0.0566,
         0.0,
         3.41,
         0,
         0.489,
         7.007,
         86.3,
         3.4217,
         2,
         270,
         17.8,
         396.9,
         5.5,
         23.6
        ],
        [
         0.05302,
         0.0,
         3.41,
         0,
         0.489,
         7.079,
         63.1,
         3.4145,
         2,
         270,
         17.8,
         396.06,
         5.7,
         28.7
        ],
        [
         0.04684,
         0.0,
         3.41,
         0,
         0.489,
         6.417,
         66.1,
         3.0923,
         2,
         270,
         17.8,
         392.18,
         8.81,
         22.6
        ],
        [
         0.03932,
         0.0,
         3.41,
         0,
         0.489,
         6.405,
         73.9,
         3.0921,
         2,
         270,
         17.8,
         393.55,
         8.2,
         22.0
        ],
        [
         0.04203,
         28.0,
         15.04,
         0,
         0.464,
         6.442,
         53.6,
         3.6659,
         4,
         270,
         18.2,
         395.01,
         8.16,
         22.9
        ],
        [
         0.02875,
         28.0,
         15.04,
         0,
         0.464,
         6.211,
         28.9,
         3.6659,
         4,
         270,
         18.2,
         396.33,
         6.21,
         25.0
        ],
        [
         0.04294,
         28.0,
         15.04,
         0,
         0.464,
         6.249,
         77.3,
         3.615,
         4,
         270,
         18.2,
         396.9,
         10.59,
         20.6
        ],
        [
         0.12204,
         0.0,
         2.89,
         0,
         0.445,
         6.625,
         57.8,
         3.4952,
         2,
         276,
         18.0,
         357.98,
         6.65,
         28.4
        ],
        [
         0.11504,
         0.0,
         2.89,
         0,
         0.445,
         6.163,
         69.6,
         3.4952,
         2,
         276,
         18.0,
         391.83,
         11.34,
         21.4
        ],
        [
         0.12083,
         0.0,
         2.89,
         0,
         0.445,
         8.069,
         76.0,
         3.4952,
         2,
         276,
         18.0,
         396.9,
         4.21,
         38.7
        ],
        [
         0.08187,
         0.0,
         2.89,
         0,
         0.445,
         7.82,
         36.9,
         3.4952,
         2,
         276,
         18.0,
         393.53,
         3.57,
         43.8
        ],
        [
         0.0686,
         0.0,
         2.89,
         0,
         0.445,
         7.416,
         62.5,
         3.4952,
         2,
         276,
         18.0,
         396.9,
         6.19,
         33.2
        ],
        [
         0.14866,
         0.0,
         8.56,
         0,
         0.52,
         6.727,
         79.9,
         2.7778,
         5,
         384,
         20.9,
         394.76,
         9.42,
         27.5
        ],
        [
         0.11432,
         0.0,
         8.56,
         0,
         0.52,
         6.781,
         71.3,
         2.8561,
         5,
         384,
         20.9,
         395.58,
         7.67,
         26.5
        ],
        [
         0.22876,
         0.0,
         8.56,
         0,
         0.52,
         6.405,
         85.4,
         2.7147,
         5,
         384,
         20.9,
         70.8,
         10.63,
         18.6
        ],
        [
         0.21161,
         0.0,
         8.56,
         0,
         0.52,
         6.137,
         87.4,
         2.7147,
         5,
         384,
         20.9,
         394.47,
         13.44,
         19.3
        ],
        [
         0.1396,
         0.0,
         8.56,
         0,
         0.52,
         6.167,
         90.0,
         2.421,
         5,
         384,
         20.9,
         392.69,
         12.33,
         20.1
        ],
        [
         0.13262,
         0.0,
         8.56,
         0,
         0.52,
         5.851,
         96.7,
         2.1069,
         5,
         384,
         20.9,
         394.05,
         16.47,
         19.5
        ],
        [
         0.1712,
         0.0,
         8.56,
         0,
         0.52,
         5.836,
         91.9,
         2.211,
         5,
         384,
         20.9,
         395.67,
         18.66,
         19.5
        ],
        [
         0.13117,
         0.0,
         8.56,
         0,
         0.52,
         6.127,
         85.2,
         2.1224,
         5,
         384,
         20.9,
         387.69,
         14.09,
         20.4
        ],
        [
         0.12802,
         0.0,
         8.56,
         0,
         0.52,
         6.474,
         97.1,
         2.4329,
         5,
         384,
         20.9,
         395.24,
         12.27,
         19.8
        ],
        [
         0.26363,
         0.0,
         8.56,
         0,
         0.52,
         6.229,
         91.2,
         2.5451,
         5,
         384,
         20.9,
         391.23,
         15.55,
         19.4
        ],
        [
         0.10793,
         0.0,
         8.56,
         0,
         0.52,
         6.195,
         54.4,
         2.7778,
         5,
         384,
         20.9,
         393.49,
         13.0,
         21.7
        ],
        [
         0.10084,
         0.0,
         10.01,
         0,
         0.547,
         6.715,
         81.6,
         2.6775,
         6,
         432,
         17.8,
         395.59,
         10.16,
         22.8
        ],
        [
         0.12329,
         0.0,
         10.01,
         0,
         0.547,
         5.913,
         92.9,
         2.3534,
         6,
         432,
         17.8,
         394.95,
         16.21,
         18.8
        ],
        [
         0.22212,
         0.0,
         10.01,
         0,
         0.547,
         6.092,
         95.4,
         2.548,
         6,
         432,
         17.8,
         396.9,
         17.09,
         18.7
        ],
        [
         0.14231,
         0.0,
         10.01,
         0,
         0.547,
         6.254,
         84.2,
         2.2565,
         6,
         432,
         17.8,
         388.74,
         10.45,
         18.5
        ],
        [
         0.17134,
         0.0,
         10.01,
         0,
         0.547,
         5.928,
         88.2,
         2.4631,
         6,
         432,
         17.8,
         344.91,
         15.76,
         18.3
        ],
        [
         0.13158,
         0.0,
         10.01,
         0,
         0.547,
         6.176,
         72.5,
         2.7301,
         6,
         432,
         17.8,
         393.3,
         12.04,
         21.2
        ],
        [
         0.15098,
         0.0,
         10.01,
         0,
         0.547,
         6.021,
         82.6,
         2.7474,
         6,
         432,
         17.8,
         394.51,
         10.3,
         19.2
        ],
        [
         0.13058,
         0.0,
         10.01,
         0,
         0.547,
         5.872,
         73.1,
         2.4775,
         6,
         432,
         17.8,
         338.63,
         15.37,
         20.4
        ],
        [
         0.14476,
         0.0,
         10.01,
         0,
         0.547,
         5.731,
         65.2,
         2.7592,
         6,
         432,
         17.8,
         391.5,
         13.61,
         19.3
        ],
        [
         0.06899,
         0.0,
         25.65,
         0,
         0.581,
         5.87,
         69.7,
         2.2577,
         2,
         188,
         19.1,
         389.15,
         14.37,
         22.0
        ],
        [
         0.07165,
         0.0,
         25.65,
         0,
         0.581,
         6.004,
         84.1,
         2.1974,
         2,
         188,
         19.1,
         377.67,
         14.27,
         20.3
        ],
        [
         0.09299,
         0.0,
         25.65,
         0,
         0.581,
         5.961,
         92.9,
         2.0869,
         2,
         188,
         19.1,
         378.09,
         17.93,
         20.5
        ],
        [
         0.15038,
         0.0,
         25.65,
         0,
         0.581,
         5.856,
         97.0,
         1.9444,
         2,
         188,
         19.1,
         370.31,
         25.41,
         17.3
        ],
        [
         0.09849,
         0.0,
         25.65,
         0,
         0.581,
         5.879,
         95.8,
         2.0063,
         2,
         188,
         19.1,
         379.38,
         17.58,
         18.8
        ],
        [
         0.16902,
         0.0,
         25.65,
         0,
         0.581,
         5.986,
         88.4,
         1.9929,
         2,
         188,
         19.1,
         385.02,
         14.81,
         21.4
        ],
        [
         0.38735,
         0.0,
         25.65,
         0,
         0.581,
         5.613,
         95.6,
         1.7572,
         2,
         188,
         19.1,
         359.29,
         27.26,
         15.7
        ],
        [
         0.25915,
         0.0,
         21.89,
         0,
         0.624,
         5.693,
         96.0,
         1.7883,
         4,
         437,
         21.2,
         392.11,
         17.19,
         16.2
        ],
        [
         0.32543,
         0.0,
         21.89,
         0,
         0.624,
         6.431,
         98.8,
         1.8125,
         4,
         437,
         21.2,
         396.9,
         15.39,
         18.0
        ],
        [
         0.88125,
         0.0,
         21.89,
         0,
         0.624,
         5.637,
         94.7,
         1.9799,
         4,
         437,
         21.2,
         396.9,
         18.34,
         14.3
        ],
        [
         0.34006,
         0.0,
         21.89,
         0,
         0.624,
         6.458,
         98.9,
         2.1185,
         4,
         437,
         21.2,
         395.04,
         12.6,
         19.2
        ],
        [
         1.19294,
         0.0,
         21.89,
         0,
         0.624,
         6.326,
         97.7,
         2.271,
         4,
         437,
         21.2,
         396.9,
         12.26,
         19.6
        ],
        [
         0.59005,
         0.0,
         21.89,
         0,
         0.624,
         6.372,
         97.9,
         2.3274,
         4,
         437,
         21.2,
         385.76,
         11.12,
         23.0
        ],
        [
         0.32982,
         0.0,
         21.89,
         0,
         0.624,
         5.822,
         95.4,
         2.4699,
         4,
         437,
         21.2,
         388.69,
         15.03,
         18.4
        ],
        [
         0.97617,
         0.0,
         21.89,
         0,
         0.624,
         5.757,
         98.4,
         2.346,
         4,
         437,
         21.2,
         262.76,
         17.31,
         15.6
        ],
        [
         0.55778,
         0.0,
         21.89,
         0,
         0.624,
         6.335,
         98.2,
         2.1107,
         4,
         437,
         21.2,
         394.67,
         16.96,
         18.1
        ],
        [
         0.32264,
         0.0,
         21.89,
         0,
         0.624,
         5.942,
         93.5,
         1.9669,
         4,
         437,
         21.2,
         378.25,
         16.9,
         17.4
        ],
        [
         0.35233,
         0.0,
         21.89,
         0,
         0.624,
         6.454,
         98.4,
         1.8498,
         4,
         437,
         21.2,
         394.08,
         14.59,
         17.1
        ],
        [
         0.2498,
         0.0,
         21.89,
         0,
         0.624,
         5.857,
         98.2,
         1.6686,
         4,
         437,
         21.2,
         392.04,
         21.32,
         13.3
        ],
        [
         0.54452,
         0.0,
         21.89,
         0,
         0.624,
         6.151,
         97.9,
         1.6687,
         4,
         437,
         21.2,
         396.9,
         18.46,
         17.8
        ],
        [
         0.2909,
         0.0,
         21.89,
         0,
         0.624,
         6.174,
         93.6,
         1.6119,
         4,
         437,
         21.2,
         388.08,
         24.16,
         14.0
        ],
        [
         1.62864,
         0.0,
         21.89,
         0,
         0.624,
         5.019,
         100.0,
         1.4394,
         4,
         437,
         21.2,
         396.9,
         34.41,
         14.4
        ],
        [
         3.32105,
         0.0,
         19.58,
         1,
         0.871,
         5.403,
         100.0,
         1.3216,
         5,
         403,
         14.7,
         396.9,
         26.82,
         13.4
        ],
        [
         4.0974,
         0.0,
         19.58,
         0,
         0.871,
         5.468,
         100.0,
         1.4118,
         5,
         403,
         14.7,
         396.9,
         26.42,
         15.6
        ],
        [
         2.77974,
         0.0,
         19.58,
         0,
         0.871,
         4.903,
         97.8,
         1.3459,
         5,
         403,
         14.7,
         396.9,
         29.29,
         11.8
        ],
        [
         2.37934,
         0.0,
         19.58,
         0,
         0.871,
         6.13,
         100.0,
         1.4191,
         5,
         403,
         14.7,
         172.91,
         27.8,
         13.8
        ],
        [
         2.15505,
         0.0,
         19.58,
         0,
         0.871,
         5.628,
         100.0,
         1.5166,
         5,
         403,
         14.7,
         169.27,
         16.65,
         15.6
        ],
        [
         2.36862,
         0.0,
         19.58,
         0,
         0.871,
         4.926,
         95.7,
         1.4608,
         5,
         403,
         14.7,
         391.71,
         29.53,
         14.6
        ],
        [
         2.33099,
         0.0,
         19.58,
         0,
         0.871,
         5.186,
         93.8,
         1.5296,
         5,
         403,
         14.7,
         356.99,
         28.32,
         17.8
        ],
        [
         2.73397,
         0.0,
         19.58,
         0,
         0.871,
         5.597,
         94.9,
         1.5257,
         5,
         403,
         14.7,
         351.85,
         21.45,
         15.4
        ],
        [
         1.6566,
         0.0,
         19.58,
         0,
         0.871,
         6.122,
         97.3,
         1.618,
         5,
         403,
         14.7,
         372.8,
         14.1,
         21.5
        ],
        [
         1.49632,
         0.0,
         19.58,
         0,
         0.871,
         5.404,
         100.0,
         1.5916,
         5,
         403,
         14.7,
         341.6,
         13.28,
         19.6
        ],
        [
         1.12658,
         0.0,
         19.58,
         1,
         0.871,
         5.012,
         88.0,
         1.6102,
         5,
         403,
         14.7,
         343.28,
         12.12,
         15.3
        ],
        [
         2.14918,
         0.0,
         19.58,
         0,
         0.871,
         5.709,
         98.5,
         1.6232,
         5,
         403,
         14.7,
         261.95,
         15.79,
         19.4
        ],
        [
         1.41385,
         0.0,
         19.58,
         1,
         0.871,
         6.129,
         96.0,
         1.7494,
         5,
         403,
         14.7,
         321.02,
         15.12,
         17.0
        ],
        [
         3.53501,
         0.0,
         19.58,
         1,
         0.871,
         6.152,
         82.6,
         1.7455,
         5,
         403,
         14.7,
         88.01,
         15.02,
         15.6
        ],
        [
         2.44668,
         0.0,
         19.58,
         0,
         0.871,
         5.272,
         94.0,
         1.7364,
         5,
         403,
         14.7,
         88.63,
         16.14,
         13.1
        ],
        [
         1.22358,
         0.0,
         19.58,
         0,
         0.605,
         6.943,
         97.4,
         1.8773,
         5,
         403,
         14.7,
         363.43,
         4.59,
         41.3
        ],
        [
         1.34284,
         0.0,
         19.58,
         0,
         0.605,
         6.066,
         100.0,
         1.7573,
         5,
         403,
         14.7,
         353.89,
         6.43,
         24.3
        ],
        [
         1.42502,
         0.0,
         19.58,
         0,
         0.871,
         6.51,
         100.0,
         1.7659,
         5,
         403,
         14.7,
         364.31,
         7.39,
         23.3
        ],
        [
         1.27346,
         0.0,
         19.58,
         1,
         0.605,
         6.25,
         92.6,
         1.7984,
         5,
         403,
         14.7,
         338.92,
         5.5,
         27.0
        ],
        [
         1.46336,
         0.0,
         19.58,
         0,
         0.605,
         7.489,
         90.8,
         1.9709,
         5,
         403,
         14.7,
         374.43,
         1.73,
         50.0
        ],
        [
         1.83377,
         0.0,
         19.58,
         1,
         0.605,
         7.802,
         98.2,
         2.0407,
         5,
         403,
         14.7,
         389.61,
         1.92,
         50.0
        ],
        [
         1.51902,
         0.0,
         19.58,
         1,
         0.605,
         8.375,
         93.9,
         2.162,
         5,
         403,
         14.7,
         388.45,
         3.32,
         50.0
        ],
        [
         2.24236,
         0.0,
         19.58,
         0,
         0.605,
         5.854,
         91.8,
         2.422,
         5,
         403,
         14.7,
         395.11,
         11.64,
         22.7
        ],
        [
         2.924,
         0.0,
         19.58,
         0,
         0.605,
         6.101,
         93.0,
         2.2834,
         5,
         403,
         14.7,
         240.16,
         9.81,
         25.0
        ],
        [
         2.01019,
         0.0,
         19.58,
         0,
         0.605,
         7.929,
         96.2,
         2.0459,
         5,
         403,
         14.7,
         369.3,
         3.7,
         50.0
        ],
        [
         1.80028,
         0.0,
         19.58,
         0,
         0.605,
         5.877,
         79.2,
         2.4259,
         5,
         403,
         14.7,
         227.61,
         12.14,
         23.8
        ],
        [
         2.3004,
         0.0,
         19.58,
         0,
         0.605,
         6.319,
         96.1,
         2.1,
         5,
         403,
         14.7,
         297.09,
         11.1,
         23.8
        ],
        [
         2.44953,
         0.0,
         19.58,
         0,
         0.605,
         6.402,
         95.2,
         2.2625,
         5,
         403,
         14.7,
         330.04,
         11.32,
         22.3
        ],
        [
         1.20742,
         0.0,
         19.58,
         0,
         0.605,
         5.875,
         94.6,
         2.4259,
         5,
         403,
         14.7,
         292.29,
         14.43,
         17.4
        ],
        [
         2.3139,
         0.0,
         19.58,
         0,
         0.605,
         5.88,
         97.3,
         2.3887,
         5,
         403,
         14.7,
         348.13,
         12.03,
         19.1
        ],
        [
         0.13914,
         0.0,
         4.05,
         0,
         0.51,
         5.572,
         88.5,
         2.5961,
         5,
         296,
         16.6,
         396.9,
         14.69,
         23.1
        ],
        [
         0.09178,
         0.0,
         4.05,
         0,
         0.51,
         6.416,
         84.1,
         2.6463,
         5,
         296,
         16.6,
         395.5,
         9.04,
         23.6
        ],
        [
         0.08447,
         0.0,
         4.05,
         0,
         0.51,
         5.859,
         68.7,
         2.7019,
         5,
         296,
         16.6,
         393.23,
         9.64,
         22.6
        ],
        [
         0.06664,
         0.0,
         4.05,
         0,
         0.51,
         6.546,
         33.1,
         3.1323,
         5,
         296,
         16.6,
         390.96,
         5.33,
         29.4
        ],
        [
         0.07022,
         0.0,
         4.05,
         0,
         0.51,
         6.02,
         47.2,
         3.5549,
         5,
         296,
         16.6,
         393.23,
         10.11,
         23.2
        ],
        [
         0.05425,
         0.0,
         4.05,
         0,
         0.51,
         6.315,
         73.4,
         3.3175,
         5,
         296,
         16.6,
         395.6,
         6.29,
         24.6
        ],
        [
         0.06642,
         0.0,
         4.05,
         0,
         0.51,
         6.86,
         74.4,
         2.9153,
         5,
         296,
         16.6,
         391.27,
         6.92,
         29.9
        ],
        [
         0.0578,
         0.0,
         2.46,
         0,
         0.488,
         6.98,
         58.4,
         2.829,
         3,
         193,
         17.8,
         396.9,
         5.04,
         37.2
        ],
        [
         0.06588,
         0.0,
         2.46,
         0,
         0.488,
         7.765,
         83.3,
         2.741,
         3,
         193,
         17.8,
         395.56,
         7.56,
         39.8
        ],
        [
         0.06888,
         0.0,
         2.46,
         0,
         0.488,
         6.144,
         62.2,
         2.5979,
         3,
         193,
         17.8,
         396.9,
         9.45,
         36.2
        ],
        [
         0.09103,
         0.0,
         2.46,
         0,
         0.488,
         7.155,
         92.2,
         2.7006,
         3,
         193,
         17.8,
         394.12,
         4.82,
         37.9
        ],
        [
         0.10008,
         0.0,
         2.46,
         0,
         0.488,
         6.563,
         95.6,
         2.847,
         3,
         193,
         17.8,
         396.9,
         5.68,
         32.5
        ],
        [
         0.08308,
         0.0,
         2.46,
         0,
         0.488,
         5.604,
         89.8,
         2.9879,
         3,
         193,
         17.8,
         391.0,
         13.98,
         26.4
        ],
        [
         0.06047,
         0.0,
         2.46,
         0,
         0.488,
         6.153,
         68.8,
         3.2797,
         3,
         193,
         17.8,
         387.11,
         13.15,
         29.6
        ],
        [
         0.05602,
         0.0,
         2.46,
         0,
         0.488,
         7.831,
         53.6,
         3.1992,
         3,
         193,
         17.8,
         392.63,
         4.45,
         50.0
        ],
        [
         0.07875,
         45.0,
         3.44,
         0,
         0.437,
         6.782,
         41.1,
         3.7886,
         5,
         398,
         15.2,
         393.87,
         6.68,
         32.0
        ],
        [
         0.12579,
         45.0,
         3.44,
         0,
         0.437,
         6.556,
         29.1,
         4.5667,
         5,
         398,
         15.2,
         382.84,
         4.56,
         29.8
        ],
        [
         0.0837,
         45.0,
         3.44,
         0,
         0.437,
         7.185,
         38.9,
         4.5667,
         5,
         398,
         15.2,
         396.9,
         5.39,
         34.9
        ],
        [
         0.09068,
         45.0,
         3.44,
         0,
         0.437,
         6.951,
         21.5,
         6.4798,
         5,
         398,
         15.2,
         377.68,
         5.1,
         37.0
        ],
        [
         0.06911,
         45.0,
         3.44,
         0,
         0.437,
         6.739,
         30.8,
         6.4798,
         5,
         398,
         15.2,
         389.71,
         4.69,
         30.5
        ],
        [
         0.08664,
         45.0,
         3.44,
         0,
         0.437,
         7.178,
         26.3,
         6.4798,
         5,
         398,
         15.2,
         390.49,
         2.87,
         36.4
        ],
        [
         0.02187,
         60.0,
         2.93,
         0,
         0.401,
         6.8,
         9.9,
         6.2196,
         1,
         265,
         15.6,
         393.37,
         5.03,
         31.1
        ],
        [
         0.01439,
         60.0,
         2.93,
         0,
         0.401,
         6.604,
         18.8,
         6.2196,
         1,
         265,
         15.6,
         376.7,
         4.38,
         29.1
        ],
        [
         0.01381,
         80.0,
         0.46,
         0,
         0.422,
         7.875,
         32.0,
         5.6484,
         4,
         255,
         14.4,
         394.23,
         2.97,
         50.0
        ],
        [
         0.04011,
         80.0,
         1.52,
         0,
         0.404,
         7.287,
         34.1,
         7.309,
         2,
         329,
         12.6,
         396.9,
         4.08,
         33.3
        ],
        [
         0.04666,
         80.0,
         1.52,
         0,
         0.404,
         7.107,
         36.6,
         7.309,
         2,
         329,
         12.6,
         354.31,
         8.61,
         30.3
        ],
        [
         0.03768,
         80.0,
         1.52,
         0,
         0.404,
         7.274,
         38.3,
         7.309,
         2,
         329,
         12.6,
         392.2,
         6.62,
         34.6
        ],
        [
         0.0315,
         95.0,
         1.47,
         0,
         0.403,
         6.975,
         15.3,
         7.6534,
         3,
         402,
         17.0,
         396.9,
         4.56,
         34.9
        ],
        [
         0.01778,
         95.0,
         1.47,
         0,
         0.403,
         7.135,
         13.9,
         7.6534,
         3,
         402,
         17.0,
         384.3,
         4.45,
         32.9
        ],
        [
         0.03445,
         82.5,
         2.03,
         0,
         0.415,
         6.162,
         38.4,
         6.27,
         2,
         348,
         14.7,
         393.77,
         7.43,
         24.1
        ],
        [
         0.02177,
         82.5,
         2.03,
         0,
         0.415,
         7.61,
         15.7,
         6.27,
         2,
         348,
         14.7,
         395.38,
         3.11,
         42.3
        ],
        [
         0.0351,
         95.0,
         2.68,
         0,
         0.4161,
         7.853,
         33.2,
         5.118,
         4,
         224,
         14.7,
         392.78,
         3.81,
         48.5
        ],
        [
         0.02009,
         95.0,
         2.68,
         0,
         0.4161,
         8.034,
         31.9,
         5.118,
         4,
         224,
         14.7,
         390.55,
         2.88,
         50.0
        ],
        [
         0.13642,
         0.0,
         10.59,
         0,
         0.489,
         5.891,
         22.3,
         3.9454,
         4,
         277,
         18.6,
         396.9,
         10.87,
         22.6
        ],
        [
         0.22969,
         0.0,
         10.59,
         0,
         0.489,
         6.326,
         52.5,
         4.3549,
         4,
         277,
         18.6,
         394.87,
         10.97,
         24.4
        ],
        [
         0.25199,
         0.0,
         10.59,
         0,
         0.489,
         5.783,
         72.7,
         4.3549,
         4,
         277,
         18.6,
         389.43,
         18.06,
         22.5
        ],
        [
         0.13587,
         0.0,
         10.59,
         1,
         0.489,
         6.064,
         59.1,
         4.2392,
         4,
         277,
         18.6,
         381.32,
         14.66,
         24.4
        ],
        [
         0.43571,
         0.0,
         10.59,
         1,
         0.489,
         5.344,
         100.0,
         3.875,
         4,
         277,
         18.6,
         396.9,
         23.09,
         20.0
        ],
        [
         0.17446,
         0.0,
         10.59,
         1,
         0.489,
         5.96,
         92.1,
         3.8771,
         4,
         277,
         18.6,
         393.25,
         17.27,
         21.7
        ],
        [
         0.37578,
         0.0,
         10.59,
         1,
         0.489,
         5.404,
         88.6,
         3.665,
         4,
         277,
         18.6,
         395.24,
         23.98,
         19.3
        ],
        [
         0.21719,
         0.0,
         10.59,
         1,
         0.489,
         5.807,
         53.8,
         3.6526,
         4,
         277,
         18.6,
         390.94,
         16.03,
         22.4
        ],
        [
         0.14052,
         0.0,
         10.59,
         0,
         0.489,
         6.375,
         32.3,
         3.9454,
         4,
         277,
         18.6,
         385.81,
         9.38,
         28.1
        ],
        [
         0.28955,
         0.0,
         10.59,
         0,
         0.489,
         5.412,
         9.8,
         3.5875,
         4,
         277,
         18.6,
         348.93,
         29.55,
         23.7
        ],
        [
         0.19802,
         0.0,
         10.59,
         0,
         0.489,
         6.182,
         42.4,
         3.9454,
         4,
         277,
         18.6,
         393.63,
         9.47,
         25.0
        ],
        [
         0.0456,
         0.0,
         13.89,
         1,
         0.55,
         5.888,
         56.0,
         3.1121,
         5,
         276,
         16.4,
         392.8,
         13.51,
         23.3
        ],
        [
         0.07013,
         0.0,
         13.89,
         0,
         0.55,
         6.642,
         85.1,
         3.4211,
         5,
         276,
         16.4,
         392.78,
         9.69,
         28.7
        ],
        [
         0.11069,
         0.0,
         13.89,
         1,
         0.55,
         5.951,
         93.8,
         2.8893,
         5,
         276,
         16.4,
         396.9,
         17.92,
         21.5
        ],
        [
         0.11425,
         0.0,
         13.89,
         1,
         0.55,
         6.373,
         92.4,
         3.3633,
         5,
         276,
         16.4,
         393.74,
         10.5,
         23.0
        ],
        [
         0.35809,
         0.0,
         6.2,
         1,
         0.507,
         6.951,
         88.5,
         2.8617,
         8,
         307,
         17.4,
         391.7,
         9.71,
         26.7
        ],
        [
         0.40771,
         0.0,
         6.2,
         1,
         0.507,
         6.164,
         91.3,
         3.048,
         8,
         307,
         17.4,
         395.24,
         21.46,
         21.7
        ],
        [
         0.62356,
         0.0,
         6.2,
         1,
         0.507,
         6.879,
         77.7,
         3.2721,
         8,
         307,
         17.4,
         390.39,
         9.93,
         27.5
        ],
        [
         0.6147,
         0.0,
         6.2,
         0,
         0.507,
         6.618,
         80.8,
         3.2721,
         8,
         307,
         17.4,
         396.9,
         7.6,
         30.1
        ],
        [
         0.31533,
         0.0,
         6.2,
         0,
         0.504,
         8.266,
         78.3,
         2.8944,
         8,
         307,
         17.4,
         385.05,
         4.14,
         44.8
        ],
        [
         0.52693,
         0.0,
         6.2,
         0,
         0.504,
         8.725,
         83.0,
         2.8944,
         8,
         307,
         17.4,
         382.0,
         4.63,
         50.0
        ],
        [
         0.38214,
         0.0,
         6.2,
         0,
         0.504,
         8.04,
         86.5,
         3.2157,
         8,
         307,
         17.4,
         387.38,
         3.13,
         37.6
        ],
        [
         0.41238,
         0.0,
         6.2,
         0,
         0.504,
         7.163,
         79.9,
         3.2157,
         8,
         307,
         17.4,
         372.08,
         6.36,
         31.6
        ],
        [
         0.29819,
         0.0,
         6.2,
         0,
         0.504,
         7.686,
         17.0,
         3.3751,
         8,
         307,
         17.4,
         377.51,
         3.92,
         46.7
        ],
        [
         0.44178,
         0.0,
         6.2,
         0,
         0.504,
         6.552,
         21.4,
         3.3751,
         8,
         307,
         17.4,
         380.34,
         3.76,
         31.5
        ],
        [
         0.537,
         0.0,
         6.2,
         0,
         0.504,
         5.981,
         68.1,
         3.6715,
         8,
         307,
         17.4,
         378.35,
         11.65,
         24.3
        ],
        [
         0.46296,
         0.0,
         6.2,
         0,
         0.504,
         7.412,
         76.9,
         3.6715,
         8,
         307,
         17.4,
         376.14,
         5.25,
         31.7
        ],
        [
         0.57529,
         0.0,
         6.2,
         0,
         0.507,
         8.337,
         73.3,
         3.8384,
         8,
         307,
         17.4,
         385.91,
         2.47,
         41.7
        ],
        [
         0.33147,
         0.0,
         6.2,
         0,
         0.507,
         8.247,
         70.4,
         3.6519,
         8,
         307,
         17.4,
         378.95,
         3.95,
         48.3
        ],
        [
         0.44791,
         0.0,
         6.2,
         1,
         0.507,
         6.726,
         66.5,
         3.6519,
         8,
         307,
         17.4,
         360.2,
         8.05,
         29.0
        ],
        [
         0.33045,
         0.0,
         6.2,
         0,
         0.507,
         6.086,
         61.5,
         3.6519,
         8,
         307,
         17.4,
         376.75,
         10.88,
         24.0
        ],
        [
         0.52058,
         0.0,
         6.2,
         1,
         0.507,
         6.631,
         76.5,
         4.148,
         8,
         307,
         17.4,
         388.45,
         9.54,
         25.1
        ],
        [
         0.51183,
         0.0,
         6.2,
         0,
         0.507,
         7.358,
         71.6,
         4.148,
         8,
         307,
         17.4,
         390.07,
         4.73,
         31.5
        ],
        [
         0.08244,
         30.0,
         4.93,
         0,
         0.428,
         6.481,
         18.5,
         6.1899,
         6,
         300,
         16.6,
         379.41,
         6.36,
         23.7
        ],
        [
         0.09252,
         30.0,
         4.93,
         0,
         0.428,
         6.606,
         42.2,
         6.1899,
         6,
         300,
         16.6,
         383.78,
         7.37,
         23.3
        ],
        [
         0.11329,
         30.0,
         4.93,
         0,
         0.428,
         6.897,
         54.3,
         6.3361,
         6,
         300,
         16.6,
         391.25,
         11.38,
         22.0
        ],
        [
         0.10612,
         30.0,
         4.93,
         0,
         0.428,
         6.095,
         65.1,
         6.3361,
         6,
         300,
         16.6,
         394.62,
         12.4,
         20.1
        ],
        [
         0.1029,
         30.0,
         4.93,
         0,
         0.428,
         6.358,
         52.9,
         7.0355,
         6,
         300,
         16.6,
         372.75,
         11.22,
         22.2
        ],
        [
         0.12757,
         30.0,
         4.93,
         0,
         0.428,
         6.393,
         7.8,
         7.0355,
         6,
         300,
         16.6,
         374.71,
         5.19,
         23.7
        ],
        [
         0.20608,
         22.0,
         5.86,
         0,
         0.431,
         5.593,
         76.5,
         7.9549,
         7,
         330,
         19.1,
         372.49,
         12.5,
         17.6
        ],
        [
         0.19133,
         22.0,
         5.86,
         0,
         0.431,
         5.605,
         70.2,
         7.9549,
         7,
         330,
         19.1,
         389.13,
         18.46,
         18.5
        ],
        [
         0.33983,
         22.0,
         5.86,
         0,
         0.431,
         6.108,
         34.9,
         8.0555,
         7,
         330,
         19.1,
         390.18,
         9.16,
         24.3
        ],
        [
         0.19657,
         22.0,
         5.86,
         0,
         0.431,
         6.226,
         79.2,
         8.0555,
         7,
         330,
         19.1,
         376.14,
         10.15,
         20.5
        ],
        [
         0.16439,
         22.0,
         5.86,
         0,
         0.431,
         6.433,
         49.1,
         7.8265,
         7,
         330,
         19.1,
         374.71,
         9.52,
         24.5
        ],
        [
         0.19073,
         22.0,
         5.86,
         0,
         0.431,
         6.718,
         17.5,
         7.8265,
         7,
         330,
         19.1,
         393.74,
         6.56,
         26.2
        ],
        [
         0.1403,
         22.0,
         5.86,
         0,
         0.431,
         6.487,
         13.0,
         7.3967,
         7,
         330,
         19.1,
         396.28,
         5.9,
         24.4
        ],
        [
         0.21409,
         22.0,
         5.86,
         0,
         0.431,
         6.438,
         8.9,
         7.3967,
         7,
         330,
         19.1,
         377.07,
         3.59,
         24.8
        ],
        [
         0.08221,
         22.0,
         5.86,
         0,
         0.431,
         6.957,
         6.8,
         8.9067,
         7,
         330,
         19.1,
         386.09,
         3.53,
         29.6
        ],
        [
         0.36894,
         22.0,
         5.86,
         0,
         0.431,
         8.259,
         8.4,
         8.9067,
         7,
         330,
         19.1,
         396.9,
         3.54,
         42.8
        ],
        [
         0.04819,
         80.0,
         3.64,
         0,
         0.392,
         6.108,
         32.0,
         9.2203,
         1,
         315,
         16.4,
         392.89,
         6.57,
         21.9
        ],
        [
         0.03548,
         80.0,
         3.64,
         0,
         0.392,
         5.876,
         19.1,
         9.2203,
         1,
         315,
         16.4,
         395.18,
         9.25,
         20.9
        ],
        [
         0.01538,
         90.0,
         3.75,
         0,
         0.394,
         7.454,
         34.2,
         6.3361,
         3,
         244,
         15.9,
         386.34,
         3.11,
         44.0
        ],
        [
         0.61154,
         20.0,
         3.97,
         0,
         0.647,
         8.704,
         86.9,
         1.801,
         5,
         264,
         13.0,
         389.7,
         5.12,
         50.0
        ],
        [
         0.66351,
         20.0,
         3.97,
         0,
         0.647,
         7.333,
         100.0,
         1.8946,
         5,
         264,
         13.0,
         383.29,
         7.79,
         36.0
        ],
        [
         0.65665,
         20.0,
         3.97,
         0,
         0.647,
         6.842,
         100.0,
         2.0107,
         5,
         264,
         13.0,
         391.93,
         6.9,
         30.1
        ],
        [
         0.54011,
         20.0,
         3.97,
         0,
         0.647,
         7.203,
         81.8,
         2.1121,
         5,
         264,
         13.0,
         392.8,
         9.59,
         33.8
        ],
        [
         0.53412,
         20.0,
         3.97,
         0,
         0.647,
         7.52,
         89.4,
         2.1398,
         5,
         264,
         13.0,
         388.37,
         7.26,
         43.1
        ],
        [
         0.52014,
         20.0,
         3.97,
         0,
         0.647,
         8.398,
         91.5,
         2.2885,
         5,
         264,
         13.0,
         386.86,
         5.91,
         48.8
        ],
        [
         0.82526,
         20.0,
         3.97,
         0,
         0.647,
         7.327,
         94.5,
         2.0788,
         5,
         264,
         13.0,
         393.42,
         11.25,
         31.0
        ],
        [
         0.55007,
         20.0,
         3.97,
         0,
         0.647,
         7.206,
         91.6,
         1.9301,
         5,
         264,
         13.0,
         387.89,
         8.1,
         36.5
        ],
        [
         0.76162,
         20.0,
         3.97,
         0,
         0.647,
         5.56,
         62.8,
         1.9865,
         5,
         264,
         13.0,
         392.4,
         10.45,
         22.8
        ],
        [
         0.7857,
         20.0,
         3.97,
         0,
         0.647,
         7.014,
         84.6,
         2.1329,
         5,
         264,
         13.0,
         384.07,
         14.79,
         30.7
        ],
        [
         0.57834,
         20.0,
         3.97,
         0,
         0.575,
         8.297,
         67.0,
         2.4216,
         5,
         264,
         13.0,
         384.54,
         7.44,
         50.0
        ],
        [
         0.5405,
         20.0,
         3.97,
         0,
         0.575,
         7.47,
         52.6,
         2.872,
         5,
         264,
         13.0,
         390.3,
         3.16,
         43.5
        ],
        [
         0.09065,
         20.0,
         6.96,
         1,
         0.464,
         5.92,
         61.5,
         3.9175,
         3,
         223,
         18.6,
         391.34,
         13.65,
         20.7
        ],
        [
         0.29916,
         20.0,
         6.96,
         0,
         0.464,
         5.856,
         42.1,
         4.429,
         3,
         223,
         18.6,
         388.65,
         13.0,
         21.1
        ]
       ],
       "datasetInfos": [],
       "dbfsResultPath": null,
       "isJsonSchema": true,
       "metadata": {},
       "overflow": false,
       "plotOptions": {
        "customPlotOptions": {},
        "displayType": "table",
        "pivotAggregation": null,
        "pivotColumns": null,
        "xColumns": null,
        "yColumns": null
       },
       "removedWidgets": [],
       "schema": [
        {
         "metadata": "{}",
         "name": "crim",
         "type": "\"double\""
        },
        {
         "metadata": "{}",
         "name": "zn",
         "type": "\"double\""
        },
        {
         "metadata": "{}",
         "name": "indus",
         "type": "\"double\""
        },
        {
         "metadata": "{}",
         "name": "chas",
         "type": "\"long\""
        },
        {
         "metadata": "{}",
         "name": "nox",
         "type": "\"double\""
        },
        {
         "metadata": "{}",
         "name": "rm",
         "type": "\"double\""
        },
        {
         "metadata": "{}",
         "name": "age",
         "type": "\"double\""
        },
        {
         "metadata": "{}",
         "name": "dis",
         "type": "\"double\""
        },
        {
         "metadata": "{}",
         "name": "rad",
         "type": "\"long\""
        },
        {
         "metadata": "{}",
         "name": "tax",
         "type": "\"long\""
        },
        {
         "metadata": "{}",
         "name": "ptratio",
         "type": "\"double\""
        },
        {
         "metadata": "{}",
         "name": "black",
         "type": "\"double\""
        },
        {
         "metadata": "{}",
         "name": "lstat",
         "type": "\"double\""
        },
        {
         "metadata": "{}",
         "name": "medv",
         "type": "\"double\""
        }
       ],
       "type": "table"
      }
     },
     "output_type": "display_data"
    }
   ],
   "source": [
    "display(df)"
   ]
  },
  {
   "cell_type": "code",
   "execution_count": 0,
   "metadata": {
    "application/vnd.databricks.v1+cell": {
     "cellMetadata": {
      "byteLimit": 2048000,
      "rowLimit": 10000
     },
     "inputWidgets": {},
     "nuid": "97cd19dc-d602-4243-984a-f908f020a26d",
     "showTitle": false,
     "title": ""
    }
   },
   "outputs": [
    {
     "output_type": "execute_result",
     "data": {
      "text/plain": [
       "271"
      ]
     },
     "execution_count": 9,
     "metadata": {},
     "output_type": "execute_result"
    }
   ],
   "source": [
    "df.count()"
   ]
  },
  {
   "cell_type": "code",
   "execution_count": 0,
   "metadata": {
    "application/vnd.databricks.v1+cell": {
     "cellMetadata": {
      "byteLimit": 2048000,
      "rowLimit": 10000
     },
     "collapsed": true,
     "inputWidgets": {},
     "nuid": "3c98d776-2faa-48be-bc92-e0e10d71eecf",
     "showTitle": false,
     "title": ""
    }
   },
   "outputs": [
    {
     "output_type": "display_data",
     "data": {
      "text/html": [
       "<style scoped>\n",
       "  .table-result-container {\n",
       "    max-height: 300px;\n",
       "    overflow: auto;\n",
       "  }\n",
       "  table, th, td {\n",
       "    border: 1px solid black;\n",
       "    border-collapse: collapse;\n",
       "  }\n",
       "  th, td {\n",
       "    padding: 5px;\n",
       "  }\n",
       "  th {\n",
       "    text-align: left;\n",
       "  }\n",
       "</style><div class='table-result-container'><table class='table-result'><thead style='background-color: white'><tr><th>path</th><th>name</th><th>size</th><th>modificationTime</th></tr></thead><tbody><tr><td>dbfs:/FileStore/</td><td>FileStore/</td><td>0</td><td>1708061316000</td></tr><tr><td>dbfs:/Volume/</td><td>Volume/</td><td>0</td><td>0</td></tr><tr><td>dbfs:/Volumes/</td><td>Volumes/</td><td>0</td><td>0</td></tr><tr><td>dbfs:/databricks-datasets/</td><td>databricks-datasets/</td><td>0</td><td>0</td></tr><tr><td>dbfs:/databricks-results/</td><td>databricks-results/</td><td>0</td><td>0</td></tr><tr><td>dbfs:/user/</td><td>user/</td><td>0</td><td>1708061216000</td></tr><tr><td>dbfs:/volume/</td><td>volume/</td><td>0</td><td>0</td></tr><tr><td>dbfs:/volumes/</td><td>volumes/</td><td>0</td><td>0</td></tr></tbody></table></div>"
      ]
     },
     "metadata": {
      "application/vnd.databricks.v1+output": {
       "addedWidgets": {},
       "aggData": [],
       "aggError": "",
       "aggOverflow": false,
       "aggSchema": [],
       "aggSeriesLimitReached": false,
       "aggType": "",
       "arguments": {},
       "columnCustomDisplayInfos": {},
       "data": [
        [
         "dbfs:/FileStore/",
         "FileStore/",
         0,
         1708061316000
        ],
        [
         "dbfs:/Volume/",
         "Volume/",
         0,
         0
        ],
        [
         "dbfs:/Volumes/",
         "Volumes/",
         0,
         0
        ],
        [
         "dbfs:/databricks-datasets/",
         "databricks-datasets/",
         0,
         0
        ],
        [
         "dbfs:/databricks-results/",
         "databricks-results/",
         0,
         0
        ],
        [
         "dbfs:/user/",
         "user/",
         0,
         1708061216000
        ],
        [
         "dbfs:/volume/",
         "volume/",
         0,
         0
        ],
        [
         "dbfs:/volumes/",
         "volumes/",
         0,
         0
        ]
       ],
       "datasetInfos": [],
       "dbfsResultPath": null,
       "isJsonSchema": true,
       "metadata": {
        "isDbfsCommandResult": false
       },
       "overflow": false,
       "plotOptions": {
        "customPlotOptions": {},
        "displayType": "table",
        "pivotAggregation": null,
        "pivotColumns": null,
        "xColumns": null,
        "yColumns": null
       },
       "removedWidgets": [],
       "schema": [
        {
         "metadata": "{}",
         "name": "path",
         "type": "\"string\""
        },
        {
         "metadata": "{}",
         "name": "name",
         "type": "\"string\""
        },
        {
         "metadata": "{}",
         "name": "size",
         "type": "\"long\""
        },
        {
         "metadata": "{}",
         "name": "modificationTime",
         "type": "\"long\""
        }
       ],
       "type": "table"
      }
     },
     "output_type": "display_data"
    }
   ],
   "source": [
    "%fs ls"
   ]
  },
  {
   "cell_type": "code",
   "execution_count": 0,
   "metadata": {
    "application/vnd.databricks.v1+cell": {
     "cellMetadata": {
      "byteLimit": 2048000,
      "rowLimit": 10000
     },
     "collapsed": true,
     "inputWidgets": {},
     "nuid": "bd88af5e-7fa0-4bae-972b-44761438a36b",
     "showTitle": false,
     "title": ""
    }
   },
   "outputs": [],
   "source": [
    "emp_data = [(101,\"Arun\",\"2002\",\"90\",\"M\",2500),\n",
    "            (102,\"Kiran\",\"2004\",\"88\",\"M\",4000),\n",
    "            (103,\"Michael\",\"2008\",\"60\",\"M\",8000),\n",
    "            (104,\"Monika\",\"2006\",\"80\",\"F\",10000),\n",
    "            (105,\"Sean\",\"2008\",\"90\",\"M\",5000)]"
   ]
  },
  {
   "cell_type": "code",
   "execution_count": 0,
   "metadata": {
    "application/vnd.databricks.v1+cell": {
     "cellMetadata": {
      "byteLimit": 2048000,
      "rowLimit": 10000
     },
     "inputWidgets": {},
     "nuid": "fc72edc2-11fa-4cc7-a32e-da801d9036b5",
     "showTitle": false,
     "title": ""
    }
   },
   "outputs": [],
   "source": [
    "emp_schema = [\"ID\",\"Name\",\"YOJ\",\"Dept\",\"Gender\",\"Salary\"]"
   ]
  },
  {
   "cell_type": "code",
   "execution_count": 0,
   "metadata": {
    "application/vnd.databricks.v1+cell": {
     "cellMetadata": {
      "byteLimit": 2048000,
      "rowLimit": 10000
     },
     "inputWidgets": {},
     "nuid": "2967a269-2f65-4610-aace-c3c4449fe836",
     "showTitle": false,
     "title": ""
    }
   },
   "outputs": [],
   "source": [
    "emp = spark.createDataFrame(emp_data, schema=emp_schema)"
   ]
  },
  {
   "cell_type": "code",
   "execution_count": 0,
   "metadata": {
    "application/vnd.databricks.v1+cell": {
     "cellMetadata": {
      "byteLimit": 2048000,
      "rowLimit": 10000
     },
     "collapsed": true,
     "inputWidgets": {},
     "nuid": "8d35adab-50d5-4d8e-922a-66d55dd830c3",
     "showTitle": false,
     "title": ""
    }
   },
   "outputs": [
    {
     "output_type": "display_data",
     "data": {
      "text/html": [
       "<style scoped>\n",
       "  .table-result-container {\n",
       "    max-height: 300px;\n",
       "    overflow: auto;\n",
       "  }\n",
       "  table, th, td {\n",
       "    border: 1px solid black;\n",
       "    border-collapse: collapse;\n",
       "  }\n",
       "  th, td {\n",
       "    padding: 5px;\n",
       "  }\n",
       "  th {\n",
       "    text-align: left;\n",
       "  }\n",
       "</style><div class='table-result-container'><table class='table-result'><thead style='background-color: white'><tr><th>ID</th><th>Name</th><th>YOJ</th><th>Age</th><th>Gender</th><th>Salary</th></tr></thead><tbody><tr><td>101</td><td>Arun</td><td>2002</td><td>90</td><td>M</td><td>2500</td></tr><tr><td>102</td><td>Kiran</td><td>2004</td><td>88</td><td>M</td><td>4000</td></tr><tr><td>103</td><td>Michael</td><td>2008</td><td>60</td><td>M</td><td>8000</td></tr><tr><td>104</td><td>Monika</td><td>2006</td><td>80</td><td>F</td><td>10000</td></tr><tr><td>105</td><td>Sean</td><td>2008</td><td>90</td><td>M</td><td>5000</td></tr></tbody></table></div>"
      ]
     },
     "metadata": {
      "application/vnd.databricks.v1+output": {
       "addedWidgets": {},
       "aggData": [],
       "aggError": "",
       "aggOverflow": false,
       "aggSchema": [],
       "aggSeriesLimitReached": false,
       "aggType": "",
       "arguments": {},
       "columnCustomDisplayInfos": {},
       "data": [
        [
         101,
         "Arun",
         "2002",
         "90",
         "M",
         2500
        ],
        [
         102,
         "Kiran",
         "2004",
         "88",
         "M",
         4000
        ],
        [
         103,
         "Michael",
         "2008",
         "60",
         "M",
         8000
        ],
        [
         104,
         "Monika",
         "2006",
         "80",
         "F",
         10000
        ],
        [
         105,
         "Sean",
         "2008",
         "90",
         "M",
         5000
        ]
       ],
       "datasetInfos": [],
       "dbfsResultPath": null,
       "isJsonSchema": true,
       "metadata": {},
       "overflow": false,
       "plotOptions": {
        "customPlotOptions": {},
        "displayType": "table",
        "pivotAggregation": null,
        "pivotColumns": null,
        "xColumns": null,
        "yColumns": null
       },
       "removedWidgets": [],
       "schema": [
        {
         "metadata": "{}",
         "name": "ID",
         "type": "\"long\""
        },
        {
         "metadata": "{}",
         "name": "Name",
         "type": "\"string\""
        },
        {
         "metadata": "{}",
         "name": "YOJ",
         "type": "\"string\""
        },
        {
         "metadata": "{}",
         "name": "Age",
         "type": "\"string\""
        },
        {
         "metadata": "{}",
         "name": "Gender",
         "type": "\"string\""
        },
        {
         "metadata": "{}",
         "name": "Salary",
         "type": "\"long\""
        }
       ],
       "type": "table"
      }
     },
     "output_type": "display_data"
    }
   ],
   "source": [
    "display(emp)"
   ]
  },
  {
   "cell_type": "code",
   "execution_count": 0,
   "metadata": {
    "application/vnd.databricks.v1+cell": {
     "cellMetadata": {
      "byteLimit": 2048000,
      "rowLimit": 10000
     },
     "collapsed": true,
     "inputWidgets": {},
     "nuid": "0bcaa9c0-9a41-4848-96fa-29b6af8d3e3a",
     "showTitle": false,
     "title": ""
    }
   },
   "outputs": [
    {
     "output_type": "stream",
     "name": "stdout",
     "output_type": "stream",
     "text": [
      "+---+-------+----+---+------+------+\n| ID|   Name| YOJ|Age|Gender|Salary|\n+---+-------+----+---+------+------+\n|101|   Arun|2002| 90|     M|  2500|\n|102|  Kiran|2004| 88|     M|  4000|\n|103|Michael|2008| 60|     M|  8000|\n|104| Monika|2006| 80|     F| 10000|\n|105|   Sean|2008| 90|     M|  5000|\n+---+-------+----+---+------+------+\n\n"
     ]
    }
   ],
   "source": [
    "emp.show(5)"
   ]
  },
  {
   "cell_type": "code",
   "execution_count": 0,
   "metadata": {
    "application/vnd.databricks.v1+cell": {
     "cellMetadata": {
      "byteLimit": 2048000,
      "rowLimit": 10000
     },
     "collapsed": true,
     "inputWidgets": {},
     "nuid": "5e3d67cc-91e6-4fc9-b69f-262596b275cd",
     "showTitle": false,
     "title": ""
    }
   },
   "outputs": [
    {
     "output_type": "stream",
     "name": "stdout",
     "output_type": "stream",
     "text": [
      "+---+-------+----+---+------+------+\n| ID|   Name| YOJ|Age|Gender|Salary|\n+---+-------+----+---+------+------+\n|103|Michael|2008| 60|     M|  8000|\n|104| Monika|2006| 80|     F| 10000|\n+---+-------+----+---+------+------+\n\n"
     ]
    }
   ],
   "source": [
    "emp.filter(emp.Name.startswith('M')).show()"
   ]
  },
  {
   "cell_type": "code",
   "execution_count": 0,
   "metadata": {
    "application/vnd.databricks.v1+cell": {
     "cellMetadata": {
      "byteLimit": 2048000,
      "rowLimit": 10000
     },
     "collapsed": true,
     "inputWidgets": {},
     "nuid": "bed6516b-e166-4c42-8627-cf50249de439",
     "showTitle": false,
     "title": ""
    }
   },
   "outputs": [
    {
     "output_type": "display_data",
     "data": {
      "text/html": [
       "<style scoped>\n",
       "  .table-result-container {\n",
       "    max-height: 300px;\n",
       "    overflow: auto;\n",
       "  }\n",
       "  table, th, td {\n",
       "    border: 1px solid black;\n",
       "    border-collapse: collapse;\n",
       "  }\n",
       "  th, td {\n",
       "    padding: 5px;\n",
       "  }\n",
       "  th {\n",
       "    text-align: left;\n",
       "  }\n",
       "</style><div class='table-result-container'><table class='table-result'><thead style='background-color: white'><tr><th>ID</th><th>Name</th><th>YOJ</th><th>Age</th><th>Gender</th><th>Salary</th></tr></thead><tbody><tr><td>103</td><td>Michael</td><td>2008</td><td>60</td><td>M</td><td>8000</td></tr><tr><td>104</td><td>Monika</td><td>2006</td><td>80</td><td>F</td><td>10000</td></tr></tbody></table></div>"
      ]
     },
     "metadata": {
      "application/vnd.databricks.v1+output": {
       "addedWidgets": {},
       "aggData": [],
       "aggError": "",
       "aggOverflow": false,
       "aggSchema": [],
       "aggSeriesLimitReached": false,
       "aggType": "",
       "arguments": {},
       "columnCustomDisplayInfos": {},
       "data": [
        [
         103,
         "Michael",
         "2008",
         "60",
         "M",
         8000
        ],
        [
         104,
         "Monika",
         "2006",
         "80",
         "F",
         10000
        ]
       ],
       "datasetInfos": [],
       "dbfsResultPath": null,
       "isJsonSchema": true,
       "metadata": {},
       "overflow": false,
       "plotOptions": {
        "customPlotOptions": {},
        "displayType": "table",
        "pivotAggregation": null,
        "pivotColumns": null,
        "xColumns": null,
        "yColumns": null
       },
       "removedWidgets": [],
       "schema": [
        {
         "metadata": "{}",
         "name": "ID",
         "type": "\"long\""
        },
        {
         "metadata": "{}",
         "name": "Name",
         "type": "\"string\""
        },
        {
         "metadata": "{}",
         "name": "YOJ",
         "type": "\"string\""
        },
        {
         "metadata": "{}",
         "name": "Age",
         "type": "\"string\""
        },
        {
         "metadata": "{}",
         "name": "Gender",
         "type": "\"string\""
        },
        {
         "metadata": "{}",
         "name": "Salary",
         "type": "\"long\""
        }
       ],
       "type": "table"
      }
     },
     "output_type": "display_data"
    }
   ],
   "source": [
    "display(emp.filter(emp.Name.startswith('M')))"
   ]
  },
  {
   "cell_type": "code",
   "execution_count": 0,
   "metadata": {
    "application/vnd.databricks.v1+cell": {
     "cellMetadata": {
      "byteLimit": 2048000,
      "rowLimit": 10000
     },
     "collapsed": true,
     "inputWidgets": {},
     "nuid": "c5555f02-f102-4d8e-92e3-2005b7349ca5",
     "showTitle": false,
     "title": ""
    }
   },
   "outputs": [
    {
     "output_type": "display_data",
     "data": {
      "text/html": [
       "<style scoped>\n",
       "  .table-result-container {\n",
       "    max-height: 300px;\n",
       "    overflow: auto;\n",
       "  }\n",
       "  table, th, td {\n",
       "    border: 1px solid black;\n",
       "    border-collapse: collapse;\n",
       "  }\n",
       "  th, td {\n",
       "    padding: 5px;\n",
       "  }\n",
       "  th {\n",
       "    text-align: left;\n",
       "  }\n",
       "</style><div class='table-result-container'><table class='table-result'><thead style='background-color: white'><tr><th>ID</th><th>Name</th><th>YOJ</th><th>Age</th><th>Gender</th><th>Salary</th></tr></thead><tbody><tr><td>104</td><td>Monika</td><td>2006</td><td>80</td><td>F</td><td>10000</td></tr></tbody></table></div>"
      ]
     },
     "metadata": {
      "application/vnd.databricks.v1+output": {
       "addedWidgets": {},
       "aggData": [],
       "aggError": "",
       "aggOverflow": false,
       "aggSchema": [],
       "aggSeriesLimitReached": false,
       "aggType": "",
       "arguments": {},
       "columnCustomDisplayInfos": {},
       "data": [
        [
         104,
         "Monika",
         "2006",
         "80",
         "F",
         10000
        ]
       ],
       "datasetInfos": [],
       "dbfsResultPath": null,
       "isJsonSchema": true,
       "metadata": {},
       "overflow": false,
       "plotOptions": {
        "customPlotOptions": {},
        "displayType": "table",
        "pivotAggregation": null,
        "pivotColumns": null,
        "xColumns": null,
        "yColumns": null
       },
       "removedWidgets": [],
       "schema": [
        {
         "metadata": "{}",
         "name": "ID",
         "type": "\"long\""
        },
        {
         "metadata": "{}",
         "name": "Name",
         "type": "\"string\""
        },
        {
         "metadata": "{}",
         "name": "YOJ",
         "type": "\"string\""
        },
        {
         "metadata": "{}",
         "name": "Age",
         "type": "\"string\""
        },
        {
         "metadata": "{}",
         "name": "Gender",
         "type": "\"string\""
        },
        {
         "metadata": "{}",
         "name": "Salary",
         "type": "\"long\""
        }
       ],
       "type": "table"
      }
     },
     "output_type": "display_data"
    }
   ],
   "source": [
    "display(emp.filter(emp.Name.endswith('a')))"
   ]
  },
  {
   "cell_type": "code",
   "execution_count": 0,
   "metadata": {
    "application/vnd.databricks.v1+cell": {
     "cellMetadata": {
      "byteLimit": 2048000,
      "rowLimit": 10000
     },
     "collapsed": true,
     "inputWidgets": {},
     "nuid": "dc33ee7d-2177-461d-9293-9e62954e861a",
     "showTitle": false,
     "title": ""
    }
   },
   "outputs": [
    {
     "output_type": "display_data",
     "data": {
      "text/html": [
       "<style scoped>\n",
       "  .table-result-container {\n",
       "    max-height: 300px;\n",
       "    overflow: auto;\n",
       "  }\n",
       "  table, th, td {\n",
       "    border: 1px solid black;\n",
       "    border-collapse: collapse;\n",
       "  }\n",
       "  th, td {\n",
       "    padding: 5px;\n",
       "  }\n",
       "  th {\n",
       "    text-align: left;\n",
       "  }\n",
       "</style><div class='table-result-container'><table class='table-result'><thead style='background-color: white'><tr><th>ID</th><th>Name</th><th>YOJ</th><th>Dept</th><th>Gender</th><th>Salary</th></tr></thead><tbody><tr><td>101</td><td>Arun</td><td>2002</td><td>90</td><td>M</td><td>2500</td></tr><tr><td>102</td><td>Kiran</td><td>2004</td><td>88</td><td>M</td><td>4000</td></tr><tr><td>105</td><td>Sean</td><td>2008</td><td>90</td><td>M</td><td>5000</td></tr></tbody></table></div>"
      ]
     },
     "metadata": {
      "application/vnd.databricks.v1+output": {
       "addedWidgets": {},
       "aggData": [],
       "aggError": "",
       "aggOverflow": false,
       "aggSchema": [],
       "aggSeriesLimitReached": false,
       "aggType": "",
       "arguments": {},
       "columnCustomDisplayInfos": {},
       "data": [
        [
         101,
         "Arun",
         "2002",
         "90",
         "M",
         2500
        ],
        [
         102,
         "Kiran",
         "2004",
         "88",
         "M",
         4000
        ],
        [
         105,
         "Sean",
         "2008",
         "90",
         "M",
         5000
        ]
       ],
       "datasetInfos": [],
       "dbfsResultPath": null,
       "isJsonSchema": true,
       "metadata": {},
       "overflow": false,
       "plotOptions": {
        "customPlotOptions": {},
        "displayType": "table",
        "pivotAggregation": null,
        "pivotColumns": null,
        "xColumns": null,
        "yColumns": null
       },
       "removedWidgets": [],
       "schema": [
        {
         "metadata": "{}",
         "name": "ID",
         "type": "\"long\""
        },
        {
         "metadata": "{}",
         "name": "Name",
         "type": "\"string\""
        },
        {
         "metadata": "{}",
         "name": "YOJ",
         "type": "\"string\""
        },
        {
         "metadata": "{}",
         "name": "Dept",
         "type": "\"string\""
        },
        {
         "metadata": "{}",
         "name": "Gender",
         "type": "\"string\""
        },
        {
         "metadata": "{}",
         "name": "Salary",
         "type": "\"long\""
        }
       ],
       "type": "table"
      }
     },
     "output_type": "display_data"
    }
   ],
   "source": [
    "display(emp.filter(emp.Dept>80))"
   ]
  },
  {
   "cell_type": "code",
   "execution_count": 0,
   "metadata": {
    "application/vnd.databricks.v1+cell": {
     "cellMetadata": {
      "byteLimit": 2048000,
      "rowLimit": 10000
     },
     "collapsed": true,
     "inputWidgets": {},
     "nuid": "631f5d18-8fa9-45f1-8d25-5954e45b67e8",
     "showTitle": false,
     "title": ""
    }
   },
   "outputs": [
    {
     "output_type": "display_data",
     "data": {
      "text/html": [
       "<style scoped>\n",
       "  .table-result-container {\n",
       "    max-height: 300px;\n",
       "    overflow: auto;\n",
       "  }\n",
       "  table, th, td {\n",
       "    border: 1px solid black;\n",
       "    border-collapse: collapse;\n",
       "  }\n",
       "  th, td {\n",
       "    padding: 5px;\n",
       "  }\n",
       "  th {\n",
       "    text-align: left;\n",
       "  }\n",
       "</style><div class='table-result-container'><table class='table-result'><thead style='background-color: white'><tr><th>ID</th><th>Name</th><th>YOJ</th><th>Dept</th><th>Gender</th><th>Salary</th></tr></thead><tbody><tr><td>103</td><td>Michael</td><td>2008</td><td>60</td><td>M</td><td>8000</td></tr><tr><td>104</td><td>Monika</td><td>2006</td><td>80</td><td>F</td><td>10000</td></tr></tbody></table></div>"
      ]
     },
     "metadata": {
      "application/vnd.databricks.v1+output": {
       "addedWidgets": {},
       "aggData": [],
       "aggError": "",
       "aggOverflow": false,
       "aggSchema": [],
       "aggSeriesLimitReached": false,
       "aggType": "",
       "arguments": {},
       "columnCustomDisplayInfos": {},
       "data": [
        [
         103,
         "Michael",
         "2008",
         "60",
         "M",
         8000
        ],
        [
         104,
         "Monika",
         "2006",
         "80",
         "F",
         10000
        ]
       ],
       "datasetInfos": [],
       "dbfsResultPath": null,
       "isJsonSchema": true,
       "metadata": {},
       "overflow": false,
       "plotOptions": {
        "customPlotOptions": {},
        "displayType": "table",
        "pivotAggregation": null,
        "pivotColumns": null,
        "xColumns": null,
        "yColumns": null
       },
       "removedWidgets": [],
       "schema": [
        {
         "metadata": "{}",
         "name": "ID",
         "type": "\"long\""
        },
        {
         "metadata": "{}",
         "name": "Name",
         "type": "\"string\""
        },
        {
         "metadata": "{}",
         "name": "YOJ",
         "type": "\"string\""
        },
        {
         "metadata": "{}",
         "name": "Dept",
         "type": "\"string\""
        },
        {
         "metadata": "{}",
         "name": "Gender",
         "type": "\"string\""
        },
        {
         "metadata": "{}",
         "name": "Salary",
         "type": "\"long\""
        }
       ],
       "type": "table"
      }
     },
     "output_type": "display_data"
    }
   ],
   "source": [
    "display(emp.filter(emp.Dept.isin(60,80)))"
   ]
  },
  {
   "cell_type": "code",
   "execution_count": 0,
   "metadata": {
    "application/vnd.databricks.v1+cell": {
     "cellMetadata": {
      "byteLimit": 2048000,
      "rowLimit": 10000
     },
     "collapsed": true,
     "inputWidgets": {},
     "nuid": "258973cd-26ee-4bcf-b56e-3e871e99bc77",
     "showTitle": false,
     "title": ""
    }
   },
   "outputs": [
    {
     "output_type": "display_data",
     "data": {
      "text/html": [
       "<style scoped>\n",
       "  .table-result-container {\n",
       "    max-height: 300px;\n",
       "    overflow: auto;\n",
       "  }\n",
       "  table, th, td {\n",
       "    border: 1px solid black;\n",
       "    border-collapse: collapse;\n",
       "  }\n",
       "  th, td {\n",
       "    padding: 5px;\n",
       "  }\n",
       "  th {\n",
       "    text-align: left;\n",
       "  }\n",
       "</style><div class='table-result-container'><table class='table-result'><thead style='background-color: white'><tr><th>ID</th><th>Name</th><th>YOJ</th><th>Dept</th><th>Gender</th><th>Salary</th></tr></thead><tbody><tr><td>101</td><td>Arun</td><td>2002</td><td>90</td><td>M</td><td>2500</td></tr><tr><td>102</td><td>Kiran</td><td>2004</td><td>88</td><td>M</td><td>4000</td></tr><tr><td>105</td><td>Sean</td><td>2008</td><td>90</td><td>M</td><td>5000</td></tr></tbody></table></div>"
      ]
     },
     "metadata": {
      "application/vnd.databricks.v1+output": {
       "addedWidgets": {},
       "aggData": [],
       "aggError": "",
       "aggOverflow": false,
       "aggSchema": [],
       "aggSeriesLimitReached": false,
       "aggType": "",
       "arguments": {},
       "columnCustomDisplayInfos": {},
       "data": [
        [
         101,
         "Arun",
         "2002",
         "90",
         "M",
         2500
        ],
        [
         102,
         "Kiran",
         "2004",
         "88",
         "M",
         4000
        ],
        [
         105,
         "Sean",
         "2008",
         "90",
         "M",
         5000
        ]
       ],
       "datasetInfos": [],
       "dbfsResultPath": null,
       "isJsonSchema": true,
       "metadata": {},
       "overflow": false,
       "plotOptions": {
        "customPlotOptions": {},
        "displayType": "table",
        "pivotAggregation": null,
        "pivotColumns": null,
        "xColumns": null,
        "yColumns": null
       },
       "removedWidgets": [],
       "schema": [
        {
         "metadata": "{}",
         "name": "ID",
         "type": "\"long\""
        },
        {
         "metadata": "{}",
         "name": "Name",
         "type": "\"string\""
        },
        {
         "metadata": "{}",
         "name": "YOJ",
         "type": "\"string\""
        },
        {
         "metadata": "{}",
         "name": "Dept",
         "type": "\"string\""
        },
        {
         "metadata": "{}",
         "name": "Gender",
         "type": "\"string\""
        },
        {
         "metadata": "{}",
         "name": "Salary",
         "type": "\"long\""
        }
       ],
       "type": "table"
      }
     },
     "output_type": "display_data"
    }
   ],
   "source": [
    "display(emp.filter(~emp.Dept.isin(60,80)))"
   ]
  },
  {
   "cell_type": "code",
   "execution_count": 0,
   "metadata": {
    "application/vnd.databricks.v1+cell": {
     "cellMetadata": {
      "byteLimit": 2048000,
      "rowLimit": 10000
     },
     "collapsed": true,
     "inputWidgets": {},
     "nuid": "f506e99c-6b8d-490b-809f-ad8e58e58fd0",
     "showTitle": false,
     "title": ""
    }
   },
   "outputs": [
    {
     "output_type": "display_data",
     "data": {
      "text/html": [
       "<style scoped>\n",
       "  .table-result-container {\n",
       "    max-height: 300px;\n",
       "    overflow: auto;\n",
       "  }\n",
       "  table, th, td {\n",
       "    border: 1px solid black;\n",
       "    border-collapse: collapse;\n",
       "  }\n",
       "  th, td {\n",
       "    padding: 5px;\n",
       "  }\n",
       "  th {\n",
       "    text-align: left;\n",
       "  }\n",
       "</style><div class='table-result-container'><table class='table-result'><thead style='background-color: white'><tr><th>ID</th><th>Name</th><th>YOJ</th><th>Age</th><th>Gender</th><th>Salary</th></tr></thead><tbody><tr><td>104</td><td>Monika</td><td>2006</td><td>80</td><td>F</td><td>10000</td></tr></tbody></table></div>"
      ]
     },
     "metadata": {
      "application/vnd.databricks.v1+output": {
       "addedWidgets": {},
       "aggData": [],
       "aggError": "",
       "aggOverflow": false,
       "aggSchema": [],
       "aggSeriesLimitReached": false,
       "aggType": "",
       "arguments": {},
       "columnCustomDisplayInfos": {},
       "data": [
        [
         104,
         "Monika",
         "2006",
         "80",
         "F",
         10000
        ]
       ],
       "datasetInfos": [],
       "dbfsResultPath": null,
       "isJsonSchema": true,
       "metadata": {},
       "overflow": false,
       "plotOptions": {
        "customPlotOptions": {},
        "displayType": "table",
        "pivotAggregation": null,
        "pivotColumns": null,
        "xColumns": null,
        "yColumns": null
       },
       "removedWidgets": [],
       "schema": [
        {
         "metadata": "{}",
         "name": "ID",
         "type": "\"long\""
        },
        {
         "metadata": "{}",
         "name": "Name",
         "type": "\"string\""
        },
        {
         "metadata": "{}",
         "name": "YOJ",
         "type": "\"string\""
        },
        {
         "metadata": "{}",
         "name": "Age",
         "type": "\"string\""
        },
        {
         "metadata": "{}",
         "name": "Gender",
         "type": "\"string\""
        },
        {
         "metadata": "{}",
         "name": "Salary",
         "type": "\"long\""
        }
       ],
       "type": "table"
      }
     },
     "output_type": "display_data"
    }
   ],
   "source": [
    "display(emp.filter(emp.Name.like(\"%ni%\")))"
   ]
  },
  {
   "cell_type": "code",
   "execution_count": 0,
   "metadata": {
    "application/vnd.databricks.v1+cell": {
     "cellMetadata": {
      "byteLimit": 2048000,
      "rowLimit": 10000
     },
     "inputWidgets": {},
     "nuid": "4b2f6038-c70c-4a4a-a68c-afb6ce132062",
     "showTitle": false,
     "title": ""
    }
   },
   "outputs": [],
   "source": [
    "from pyspark.sql.functions import lit"
   ]
  },
  {
   "cell_type": "code",
   "execution_count": 0,
   "metadata": {
    "application/vnd.databricks.v1+cell": {
     "cellMetadata": {
      "byteLimit": 2048000,
      "rowLimit": 10000
     },
     "collapsed": true,
     "inputWidgets": {},
     "nuid": "83c108c0-a7a6-4fcd-bc77-1500c4e132f7",
     "showTitle": false,
     "title": ""
    }
   },
   "outputs": [
    {
     "output_type": "stream",
     "name": "stdout",
     "output_type": "stream",
     "text": [
      "+---+-------+----+----+------+------+---------+\n| ID|   Name| YOJ|Dept|Gender|Salary|     City|\n+---+-------+----+----+------+------+---------+\n|101|   Arun|2002|  90|     M|  2500|Bangalore|\n|102|  Kiran|2004|  88|     M|  4000|Bangalore|\n|103|Michael|2008|  60|     M|  8000|Bangalore|\n|104| Monika|2006|  80|     F| 10000|Bangalore|\n|105|   Sean|2008|  90|     M|  5000|Bangalore|\n+---+-------+----+----+------+------+---------+\n\n"
     ]
    }
   ],
   "source": [
    "emp.withColumn(\"City\",lit(\"Bangalore\")).show()"
   ]
  },
  {
   "cell_type": "code",
   "execution_count": 0,
   "metadata": {
    "application/vnd.databricks.v1+cell": {
     "cellMetadata": {
      "byteLimit": 2048000,
      "rowLimit": 10000
     },
     "collapsed": true,
     "inputWidgets": {},
     "nuid": "3d9a7554-9701-4dec-a5ba-ad7dbe2eb8a3",
     "showTitle": false,
     "title": ""
    }
   },
   "outputs": [
    {
     "output_type": "stream",
     "name": "stdout",
     "output_type": "stream",
     "text": [
      "+---+-------+----+----+------+------+-----+\n| ID|   Name| YOJ|Dept|Gender|Salary|Bonus|\n+---+-------+----+----+------+------+-----+\n|101|   Arun|2002|  90|     M|  2500|125.0|\n|102|  Kiran|2004|  88|     M|  4000|200.0|\n|103|Michael|2008|  60|     M|  8000|400.0|\n|104| Monika|2006|  80|     F| 10000|500.0|\n|105|   Sean|2008|  90|     M|  5000|250.0|\n+---+-------+----+----+------+------+-----+\n\n"
     ]
    }
   ],
   "source": [
    "emp.withColumn(\"Bonus\",emp.Salary*0.05).show()"
   ]
  },
  {
   "cell_type": "code",
   "execution_count": 0,
   "metadata": {
    "application/vnd.databricks.v1+cell": {
     "cellMetadata": {
      "byteLimit": 2048000,
      "rowLimit": 10000
     },
     "inputWidgets": {},
     "nuid": "fd6b5a0b-7f47-40c0-9d90-344fd91eaae3",
     "showTitle": false,
     "title": ""
    }
   },
   "outputs": [],
   "source": [
    "# dbutils commands"
   ]
  },
  {
   "cell_type": "code",
   "execution_count": 0,
   "metadata": {
    "application/vnd.databricks.v1+cell": {
     "cellMetadata": {
      "byteLimit": 2048000,
      "rowLimit": 10000
     },
     "collapsed": true,
     "inputWidgets": {},
     "nuid": "3a40f7a2-4f08-4ca7-9eba-c504b66b4d3b",
     "showTitle": false,
     "title": ""
    }
   },
   "outputs": [
    {
     "output_type": "execute_result",
     "data": {
      "text/plain": [
       "[FileInfo(path='dbfs:/FileStore/tables/b1-1.csv', name='b1-1.csv', size=18863, modificationTime=1708061368000),\n",
       " FileInfo(path='dbfs:/FileStore/tables/b1.csv', name='b1.csv', size=18863, modificationTime=1708061316000)]"
      ]
     },
     "execution_count": 43,
     "metadata": {},
     "output_type": "execute_result"
    }
   ],
   "source": [
    "dbutils.fs.ls(\"/FileStore/tables\")"
   ]
  },
  {
   "cell_type": "code",
   "execution_count": 0,
   "metadata": {
    "application/vnd.databricks.v1+cell": {
     "cellMetadata": {
      "byteLimit": 2048000,
      "rowLimit": 10000
     },
     "collapsed": true,
     "inputWidgets": {},
     "nuid": "73e3f419-7e5a-4f5d-994c-89920c868b26",
     "showTitle": false,
     "title": ""
    }
   },
   "outputs": [
    {
     "output_type": "execute_result",
     "data": {
      "text/plain": [
       "'\\ufeffcrim,zn,indus,chas,nox,rm,age,dis,rad,tax,ptratio,black,lstat,medv\\r\\n0.00632,18,2.31,0,0.538,6.575,65.2,4.09,1,296,15.3,396.9,4.98,24\\r\\n0.02731,0,7.07,0,0.469,6.421,78.9,4.9671,2,242,17.8,396.9,9.14,21.6\\r\\n0.02729,0,7.07,0,0.469,7.185,61.1,4.9671,2,242,17.8,392.83,4.03,34.7\\r\\n0.03237,0,2.18,0,0.458,6.998,45.8,6.0622,3,222,18.7,394.63,2.94,33.4\\r\\n0.06905,0,2.18,0,0.458,7.147,54.2,6.0622,3,222,18.7,396.9,5.33,36.2\\r\\n0.02985,0,2.18,0,0.458,6.43,58.7,6.0622,3,222,18.7,394.12,5.21,28.7\\r\\n0.08829,12.5,7.87,0,0.524,6.012,66.6,5.5605,5,311,15.2,395.6,12.43,22.9\\r\\n0.14455,12.5,7.87,0,0.524,6.172,96.1,5.9505,5,311,15.2,396.9,19.15,27.1\\r\\n0.21124,12.5,7.87,0,0.524,5.631,100,6.0821,5,311,15.2,386.63,29.93,16.5\\r\\n0.17004,12.5,7.87,0,0.524,6.004,85.9,6.5921,5,311,15.2,386.71,17.1,18.9\\r\\n0.22489,12.5,7.87,0,0.524,6.377,94.3,6.3467,5,311,15.2,392.52,20.45,15\\r\\n0.11747,12.5,7.87,0,0.524,6.009,82.9,6.2267,5,311,15.2,396.9,13.27,18.9\\r\\n0.09378,12.5,7.87,0,0.524,5.889,39,5.4509,5,311,15.2,390.5,15.71,21.7\\r\\n0.62976,0,8.14,0,0.538,5.949,61.8,4.7075,4,307,21,396.9,8.26,20.4\\r\\n0.63796,0,8.14,0,0.538,6.096,84.5,4.4619,4,307,21,380.02,10.26,18.2\\r\\n0.62739,0,8.14,0,0.538,5.834,56.5,4.4986,4,307,21,395.62,8.47,19.9\\r\\n1.05393,0,8.14,0,0.538,5.935,29.3,4.4986,4,307,21,386.85,6.58,23.1\\r\\n0.7842,0,8.14,0,0.538,5.99,81.7,4.2579,4,307,21,386.75,14.67,17.5\\r\\n0.80271,0,8.14,0,0.538,5.456,36.6,3.7965,4,307,21,288.99,11.69,20.2\\r\\n0.7258,0,8.14,0,0.538,5.727,69.5,3.7965,4,307,21,390.95,11.28,18.2\\r\\n1.25179,0,8.14,0,0.538,5.57,98.1,3.7979,4,307,21,376.57,21.02,13.6\\r\\n0.85204,0,8.14,0,0.538,5.965,89.2,4.0123,4,307,21,392.53,13.83,19.6\\r\\n1.23247,0,8.14,0,0.538,6.142,91.7,3.9769,4,307,21,396.9,18.72,15.2\\r\\n0.98843,0,8.14,0,0.538,5.813,100,4.0952,4,307,21,394.54,19.88,14.5\\r\\n0.75026,0,8.14,0,0.538,5.924,94.1,4.3996,4,307,21,394.33,16.3,15.6\\r\\n0.84054,0,8.14,0,0.538,5.599,85.7,4.4546,4,307,21,303.42,16.51,13.9\\r\\n0.67191,0,8.14,0,0.538,5.813,90.3,4.682,4,307,21,376.88,14.81,16.6\\r\\n0.95577,0,8.14,0,0.538,6.047,88.8,4.4534,4,307,21,306.38,17.28,14.8\\r\\n0.77299,0,8.14,0,0.538,6.495,94.4,4.4547,4,307,21,387.94,12.8,18.4\\r\\n1.00245,0,8.14,0,0.538,6.674,87.3,4.239,4,307,21,380.23,11.98,21\\r\\n1.13081,0,8.14,0,0.538,5.713,94.1,4.233,4,307,21,360.17,22.6,12.7\\r\\n1.35472,0,8.14,0,0.538,6.072,100,4.175,4,307,21,376.73,13.04,14.5\\r\\n1.38799,0,8.14,0,0.538,5.95,82,3.99,4,307,21,232.6,27.71,13.2\\r\\n1.15172,0,8.14,0,0.538,5.701,95,3.7872,4,307,21,358.77,18.35,13.1\\r\\n1.61282,0,8.14,0,0.538,6.096,96.9,3.7598,4,307,21,248.31,20.34,13.5\\r\\n0.06417,0,5.96,0,0.499,5.933,68.2,3.3603,5,279,19.2,396.9,9.68,18.9\\r\\n0.09744,0,5.96,0,0.499,5.841,61.4,3.3779,5,279,19.2,377.56,11.41,20\\r\\n0.08014,0,5.96,0,0.499,5.85,41.5,3.9342,5,279,19.2,396.9,8.77,21\\r\\n0.17505,0,5.96,0,0.499,5.966,30.2,3.8473,5,279,19.2,393.43,10.13,24.7\\r\\n0.02763,75,2.95,0,0.428,6.595,21.8,5.4011,3,252,18.3,395.63,4.32,30.8\\r\\n0.03359,75,2.95,0,0.428,7.024,15.8,5.4011,3,252,18.3,395.62,1.98,34.9\\r\\n0.12744,0,6.91,0,0.448,6.77,2.9,5.7209,3,233,17.9,385.41,4.84,26.6\\r\\n0.1415,0,6.91,0,0.448,6.169,6.6,5.7209,3,233,17.9,383.37,5.81,25.3\\r\\n0.15936,0,6.91,0,0.448,6.211,6.5,5.7209,3,233,17.9,394.46,7.44,24.7\\r\\n0.12269,0,6.91,0,0.448,6.069,40,5.7209,3,233,17.9,389.39,9.55,21.2\\r\\n0.17142,0,6.91,0,0.448,5.682,33.8,5.1004,3,233,17.9,396.9,10.21,19.3\\r\\n0.18836,0,6.91,0,0.448,5.786,33.3,5.1004,3,233,17.9,396.9,14.15,20\\r\\n0.22927,0,6.91,0,0.448,6.03,85.5,5.6894,3,233,17.9,392.74,18.8,16.6\\r\\n0.25387,0,6.91,0,0.448,5.399,95.3,5.87,3,233,17.9,396.9,30.81,14.4\\r\\n0.21977,0,6.91,0,0.448,5.602,62,6.0877,3,233,17.9,396.9,16.2,19.4\\r\\n0.08873,21,5.64,0,0.439,5.963,45.7,6.8147,4,243,16.8,395.56,13.45,19.7\\r\\n0.04337,21,5.64,0,0.439,6.115,63,6.8147,4,243,16.8,393.97,9.43,20.5\\r\\n0.0536,21,5.64,0,0.439,6.511,21.1,6.8147,4,243,16.8,396.9,5.28,25\\r\\n0.04981,21,5.64,0,0.439,5.998,21.4,6.8147,4,243,16.8,396.9,8.43,23.4\\r\\n0.0136,75,4,0,0.41,5.888,47.6,7.3197,3,469,21.1,396.9,14.8,18.9\\r\\n0.01311,90,1.22,0,0.403,7.249,21.9,8.6966,5,226,17.9,395.93,4.81,35.4\\r\\n0.02055,85,0.74,0,0.41,6.383,35.7,9.1876,2,313,17.3,396.9,5.77,24.7\\r\\n0.01432,100,1.32,0,0.411,6.816,40.5,8.3248,5,256,15.1,392.9,3.95,31.6\\r\\n0.15445,25,5.13,0,0.453,6.145,29.2,7.8148,8,284,19.7,390.68,6.86,23.3\\r\\n0.10328,25,5.13,0,0.453,5.927,47.2,6.932,8,284,19.7,396.9,9.22,19.6\\r\\n0.14932,25,5.13,0,0.453,5.741,66.2,7.2254,8,284,19.7,395.11,13.15,18.7\\r\\n0.17171,25,5.13,0,0.453,5.966,93.4,6.8185,8,284,19.7,378.08,14.44,16\\r\\n0.11027,25,5.13,0,0.453,6.456,67.8,7.2255,8,284,19.7,396.9,6.73,22.2\\r\\n0.1265,25,5.13,0,0.453,6.762,43.4,7.9809,8,284,19.7,395.58,9.5,25\\r\\n0.01951,17.5,1.38,0,0.4161,7.104,59.5,9.2229,3,216,18.6,393.24,8.05,33\\r\\n0.03584,80,3.37,0,0.398,6.29,17.8,6.6115,4,337,16.1,396.9,4.67,23.5\\r\\n0.04379,80,3.37,0,0.398,5.787,31.1,6.6115,4,337,16.1,396.9,10.24,19.4\\r\\n0.05789,12.5,6.07,0,0.409,5.878,21.4,6.498,4,345,18.9,396.21,8.1,22\\r\\n0.13554,12.5,6.07,0,0.409,5.594,36.8,6.498,4,345,18.9,396.9,13.09,17.4\\r\\n0.12816,12.5,6.07,0,0.409,5.885,33,6.498,4,345,18.9,396.9,8.79,20.9\\r\\n0.08826,0,10.81,0,0.413,6.417,6.6,5.2873,4,305,19.2,383.73,6.72,24.2\\r\\n0.15876,0,10.81,0,0.413,5.961,17.5,5.2873,4,305,19.2,376.94,9.88,21.7\\r\\n0.09164,0,10.81,0,0.413,6.065,7.8,5.2873,4,305,19.2,390.91,5.52,22.8\\r\\n0.19539,0,10.81,0,0.413,6.245,6.2,5.2873,4,305,19.2,377.17,7.54,23.4\\r\\n0.07896,0,12.83,0,0.437,6.273,6,4.2515,5,398,18.7,394.92,6.78,24.1\\r\\n0.09512,0,12.83,0,0.437,6.286,45,4.5026,5,398,18.7,383.23,8.94,21.4\\r\\n0.10153,0,12.83,0,0.437,6.279,74.5,4.0522,5,398,18.7,373.66,11.97,20\\r\\n0.08707,0,12.83,0,0.437,6.14,45.8,4.0905,5,398,18.7,386.96,10.27,20.8\\r\\n0.05646,0,12.83,0,0.437,6.232,53.7,5.0141,5,398,18.7,386.4,12.34,21.2\\r\\n0.08387,0,12.83,0,0.437,5.874,36.6,4.5026,5,398,18.7,396.06,9.1,20.3\\r\\n0.04113,25,4.86,0,0.426,6.727,33.5,5.4007,4,281,19,396.9,5.29,28\\r\\n0.04462,25,4.86,0,0.426,6.619,70.4,5.4007,4,281,19,395.63,7.22,23.9\\r\\n0.03659,25,4.86,0,0.426,6.302,32.2,5.4007,4,281,19,396.9,6.72,24.8\\r\\n0.03551,25,4.86,0,0.426,6.167,46.7,5.4007,4,281,19,390.64,7.51,22.9\\r\\n0.05059,0,4.49,0,0.449,6.389,48,4.7794,3,247,18.5,396.9,9.62,23.9\\r\\n0.05735,0,4.49,0,0.449,6.63,56.1,4.4377,3,247,18.5,392.3,6.53,26.6\\r\\n0.05188,0,4.49,0,0.449,6.015,45.1,4.4272,3,247,18.5,395.99,12.86,22.5\\r\\n0.07151,0,4.49,0,0.449,6.121,56.8,3.7476,3,247,18.5,395.15,8.44,22.2\\r\\n0.0566,0,3.41,0,0.489,7.007,86.3,3.4217,2,270,17.8,396.9,5.5,23.6\\r\\n0.05302,0,3.41,0,0.489,7.079,63.1,3.4145,2,270,17.8,396.06,5.7,28.7\\r\\n0.04684,0,3.41,0,0.489,6.417,66.1,3.0923,2,270,17.8,392.18,8.81,22.6\\r\\n0.03932,0,3.41,0,0.489,6.405,73.9,3.0921,2,270,17.8,393.55,8.2,22\\r\\n0.04203,28,15.04,0,0.464,6.442,53.6,3.6659,4,270,18.2,395.01,8.16,22.9\\r\\n0.02875,28,15.04,0,0.464,6.211,28.9,3.6659,4,270,18.2,396.33,6.21,25\\r\\n0.04294,28,15.04,0,0.464,6.249,77.3,3.615,4,270,18.2,396.9,10.59,20.6\\r\\n0.12204,0,2.89,0,0.445,6.625,57.8,3.4952,2,276,18,357.98,6.65,28.4\\r\\n0.11504,0,2.89,0,0.445,6.163,69.6,3.4952,2,276,18,391.83,11.34,21.4\\r\\n0.12083,0,2.89,0,0.445,8.069,76,3.4952,2,276,18,396.9,4.21,38.7\\r\\n0.08187,0,2.89,0,0.445,7.82,36.9,3.4952,2,276,18,393.53,3.57,43.8\\r\\n0.0686,0,2.89,0,0.445,7.416,62.5,3.4952,2,276,18,396.9,6.19,33.2\\r\\n0.14866,0,8.56,0,0.52,6.727,79.9,2.7778,5,384,20.9,394.76,9.42,27.5\\r\\n0.11432,0,8.56,0,0.52,6.781,71.3,2.8561,5,384,20.9,395.58,7.67,26.5\\r\\n0.22876,0,8.56,0,0.52,6.405,85.4,2.7147,5,384,20.9,70.8,10.63,18.6\\r\\n0.21161,0,8.56,0,0.52,6.137,87.4,2.7147,5,384,20.9,394.47,13.44,19.3\\r\\n0.1396,0,8.56,0,0.52,6.167,90,2.421,5,384,20.9,392.69,12.33,20.1\\r\\n0.13262,0,8.56,0,0.52,5.851,96.7,2.1069,5,384,20.9,394.05,16.47,19.5\\r\\n0.1712,0,8.56,0,0.52,5.836,91.9,2.211,5,384,20.9,395.67,18.66,19.5\\r\\n0.13117,0,8.56,0,0.52,6.127,85.2,2.1224,5,384,20.9,387.69,14.09,20.4\\r\\n0.12802,0,8.56,0,0.52,6.474,97.1,2.4329,5,384,20.9,395.24,12.27,19.8\\r\\n0.26363,0,8.56,0,0.52,6.229,91.2,2.5451,5,384,20.9,391.23,15.55,19.4\\r\\n0.10793,0,8.56,0,0.52,6.195,54.4,2.7778,5,384,20.9,393.49,13,21.7\\r\\n0.10084,0,10.01,0,0.547,6.715,81.6,2.6775,6,432,17.8,395.59,10.16,22.8\\r\\n0.12329,0,10.01,0,0.547,5.913,92.9,2.3534,6,432,17.8,394.95,16.21,18.8\\r\\n0.22212,0,10.01,0,0.547,6.092,95.4,2.548,6,432,17.8,396.9,17.09,18.7\\r\\n0.14231,0,10.01,0,0.547,6.254,84.2,2.2565,6,432,17.8,388.74,10.45,18.5\\r\\n0.17134,0,10.01,0,0.547,5.928,88.2,2.4631,6,432,17.8,344.91,15.76,18.3\\r\\n0.13158,0,10.01,0,0.547,6.176,72.5,2.7301,6,432,17.8,393.3,12.04,21.2\\r\\n0.15098,0,10.01,0,0.547,6.021,82.6,2.7474,6,432,17.8,394.51,10.3,19.2\\r\\n0.13058,0,10.01,0,0.547,5.872,73.1,2.4775,6,432,17.8,338.63,15.37,20.4\\r\\n0.14476,0,10.01,0,0.547,5.731,65.2,2.7592,6,432,17.8,391.5,13.61,19.3\\r\\n0.06899,0,25.65,0,0.581,5.87,69.7,2.2577,2,188,19.1,389.15,14.37,22\\r\\n0.07165,0,25.65,0,0.581,6.004,84.1,2.1974,2,188,19.1,377.67,14.27,20.3\\r\\n0.09299,0,25.65,0,0.581,5.961,92.9,2.0869,2,188,19.1,378.09,17.93,20.5\\r\\n0.15038,0,25.65,0,0.581,5.856,97,1.9444,2,188,19.1,370.31,25.41,17.3\\r\\n0.09849,0,25.65,0,0.581,5.879,95.8,2.0063,2,188,19.1,379.38,17.58,18.8\\r\\n0.16902,0,25.65,0,0.581,5.986,88.4,1.9929,2,188,19.1,385.02,14.81,21.4\\r\\n0.38735,0,25.65,0,0.581,5.613,95.6,1.7572,2,188,19.1,359.29,27.26,15.7\\r\\n0.25915,0,21.89,0,0.624,5.693,96,1.7883,4,437,21.2,392.11,17.19,16.2\\r\\n0.32543,0,21.89,0,0.624,6.431,98.8,1.8125,4,437,21.2,396.9,15.39,18\\r\\n0.88125,0,21.89,0,0.624,5.637,94.7,1.9799,4,437,21.2,396.9,18.34,14.3\\r\\n0.34006,0,21.89,0,0.624,6.458,98.9,2.1185,4,437,21.2,395.04,12.6,19.2\\r\\n1.19294,0,21.89,0,0.624,6.326,97.7,2.271,4,437,21.2,396.9,12.26,19.6\\r\\n0.59005,0,21.89,0,0.624,6.372,97.9,2.3274,4,437,21.2,385.76,11.12,23\\r\\n0.32982,0,21.89,0,0.624,5.822,95.4,2.4699,4,437,21.2,388.69,15.03,18.4\\r\\n0.97617,0,21.89,0,0.624,5.757,98.4,2.346,4,437,21.2,262.76,17.31,15.6\\r\\n0.55778,0,21.89,0,0.624,6.335,98.2,2.1107,4,437,21.2,394.67,16.96,18.1\\r\\n0.32264,0,21.89,0,0.624,5.942,93.5,1.9669,4,437,21.2,378.25,16.9,17.4\\r\\n0.35233,0,21.89,0,0.624,6.454,98.4,1.8498,4,437,21.2,394.08,14.59,17.1\\r\\n0.2498,0,21.89,0,0.624,5.857,98.2,1.6686,4,437,21.2,392.04,21.32,13.3\\r\\n0.54452,0,21.89,0,0.624,6.151,97.9,1.6687,4,437,21.2,396.9,18.46,17.8\\r\\n0.2909,0,21.89,0,0.624,6.174,93.6,1.6119,4,437,21.2,388.08,24.16,14\\r\\n1.62864,0,21.89,0,0.624,5.019,100,1.4394,4,437,21.2,396.9,34.41,14.4\\r\\n3.32105,0,19.58,1,0.871,5.403,100,1.3216,5,403,14.7,396.9,26.82,13.4\\r\\n4.0974,0,19.58,0,0.871,5.468,100,1.4118,5,403,14.7,396.9,26.42,15.6\\r\\n2.77974,0,19.58,0,0.871,4.903,97.8,1.3459,5,403,14.7,396.9,29.29,11.8\\r\\n2.37934,0,19.58,0,0.871,6.13,100,1.4191,5,403,14.7,172.91,27.8,13.8\\r\\n2.15505,0,19.58,0,0.871,5.628,100,1.5166,5,403,14.7,169.27,16.65,15.6\\r\\n2.36862,0,19.58,0,0.871,4.926,95.7,1.4608,5,403,14.7,391.71,29.53,14.6\\r\\n2.33099,0,19.58,0,0.871,5.186,93.8,1.5296,5,403,14.7,356.99,28.32,17.8\\r\\n2.73397,0,19.58,0,0.871,5.597,94.9,1.5257,5,403,14.7,351.85,21.45,15.4\\r\\n1.6566,0,19.58,0,0.871,6.122,97.3,1.618,5,403,14.7,372.8,14.1,21.5\\r\\n1.49632,0,19.58,0,0.871,5.404,100,1.5916,5,403,14.7,341.6,13.28,19.6\\r\\n1.12658,0,19.58,1,0.871,5.012,88,1.6102,5,403,14.7,343.28,12.12,15.3\\r\\n2.14918,0,19.58,0,0.871,5.709,98.5,1.6232,5,403,14.7,261.95,15.79,19.4\\r\\n1.41385,0,19.58,1,0.871,6.129,96,1.7494,5,403,14.7,321.02,15.12,17\\r\\n3.53501,0,19.58,1,0.871,6.152,82.6,1.7455,5,403,14.7,88.01,15.02,15.6\\r\\n2.44668,0,19.58,0,0.871,5.272,94,1.7364,5,403,14.7,88.63,16.14,13.1\\r\\n1.22358,0,19.58,0,0.605,6.943,97.4,1.8773,5,403,14.7,363.43,4.59,41.3\\r\\n1.34284,0,19.58,0,0.605,6.066,100,1.7573,5,403,14.7,353.89,6.43,24.3\\r\\n1.42502,0,19.58,0,0.871,6.51,100,1.7659,5,403,14.7,364.31,7.39,23.3\\r\\n1.27346,0,19.58,1,0.605,6.25,92.6,1.7984,5,403,14.7,338.92,5.5,27\\r\\n1.46336,0,19.58,0,0.605,7.489,90.8,1.9709,5,403,14.7,374.43,1.73,50\\r\\n1.83377,0,19.58,1,0.605,7.802,98.2,2.0407,5,403,14.7,389.61,1.92,50\\r\\n1.51902,0,19.58,1,0.605,8.375,93.9,2.162,5,403,14.7,388.45,3.32,50\\r\\n2.24236,0,19.58,0,0.605,5.854,91.8,2.422,5,403,14.7,395.11,11.64,22.7\\r\\n2.924,0,19.58,0,0.605,6.101,93,2.2834,5,403,14.7,240.16,9.81,25\\r\\n2.01019,0,19.58,0,0.605,7.929,96.2,2.0459,5,403,14.7,369.3,3.7,50\\r\\n1.80028,0,19.58,0,0.605,5.877,79.2,2.4259,5,403,14.7,227.61,12.14,23.8\\r\\n2.3004,0,19.58,0,0.605,6.319,96.1,2.1,5,403,14.7,297.09,11.1,23.8\\r\\n2.44953,0,19.58,0,0.605,6.402,95.2,2.2625,5,403,14.7,330.04,11.32,22.3\\r\\n1.20742,0,19.58,0,0.605,5.875,94.6,2.4259,5,403,14.7,292.29,14.43,17.4\\r\\n2.3139,0,19.58,0,0.605,5.88,97.3,2.3887,5,403,14.7,348.13,12.03,19.1\\r\\n0.13914,0,4.05,0,0.51,5.572,88.5,2.5961,5,296,16.6,396.9,14.69,23.1\\r\\n0.09178,0,4.05,0,0.51,6.416,84.1,2.6463,5,296,16.6,395.5,9.04,23.6\\r\\n0.08447,0,4.05,0,0.51,5.859,68.7,2.7019,5,296,16.6,393.23,9.64,22.6\\r\\n0.06664,0,4.05,0,0.51,6.546,33.1,3.1323,5,296,16.6,390.96,5.33,29.4\\r\\n0.07022,0,4.05,0,0.51,6.02,47.2,3.5549,5,296,16.6,393.23,10.11,23.2\\r\\n0.05425,0,4.05,0,0.51,6.315,73.4,3.3175,5,296,16.6,395.6,6.29,24.6\\r\\n0.06642,0,4.05,0,0.51,6.86,74.4,2.9153,5,296,16.6,391.27,6.92,29.9\\r\\n0.0578,0,2.46,0,0.488,6.98,58.4,2.829,3,193,17.8,396.9,5.04,37.2\\r\\n0.06588,0,2.46,0,0.488,7.765,83.3,2.741,3,193,17.8,395.56,7.56,39.8\\r\\n0.06888,0,2.46,0,0.488,6.144,62.2,2.5979,3,193,17.8,396.9,9.45,36.2\\r\\n0.09103,0,2.46,0,0.488,7.155,92.2,2.7006,3,193,17.8,394.12,4.82,37.9\\r\\n0.10008,0,2.46,0,0.488,6.563,95.6,2.847,3,193,17.8,396.9,5.68,32.5\\r\\n0.08308,0,2.46,0,0.488,5.604,89.8,2.9879,3,193,17.8,391,13.98,26.4\\r\\n0.06047,0,2.46,0,0.488,6.153,68.8,3.2797,3,193,17.8,387.11,13.15,29.6\\r\\n0.05602,0,2.46,0,0.488,7.831,53.6,3.1992,3,193,17.8,392.63,4.45,50\\r\\n0.07875,45,3.44,0,0.437,6.782,41.1,3.7886,5,398,15.2,393.87,6.68,32\\r\\n0.12579,45,3.44,0,0.437,6.556,29.1,4.5667,5,398,15.2,382.84,4.56,29.8\\r\\n0.0837,45,3.44,0,0.437,7.185,38.9,4.5667,5,398,15.2,396.9,5.39,34.9\\r\\n0.09068,45,3.44,0,0.437,6.951,21.5,6.4798,5,398,15.2,377.68,5.1,37\\r\\n0.06911,45,3.44,0,0.437,6.739,30.8,6.4798,5,398,15.2,389.71,4.69,30.5\\r\\n0.08664,45,3.44,0,0.437,7.178,26.3,6.4798,5,398,15.2,390.49,2.87,36.4\\r\\n0.02187,60,2.93,0,0.401,6.8,9.9,6.2196,1,265,15.6,393.37,5.03,31.1\\r\\n0.01439,60,2.93,0,0.401,6.604,18.8,6.2196,1,265,15.6,376.7,4.38,29.1\\r\\n0.01381,80,0.46,0,0.422,7.875,32,5.6484,4,255,14.4,394.23,2.97,50\\r\\n0.04011,80,1.52,0,0.404,7.287,34.1,7.309,2,329,12.6,396.9,4.08,33.3\\r\\n0.04666,80,1.52,0,0.404,7.107,36.6,7.309,2,329,12.6,354.31,8.61,30.3\\r\\n0.03768,80,1.52,0,0.404,7.274,38.3,7.309,2,329,12.6,392.2,6.62,34.6\\r\\n0.0315,95,1.47,0,0.403,6.975,15.3,7.6534,3,402,17,396.9,4.56,34.9\\r\\n0.01778,95,1.47,0,0.403,7.135,13.9,7.6534,3,402,17,384.3,4.45,32.9\\r\\n0.03445,82.5,2.03,0,0.415,6.162,38.4,6.27,2,348,14.7,393.77,7.43,24.1\\r\\n0.02177,82.5,2.03,0,0.415,7.61,15.7,6.27,2,348,14.7,395.38,3.11,42.3\\r\\n0.0351,95,2.68,0,0.4161,7.853,33.2,5.118,4,224,14.7,392.78,3.81,48.5\\r\\n0.02009,95,2.68,0,0.4161,8.034,31.9,5.118,4,224,14.7,390.55,2.88,50\\r\\n0.13642,0,10.59,0,0.489,5.891,22.3,3.9454,4,277,18.6,396.9,10.87,22.6\\r\\n0.22969,0,10.59,0,0.489,6.326,52.5,4.3549,4,277,18.6,394.87,10.97,24.4\\r\\n0.25199,0,10.59,0,0.489,5.783,72.7,4.3549,4,277,18.6,389.43,18.06,22.5\\r\\n0.13587,0,10.59,1,0.489,6.064,59.1,4.2392,4,277,18.6,381.32,14.66,24.4\\r\\n0.43571,0,10.59,1,0.489,5.344,100,3.875,4,277,18.6,396.9,23.09,20\\r\\n0.17446,0,10.59,1,0.489,5.96,92.1,3.8771,4,277,18.6,393.25,17.27,21.7\\r\\n0.37578,0,10.59,1,0.489,5.404,88.6,3.665,4,277,18.6,395.24,23.98,19.3\\r\\n0.21719,0,10.59,1,0.489,5.807,53.8,3.6526,4,277,18.6,390.94,16.03,22.4\\r\\n0.14052,0,10.59,0,0.489,6.375,32.3,3.9454,4,277,18.6,385.81,9.38,28.1\\r\\n0.28955,0,10.59,0,0.489,5.412,9.8,3.5875,4,277,18.6,348.93,29.55,23.7\\r\\n0.19802,0,10.59,0,0.489,6.182,42.4,3.9454,4,277,18.6,393.63,9.47,25\\r\\n0.0456,0,13.89,1,0.55,5.888,56,3.1121,5,276,16.4,392.8,13.51,23.3\\r\\n0.07013,0,13.89,0,0.55,6.642,85.1,3.4211,5,276,16.4,392.78,9.69,28.7\\r\\n0.11069,0,13.89,1,0.55,5.951,93.8,2.8893,5,276,16.4,396.9,17.92,21.5\\r\\n0.11425,0,13.89,1,0.55,6.373,92.4,3.3633,5,276,16.4,393.74,10.5,23\\r\\n0.35809,0,6.2,1,0.507,6.951,88.5,2.8617,8,307,17.4,391.7,9.71,26.7\\r\\n0.40771,0,6.2,1,0.507,6.164,91.3,3.048,8,307,17.4,395.24,21.46,21.7\\r\\n0.62356,0,6.2,1,0.507,6.879,77.7,3.2721,8,307,17.4,390.39,9.93,27.5\\r\\n0.6147,0,6.2,0,0.507,6.618,80.8,3.2721,8,307,17.4,396.9,7.6,30.1\\r\\n0.31533,0,6.2,0,0.504,8.266,78.3,2.8944,8,307,17.4,385.05,4.14,44.8\\r\\n0.52693,0,6.2,0,0.504,8.725,83,2.8944,8,307,17.4,382,4.63,50\\r\\n0.38214,0,6.2,0,0.504,8.04,86.5,3.2157,8,307,17.4,387.38,3.13,37.6\\r\\n0.41238,0,6.2,0,0.504,7.163,79.9,3.2157,8,307,17.4,372.08,6.36,31.6\\r\\n0.29819,0,6.2,0,0.504,7.686,17,3.3751,8,307,17.4,377.51,3.92,46.7\\r\\n0.44178,0,6.2,0,0.504,6.552,21.4,3.3751,8,307,17.4,380.34,3.76,31.5\\r\\n0.537,0,6.2,0,0.504,5.981,68.1,3.6715,8,307,17.4,378.35,11.65,24.3\\r\\n0.46296,0,6.2,0,0.504,7.412,76.9,3.6715,8,307,17.4,376.14,5.25,31.7\\r\\n0.57529,0,6.2,0,0.507,8.337,73.3,3.8384,8,307,17.4,385.91,2.47,41.7\\r\\n0.33147,0,6.2,0,0.507,8.247,70.4,3.6519,8,307,17.4,378.95,3.95,48.3\\r\\n0.44791,0,6.2,1,0.507,6.726,66.5,3.6519,8,307,17.4,360.2,8.05,29\\r\\n0.33045,0,6.2,0,0.507,6.086,61.5,3.6519,8,307,17.4,376.75,10.88,24\\r\\n0.52058,0,6.2,1,0.507,6.631,76.5,4.148,8,307,17.4,388.45,9.54,25.1\\r\\n0.51183,0,6.2,0,0.507,7.358,71.6,4.148,8,307,17.4,390.07,4.73,31.5\\r\\n0.08244,30,4.93,0,0.428,6.481,18.5,6.1899,6,300,16.6,379.41,6.36,23.7\\r\\n0.09252,30,4.93,0,0.428,6.606,42.2,6.1899,6,300,16.6,383.78,7.37,23.3\\r\\n0.11329,30,4.93,0,0.428,6.897,54.3,6.3361,6,300,16.6,391.25,11.38,22\\r\\n0.10612,30,4.93,0,0.428,6.095,65.1,6.3361,6,300,16.6,394.62,12.4,20.1\\r\\n0.1029,30,4.93,0,0.428,6.358,52.9,7.0355,6,300,16.6,372.75,11.22,22.2\\r\\n0.12757,30,4.93,0,0.428,6.393,7.8,7.0355,6,300,16.6,374.71,5.19,23.7\\r\\n0.20608,22,5.86,0,0.431,5.593,76.5,7.9549,7,330,19.1,372.49,12.5,17.6\\r\\n0.19133,22,5.86,0,0.431,5.605,70.2,7.9549,7,330,19.1,389.13,18.46,18.5\\r\\n0.33983,22,5.86,0,0.431,6.108,34.9,8.0555,7,330,19.1,390.18,9.16,24.3\\r\\n0.19657,22,5.86,0,0.431,6.226,79.2,8.0555,7,330,19.1,376.14,10.15,20.5\\r\\n0.16439,22,5.86,0,0.431,6.433,49.1,7.8265,7,330,19.1,374.71,9.52,24.5\\r\\n0.19073,22,5.86,0,0.431,6.718,17.5,7.8265,7,330,19.1,393.74,6.56,26.2\\r\\n0.1403,22,5.86,0,0.431,6.487,13,7.3967,7,330,19.1,396.28,5.9,24.4\\r\\n0.21409,22,5.86,0,0.431,6.438,8.9,7.3967,7,330,19.1,377.07,3.59,24.8\\r\\n0.08221,22,5.86,0,0.431,6.957,6.8,8.9067,7,330,19.1,386.09,3.53,29.6\\r\\n0.36894,22,5.86,0,0.431,8.259,8.4,8.9067,7,330,19.1,396.9,3.54,42.8\\r\\n0.04819,80,3.64,0,0.392,6.108,32,9.2203,1,315,16.4,392.89,6.57,21.9\\r\\n0.03548,80,3.64,0,0.392,5.876,19.1,9.2203,1,315,16.4,395.18,9.25,20.9\\r\\n0.01538,90,3.75,0,0.394,7.454,34.2,6.3361,3,244,15.9,386.34,3.11,44\\r\\n0.61154,20,3.97,0,0.647,8.704,86.9,1.801,5,264,13,389.7,5.12,50\\r\\n0.66351,20,3.97,0,0.647,7.333,100,1.8946,5,264,13,383.29,7.79,36\\r\\n0.65665,20,3.97,0,0.647,6.842,100,2.0107,5,264,13,391.93,6.9,30.1\\r\\n0.54011,20,3.97,0,0.647,7.203,81.8,2.1121,5,264,13,392.8,9.59,33.8\\r\\n0.53412,20,3.97,0,0.647,7.52,89.4,2.1398,5,264,13,388.37,7.26,43.1\\r\\n0.52014,20,3.97,0,0.647,8.398,91.5,2.2885,5,264,13,386.86,5.91,48.8\\r\\n0.82526,20,3.97,0,0.647,7.327,94.5,2.0788,5,264,13,393.42,11.25,31\\r\\n0.55007,20,3.97,0,0.647,7.206,91.6,1.9301,5,264,13,387.89,8.1,36.5\\r\\n0.76162,20,3.97,0,0.647,5.56,62.8,1.9865,5,264,13,392.4,10.45,22.8\\r\\n0.7857,20,3.97,0,0.647,7.014,84.6,2.1329,5,264,13,384.07,14.79,30.7\\r\\n0.57834,20,3.97,0,0.575,8.297,67,2.4216,5,264,13,384.54,7.44,50\\r\\n0.5405,20,3.97,0,0.575,7.47,52.6,2.872,5,264,13,390.3,3.16,43.5\\r\\n0.09065,20,6.96,1,0.464,5.92,61.5,3.9175,3,223,18.6,391.34,13.65,20.7\\r\\n0.29916,20,6.96,0,0.464,5.856,42.1,4.429,3,223,18.6,388.65,13,21.1\\r\\n'"
      ]
     },
     "execution_count": 46,
     "metadata": {},
     "output_type": "execute_result"
    }
   ],
   "source": [
    "dbutils.fs.head(\"/FileStore/tables/b1.csv\")"
   ]
  },
  {
   "cell_type": "code",
   "execution_count": 0,
   "metadata": {
    "application/vnd.databricks.v1+cell": {
     "cellMetadata": {
      "byteLimit": 2048000,
      "rowLimit": 10000
     },
     "collapsed": true,
     "inputWidgets": {},
     "nuid": "c3372bff-82ba-4e47-94ce-94b35cf48861",
     "showTitle": false,
     "title": ""
    }
   },
   "outputs": [
    {
     "output_type": "display_data",
     "data": {
      "text/html": [
       "<div class = \"ansiout\">\n",
       "This module provides various utilities for users to interact with the rest of Databricks.\n",
       "  <h3></h3><b>credentials: DatabricksCredentialUtils</b> -> Utilities for interacting with credentials within notebooks<br /><b>data: DataUtils</b> -> Utilities for understanding and interacting with datasets (EXPERIMENTAL)<br /><b>fs: DbfsUtils</b> -> Manipulates the Databricks filesystem (DBFS) from the console<br /><b>jobs: JobsUtils</b> -> Utilities for leveraging jobs features<br /><b>library: LibraryUtils</b> -> Utilities for session isolated libraries<br /><b>meta: MetaUtils</b> -> Methods to hook into the compiler (EXPERIMENTAL)<br /><b>notebook: NotebookUtils</b> -> Utilities for the control flow of a notebook (EXPERIMENTAL)<br /><b>preview: Preview</b> -> Utilities under preview category<br /><b>secrets: SecretUtils</b> -> Provides utilities for leveraging secrets within notebooks<br /><b>widgets: WidgetsUtils</b> -> Methods to create and get bound value of input widgets inside notebooks<br /><br /></div>"
      ]
     },
     "metadata": {},
     "output_type": "display_data"
    }
   ],
   "source": [
    "dbutils.help()"
   ]
  },
  {
   "cell_type": "code",
   "execution_count": 0,
   "metadata": {
    "application/vnd.databricks.v1+cell": {
     "cellMetadata": {
      "byteLimit": 2048000,
      "rowLimit": 10000
     },
     "collapsed": true,
     "inputWidgets": {},
     "nuid": "cafc46c1-5e86-4756-8b59-a163e6471042",
     "showTitle": false,
     "title": ""
    }
   },
   "outputs": [
    {
     "output_type": "display_data",
     "data": {
      "text/html": [
       "<div class = \"ansiout\"><b>dbutils.fs</b> provides utilities for working with FileSystems. Most methods in\n",
       "this package can take either a DBFS path (e.g., \"/foo\" or \"dbfs:/foo\"), or\n",
       "another FileSystem URI.\n",
       "\n",
       "For more info about a method, use <b>dbutils.fs.help(\"methodName\")</b>.\n",
       "\n",
       "In notebooks, you can also use the %fs shorthand to access DBFS. The %fs shorthand maps\n",
       "straightforwardly onto dbutils calls. For example, \"%fs head --maxBytes=10000 /file/path\"\n",
       "translates into \"dbutils.fs.head(\"/file/path\", maxBytes = 10000)\".\n",
       "    <h3>mount</h3><b>mount(source: String, mountPoint: String, encryptionType: String = \"\", owner: String = null, extraConfigs: Map = Map.empty[String, String]): boolean</b> -> Mounts the given source directory into DBFS at the given mount point<br /><b>mounts: Seq</b> -> Displays information about what is mounted within DBFS<br /><b>refreshMounts: boolean</b> -> Forces all machines in this cluster to refresh their mount cache, ensuring they receive the most recent information<br /><b>unmount(mountPoint: String): boolean</b> -> Deletes a DBFS mount point<br /><b>updateMount(source: String, mountPoint: String, encryptionType: String = \"\", owner: String = null, extraConfigs: Map = Map.empty[String, String]): boolean</b> -> Similar to mount(), but updates an existing mount point (if present) instead of creating a new one<br /><br /><h3>fsutils</h3><b>cp(from: String, to: String, recurse: boolean = false): boolean</b> -> Copies a file or directory, possibly across FileSystems<br /><b>head(file: String, maxBytes: int = 65536): String</b> -> Returns up to the first 'maxBytes' bytes of the given file as a String encoded in UTF-8<br /><b>ls(dir: String): Seq</b> -> Lists the contents of a directory<br /><b>mkdirs(dir: String): boolean</b> -> Creates the given directory if it does not exist, also creating any necessary parent directories<br /><b>mv(from: String, to: String, recurse: boolean = false): boolean</b> -> Moves a file or directory, possibly across FileSystems<br /><b>put(file: String, contents: String, overwrite: boolean = false): boolean</b> -> Writes the given String out to a file, encoded in UTF-8<br /><b>rm(dir: String, recurse: boolean = false): boolean</b> -> Removes a file or directory<br /><br /></div>"
      ]
     },
     "metadata": {},
     "output_type": "display_data"
    }
   ],
   "source": [
    "dbutils.fs.help()"
   ]
  },
  {
   "cell_type": "code",
   "execution_count": 0,
   "metadata": {
    "application/vnd.databricks.v1+cell": {
     "cellMetadata": {
      "byteLimit": 2048000,
      "rowLimit": 10000
     },
     "inputWidgets": {},
     "nuid": "1fa84145-1701-4976-b910-716a7dae19de",
     "showTitle": false,
     "title": ""
    }
   },
   "outputs": [
    {
     "output_type": "execute_result",
     "data": {
      "text/plain": [
       "True"
      ]
     },
     "execution_count": 57,
     "metadata": {},
     "output_type": "execute_result"
    }
   ],
   "source": [
    "dbutils.fs.mkdirs(\"mydata\")"
   ]
  },
  {
   "cell_type": "code",
   "execution_count": 0,
   "metadata": {
    "application/vnd.databricks.v1+cell": {
     "cellMetadata": {
      "byteLimit": 2048000,
      "rowLimit": 10000
     },
     "collapsed": true,
     "inputWidgets": {},
     "nuid": "0a073e2b-8aed-4483-b30d-ce606f98f87f",
     "showTitle": false,
     "title": ""
    }
   },
   "outputs": [
    {
     "output_type": "display_data",
     "data": {
      "text/html": [
       "<style scoped>\n",
       "  .table-result-container {\n",
       "    max-height: 300px;\n",
       "    overflow: auto;\n",
       "  }\n",
       "  table, th, td {\n",
       "    border: 1px solid black;\n",
       "    border-collapse: collapse;\n",
       "  }\n",
       "  th, td {\n",
       "    padding: 5px;\n",
       "  }\n",
       "  th {\n",
       "    text-align: left;\n",
       "  }\n",
       "</style><div class='table-result-container'><table class='table-result'><thead style='background-color: white'><tr><th>path</th><th>name</th><th>size</th><th>modificationTime</th></tr></thead><tbody><tr><td>dbfs:/FileStore/</td><td>FileStore/</td><td>0</td><td>1708061316000</td></tr><tr><td>dbfs:/Volume/</td><td>Volume/</td><td>0</td><td>0</td></tr><tr><td>dbfs:/Volumes/</td><td>Volumes/</td><td>0</td><td>0</td></tr><tr><td>dbfs:/databricks-datasets/</td><td>databricks-datasets/</td><td>0</td><td>0</td></tr><tr><td>dbfs:/databricks-results/</td><td>databricks-results/</td><td>0</td><td>0</td></tr><tr><td>dbfs:/mydata/</td><td>mydata/</td><td>0</td><td>1708065444000</td></tr><tr><td>dbfs:/user/</td><td>user/</td><td>0</td><td>1708061216000</td></tr><tr><td>dbfs:/volume/</td><td>volume/</td><td>0</td><td>0</td></tr><tr><td>dbfs:/volumes/</td><td>volumes/</td><td>0</td><td>0</td></tr></tbody></table></div>"
      ]
     },
     "metadata": {
      "application/vnd.databricks.v1+output": {
       "addedWidgets": {},
       "aggData": [],
       "aggError": "",
       "aggOverflow": false,
       "aggSchema": [],
       "aggSeriesLimitReached": false,
       "aggType": "",
       "arguments": {},
       "columnCustomDisplayInfos": {},
       "data": [
        [
         "dbfs:/FileStore/",
         "FileStore/",
         0,
         1708061316000
        ],
        [
         "dbfs:/Volume/",
         "Volume/",
         0,
         0
        ],
        [
         "dbfs:/Volumes/",
         "Volumes/",
         0,
         0
        ],
        [
         "dbfs:/databricks-datasets/",
         "databricks-datasets/",
         0,
         0
        ],
        [
         "dbfs:/databricks-results/",
         "databricks-results/",
         0,
         0
        ],
        [
         "dbfs:/mydata/",
         "mydata/",
         0,
         1708065444000
        ],
        [
         "dbfs:/user/",
         "user/",
         0,
         1708061216000
        ],
        [
         "dbfs:/volume/",
         "volume/",
         0,
         0
        ],
        [
         "dbfs:/volumes/",
         "volumes/",
         0,
         0
        ]
       ],
       "datasetInfos": [],
       "dbfsResultPath": null,
       "isJsonSchema": true,
       "metadata": {
        "isDbfsCommandResult": false
       },
       "overflow": false,
       "plotOptions": {
        "customPlotOptions": {},
        "displayType": "table",
        "pivotAggregation": null,
        "pivotColumns": null,
        "xColumns": null,
        "yColumns": null
       },
       "removedWidgets": [],
       "schema": [
        {
         "metadata": "{}",
         "name": "path",
         "type": "\"string\""
        },
        {
         "metadata": "{}",
         "name": "name",
         "type": "\"string\""
        },
        {
         "metadata": "{}",
         "name": "size",
         "type": "\"long\""
        },
        {
         "metadata": "{}",
         "name": "modificationTime",
         "type": "\"long\""
        }
       ],
       "type": "table"
      }
     },
     "output_type": "display_data"
    }
   ],
   "source": [
    "%fs ls"
   ]
  },
  {
   "cell_type": "code",
   "execution_count": 0,
   "metadata": {
    "application/vnd.databricks.v1+cell": {
     "cellMetadata": {
      "byteLimit": 2048000,
      "rowLimit": 10000
     },
     "inputWidgets": {},
     "nuid": "939cffbb-4b3e-4ec9-9027-5d6128241703",
     "showTitle": false,
     "title": ""
    }
   },
   "outputs": [
    {
     "output_type": "execute_result",
     "data": {
      "text/plain": [
       "True"
      ]
     },
     "execution_count": 58,
     "metadata": {},
     "output_type": "execute_result"
    }
   ],
   "source": [
    "dbutils.fs.cp(\"/FileStore/tables/b1.csv\",\"/FileStore/mydata\")"
   ]
  },
  {
   "cell_type": "code",
   "execution_count": 0,
   "metadata": {
    "application/vnd.databricks.v1+cell": {
     "cellMetadata": {
      "byteLimit": 2048000,
      "rowLimit": 10000
     },
     "collapsed": true,
     "inputWidgets": {},
     "nuid": "735d7144-b05e-4884-be63-079cdcac2acc",
     "showTitle": false,
     "title": ""
    }
   },
   "outputs": [
    {
     "output_type": "display_data",
     "data": {
      "text/html": [
       "<style scoped>\n",
       "  .table-result-container {\n",
       "    max-height: 300px;\n",
       "    overflow: auto;\n",
       "  }\n",
       "  table, th, td {\n",
       "    border: 1px solid black;\n",
       "    border-collapse: collapse;\n",
       "  }\n",
       "  th, td {\n",
       "    padding: 5px;\n",
       "  }\n",
       "  th {\n",
       "    text-align: left;\n",
       "  }\n",
       "</style><div class='table-result-container'><table class='table-result'><thead style='background-color: white'><tr><th>path</th><th>name</th><th>size</th><th>modificationTime</th></tr></thead><tbody><tr><td>dbfs:/FileStore/</td><td>FileStore/</td><td>0</td><td>1708061316000</td></tr><tr><td>dbfs:/Volume/</td><td>Volume/</td><td>0</td><td>0</td></tr><tr><td>dbfs:/Volumes/</td><td>Volumes/</td><td>0</td><td>0</td></tr><tr><td>dbfs:/databricks-datasets/</td><td>databricks-datasets/</td><td>0</td><td>0</td></tr><tr><td>dbfs:/databricks-results/</td><td>databricks-results/</td><td>0</td><td>0</td></tr><tr><td>dbfs:/mydata/</td><td>mydata/</td><td>0</td><td>1708065444000</td></tr><tr><td>dbfs:/user/</td><td>user/</td><td>0</td><td>1708061216000</td></tr><tr><td>dbfs:/volume/</td><td>volume/</td><td>0</td><td>0</td></tr><tr><td>dbfs:/volumes/</td><td>volumes/</td><td>0</td><td>0</td></tr></tbody></table></div>"
      ]
     },
     "metadata": {
      "application/vnd.databricks.v1+output": {
       "addedWidgets": {},
       "aggData": [],
       "aggError": "",
       "aggOverflow": false,
       "aggSchema": [],
       "aggSeriesLimitReached": false,
       "aggType": "",
       "arguments": {},
       "columnCustomDisplayInfos": {},
       "data": [
        [
         "dbfs:/FileStore/",
         "FileStore/",
         0,
         1708061316000
        ],
        [
         "dbfs:/Volume/",
         "Volume/",
         0,
         0
        ],
        [
         "dbfs:/Volumes/",
         "Volumes/",
         0,
         0
        ],
        [
         "dbfs:/databricks-datasets/",
         "databricks-datasets/",
         0,
         0
        ],
        [
         "dbfs:/databricks-results/",
         "databricks-results/",
         0,
         0
        ],
        [
         "dbfs:/mydata/",
         "mydata/",
         0,
         1708065444000
        ],
        [
         "dbfs:/user/",
         "user/",
         0,
         1708061216000
        ],
        [
         "dbfs:/volume/",
         "volume/",
         0,
         0
        ],
        [
         "dbfs:/volumes/",
         "volumes/",
         0,
         0
        ]
       ],
       "datasetInfos": [],
       "dbfsResultPath": null,
       "isJsonSchema": true,
       "metadata": {
        "isDbfsCommandResult": false
       },
       "overflow": false,
       "plotOptions": {
        "customPlotOptions": {},
        "displayType": "table",
        "pivotAggregation": null,
        "pivotColumns": null,
        "xColumns": null,
        "yColumns": null
       },
       "removedWidgets": [],
       "schema": [
        {
         "metadata": "{}",
         "name": "path",
         "type": "\"string\""
        },
        {
         "metadata": "{}",
         "name": "name",
         "type": "\"string\""
        },
        {
         "metadata": "{}",
         "name": "size",
         "type": "\"long\""
        },
        {
         "metadata": "{}",
         "name": "modificationTime",
         "type": "\"long\""
        }
       ],
       "type": "table"
      }
     },
     "output_type": "display_data"
    }
   ],
   "source": [
    "%fs ls"
   ]
  },
  {
   "cell_type": "code",
   "execution_count": 0,
   "metadata": {
    "application/vnd.databricks.v1+cell": {
     "cellMetadata": {
      "byteLimit": 2048000,
      "rowLimit": 10000
     },
     "inputWidgets": {},
     "nuid": "569ec502-d9d9-4fae-bb88-13416952ac0f",
     "showTitle": false,
     "title": ""
    }
   },
   "outputs": [
    {
     "output_type": "execute_result",
     "data": {
      "text/plain": [
       "[FileInfo(path='dbfs:/FileStore/mydata', name='mydata', size=18863, modificationTime=1708065953000)]"
      ]
     },
     "execution_count": 60,
     "metadata": {},
     "output_type": "execute_result"
    }
   ],
   "source": [
    "dbutils.fs.ls(\"/FileStore/mydata\")"
   ]
  },
  {
   "cell_type": "code",
   "execution_count": 0,
   "metadata": {
    "application/vnd.databricks.v1+cell": {
     "cellMetadata": {
      "byteLimit": 2048000,
      "rowLimit": 10000
     },
     "inputWidgets": {},
     "nuid": "8f68a1d9-aa99-44b5-9dc7-5706ecfa084b",
     "showTitle": false,
     "title": ""
    }
   },
   "outputs": [
    {
     "output_type": "execute_result",
     "data": {
      "text/plain": [
       "True"
      ]
     },
     "execution_count": 64,
     "metadata": {},
     "output_type": "execute_result"
    }
   ],
   "source": [
    "dbutils.fs.rm(\"/FileStore/tables/mydata\")"
   ]
  },
  {
   "cell_type": "code",
   "execution_count": 0,
   "metadata": {
    "application/vnd.databricks.v1+cell": {
     "cellMetadata": {
      "byteLimit": 2048000,
      "rowLimit": 10000
     },
     "inputWidgets": {},
     "nuid": "0cb67cfb-f978-4af3-aaee-a079702647aa",
     "showTitle": false,
     "title": ""
    }
   },
   "outputs": [
    {
     "output_type": "execute_result",
     "data": {
      "text/plain": [
       "True"
      ]
     },
     "execution_count": 66,
     "metadata": {},
     "output_type": "execute_result"
    }
   ],
   "source": [
    "dbutils.fs.mkdirs(\"/FileStore/tables/mydata\")"
   ]
  },
  {
   "cell_type": "code",
   "execution_count": 0,
   "metadata": {
    "application/vnd.databricks.v1+cell": {
     "cellMetadata": {
      "byteLimit": 2048000,
      "rowLimit": 10000
     },
     "collapsed": true,
     "inputWidgets": {},
     "nuid": "2d9bce7c-e712-40c0-8a0a-896fa90bd280",
     "showTitle": false,
     "title": ""
    }
   },
   "outputs": [
    {
     "output_type": "execute_result",
     "data": {
      "text/plain": [
       "[FileInfo(path='dbfs:/FileStore/tables/b1-1.csv', name='b1-1.csv', size=18863, modificationTime=1708061368000),\n",
       " FileInfo(path='dbfs:/FileStore/tables/b1.csv', name='b1.csv', size=18863, modificationTime=1708061316000),\n",
       " FileInfo(path='dbfs:/FileStore/tables/mydata/', name='mydata/', size=0, modificationTime=1708066225000)]"
      ]
     },
     "execution_count": 68,
     "metadata": {},
     "output_type": "execute_result"
    }
   ],
   "source": [
    "dbutils.fs.ls(\"/FileStore/tables\")"
   ]
  },
  {
   "cell_type": "code",
   "execution_count": 0,
   "metadata": {
    "application/vnd.databricks.v1+cell": {
     "cellMetadata": {
      "byteLimit": 2048000,
      "rowLimit": 10000
     },
     "inputWidgets": {},
     "nuid": "efd0b3d2-7bba-4f4d-80f8-f1a02bfbbf69",
     "showTitle": false,
     "title": ""
    }
   },
   "outputs": [
    {
     "output_type": "execute_result",
     "data": {
      "text/plain": [
       "True"
      ]
     },
     "execution_count": 69,
     "metadata": {},
     "output_type": "execute_result"
    }
   ],
   "source": [
    "dbutils.fs.cp(\"/FileStore/tables/b1.csv\",\"/FileStore/tables/mydata\")"
   ]
  },
  {
   "cell_type": "code",
   "execution_count": 0,
   "metadata": {
    "application/vnd.databricks.v1+cell": {
     "cellMetadata": {
      "byteLimit": 2048000,
      "rowLimit": 10000
     },
     "collapsed": true,
     "inputWidgets": {},
     "nuid": "af350e4c-c67c-4d0c-b675-11b70172f867",
     "showTitle": false,
     "title": ""
    }
   },
   "outputs": [
    {
     "output_type": "display_data",
     "data": {
      "text/html": [
       "<style scoped>\n",
       "  .table-result-container {\n",
       "    max-height: 300px;\n",
       "    overflow: auto;\n",
       "  }\n",
       "  table, th, td {\n",
       "    border: 1px solid black;\n",
       "    border-collapse: collapse;\n",
       "  }\n",
       "  th, td {\n",
       "    padding: 5px;\n",
       "  }\n",
       "  th {\n",
       "    text-align: left;\n",
       "  }\n",
       "</style><div class='table-result-container'><table class='table-result'><thead style='background-color: white'><tr><th>path</th><th>name</th><th>size</th><th>modificationTime</th></tr></thead><tbody><tr><td>dbfs:/FileStore/</td><td>FileStore/</td><td>0</td><td>1708061316000</td></tr><tr><td>dbfs:/Volume/</td><td>Volume/</td><td>0</td><td>0</td></tr><tr><td>dbfs:/Volumes/</td><td>Volumes/</td><td>0</td><td>0</td></tr><tr><td>dbfs:/databricks-datasets/</td><td>databricks-datasets/</td><td>0</td><td>0</td></tr><tr><td>dbfs:/databricks-results/</td><td>databricks-results/</td><td>0</td><td>0</td></tr><tr><td>dbfs:/mydata/</td><td>mydata/</td><td>0</td><td>1708065444000</td></tr><tr><td>dbfs:/user/</td><td>user/</td><td>0</td><td>1708061216000</td></tr><tr><td>dbfs:/volume/</td><td>volume/</td><td>0</td><td>0</td></tr><tr><td>dbfs:/volumes/</td><td>volumes/</td><td>0</td><td>0</td></tr></tbody></table></div>"
      ]
     },
     "metadata": {
      "application/vnd.databricks.v1+output": {
       "addedWidgets": {},
       "aggData": [],
       "aggError": "",
       "aggOverflow": false,
       "aggSchema": [],
       "aggSeriesLimitReached": false,
       "aggType": "",
       "arguments": {},
       "columnCustomDisplayInfos": {},
       "data": [
        [
         "dbfs:/FileStore/",
         "FileStore/",
         0,
         1708061316000
        ],
        [
         "dbfs:/Volume/",
         "Volume/",
         0,
         0
        ],
        [
         "dbfs:/Volumes/",
         "Volumes/",
         0,
         0
        ],
        [
         "dbfs:/databricks-datasets/",
         "databricks-datasets/",
         0,
         0
        ],
        [
         "dbfs:/databricks-results/",
         "databricks-results/",
         0,
         0
        ],
        [
         "dbfs:/mydata/",
         "mydata/",
         0,
         1708065444000
        ],
        [
         "dbfs:/user/",
         "user/",
         0,
         1708061216000
        ],
        [
         "dbfs:/volume/",
         "volume/",
         0,
         0
        ],
        [
         "dbfs:/volumes/",
         "volumes/",
         0,
         0
        ]
       ],
       "datasetInfos": [],
       "dbfsResultPath": null,
       "isJsonSchema": true,
       "metadata": {
        "isDbfsCommandResult": false
       },
       "overflow": false,
       "plotOptions": {
        "customPlotOptions": {},
        "displayType": "table",
        "pivotAggregation": null,
        "pivotColumns": null,
        "xColumns": null,
        "yColumns": null
       },
       "removedWidgets": [],
       "schema": [
        {
         "metadata": "{}",
         "name": "path",
         "type": "\"string\""
        },
        {
         "metadata": "{}",
         "name": "name",
         "type": "\"string\""
        },
        {
         "metadata": "{}",
         "name": "size",
         "type": "\"long\""
        },
        {
         "metadata": "{}",
         "name": "modificationTime",
         "type": "\"long\""
        }
       ],
       "type": "table"
      }
     },
     "output_type": "display_data"
    }
   ],
   "source": [
    "%fs ls"
   ]
  },
  {
   "cell_type": "code",
   "execution_count": 0,
   "metadata": {
    "application/vnd.databricks.v1+cell": {
     "cellMetadata": {
      "byteLimit": 2048000,
      "rowLimit": 10000
     },
     "collapsed": true,
     "inputWidgets": {},
     "nuid": "6134ca1c-b513-463f-a485-e31e4f442270",
     "showTitle": false,
     "title": ""
    }
   },
   "outputs": [
    {
     "output_type": "execute_result",
     "data": {
      "text/plain": [
       "[FileInfo(path='dbfs:/FileStore/tables/mydata/b1.csv', name='b1.csv', size=18863, modificationTime=1708066308000)]"
      ]
     },
     "execution_count": 70,
     "metadata": {},
     "output_type": "execute_result"
    }
   ],
   "source": [
    "dbutils.fs.ls(\"/FileStore/tables/mydata\")"
   ]
  },
  {
   "cell_type": "code",
   "execution_count": 0,
   "metadata": {
    "application/vnd.databricks.v1+cell": {
     "cellMetadata": {
      "byteLimit": 2048000,
      "rowLimit": 10000
     },
     "collapsed": true,
     "inputWidgets": {},
     "nuid": "512baf96-ce81-4f1b-ba4a-afa8a7ae0ad0",
     "showTitle": false,
     "title": ""
    }
   },
   "outputs": [
    {
     "output_type": "execute_result",
     "data": {
      "text/plain": [
       "'\\ufeffcrim,zn,indus,chas,nox,rm,age,dis,rad,tax,ptratio,black,lstat,medv\\r\\n0.00632,18,2.31,0,0.538,6.575,65.2,4.09,1,296,15.3,396.9,4.98,24\\r\\n0.02731,0,7.07,0,0.469,6.421,78.9,4.9671,2,242,17.8,396.9,9.14,21.6\\r\\n0.02729,0,7.07,0,0.469,7.185,61.1,4.9671,2,242,17.8,392.83,4.03,34.7\\r\\n0.03237,0,2.18,0,0.458,6.998,45.8,6.0622,3,222,18.7,394.63,2.94,33.4\\r\\n0.06905,0,2.18,0,0.458,7.147,54.2,6.0622,3,222,18.7,396.9,5.33,36.2\\r\\n0.02985,0,2.18,0,0.458,6.43,58.7,6.0622,3,222,18.7,394.12,5.21,28.7\\r\\n0.08829,12.5,7.87,0,0.524,6.012,66.6,5.5605,5,311,15.2,395.6,12.43,22.9\\r\\n0.14455,12.5,7.87,0,0.524,6.172,96.1,5.9505,5,311,15.2,396.9,19.15,27.1\\r\\n0.21124,12.5,7.87,0,0.524,5.631,100,6.0821,5,311,15.2,386.63,29.93,16.5\\r\\n0.17004,12.5,7.87,0,0.524,6.004,85.9,6.5921,5,311,15.2,386.71,17.1,18.9\\r\\n0.22489,12.5,7.87,0,0.524,6.377,94.3,6.3467,5,311,15.2,392.52,20.45,15\\r\\n0.11747,12.5,7.87,0,0.524,6.009,82.9,6.2267,5,311,15.2,396.9,13.27,18.9\\r\\n0.09378,12.5,7.87,0,0.524,5.889,39,5.4509,5,311,15.2,390.5,15.71,21.7\\r\\n0.62976,0,8.14,0,0.538,5.949,61.8,4.7075,4,307,21,396.9,8.26,20.4\\r\\n0.63796,0,8.14,0,0.538,6.096,84.5,4.4619,4,307,21,380.02,10.26,18.2\\r\\n0.62739,0,8.14,0,0.538,5.834,56.5,4.4986,4,307,21,395.62,8.47,19.9\\r\\n1.05393,0,8.14,0,0.538,5.935,29.3,4.4986,4,307,21,386.85,6.58,23.1\\r\\n0.7842,0,8.14,0,0.538,5.99,81.7,4.2579,4,307,21,386.75,14.67,17.5\\r\\n0.80271,0,8.14,0,0.538,5.456,36.6,3.7965,4,307,21,288.99,11.69,20.2\\r\\n0.7258,0,8.14,0,0.538,5.727,69.5,3.7965,4,307,21,390.95,11.28,18.2\\r\\n1.25179,0,8.14,0,0.538,5.57,98.1,3.7979,4,307,21,376.57,21.02,13.6\\r\\n0.85204,0,8.14,0,0.538,5.965,89.2,4.0123,4,307,21,392.53,13.83,19.6\\r\\n1.23247,0,8.14,0,0.538,6.142,91.7,3.9769,4,307,21,396.9,18.72,15.2\\r\\n0.98843,0,8.14,0,0.538,5.813,100,4.0952,4,307,21,394.54,19.88,14.5\\r\\n0.75026,0,8.14,0,0.538,5.924,94.1,4.3996,4,307,21,394.33,16.3,15.6\\r\\n0.84054,0,8.14,0,0.538,5.599,85.7,4.4546,4,307,21,303.42,16.51,13.9\\r\\n0.67191,0,8.14,0,0.538,5.813,90.3,4.682,4,307,21,376.88,14.81,16.6\\r\\n0.95577,0,8.14,0,0.538,6.047,88.8,4.4534,4,307,21,306.38,17.28,14.8\\r\\n0.77299,0,8.14,0,0.538,6.495,94.4,4.4547,4,307,21,387.94,12.8,18.4\\r\\n1.00245,0,8.14,0,0.538,6.674,87.3,4.239,4,307,21,380.23,11.98,21\\r\\n1.13081,0,8.14,0,0.538,5.713,94.1,4.233,4,307,21,360.17,22.6,12.7\\r\\n1.35472,0,8.14,0,0.538,6.072,100,4.175,4,307,21,376.73,13.04,14.5\\r\\n1.38799,0,8.14,0,0.538,5.95,82,3.99,4,307,21,232.6,27.71,13.2\\r\\n1.15172,0,8.14,0,0.538,5.701,95,3.7872,4,307,21,358.77,18.35,13.1\\r\\n1.61282,0,8.14,0,0.538,6.096,96.9,3.7598,4,307,21,248.31,20.34,13.5\\r\\n0.06417,0,5.96,0,0.499,5.933,68.2,3.3603,5,279,19.2,396.9,9.68,18.9\\r\\n0.09744,0,5.96,0,0.499,5.841,61.4,3.3779,5,279,19.2,377.56,11.41,20\\r\\n0.08014,0,5.96,0,0.499,5.85,41.5,3.9342,5,279,19.2,396.9,8.77,21\\r\\n0.17505,0,5.96,0,0.499,5.966,30.2,3.8473,5,279,19.2,393.43,10.13,24.7\\r\\n0.02763,75,2.95,0,0.428,6.595,21.8,5.4011,3,252,18.3,395.63,4.32,30.8\\r\\n0.03359,75,2.95,0,0.428,7.024,15.8,5.4011,3,252,18.3,395.62,1.98,34.9\\r\\n0.12744,0,6.91,0,0.448,6.77,2.9,5.7209,3,233,17.9,385.41,4.84,26.6\\r\\n0.1415,0,6.91,0,0.448,6.169,6.6,5.7209,3,233,17.9,383.37,5.81,25.3\\r\\n0.15936,0,6.91,0,0.448,6.211,6.5,5.7209,3,233,17.9,394.46,7.44,24.7\\r\\n0.12269,0,6.91,0,0.448,6.069,40,5.7209,3,233,17.9,389.39,9.55,21.2\\r\\n0.17142,0,6.91,0,0.448,5.682,33.8,5.1004,3,233,17.9,396.9,10.21,19.3\\r\\n0.18836,0,6.91,0,0.448,5.786,33.3,5.1004,3,233,17.9,396.9,14.15,20\\r\\n0.22927,0,6.91,0,0.448,6.03,85.5,5.6894,3,233,17.9,392.74,18.8,16.6\\r\\n0.25387,0,6.91,0,0.448,5.399,95.3,5.87,3,233,17.9,396.9,30.81,14.4\\r\\n0.21977,0,6.91,0,0.448,5.602,62,6.0877,3,233,17.9,396.9,16.2,19.4\\r\\n0.08873,21,5.64,0,0.439,5.963,45.7,6.8147,4,243,16.8,395.56,13.45,19.7\\r\\n0.04337,21,5.64,0,0.439,6.115,63,6.8147,4,243,16.8,393.97,9.43,20.5\\r\\n0.0536,21,5.64,0,0.439,6.511,21.1,6.8147,4,243,16.8,396.9,5.28,25\\r\\n0.04981,21,5.64,0,0.439,5.998,21.4,6.8147,4,243,16.8,396.9,8.43,23.4\\r\\n0.0136,75,4,0,0.41,5.888,47.6,7.3197,3,469,21.1,396.9,14.8,18.9\\r\\n0.01311,90,1.22,0,0.403,7.249,21.9,8.6966,5,226,17.9,395.93,4.81,35.4\\r\\n0.02055,85,0.74,0,0.41,6.383,35.7,9.1876,2,313,17.3,396.9,5.77,24.7\\r\\n0.01432,100,1.32,0,0.411,6.816,40.5,8.3248,5,256,15.1,392.9,3.95,31.6\\r\\n0.15445,25,5.13,0,0.453,6.145,29.2,7.8148,8,284,19.7,390.68,6.86,23.3\\r\\n0.10328,25,5.13,0,0.453,5.927,47.2,6.932,8,284,19.7,396.9,9.22,19.6\\r\\n0.14932,25,5.13,0,0.453,5.741,66.2,7.2254,8,284,19.7,395.11,13.15,18.7\\r\\n0.17171,25,5.13,0,0.453,5.966,93.4,6.8185,8,284,19.7,378.08,14.44,16\\r\\n0.11027,25,5.13,0,0.453,6.456,67.8,7.2255,8,284,19.7,396.9,6.73,22.2\\r\\n0.1265,25,5.13,0,0.453,6.762,43.4,7.9809,8,284,19.7,395.58,9.5,25\\r\\n0.01951,17.5,1.38,0,0.4161,7.104,59.5,9.2229,3,216,18.6,393.24,8.05,33\\r\\n0.03584,80,3.37,0,0.398,6.29,17.8,6.6115,4,337,16.1,396.9,4.67,23.5\\r\\n0.04379,80,3.37,0,0.398,5.787,31.1,6.6115,4,337,16.1,396.9,10.24,19.4\\r\\n0.05789,12.5,6.07,0,0.409,5.878,21.4,6.498,4,345,18.9,396.21,8.1,22\\r\\n0.13554,12.5,6.07,0,0.409,5.594,36.8,6.498,4,345,18.9,396.9,13.09,17.4\\r\\n0.12816,12.5,6.07,0,0.409,5.885,33,6.498,4,345,18.9,396.9,8.79,20.9\\r\\n0.08826,0,10.81,0,0.413,6.417,6.6,5.2873,4,305,19.2,383.73,6.72,24.2\\r\\n0.15876,0,10.81,0,0.413,5.961,17.5,5.2873,4,305,19.2,376.94,9.88,21.7\\r\\n0.09164,0,10.81,0,0.413,6.065,7.8,5.2873,4,305,19.2,390.91,5.52,22.8\\r\\n0.19539,0,10.81,0,0.413,6.245,6.2,5.2873,4,305,19.2,377.17,7.54,23.4\\r\\n0.07896,0,12.83,0,0.437,6.273,6,4.2515,5,398,18.7,394.92,6.78,24.1\\r\\n0.09512,0,12.83,0,0.437,6.286,45,4.5026,5,398,18.7,383.23,8.94,21.4\\r\\n0.10153,0,12.83,0,0.437,6.279,74.5,4.0522,5,398,18.7,373.66,11.97,20\\r\\n0.08707,0,12.83,0,0.437,6.14,45.8,4.0905,5,398,18.7,386.96,10.27,20.8\\r\\n0.05646,0,12.83,0,0.437,6.232,53.7,5.0141,5,398,18.7,386.4,12.34,21.2\\r\\n0.08387,0,12.83,0,0.437,5.874,36.6,4.5026,5,398,18.7,396.06,9.1,20.3\\r\\n0.04113,25,4.86,0,0.426,6.727,33.5,5.4007,4,281,19,396.9,5.29,28\\r\\n0.04462,25,4.86,0,0.426,6.619,70.4,5.4007,4,281,19,395.63,7.22,23.9\\r\\n0.03659,25,4.86,0,0.426,6.302,32.2,5.4007,4,281,19,396.9,6.72,24.8\\r\\n0.03551,25,4.86,0,0.426,6.167,46.7,5.4007,4,281,19,390.64,7.51,22.9\\r\\n0.05059,0,4.49,0,0.449,6.389,48,4.7794,3,247,18.5,396.9,9.62,23.9\\r\\n0.05735,0,4.49,0,0.449,6.63,56.1,4.4377,3,247,18.5,392.3,6.53,26.6\\r\\n0.05188,0,4.49,0,0.449,6.015,45.1,4.4272,3,247,18.5,395.99,12.86,22.5\\r\\n0.07151,0,4.49,0,0.449,6.121,56.8,3.7476,3,247,18.5,395.15,8.44,22.2\\r\\n0.0566,0,3.41,0,0.489,7.007,86.3,3.4217,2,270,17.8,396.9,5.5,23.6\\r\\n0.05302,0,3.41,0,0.489,7.079,63.1,3.4145,2,270,17.8,396.06,5.7,28.7\\r\\n0.04684,0,3.41,0,0.489,6.417,66.1,3.0923,2,270,17.8,392.18,8.81,22.6\\r\\n0.03932,0,3.41,0,0.489,6.405,73.9,3.0921,2,270,17.8,393.55,8.2,22\\r\\n0.04203,28,15.04,0,0.464,6.442,53.6,3.6659,4,270,18.2,395.01,8.16,22.9\\r\\n0.02875,28,15.04,0,0.464,6.211,28.9,3.6659,4,270,18.2,396.33,6.21,25\\r\\n0.04294,28,15.04,0,0.464,6.249,77.3,3.615,4,270,18.2,396.9,10.59,20.6\\r\\n0.12204,0,2.89,0,0.445,6.625,57.8,3.4952,2,276,18,357.98,6.65,28.4\\r\\n0.11504,0,2.89,0,0.445,6.163,69.6,3.4952,2,276,18,391.83,11.34,21.4\\r\\n0.12083,0,2.89,0,0.445,8.069,76,3.4952,2,276,18,396.9,4.21,38.7\\r\\n0.08187,0,2.89,0,0.445,7.82,36.9,3.4952,2,276,18,393.53,3.57,43.8\\r\\n0.0686,0,2.89,0,0.445,7.416,62.5,3.4952,2,276,18,396.9,6.19,33.2\\r\\n0.14866,0,8.56,0,0.52,6.727,79.9,2.7778,5,384,20.9,394.76,9.42,27.5\\r\\n0.11432,0,8.56,0,0.52,6.781,71.3,2.8561,5,384,20.9,395.58,7.67,26.5\\r\\n0.22876,0,8.56,0,0.52,6.405,85.4,2.7147,5,384,20.9,70.8,10.63,18.6\\r\\n0.21161,0,8.56,0,0.52,6.137,87.4,2.7147,5,384,20.9,394.47,13.44,19.3\\r\\n0.1396,0,8.56,0,0.52,6.167,90,2.421,5,384,20.9,392.69,12.33,20.1\\r\\n0.13262,0,8.56,0,0.52,5.851,96.7,2.1069,5,384,20.9,394.05,16.47,19.5\\r\\n0.1712,0,8.56,0,0.52,5.836,91.9,2.211,5,384,20.9,395.67,18.66,19.5\\r\\n0.13117,0,8.56,0,0.52,6.127,85.2,2.1224,5,384,20.9,387.69,14.09,20.4\\r\\n0.12802,0,8.56,0,0.52,6.474,97.1,2.4329,5,384,20.9,395.24,12.27,19.8\\r\\n0.26363,0,8.56,0,0.52,6.229,91.2,2.5451,5,384,20.9,391.23,15.55,19.4\\r\\n0.10793,0,8.56,0,0.52,6.195,54.4,2.7778,5,384,20.9,393.49,13,21.7\\r\\n0.10084,0,10.01,0,0.547,6.715,81.6,2.6775,6,432,17.8,395.59,10.16,22.8\\r\\n0.12329,0,10.01,0,0.547,5.913,92.9,2.3534,6,432,17.8,394.95,16.21,18.8\\r\\n0.22212,0,10.01,0,0.547,6.092,95.4,2.548,6,432,17.8,396.9,17.09,18.7\\r\\n0.14231,0,10.01,0,0.547,6.254,84.2,2.2565,6,432,17.8,388.74,10.45,18.5\\r\\n0.17134,0,10.01,0,0.547,5.928,88.2,2.4631,6,432,17.8,344.91,15.76,18.3\\r\\n0.13158,0,10.01,0,0.547,6.176,72.5,2.7301,6,432,17.8,393.3,12.04,21.2\\r\\n0.15098,0,10.01,0,0.547,6.021,82.6,2.7474,6,432,17.8,394.51,10.3,19.2\\r\\n0.13058,0,10.01,0,0.547,5.872,73.1,2.4775,6,432,17.8,338.63,15.37,20.4\\r\\n0.14476,0,10.01,0,0.547,5.731,65.2,2.7592,6,432,17.8,391.5,13.61,19.3\\r\\n0.06899,0,25.65,0,0.581,5.87,69.7,2.2577,2,188,19.1,389.15,14.37,22\\r\\n0.07165,0,25.65,0,0.581,6.004,84.1,2.1974,2,188,19.1,377.67,14.27,20.3\\r\\n0.09299,0,25.65,0,0.581,5.961,92.9,2.0869,2,188,19.1,378.09,17.93,20.5\\r\\n0.15038,0,25.65,0,0.581,5.856,97,1.9444,2,188,19.1,370.31,25.41,17.3\\r\\n0.09849,0,25.65,0,0.581,5.879,95.8,2.0063,2,188,19.1,379.38,17.58,18.8\\r\\n0.16902,0,25.65,0,0.581,5.986,88.4,1.9929,2,188,19.1,385.02,14.81,21.4\\r\\n0.38735,0,25.65,0,0.581,5.613,95.6,1.7572,2,188,19.1,359.29,27.26,15.7\\r\\n0.25915,0,21.89,0,0.624,5.693,96,1.7883,4,437,21.2,392.11,17.19,16.2\\r\\n0.32543,0,21.89,0,0.624,6.431,98.8,1.8125,4,437,21.2,396.9,15.39,18\\r\\n0.88125,0,21.89,0,0.624,5.637,94.7,1.9799,4,437,21.2,396.9,18.34,14.3\\r\\n0.34006,0,21.89,0,0.624,6.458,98.9,2.1185,4,437,21.2,395.04,12.6,19.2\\r\\n1.19294,0,21.89,0,0.624,6.326,97.7,2.271,4,437,21.2,396.9,12.26,19.6\\r\\n0.59005,0,21.89,0,0.624,6.372,97.9,2.3274,4,437,21.2,385.76,11.12,23\\r\\n0.32982,0,21.89,0,0.624,5.822,95.4,2.4699,4,437,21.2,388.69,15.03,18.4\\r\\n0.97617,0,21.89,0,0.624,5.757,98.4,2.346,4,437,21.2,262.76,17.31,15.6\\r\\n0.55778,0,21.89,0,0.624,6.335,98.2,2.1107,4,437,21.2,394.67,16.96,18.1\\r\\n0.32264,0,21.89,0,0.624,5.942,93.5,1.9669,4,437,21.2,378.25,16.9,17.4\\r\\n0.35233,0,21.89,0,0.624,6.454,98.4,1.8498,4,437,21.2,394.08,14.59,17.1\\r\\n0.2498,0,21.89,0,0.624,5.857,98.2,1.6686,4,437,21.2,392.04,21.32,13.3\\r\\n0.54452,0,21.89,0,0.624,6.151,97.9,1.6687,4,437,21.2,396.9,18.46,17.8\\r\\n0.2909,0,21.89,0,0.624,6.174,93.6,1.6119,4,437,21.2,388.08,24.16,14\\r\\n1.62864,0,21.89,0,0.624,5.019,100,1.4394,4,437,21.2,396.9,34.41,14.4\\r\\n3.32105,0,19.58,1,0.871,5.403,100,1.3216,5,403,14.7,396.9,26.82,13.4\\r\\n4.0974,0,19.58,0,0.871,5.468,100,1.4118,5,403,14.7,396.9,26.42,15.6\\r\\n2.77974,0,19.58,0,0.871,4.903,97.8,1.3459,5,403,14.7,396.9,29.29,11.8\\r\\n2.37934,0,19.58,0,0.871,6.13,100,1.4191,5,403,14.7,172.91,27.8,13.8\\r\\n2.15505,0,19.58,0,0.871,5.628,100,1.5166,5,403,14.7,169.27,16.65,15.6\\r\\n2.36862,0,19.58,0,0.871,4.926,95.7,1.4608,5,403,14.7,391.71,29.53,14.6\\r\\n2.33099,0,19.58,0,0.871,5.186,93.8,1.5296,5,403,14.7,356.99,28.32,17.8\\r\\n2.73397,0,19.58,0,0.871,5.597,94.9,1.5257,5,403,14.7,351.85,21.45,15.4\\r\\n1.6566,0,19.58,0,0.871,6.122,97.3,1.618,5,403,14.7,372.8,14.1,21.5\\r\\n1.49632,0,19.58,0,0.871,5.404,100,1.5916,5,403,14.7,341.6,13.28,19.6\\r\\n1.12658,0,19.58,1,0.871,5.012,88,1.6102,5,403,14.7,343.28,12.12,15.3\\r\\n2.14918,0,19.58,0,0.871,5.709,98.5,1.6232,5,403,14.7,261.95,15.79,19.4\\r\\n1.41385,0,19.58,1,0.871,6.129,96,1.7494,5,403,14.7,321.02,15.12,17\\r\\n3.53501,0,19.58,1,0.871,6.152,82.6,1.7455,5,403,14.7,88.01,15.02,15.6\\r\\n2.44668,0,19.58,0,0.871,5.272,94,1.7364,5,403,14.7,88.63,16.14,13.1\\r\\n1.22358,0,19.58,0,0.605,6.943,97.4,1.8773,5,403,14.7,363.43,4.59,41.3\\r\\n1.34284,0,19.58,0,0.605,6.066,100,1.7573,5,403,14.7,353.89,6.43,24.3\\r\\n1.42502,0,19.58,0,0.871,6.51,100,1.7659,5,403,14.7,364.31,7.39,23.3\\r\\n1.27346,0,19.58,1,0.605,6.25,92.6,1.7984,5,403,14.7,338.92,5.5,27\\r\\n1.46336,0,19.58,0,0.605,7.489,90.8,1.9709,5,403,14.7,374.43,1.73,50\\r\\n1.83377,0,19.58,1,0.605,7.802,98.2,2.0407,5,403,14.7,389.61,1.92,50\\r\\n1.51902,0,19.58,1,0.605,8.375,93.9,2.162,5,403,14.7,388.45,3.32,50\\r\\n2.24236,0,19.58,0,0.605,5.854,91.8,2.422,5,403,14.7,395.11,11.64,22.7\\r\\n2.924,0,19.58,0,0.605,6.101,93,2.2834,5,403,14.7,240.16,9.81,25\\r\\n2.01019,0,19.58,0,0.605,7.929,96.2,2.0459,5,403,14.7,369.3,3.7,50\\r\\n1.80028,0,19.58,0,0.605,5.877,79.2,2.4259,5,403,14.7,227.61,12.14,23.8\\r\\n2.3004,0,19.58,0,0.605,6.319,96.1,2.1,5,403,14.7,297.09,11.1,23.8\\r\\n2.44953,0,19.58,0,0.605,6.402,95.2,2.2625,5,403,14.7,330.04,11.32,22.3\\r\\n1.20742,0,19.58,0,0.605,5.875,94.6,2.4259,5,403,14.7,292.29,14.43,17.4\\r\\n2.3139,0,19.58,0,0.605,5.88,97.3,2.3887,5,403,14.7,348.13,12.03,19.1\\r\\n0.13914,0,4.05,0,0.51,5.572,88.5,2.5961,5,296,16.6,396.9,14.69,23.1\\r\\n0.09178,0,4.05,0,0.51,6.416,84.1,2.6463,5,296,16.6,395.5,9.04,23.6\\r\\n0.08447,0,4.05,0,0.51,5.859,68.7,2.7019,5,296,16.6,393.23,9.64,22.6\\r\\n0.06664,0,4.05,0,0.51,6.546,33.1,3.1323,5,296,16.6,390.96,5.33,29.4\\r\\n0.07022,0,4.05,0,0.51,6.02,47.2,3.5549,5,296,16.6,393.23,10.11,23.2\\r\\n0.05425,0,4.05,0,0.51,6.315,73.4,3.3175,5,296,16.6,395.6,6.29,24.6\\r\\n0.06642,0,4.05,0,0.51,6.86,74.4,2.9153,5,296,16.6,391.27,6.92,29.9\\r\\n0.0578,0,2.46,0,0.488,6.98,58.4,2.829,3,193,17.8,396.9,5.04,37.2\\r\\n0.06588,0,2.46,0,0.488,7.765,83.3,2.741,3,193,17.8,395.56,7.56,39.8\\r\\n0.06888,0,2.46,0,0.488,6.144,62.2,2.5979,3,193,17.8,396.9,9.45,36.2\\r\\n0.09103,0,2.46,0,0.488,7.155,92.2,2.7006,3,193,17.8,394.12,4.82,37.9\\r\\n0.10008,0,2.46,0,0.488,6.563,95.6,2.847,3,193,17.8,396.9,5.68,32.5\\r\\n0.08308,0,2.46,0,0.488,5.604,89.8,2.9879,3,193,17.8,391,13.98,26.4\\r\\n0.06047,0,2.46,0,0.488,6.153,68.8,3.2797,3,193,17.8,387.11,13.15,29.6\\r\\n0.05602,0,2.46,0,0.488,7.831,53.6,3.1992,3,193,17.8,392.63,4.45,50\\r\\n0.07875,45,3.44,0,0.437,6.782,41.1,3.7886,5,398,15.2,393.87,6.68,32\\r\\n0.12579,45,3.44,0,0.437,6.556,29.1,4.5667,5,398,15.2,382.84,4.56,29.8\\r\\n0.0837,45,3.44,0,0.437,7.185,38.9,4.5667,5,398,15.2,396.9,5.39,34.9\\r\\n0.09068,45,3.44,0,0.437,6.951,21.5,6.4798,5,398,15.2,377.68,5.1,37\\r\\n0.06911,45,3.44,0,0.437,6.739,30.8,6.4798,5,398,15.2,389.71,4.69,30.5\\r\\n0.08664,45,3.44,0,0.437,7.178,26.3,6.4798,5,398,15.2,390.49,2.87,36.4\\r\\n0.02187,60,2.93,0,0.401,6.8,9.9,6.2196,1,265,15.6,393.37,5.03,31.1\\r\\n0.01439,60,2.93,0,0.401,6.604,18.8,6.2196,1,265,15.6,376.7,4.38,29.1\\r\\n0.01381,80,0.46,0,0.422,7.875,32,5.6484,4,255,14.4,394.23,2.97,50\\r\\n0.04011,80,1.52,0,0.404,7.287,34.1,7.309,2,329,12.6,396.9,4.08,33.3\\r\\n0.04666,80,1.52,0,0.404,7.107,36.6,7.309,2,329,12.6,354.31,8.61,30.3\\r\\n0.03768,80,1.52,0,0.404,7.274,38.3,7.309,2,329,12.6,392.2,6.62,34.6\\r\\n0.0315,95,1.47,0,0.403,6.975,15.3,7.6534,3,402,17,396.9,4.56,34.9\\r\\n0.01778,95,1.47,0,0.403,7.135,13.9,7.6534,3,402,17,384.3,4.45,32.9\\r\\n0.03445,82.5,2.03,0,0.415,6.162,38.4,6.27,2,348,14.7,393.77,7.43,24.1\\r\\n0.02177,82.5,2.03,0,0.415,7.61,15.7,6.27,2,348,14.7,395.38,3.11,42.3\\r\\n0.0351,95,2.68,0,0.4161,7.853,33.2,5.118,4,224,14.7,392.78,3.81,48.5\\r\\n0.02009,95,2.68,0,0.4161,8.034,31.9,5.118,4,224,14.7,390.55,2.88,50\\r\\n0.13642,0,10.59,0,0.489,5.891,22.3,3.9454,4,277,18.6,396.9,10.87,22.6\\r\\n0.22969,0,10.59,0,0.489,6.326,52.5,4.3549,4,277,18.6,394.87,10.97,24.4\\r\\n0.25199,0,10.59,0,0.489,5.783,72.7,4.3549,4,277,18.6,389.43,18.06,22.5\\r\\n0.13587,0,10.59,1,0.489,6.064,59.1,4.2392,4,277,18.6,381.32,14.66,24.4\\r\\n0.43571,0,10.59,1,0.489,5.344,100,3.875,4,277,18.6,396.9,23.09,20\\r\\n0.17446,0,10.59,1,0.489,5.96,92.1,3.8771,4,277,18.6,393.25,17.27,21.7\\r\\n0.37578,0,10.59,1,0.489,5.404,88.6,3.665,4,277,18.6,395.24,23.98,19.3\\r\\n0.21719,0,10.59,1,0.489,5.807,53.8,3.6526,4,277,18.6,390.94,16.03,22.4\\r\\n0.14052,0,10.59,0,0.489,6.375,32.3,3.9454,4,277,18.6,385.81,9.38,28.1\\r\\n0.28955,0,10.59,0,0.489,5.412,9.8,3.5875,4,277,18.6,348.93,29.55,23.7\\r\\n0.19802,0,10.59,0,0.489,6.182,42.4,3.9454,4,277,18.6,393.63,9.47,25\\r\\n0.0456,0,13.89,1,0.55,5.888,56,3.1121,5,276,16.4,392.8,13.51,23.3\\r\\n0.07013,0,13.89,0,0.55,6.642,85.1,3.4211,5,276,16.4,392.78,9.69,28.7\\r\\n0.11069,0,13.89,1,0.55,5.951,93.8,2.8893,5,276,16.4,396.9,17.92,21.5\\r\\n0.11425,0,13.89,1,0.55,6.373,92.4,3.3633,5,276,16.4,393.74,10.5,23\\r\\n0.35809,0,6.2,1,0.507,6.951,88.5,2.8617,8,307,17.4,391.7,9.71,26.7\\r\\n0.40771,0,6.2,1,0.507,6.164,91.3,3.048,8,307,17.4,395.24,21.46,21.7\\r\\n0.62356,0,6.2,1,0.507,6.879,77.7,3.2721,8,307,17.4,390.39,9.93,27.5\\r\\n0.6147,0,6.2,0,0.507,6.618,80.8,3.2721,8,307,17.4,396.9,7.6,30.1\\r\\n0.31533,0,6.2,0,0.504,8.266,78.3,2.8944,8,307,17.4,385.05,4.14,44.8\\r\\n0.52693,0,6.2,0,0.504,8.725,83,2.8944,8,307,17.4,382,4.63,50\\r\\n0.38214,0,6.2,0,0.504,8.04,86.5,3.2157,8,307,17.4,387.38,3.13,37.6\\r\\n0.41238,0,6.2,0,0.504,7.163,79.9,3.2157,8,307,17.4,372.08,6.36,31.6\\r\\n0.29819,0,6.2,0,0.504,7.686,17,3.3751,8,307,17.4,377.51,3.92,46.7\\r\\n0.44178,0,6.2,0,0.504,6.552,21.4,3.3751,8,307,17.4,380.34,3.76,31.5\\r\\n0.537,0,6.2,0,0.504,5.981,68.1,3.6715,8,307,17.4,378.35,11.65,24.3\\r\\n0.46296,0,6.2,0,0.504,7.412,76.9,3.6715,8,307,17.4,376.14,5.25,31.7\\r\\n0.57529,0,6.2,0,0.507,8.337,73.3,3.8384,8,307,17.4,385.91,2.47,41.7\\r\\n0.33147,0,6.2,0,0.507,8.247,70.4,3.6519,8,307,17.4,378.95,3.95,48.3\\r\\n0.44791,0,6.2,1,0.507,6.726,66.5,3.6519,8,307,17.4,360.2,8.05,29\\r\\n0.33045,0,6.2,0,0.507,6.086,61.5,3.6519,8,307,17.4,376.75,10.88,24\\r\\n0.52058,0,6.2,1,0.507,6.631,76.5,4.148,8,307,17.4,388.45,9.54,25.1\\r\\n0.51183,0,6.2,0,0.507,7.358,71.6,4.148,8,307,17.4,390.07,4.73,31.5\\r\\n0.08244,30,4.93,0,0.428,6.481,18.5,6.1899,6,300,16.6,379.41,6.36,23.7\\r\\n0.09252,30,4.93,0,0.428,6.606,42.2,6.1899,6,300,16.6,383.78,7.37,23.3\\r\\n0.11329,30,4.93,0,0.428,6.897,54.3,6.3361,6,300,16.6,391.25,11.38,22\\r\\n0.10612,30,4.93,0,0.428,6.095,65.1,6.3361,6,300,16.6,394.62,12.4,20.1\\r\\n0.1029,30,4.93,0,0.428,6.358,52.9,7.0355,6,300,16.6,372.75,11.22,22.2\\r\\n0.12757,30,4.93,0,0.428,6.393,7.8,7.0355,6,300,16.6,374.71,5.19,23.7\\r\\n0.20608,22,5.86,0,0.431,5.593,76.5,7.9549,7,330,19.1,372.49,12.5,17.6\\r\\n0.19133,22,5.86,0,0.431,5.605,70.2,7.9549,7,330,19.1,389.13,18.46,18.5\\r\\n0.33983,22,5.86,0,0.431,6.108,34.9,8.0555,7,330,19.1,390.18,9.16,24.3\\r\\n0.19657,22,5.86,0,0.431,6.226,79.2,8.0555,7,330,19.1,376.14,10.15,20.5\\r\\n0.16439,22,5.86,0,0.431,6.433,49.1,7.8265,7,330,19.1,374.71,9.52,24.5\\r\\n0.19073,22,5.86,0,0.431,6.718,17.5,7.8265,7,330,19.1,393.74,6.56,26.2\\r\\n0.1403,22,5.86,0,0.431,6.487,13,7.3967,7,330,19.1,396.28,5.9,24.4\\r\\n0.21409,22,5.86,0,0.431,6.438,8.9,7.3967,7,330,19.1,377.07,3.59,24.8\\r\\n0.08221,22,5.86,0,0.431,6.957,6.8,8.9067,7,330,19.1,386.09,3.53,29.6\\r\\n0.36894,22,5.86,0,0.431,8.259,8.4,8.9067,7,330,19.1,396.9,3.54,42.8\\r\\n0.04819,80,3.64,0,0.392,6.108,32,9.2203,1,315,16.4,392.89,6.57,21.9\\r\\n0.03548,80,3.64,0,0.392,5.876,19.1,9.2203,1,315,16.4,395.18,9.25,20.9\\r\\n0.01538,90,3.75,0,0.394,7.454,34.2,6.3361,3,244,15.9,386.34,3.11,44\\r\\n0.61154,20,3.97,0,0.647,8.704,86.9,1.801,5,264,13,389.7,5.12,50\\r\\n0.66351,20,3.97,0,0.647,7.333,100,1.8946,5,264,13,383.29,7.79,36\\r\\n0.65665,20,3.97,0,0.647,6.842,100,2.0107,5,264,13,391.93,6.9,30.1\\r\\n0.54011,20,3.97,0,0.647,7.203,81.8,2.1121,5,264,13,392.8,9.59,33.8\\r\\n0.53412,20,3.97,0,0.647,7.52,89.4,2.1398,5,264,13,388.37,7.26,43.1\\r\\n0.52014,20,3.97,0,0.647,8.398,91.5,2.2885,5,264,13,386.86,5.91,48.8\\r\\n0.82526,20,3.97,0,0.647,7.327,94.5,2.0788,5,264,13,393.42,11.25,31\\r\\n0.55007,20,3.97,0,0.647,7.206,91.6,1.9301,5,264,13,387.89,8.1,36.5\\r\\n0.76162,20,3.97,0,0.647,5.56,62.8,1.9865,5,264,13,392.4,10.45,22.8\\r\\n0.7857,20,3.97,0,0.647,7.014,84.6,2.1329,5,264,13,384.07,14.79,30.7\\r\\n0.57834,20,3.97,0,0.575,8.297,67,2.4216,5,264,13,384.54,7.44,50\\r\\n0.5405,20,3.97,0,0.575,7.47,52.6,2.872,5,264,13,390.3,3.16,43.5\\r\\n0.09065,20,6.96,1,0.464,5.92,61.5,3.9175,3,223,18.6,391.34,13.65,20.7\\r\\n0.29916,20,6.96,0,0.464,5.856,42.1,4.429,3,223,18.6,388.65,13,21.1\\r\\n'"
      ]
     },
     "execution_count": 71,
     "metadata": {},
     "output_type": "execute_result"
    }
   ],
   "source": [
    "dbutils.fs.head(\"/FileStore/tables/mydata/b1.csv\")"
   ]
  },
  {
   "cell_type": "code",
   "execution_count": 0,
   "metadata": {
    "application/vnd.databricks.v1+cell": {
     "cellMetadata": {
      "byteLimit": 2048000,
      "rowLimit": 10000
     },
     "inputWidgets": {},
     "nuid": "84bae8bd-ad61-472a-ae30-1794603adb39",
     "showTitle": false,
     "title": ""
    }
   },
   "outputs": [
    {
     "output_type": "execute_result",
     "data": {
      "text/plain": [
       "True"
      ]
     },
     "execution_count": 74,
     "metadata": {},
     "output_type": "execute_result"
    }
   ],
   "source": [
    "dbutils.fs.mv(\"/FileStore/tables/b1.csv\",\"/FileStore/tables/mydata\")"
   ]
  },
  {
   "cell_type": "code",
   "execution_count": 0,
   "metadata": {
    "application/vnd.databricks.v1+cell": {
     "cellMetadata": {
      "byteLimit": 2048000,
      "rowLimit": 10000
     },
     "inputWidgets": {},
     "nuid": "281f1458-3a85-4d2f-91d4-9d83310bdce6",
     "showTitle": false,
     "title": ""
    }
   },
   "outputs": [
    {
     "output_type": "display_data",
     "data": {
      "text/html": [
       "<style scoped>\n",
       "  .table-result-container {\n",
       "    max-height: 300px;\n",
       "    overflow: auto;\n",
       "  }\n",
       "  table, th, td {\n",
       "    border: 1px solid black;\n",
       "    border-collapse: collapse;\n",
       "  }\n",
       "  th, td {\n",
       "    padding: 5px;\n",
       "  }\n",
       "  th {\n",
       "    text-align: left;\n",
       "  }\n",
       "</style><div class='table-result-container'><table class='table-result'><thead style='background-color: white'><tr><th>path</th><th>name</th><th>size</th><th>modificationTime</th></tr></thead><tbody><tr><td>dbfs:/FileStore/</td><td>FileStore/</td><td>0</td><td>1708061316000</td></tr><tr><td>dbfs:/Volume/</td><td>Volume/</td><td>0</td><td>0</td></tr><tr><td>dbfs:/Volumes/</td><td>Volumes/</td><td>0</td><td>0</td></tr><tr><td>dbfs:/databricks-datasets/</td><td>databricks-datasets/</td><td>0</td><td>0</td></tr><tr><td>dbfs:/databricks-results/</td><td>databricks-results/</td><td>0</td><td>0</td></tr><tr><td>dbfs:/mydata/</td><td>mydata/</td><td>0</td><td>1708065444000</td></tr><tr><td>dbfs:/user/</td><td>user/</td><td>0</td><td>1708061216000</td></tr><tr><td>dbfs:/volume/</td><td>volume/</td><td>0</td><td>0</td></tr><tr><td>dbfs:/volumes/</td><td>volumes/</td><td>0</td><td>0</td></tr></tbody></table></div>"
      ]
     },
     "metadata": {
      "application/vnd.databricks.v1+output": {
       "addedWidgets": {},
       "aggData": [],
       "aggError": "",
       "aggOverflow": false,
       "aggSchema": [],
       "aggSeriesLimitReached": false,
       "aggType": "",
       "arguments": {},
       "columnCustomDisplayInfos": {},
       "data": [
        [
         "dbfs:/FileStore/",
         "FileStore/",
         0,
         1708061316000
        ],
        [
         "dbfs:/Volume/",
         "Volume/",
         0,
         0
        ],
        [
         "dbfs:/Volumes/",
         "Volumes/",
         0,
         0
        ],
        [
         "dbfs:/databricks-datasets/",
         "databricks-datasets/",
         0,
         0
        ],
        [
         "dbfs:/databricks-results/",
         "databricks-results/",
         0,
         0
        ],
        [
         "dbfs:/mydata/",
         "mydata/",
         0,
         1708065444000
        ],
        [
         "dbfs:/user/",
         "user/",
         0,
         1708061216000
        ],
        [
         "dbfs:/volume/",
         "volume/",
         0,
         0
        ],
        [
         "dbfs:/volumes/",
         "volumes/",
         0,
         0
        ]
       ],
       "datasetInfos": [],
       "dbfsResultPath": null,
       "isJsonSchema": true,
       "metadata": {
        "isDbfsCommandResult": false
       },
       "overflow": false,
       "plotOptions": {
        "customPlotOptions": {},
        "displayType": "table",
        "pivotAggregation": null,
        "pivotColumns": null,
        "xColumns": null,
        "yColumns": null
       },
       "removedWidgets": [],
       "schema": [
        {
         "metadata": "{}",
         "name": "path",
         "type": "\"string\""
        },
        {
         "metadata": "{}",
         "name": "name",
         "type": "\"string\""
        },
        {
         "metadata": "{}",
         "name": "size",
         "type": "\"long\""
        },
        {
         "metadata": "{}",
         "name": "modificationTime",
         "type": "\"long\""
        }
       ],
       "type": "table"
      }
     },
     "output_type": "display_data"
    }
   ],
   "source": [
    "%fs ls"
   ]
  },
  {
   "cell_type": "code",
   "execution_count": 0,
   "metadata": {
    "application/vnd.databricks.v1+cell": {
     "cellMetadata": {
      "byteLimit": 2048000,
      "rowLimit": 10000
     },
     "inputWidgets": {},
     "nuid": "0df393c4-854a-45db-8caf-c866775f491c",
     "showTitle": false,
     "title": ""
    }
   },
   "outputs": [
    {
     "output_type": "execute_result",
     "data": {
      "text/plain": [
       "[FileInfo(path='dbfs:/FileStore/tables/b1-1.csv', name='b1-1.csv', size=18863, modificationTime=1708061368000),\n",
       " FileInfo(path='dbfs:/FileStore/tables/churn.csv', name='churn.csv', size=635954, modificationTime=1708066624000),\n",
       " FileInfo(path='dbfs:/FileStore/tables/mydata/', name='mydata/', size=0, modificationTime=1708066225000)]"
      ]
     },
     "execution_count": 77,
     "metadata": {},
     "output_type": "execute_result"
    }
   ],
   "source": [
    "dbutils.fs.ls(\"/FileStore/tables\")"
   ]
  },
  {
   "cell_type": "code",
   "execution_count": 0,
   "metadata": {
    "application/vnd.databricks.v1+cell": {
     "cellMetadata": {
      "byteLimit": 2048000,
      "rowLimit": 10000
     },
     "inputWidgets": {},
     "nuid": "261dd35c-297e-424e-9e27-602f8b2b495e",
     "showTitle": false,
     "title": ""
    }
   },
   "outputs": [
    {
     "output_type": "execute_result",
     "data": {
      "text/plain": [
       "[FileInfo(path='dbfs:/FileStore/tables/mydata/b1.csv', name='b1.csv', size=18863, modificationTime=1708066513000),\n",
       " FileInfo(path='dbfs:/FileStore/tables/mydata/churn.csv', name='churn.csv', size=635954, modificationTime=1708066786000)]"
      ]
     },
     "execution_count": 82,
     "metadata": {},
     "output_type": "execute_result"
    }
   ],
   "source": [
    "dbutils.fs.ls(\"/FileStore/tables/mydata\")"
   ]
  },
  {
   "cell_type": "code",
   "execution_count": 0,
   "metadata": {
    "application/vnd.databricks.v1+cell": {
     "cellMetadata": {
      "byteLimit": 2048000,
      "rowLimit": 10000
     },
     "inputWidgets": {},
     "nuid": "2525e6ce-6962-4ede-980b-d8266b871f80",
     "showTitle": false,
     "title": ""
    }
   },
   "outputs": [
    {
     "output_type": "execute_result",
     "data": {
      "text/plain": [
       "True"
      ]
     },
     "execution_count": 79,
     "metadata": {},
     "output_type": "execute_result"
    }
   ],
   "source": [
    "dbutils.fs.cp(\"FileStore/tables/churn.csv\",\"FileStore/tables/mydata\")"
   ]
  },
  {
   "cell_type": "code",
   "execution_count": 0,
   "metadata": {
    "application/vnd.databricks.v1+cell": {
     "cellMetadata": {
      "byteLimit": 2048000,
      "rowLimit": 10000
     },
     "inputWidgets": {},
     "nuid": "2f9160bd-24b1-4353-91d7-54808e3874d8",
     "showTitle": false,
     "title": ""
    }
   },
   "outputs": [
    {
     "output_type": "execute_result",
     "data": {
      "text/plain": [
       "True"
      ]
     },
     "execution_count": 81,
     "metadata": {},
     "output_type": "execute_result"
    }
   ],
   "source": [
    "dbutils.fs.mv(\"FileStore/tables/churn.csv\",\"FileStore/tables/mydata\")"
   ]
  },
  {
   "cell_type": "code",
   "execution_count": 0,
   "metadata": {
    "application/vnd.databricks.v1+cell": {
     "cellMetadata": {
      "byteLimit": 2048000,
      "rowLimit": 10000
     },
     "inputWidgets": {},
     "nuid": "26fa33a0-294b-460f-9482-400f07d95754",
     "showTitle": false,
     "title": ""
    }
   },
   "outputs": [
    {
     "output_type": "execute_result",
     "data": {
      "text/plain": [
       "[FileInfo(path='dbfs:/FileStore/tables/b1-1.csv', name='b1-1.csv', size=18863, modificationTime=1708061368000),\n",
       " FileInfo(path='dbfs:/FileStore/tables/mydata/', name='mydata/', size=0, modificationTime=1708066225000)]"
      ]
     },
     "execution_count": 83,
     "metadata": {},
     "output_type": "execute_result"
    }
   ],
   "source": [
    "dbutils.fs.ls(\"/FileStore/tables\")"
   ]
  },
  {
   "cell_type": "code",
   "execution_count": 0,
   "metadata": {
    "application/vnd.databricks.v1+cell": {
     "cellMetadata": {
      "byteLimit": 2048000,
      "rowLimit": 10000
     },
     "collapsed": true,
     "inputWidgets": {},
     "nuid": "695a8944-302e-4668-ba7b-cd98aeef1880",
     "showTitle": false,
     "title": ""
    }
   },
   "outputs": [
    {
     "output_type": "display_data",
     "data": {
      "text/html": [
       "<style scoped>\n",
       "  .table-result-container {\n",
       "    max-height: 300px;\n",
       "    overflow: auto;\n",
       "  }\n",
       "  table, th, td {\n",
       "    border: 1px solid black;\n",
       "    border-collapse: collapse;\n",
       "  }\n",
       "  th, td {\n",
       "    padding: 5px;\n",
       "  }\n",
       "  th {\n",
       "    text-align: left;\n",
       "  }\n",
       "</style><div class='table-result-container'><table class='table-result'><thead style='background-color: white'><tr><th>path</th><th>name</th><th>size</th><th>modificationTime</th></tr></thead><tbody><tr><td>dbfs:/FileStore/</td><td>FileStore/</td><td>0</td><td>1708061316000</td></tr><tr><td>dbfs:/Volume/</td><td>Volume/</td><td>0</td><td>0</td></tr><tr><td>dbfs:/Volumes/</td><td>Volumes/</td><td>0</td><td>0</td></tr><tr><td>dbfs:/databricks-datasets/</td><td>databricks-datasets/</td><td>0</td><td>0</td></tr><tr><td>dbfs:/databricks-results/</td><td>databricks-results/</td><td>0</td><td>0</td></tr><tr><td>dbfs:/mydata/</td><td>mydata/</td><td>0</td><td>1708065444000</td></tr><tr><td>dbfs:/user/</td><td>user/</td><td>0</td><td>1708061216000</td></tr><tr><td>dbfs:/volume/</td><td>volume/</td><td>0</td><td>0</td></tr><tr><td>dbfs:/volumes/</td><td>volumes/</td><td>0</td><td>0</td></tr></tbody></table></div>"
      ]
     },
     "metadata": {
      "application/vnd.databricks.v1+output": {
       "addedWidgets": {},
       "aggData": [],
       "aggError": "",
       "aggOverflow": false,
       "aggSchema": [],
       "aggSeriesLimitReached": false,
       "aggType": "",
       "arguments": {},
       "columnCustomDisplayInfos": {},
       "data": [
        [
         "dbfs:/FileStore/",
         "FileStore/",
         0,
         1708061316000
        ],
        [
         "dbfs:/Volume/",
         "Volume/",
         0,
         0
        ],
        [
         "dbfs:/Volumes/",
         "Volumes/",
         0,
         0
        ],
        [
         "dbfs:/databricks-datasets/",
         "databricks-datasets/",
         0,
         0
        ],
        [
         "dbfs:/databricks-results/",
         "databricks-results/",
         0,
         0
        ],
        [
         "dbfs:/mydata/",
         "mydata/",
         0,
         1708065444000
        ],
        [
         "dbfs:/user/",
         "user/",
         0,
         1708061216000
        ],
        [
         "dbfs:/volume/",
         "volume/",
         0,
         0
        ],
        [
         "dbfs:/volumes/",
         "volumes/",
         0,
         0
        ]
       ],
       "datasetInfos": [],
       "dbfsResultPath": null,
       "isJsonSchema": true,
       "metadata": {
        "isDbfsCommandResult": false
       },
       "overflow": false,
       "plotOptions": {
        "customPlotOptions": {},
        "displayType": "table",
        "pivotAggregation": null,
        "pivotColumns": null,
        "xColumns": null,
        "yColumns": null
       },
       "removedWidgets": [],
       "schema": [
        {
         "metadata": "{}",
         "name": "path",
         "type": "\"string\""
        },
        {
         "metadata": "{}",
         "name": "name",
         "type": "\"string\""
        },
        {
         "metadata": "{}",
         "name": "size",
         "type": "\"long\""
        },
        {
         "metadata": "{}",
         "name": "modificationTime",
         "type": "\"long\""
        }
       ],
       "type": "table"
      }
     },
     "output_type": "display_data"
    }
   ],
   "source": [
    "%fs ls"
   ]
  },
  {
   "cell_type": "code",
   "execution_count": 0,
   "metadata": {
    "application/vnd.databricks.v1+cell": {
     "cellMetadata": {
      "byteLimit": 2048000,
      "rowLimit": 10000
     },
     "collapsed": true,
     "inputWidgets": {},
     "nuid": "867ce38f-8182-4b7b-9c7b-8d410d3d9ebf",
     "showTitle": false,
     "title": ""
    }
   },
   "outputs": [
    {
     "output_type": "display_data",
     "data": {
      "text/html": [
       "<div class = \"ansiout\"><b>dbutils.widgets</b> provides utilities for working with notebook widgets. You can create\n",
       "different types of widgets and get their bound value.\n",
       "\n",
       "For more info about a method, use <b>dbutils.widgets.help(\"methodName\")</b>.\n",
       "    <h3></h3><b>combobox(name: String, defaultValue: String, choices: Seq, label: String): void</b> -> Creates a combobox input widget with a given name, default value and choices<br /><b>dropdown(name: String, defaultValue: String, choices: Seq, label: String): void</b> -> Creates a dropdown input widget a with given name, default value and choices<br /><b>get(name: String): String</b> -> Retrieves current value of an input widget<br /><b>getArgument(name: String, optional: String): String</b> -> (DEPRECATED) Equivalent to get<br /><b>multiselect(name: String, defaultValue: String, choices: Seq, label: String): void</b> -> Creates a multiselect input widget with a given name, default value and choices<br /><b>remove(name: String): void</b> -> Removes an input widget from the notebook<br /><b>removeAll: void</b> -> Removes all widgets in the notebook<br /><b>text(name: String, defaultValue: String, label: String): void</b> -> Creates a text input widget with a given name and default value<br /><br /></div>"
      ]
     },
     "metadata": {},
     "output_type": "display_data"
    }
   ],
   "source": [
    "dbutils.widgets.help()"
   ]
  },
  {
   "cell_type": "code",
   "execution_count": 0,
   "metadata": {
    "application/vnd.databricks.v1+cell": {
     "cellMetadata": {
      "byteLimit": 2048000,
      "rowLimit": 10000
     },
     "inputWidgets": {},
     "nuid": "82b13541-3886-436d-a73c-4d69e8428a32",
     "showTitle": false,
     "title": ""
    }
   },
   "outputs": [],
   "source": [
    "dbutils.widgets.text(\"folder_name\", \"\",\"\")"
   ]
  },
  {
   "cell_type": "code",
   "execution_count": 0,
   "metadata": {
    "application/vnd.databricks.v1+cell": {
     "cellMetadata": {
      "byteLimit": 2048000,
      "rowLimit": 10000
     },
     "inputWidgets": {},
     "nuid": "31c7fe27-b532-48f1-a362-2ab320527cbf",
     "showTitle": false,
     "title": ""
    }
   },
   "outputs": [],
   "source": [
    "dbutils.widgets.text(\"file_name\", \"\",\"\")"
   ]
  },
  {
   "cell_type": "code",
   "execution_count": 0,
   "metadata": {
    "application/vnd.databricks.v1+cell": {
     "cellMetadata": {
      "byteLimit": 2048000,
      "rowLimit": 10000
     },
     "inputWidgets": {},
     "nuid": "ddb69846-4c44-4681-801d-00915f2ae0c0",
     "showTitle": false,
     "title": ""
    }
   },
   "outputs": [],
   "source": [
    "folder_path = dbutils.widgets.get(\"folder_name\")\n",
    "file_path = dbutils.widgets.get(\"file_name\")"
   ]
  },
  {
   "cell_type": "code",
   "execution_count": 0,
   "metadata": {
    "application/vnd.databricks.v1+cell": {
     "cellMetadata": {
      "byteLimit": 2048000,
      "rowLimit": 10000
     },
     "inputWidgets": {},
     "nuid": "07f606ca-8086-4e9d-9d7c-3b15b0721ecf",
     "showTitle": false,
     "title": ""
    }
   },
   "outputs": [
    {
     "output_type": "stream",
     "name": "stdout",
     "output_type": "stream",
     "text": [
      "mydata churn.csv\n"
     ]
    }
   ],
   "source": [
    "print(folder_path,file_path)"
   ]
  },
  {
   "cell_type": "code",
   "execution_count": 0,
   "metadata": {
    "application/vnd.databricks.v1+cell": {
     "cellMetadata": {
      "byteLimit": 2048000,
      "rowLimit": 10000
     },
     "inputWidgets": {},
     "nuid": "344604ed-5eb7-4572-9abc-242569dc511b",
     "showTitle": false,
     "title": ""
    }
   },
   "outputs": [],
   "source": [
    "dbutils.widgets.removeAll()"
   ]
  },
  {
   "cell_type": "code",
   "execution_count": 0,
   "metadata": {
    "application/vnd.databricks.v1+cell": {
     "cellMetadata": {
      "byteLimit": 2048000,
      "rowLimit": 10000
     },
     "collapsed": true,
     "inputWidgets": {},
     "nuid": "f504fd07-627d-489a-b66d-23bed27685cd",
     "showTitle": false,
     "title": ""
    }
   },
   "outputs": [],
   "source": [
    "dbutils.widgets.dropdown(name=\"hello\",defaultValue=\"others\",choices=[\"good\",\"bad\",\"avg\", \"others\"])"
   ]
  },
  {
   "cell_type": "code",
   "execution_count": 0,
   "metadata": {
    "application/vnd.databricks.v1+cell": {
     "cellMetadata": {
      "byteLimit": 2048000,
      "rowLimit": 10000
     },
     "collapsed": true,
     "inputWidgets": {},
     "nuid": "7b53f5f8-2827-44be-98e7-f02ff69bf869",
     "showTitle": false,
     "title": ""
    }
   },
   "outputs": [
    {
     "output_type": "display_data",
     "data": {
      "text/html": [
       "<div class = \"ansiout\"><b>dbutils.widgets</b> provides utilities for working with notebook widgets. You can create\n",
       "different types of widgets and get their bound value.\n",
       "\n",
       "For more info about a method, use <b>dbutils.widgets.help(\"methodName\")</b>.\n",
       "    <h3></h3><b>combobox(name: String, defaultValue: String, choices: Seq, label: String): void</b> -> Creates a combobox input widget with a given name, default value and choices<br /><b>dropdown(name: String, defaultValue: String, choices: Seq, label: String): void</b> -> Creates a dropdown input widget a with given name, default value and choices<br /><b>get(name: String): String</b> -> Retrieves current value of an input widget<br /><b>getArgument(name: String, optional: String): String</b> -> (DEPRECATED) Equivalent to get<br /><b>multiselect(name: String, defaultValue: String, choices: Seq, label: String): void</b> -> Creates a multiselect input widget with a given name, default value and choices<br /><b>remove(name: String): void</b> -> Removes an input widget from the notebook<br /><b>removeAll: void</b> -> Removes all widgets in the notebook<br /><b>text(name: String, defaultValue: String, label: String): void</b> -> Creates a text input widget with a given name and default value<br /><br /></div>"
      ]
     },
     "metadata": {},
     "output_type": "display_data"
    }
   ],
   "source": [
    "dbutils.widgets.help()"
   ]
  },
  {
   "cell_type": "code",
   "execution_count": 0,
   "metadata": {
    "application/vnd.databricks.v1+cell": {
     "cellMetadata": {
      "byteLimit": 2048000,
      "rowLimit": 10000
     },
     "inputWidgets": {},
     "nuid": "9f6115ec-2c9d-4c76-83b3-ce8b0b76f4d2",
     "showTitle": false,
     "title": ""
    }
   },
   "outputs": [],
   "source": [
    "# Explode"
   ]
  },
  {
   "cell_type": "code",
   "execution_count": 0,
   "metadata": {
    "application/vnd.databricks.v1+cell": {
     "cellMetadata": {
      "byteLimit": 2048000,
      "rowLimit": 10000
     },
     "collapsed": true,
     "inputWidgets": {},
     "nuid": "11dcc0d4-baa8-4ecc-96b1-a85ed32fad6f",
     "showTitle": false,
     "title": ""
    }
   },
   "outputs": [],
   "source": [
    "subjects_array = [('Pavan',['ML','DL','Big Data','Cloud']),\n",
    "                  ('Manoj',['Spark','ML','Java',None]),\n",
    "                  ('Monika',['Pyspark','Scala','R','ML']),\n",
    "                  ('Peter',['DL','Big Data','Scala',None]),\n",
    "                  ('John',None)]"
   ]
  },
  {
   "cell_type": "code",
   "execution_count": 0,
   "metadata": {
    "application/vnd.databricks.v1+cell": {
     "cellMetadata": {
      "byteLimit": 2048000,
      "rowLimit": 10000
     },
     "inputWidgets": {},
     "nuid": "29d86ffe-1cee-49b4-a19d-e6085f8079a3",
     "showTitle": false,
     "title": ""
    }
   },
   "outputs": [],
   "source": [
    "df = spark.createDataFrame(subjects_array, schema=['Name','Subjects'])"
   ]
  },
  {
   "cell_type": "code",
   "execution_count": 0,
   "metadata": {
    "application/vnd.databricks.v1+cell": {
     "cellMetadata": {
      "byteLimit": 2048000,
      "rowLimit": 10000
     },
     "collapsed": true,
     "inputWidgets": {},
     "nuid": "0d29a8b1-52f3-4a50-afe5-236d7facca59",
     "showTitle": false,
     "title": ""
    }
   },
   "outputs": [
    {
     "output_type": "stream",
     "name": "stdout",
     "output_type": "stream",
     "text": [
      "root\n |-- Name: string (nullable = true)\n |-- Subjects: array (nullable = true)\n |    |-- element: string (containsNull = true)\n\n"
     ]
    }
   ],
   "source": [
    "df.printSchema()"
   ]
  },
  {
   "cell_type": "code",
   "execution_count": 0,
   "metadata": {
    "application/vnd.databricks.v1+cell": {
     "cellMetadata": {
      "byteLimit": 2048000,
      "rowLimit": 10000
     },
     "collapsed": true,
     "inputWidgets": {},
     "nuid": "3d6e7372-b958-492b-91e4-040ca23b2709",
     "showTitle": false,
     "title": ""
    }
   },
   "outputs": [
    {
     "output_type": "display_data",
     "data": {
      "text/html": [
       "<style scoped>\n",
       "  .table-result-container {\n",
       "    max-height: 300px;\n",
       "    overflow: auto;\n",
       "  }\n",
       "  table, th, td {\n",
       "    border: 1px solid black;\n",
       "    border-collapse: collapse;\n",
       "  }\n",
       "  th, td {\n",
       "    padding: 5px;\n",
       "  }\n",
       "  th {\n",
       "    text-align: left;\n",
       "  }\n",
       "</style><div class='table-result-container'><table class='table-result'><thead style='background-color: white'><tr><th>Name</th><th>Subjects</th></tr></thead><tbody><tr><td>Pavan</td><td>List(ML, DL, Big Data, Cloud)</td></tr><tr><td>Manoj</td><td>List(Spark, ML, Java, null)</td></tr><tr><td>Monika</td><td>List(Pyspark, Scala, R, ML)</td></tr><tr><td>Peter</td><td>List(DL, Big Data, Scala, null)</td></tr><tr><td>John</td><td>null</td></tr></tbody></table></div>"
      ]
     },
     "metadata": {
      "application/vnd.databricks.v1+output": {
       "addedWidgets": {},
       "aggData": [],
       "aggError": "",
       "aggOverflow": false,
       "aggSchema": [],
       "aggSeriesLimitReached": false,
       "aggType": "",
       "arguments": {},
       "columnCustomDisplayInfos": {},
       "data": [
        [
         "Pavan",
         [
          "ML",
          "DL",
          "Big Data",
          "Cloud"
         ]
        ],
        [
         "Manoj",
         [
          "Spark",
          "ML",
          "Java",
          null
         ]
        ],
        [
         "Monika",
         [
          "Pyspark",
          "Scala",
          "R",
          "ML"
         ]
        ],
        [
         "Peter",
         [
          "DL",
          "Big Data",
          "Scala",
          null
         ]
        ],
        [
         "John",
         null
        ]
       ],
       "datasetInfos": [],
       "dbfsResultPath": null,
       "isJsonSchema": true,
       "metadata": {},
       "overflow": false,
       "plotOptions": {
        "customPlotOptions": {},
        "displayType": "table",
        "pivotAggregation": null,
        "pivotColumns": null,
        "xColumns": null,
        "yColumns": null
       },
       "removedWidgets": [],
       "schema": [
        {
         "metadata": "{}",
         "name": "Name",
         "type": "\"string\""
        },
        {
         "metadata": "{}",
         "name": "Subjects",
         "type": "{\"type\":\"array\",\"elementType\":\"string\",\"containsNull\":true}"
        }
       ],
       "type": "table"
      }
     },
     "output_type": "display_data"
    }
   ],
   "source": [
    "display(df)"
   ]
  },
  {
   "cell_type": "code",
   "execution_count": 0,
   "metadata": {
    "application/vnd.databricks.v1+cell": {
     "cellMetadata": {
      "byteLimit": 2048000,
      "rowLimit": 10000
     },
     "inputWidgets": {},
     "nuid": "ea1645d7-fbbe-495f-8bd4-fc974206fcd4",
     "showTitle": false,
     "title": ""
    }
   },
   "outputs": [],
   "source": [
    "from pyspark.sql.functions import explode, explode_outer, posexplode_outer"
   ]
  },
  {
   "cell_type": "code",
   "execution_count": 0,
   "metadata": {
    "application/vnd.databricks.v1+cell": {
     "cellMetadata": {
      "byteLimit": 2048000,
      "rowLimit": 10000
     },
     "collapsed": true,
     "inputWidgets": {},
     "nuid": "160095cd-9737-4808-b75a-faf4255e3a8f",
     "showTitle": false,
     "title": ""
    }
   },
   "outputs": [
    {
     "output_type": "display_data",
     "data": {
      "text/html": [
       "<style scoped>\n",
       "  .table-result-container {\n",
       "    max-height: 300px;\n",
       "    overflow: auto;\n",
       "  }\n",
       "  table, th, td {\n",
       "    border: 1px solid black;\n",
       "    border-collapse: collapse;\n",
       "  }\n",
       "  th, td {\n",
       "    padding: 5px;\n",
       "  }\n",
       "  th {\n",
       "    text-align: left;\n",
       "  }\n",
       "</style><div class='table-result-container'><table class='table-result'><thead style='background-color: white'><tr><th>Name</th><th>col</th></tr></thead><tbody><tr><td>Pavan</td><td>ML</td></tr><tr><td>Pavan</td><td>DL</td></tr><tr><td>Pavan</td><td>Big Data</td></tr><tr><td>Pavan</td><td>Cloud</td></tr><tr><td>Manoj</td><td>Spark</td></tr><tr><td>Manoj</td><td>ML</td></tr><tr><td>Manoj</td><td>Java</td></tr><tr><td>Manoj</td><td>null</td></tr><tr><td>Monika</td><td>Pyspark</td></tr><tr><td>Monika</td><td>Scala</td></tr><tr><td>Monika</td><td>R</td></tr><tr><td>Monika</td><td>ML</td></tr><tr><td>Peter</td><td>DL</td></tr><tr><td>Peter</td><td>Big Data</td></tr><tr><td>Peter</td><td>Scala</td></tr><tr><td>Peter</td><td>null</td></tr></tbody></table></div>"
      ]
     },
     "metadata": {
      "application/vnd.databricks.v1+output": {
       "addedWidgets": {},
       "aggData": [],
       "aggError": "",
       "aggOverflow": false,
       "aggSchema": [],
       "aggSeriesLimitReached": false,
       "aggType": "",
       "arguments": {},
       "columnCustomDisplayInfos": {},
       "data": [
        [
         "Pavan",
         "ML"
        ],
        [
         "Pavan",
         "DL"
        ],
        [
         "Pavan",
         "Big Data"
        ],
        [
         "Pavan",
         "Cloud"
        ],
        [
         "Manoj",
         "Spark"
        ],
        [
         "Manoj",
         "ML"
        ],
        [
         "Manoj",
         "Java"
        ],
        [
         "Manoj",
         null
        ],
        [
         "Monika",
         "Pyspark"
        ],
        [
         "Monika",
         "Scala"
        ],
        [
         "Monika",
         "R"
        ],
        [
         "Monika",
         "ML"
        ],
        [
         "Peter",
         "DL"
        ],
        [
         "Peter",
         "Big Data"
        ],
        [
         "Peter",
         "Scala"
        ],
        [
         "Peter",
         null
        ]
       ],
       "datasetInfos": [],
       "dbfsResultPath": null,
       "isJsonSchema": true,
       "metadata": {},
       "overflow": false,
       "plotOptions": {
        "customPlotOptions": {},
        "displayType": "table",
        "pivotAggregation": null,
        "pivotColumns": null,
        "xColumns": null,
        "yColumns": null
       },
       "removedWidgets": [],
       "schema": [
        {
         "metadata": "{}",
         "name": "Name",
         "type": "\"string\""
        },
        {
         "metadata": "{}",
         "name": "col",
         "type": "\"string\""
        }
       ],
       "type": "table"
      }
     },
     "output_type": "display_data"
    }
   ],
   "source": [
    "display(df.select(df.Name,explode(df.Subjects)))"
   ]
  },
  {
   "cell_type": "code",
   "execution_count": 0,
   "metadata": {
    "application/vnd.databricks.v1+cell": {
     "cellMetadata": {
      "byteLimit": 2048000,
      "rowLimit": 10000
     },
     "collapsed": true,
     "inputWidgets": {},
     "nuid": "514241a8-a45b-4706-9ac9-a87a70ce6ff0",
     "showTitle": false,
     "title": ""
    }
   },
   "outputs": [
    {
     "output_type": "display_data",
     "data": {
      "text/html": [
       "<style scoped>\n",
       "  .table-result-container {\n",
       "    max-height: 300px;\n",
       "    overflow: auto;\n",
       "  }\n",
       "  table, th, td {\n",
       "    border: 1px solid black;\n",
       "    border-collapse: collapse;\n",
       "  }\n",
       "  th, td {\n",
       "    padding: 5px;\n",
       "  }\n",
       "  th {\n",
       "    text-align: left;\n",
       "  }\n",
       "</style><div class='table-result-container'><table class='table-result'><thead style='background-color: white'><tr><th>Name</th><th>col</th></tr></thead><tbody><tr><td>Pavan</td><td>ML</td></tr><tr><td>Pavan</td><td>DL</td></tr><tr><td>Pavan</td><td>Big Data</td></tr><tr><td>Pavan</td><td>Cloud</td></tr><tr><td>Manoj</td><td>Spark</td></tr><tr><td>Manoj</td><td>ML</td></tr><tr><td>Manoj</td><td>Java</td></tr><tr><td>Manoj</td><td>null</td></tr><tr><td>Monika</td><td>Pyspark</td></tr><tr><td>Monika</td><td>Scala</td></tr><tr><td>Monika</td><td>R</td></tr><tr><td>Monika</td><td>ML</td></tr><tr><td>Peter</td><td>DL</td></tr><tr><td>Peter</td><td>Big Data</td></tr><tr><td>Peter</td><td>Scala</td></tr><tr><td>Peter</td><td>null</td></tr><tr><td>John</td><td>null</td></tr></tbody></table></div>"
      ]
     },
     "metadata": {
      "application/vnd.databricks.v1+output": {
       "addedWidgets": {},
       "aggData": [],
       "aggError": "",
       "aggOverflow": false,
       "aggSchema": [],
       "aggSeriesLimitReached": false,
       "aggType": "",
       "arguments": {},
       "columnCustomDisplayInfos": {},
       "data": [
        [
         "Pavan",
         "ML"
        ],
        [
         "Pavan",
         "DL"
        ],
        [
         "Pavan",
         "Big Data"
        ],
        [
         "Pavan",
         "Cloud"
        ],
        [
         "Manoj",
         "Spark"
        ],
        [
         "Manoj",
         "ML"
        ],
        [
         "Manoj",
         "Java"
        ],
        [
         "Manoj",
         null
        ],
        [
         "Monika",
         "Pyspark"
        ],
        [
         "Monika",
         "Scala"
        ],
        [
         "Monika",
         "R"
        ],
        [
         "Monika",
         "ML"
        ],
        [
         "Peter",
         "DL"
        ],
        [
         "Peter",
         "Big Data"
        ],
        [
         "Peter",
         "Scala"
        ],
        [
         "Peter",
         null
        ],
        [
         "John",
         null
        ]
       ],
       "datasetInfos": [],
       "dbfsResultPath": null,
       "isJsonSchema": true,
       "metadata": {},
       "overflow": false,
       "plotOptions": {
        "customPlotOptions": {},
        "displayType": "table",
        "pivotAggregation": null,
        "pivotColumns": null,
        "xColumns": null,
        "yColumns": null
       },
       "removedWidgets": [],
       "schema": [
        {
         "metadata": "{}",
         "name": "Name",
         "type": "\"string\""
        },
        {
         "metadata": "{}",
         "name": "col",
         "type": "\"string\""
        }
       ],
       "type": "table"
      }
     },
     "output_type": "display_data"
    }
   ],
   "source": [
    "display(df.select(df.Name,explode_outer(df.Subjects)))"
   ]
  },
  {
   "cell_type": "code",
   "execution_count": 0,
   "metadata": {
    "application/vnd.databricks.v1+cell": {
     "cellMetadata": {
      "byteLimit": 2048000,
      "rowLimit": 10000
     },
     "collapsed": true,
     "inputWidgets": {},
     "nuid": "13dc29ac-e51d-415f-8165-ff38210f5158",
     "showTitle": false,
     "title": ""
    }
   },
   "outputs": [
    {
     "output_type": "display_data",
     "data": {
      "text/html": [
       "<style scoped>\n",
       "  .table-result-container {\n",
       "    max-height: 300px;\n",
       "    overflow: auto;\n",
       "  }\n",
       "  table, th, td {\n",
       "    border: 1px solid black;\n",
       "    border-collapse: collapse;\n",
       "  }\n",
       "  th, td {\n",
       "    padding: 5px;\n",
       "  }\n",
       "  th {\n",
       "    text-align: left;\n",
       "  }\n",
       "</style><div class='table-result-container'><table class='table-result'><thead style='background-color: white'><tr><th>Name</th><th>pos</th><th>col</th></tr></thead><tbody><tr><td>Pavan</td><td>0</td><td>ML</td></tr><tr><td>Pavan</td><td>1</td><td>DL</td></tr><tr><td>Pavan</td><td>2</td><td>Big Data</td></tr><tr><td>Pavan</td><td>3</td><td>Cloud</td></tr><tr><td>Manoj</td><td>0</td><td>Spark</td></tr><tr><td>Manoj</td><td>1</td><td>ML</td></tr><tr><td>Manoj</td><td>2</td><td>Java</td></tr><tr><td>Manoj</td><td>3</td><td>null</td></tr><tr><td>Monika</td><td>0</td><td>Pyspark</td></tr><tr><td>Monika</td><td>1</td><td>Scala</td></tr><tr><td>Monika</td><td>2</td><td>R</td></tr><tr><td>Monika</td><td>3</td><td>ML</td></tr><tr><td>Peter</td><td>0</td><td>DL</td></tr><tr><td>Peter</td><td>1</td><td>Big Data</td></tr><tr><td>Peter</td><td>2</td><td>Scala</td></tr><tr><td>Peter</td><td>3</td><td>null</td></tr><tr><td>John</td><td>null</td><td>null</td></tr></tbody></table></div>"
      ]
     },
     "metadata": {
      "application/vnd.databricks.v1+output": {
       "addedWidgets": {},
       "aggData": [],
       "aggError": "",
       "aggOverflow": false,
       "aggSchema": [],
       "aggSeriesLimitReached": false,
       "aggType": "",
       "arguments": {},
       "columnCustomDisplayInfos": {},
       "data": [
        [
         "Pavan",
         0,
         "ML"
        ],
        [
         "Pavan",
         1,
         "DL"
        ],
        [
         "Pavan",
         2,
         "Big Data"
        ],
        [
         "Pavan",
         3,
         "Cloud"
        ],
        [
         "Manoj",
         0,
         "Spark"
        ],
        [
         "Manoj",
         1,
         "ML"
        ],
        [
         "Manoj",
         2,
         "Java"
        ],
        [
         "Manoj",
         3,
         null
        ],
        [
         "Monika",
         0,
         "Pyspark"
        ],
        [
         "Monika",
         1,
         "Scala"
        ],
        [
         "Monika",
         2,
         "R"
        ],
        [
         "Monika",
         3,
         "ML"
        ],
        [
         "Peter",
         0,
         "DL"
        ],
        [
         "Peter",
         1,
         "Big Data"
        ],
        [
         "Peter",
         2,
         "Scala"
        ],
        [
         "Peter",
         3,
         null
        ],
        [
         "John",
         null,
         null
        ]
       ],
       "datasetInfos": [],
       "dbfsResultPath": null,
       "isJsonSchema": true,
       "metadata": {},
       "overflow": false,
       "plotOptions": {
        "customPlotOptions": {},
        "displayType": "table",
        "pivotAggregation": null,
        "pivotColumns": null,
        "xColumns": null,
        "yColumns": null
       },
       "removedWidgets": [],
       "schema": [
        {
         "metadata": "{}",
         "name": "Name",
         "type": "\"string\""
        },
        {
         "metadata": "{}",
         "name": "pos",
         "type": "\"integer\""
        },
        {
         "metadata": "{}",
         "name": "col",
         "type": "\"string\""
        }
       ],
       "type": "table"
      }
     },
     "output_type": "display_data"
    }
   ],
   "source": [
    "display(df.select(df.Name,posexplode_outer(df.Subjects)))"
   ]
  },
  {
   "cell_type": "code",
   "execution_count": 0,
   "metadata": {
    "application/vnd.databricks.v1+cell": {
     "cellMetadata": {
      "byteLimit": 2048000,
      "rowLimit": 10000
     },
     "inputWidgets": {},
     "nuid": "c74738bf-174b-48a4-9e82-7af742fde3fd",
     "showTitle": false,
     "title": ""
    }
   },
   "outputs": [
    {
     "output_type": "display_data",
     "data": {
      "text/html": [
       "<style scoped>\n",
       "  .table-result-container {\n",
       "    max-height: 300px;\n",
       "    overflow: auto;\n",
       "  }\n",
       "  table, th, td {\n",
       "    border: 1px solid black;\n",
       "    border-collapse: collapse;\n",
       "  }\n",
       "  th, td {\n",
       "    padding: 5px;\n",
       "  }\n",
       "  th {\n",
       "    text-align: left;\n",
       "  }\n",
       "</style><div class='table-result-container'><table class='table-result'><thead style='background-color: white'><tr><th>Name</th><th>Subjects</th></tr></thead><tbody><tr><td>Pavan</td><td>List(ML, DL, Big Data, Cloud)</td></tr><tr><td>Manoj</td><td>List(Spark, ML, Java, null)</td></tr><tr><td>Monika</td><td>List(Pyspark, Scala, R, ML)</td></tr><tr><td>Peter</td><td>List(DL, Big Data, Scala, null)</td></tr><tr><td>John</td><td>null</td></tr></tbody></table></div>"
      ]
     },
     "metadata": {
      "application/vnd.databricks.v1+output": {
       "addedWidgets": {},
       "aggData": [],
       "aggError": "",
       "aggOverflow": false,
       "aggSchema": [],
       "aggSeriesLimitReached": false,
       "aggType": "",
       "arguments": {},
       "columnCustomDisplayInfos": {},
       "data": [
        [
         "Pavan",
         [
          "ML",
          "DL",
          "Big Data",
          "Cloud"
         ]
        ],
        [
         "Manoj",
         [
          "Spark",
          "ML",
          "Java",
          null
         ]
        ],
        [
         "Monika",
         [
          "Pyspark",
          "Scala",
          "R",
          "ML"
         ]
        ],
        [
         "Peter",
         [
          "DL",
          "Big Data",
          "Scala",
          null
         ]
        ],
        [
         "John",
         null
        ]
       ],
       "datasetInfos": [],
       "dbfsResultPath": null,
       "isJsonSchema": true,
       "metadata": {},
       "overflow": false,
       "plotOptions": {
        "customPlotOptions": {},
        "displayType": "table",
        "pivotAggregation": null,
        "pivotColumns": null,
        "xColumns": null,
        "yColumns": null
       },
       "removedWidgets": [],
       "schema": [
        {
         "metadata": "{}",
         "name": "Name",
         "type": "\"string\""
        },
        {
         "metadata": "{}",
         "name": "Subjects",
         "type": "{\"type\":\"array\",\"elementType\":\"string\",\"containsNull\":true}"
        }
       ],
       "type": "table"
      }
     },
     "output_type": "display_data"
    }
   ],
   "source": [
    "display(df)"
   ]
  },
  {
   "cell_type": "code",
   "execution_count": 0,
   "metadata": {
    "application/vnd.databricks.v1+cell": {
     "cellMetadata": {
      "byteLimit": 2048000,
      "rowLimit": 10000
     },
     "collapsed": true,
     "inputWidgets": {},
     "nuid": "3b7d651b-37e6-4df7-810c-bdf5a8c82b6e",
     "showTitle": false,
     "title": ""
    }
   },
   "outputs": [],
   "source": [
    "data = [(\"Monika\",\"Hadoop\",88,\"P\",90),\n",
    "        (\"Arun\",\"Python\",45,\"P\",70),\n",
    "        (\"Kiran\",\"Python\",30,\"F\",50),\n",
    "        (\"Peter\",\"Pyspark\",None,\"P\",78),\n",
    "        (\"Ramesh\",\"Scala\",76,\"P\",56)]"
   ]
  },
  {
   "cell_type": "code",
   "execution_count": 0,
   "metadata": {
    "application/vnd.databricks.v1+cell": {
     "cellMetadata": {
      "byteLimit": 2048000,
      "rowLimit": 10000
     },
     "inputWidgets": {},
     "nuid": "3a1bddbb-3f9f-4dc2-bc06-a6b7fef78538",
     "showTitle": false,
     "title": ""
    }
   },
   "outputs": [],
   "source": [
    "schema1 = [\"Name\",\"Subject\",\"Marks\",\"Result\",\"Attendance\"]"
   ]
  },
  {
   "cell_type": "code",
   "execution_count": 0,
   "metadata": {
    "application/vnd.databricks.v1+cell": {
     "cellMetadata": {
      "byteLimit": 2048000,
      "rowLimit": 10000
     },
     "inputWidgets": {},
     "nuid": "561025a1-9143-4622-b8bf-ddba0e5ec08f",
     "showTitle": false,
     "title": ""
    }
   },
   "outputs": [],
   "source": [
    "df = spark.createDataFrame(data,schema1)"
   ]
  },
  {
   "cell_type": "code",
   "execution_count": 0,
   "metadata": {
    "application/vnd.databricks.v1+cell": {
     "cellMetadata": {
      "byteLimit": 2048000,
      "rowLimit": 10000
     },
     "inputWidgets": {},
     "nuid": "631f65e0-a1f5-4714-a0ed-ac671f5db76d",
     "showTitle": false,
     "title": ""
    }
   },
   "outputs": [],
   "source": [
    "from pyspark.sql.functions import when"
   ]
  },
  {
   "cell_type": "code",
   "execution_count": 0,
   "metadata": {
    "application/vnd.databricks.v1+cell": {
     "cellMetadata": {
      "byteLimit": 2048000,
      "rowLimit": 10000
     },
     "collapsed": true,
     "inputWidgets": {},
     "nuid": "dfd5310e-ebdd-473e-b0c0-59364c499171",
     "showTitle": false,
     "title": ""
    }
   },
   "outputs": [
    {
     "output_type": "stream",
     "name": "stdout",
     "output_type": "stream",
     "text": [
      "+------+-------+-----+------+----------+\n|  Name|Subject|Marks|Result|Attendance|\n+------+-------+-----+------+----------+\n|Monika| Hadoop|   88|Passed|        90|\n|  Arun| Python|   45|Failed|        70|\n| Kiran| Python|   30|Failed|        50|\n| Peter|Pyspark| NULL|Absent|        78|\n|Ramesh|  Scala|   76|Passed|        56|\n+------+-------+-----+------+----------+\n\n"
     ]
    }
   ],
   "source": [
    "df.withColumn(\"Result\",when(df.Marks>=50,\"Passed\").when(df.Marks<50,\"Failed\").otherwise(\"Absent\")).show()"
   ]
  },
  {
   "cell_type": "code",
   "execution_count": 0,
   "metadata": {
    "application/vnd.databricks.v1+cell": {
     "cellMetadata": {},
     "inputWidgets": {},
     "nuid": "2c836ef4-ee3e-4aaf-a1d2-89b6a29801c1",
     "showTitle": false,
     "title": ""
    }
   },
   "outputs": [],
   "source": [
    "# Create a new column \"status\" which evaluates 2 columns \"marks\" and \"attendance\"\n",
    "# if marks>50 and attendance>70 , \"good\" otherwise \"improve\""
   ]
  },
  {
   "cell_type": "code",
   "execution_count": 0,
   "metadata": {
    "application/vnd.databricks.v1+cell": {
     "cellMetadata": {
      "byteLimit": 2048000,
      "rowLimit": 10000
     },
     "collapsed": true,
     "inputWidgets": {},
     "nuid": "577862f2-a88e-41b0-b959-9a390192e974",
     "showTitle": false,
     "title": ""
    }
   },
   "outputs": [
    {
     "output_type": "stream",
     "name": "stdout",
     "output_type": "stream",
     "text": [
      "+------+-------+-----+------+----------+-------+\n|  Name|Subject|Marks|Result|Attendance| Status|\n+------+-------+-----+------+----------+-------+\n|Monika| Hadoop|   88|     P|        90|   Good|\n|  Arun| Python|   45|     P|        70|improve|\n| Kiran| Python|   30|     F|        50|improve|\n| Peter|Pyspark| NULL|     P|        78|improve|\n|Ramesh|  Scala|   76|     P|        56|improve|\n+------+-------+-----+------+----------+-------+\n\n"
     ]
    }
   ],
   "source": [
    "df.withColumn(\"Status\",when(((df.Marks>50) & (df.Attendance>70)),\"Good\").otherwise(\"improve\")).show()"
   ]
  },
  {
   "cell_type": "code",
   "execution_count": 0,
   "metadata": {
    "application/vnd.databricks.v1+cell": {
     "cellMetadata": {
      "byteLimit": 2048000,
      "rowLimit": 10000
     },
     "collapsed": true,
     "inputWidgets": {},
     "nuid": "b3042c22-0bb3-4974-93fa-386dd16cd0ac",
     "showTitle": false,
     "title": ""
    }
   },
   "outputs": [
    {
     "output_type": "display_data",
     "data": {
      "text/html": [
       "<style scoped>\n",
       "  .table-result-container {\n",
       "    max-height: 300px;\n",
       "    overflow: auto;\n",
       "  }\n",
       "  table, th, td {\n",
       "    border: 1px solid black;\n",
       "    border-collapse: collapse;\n",
       "  }\n",
       "  th, td {\n",
       "    padding: 5px;\n",
       "  }\n",
       "  th {\n",
       "    text-align: left;\n",
       "  }\n",
       "</style><div class='table-result-container'><table class='table-result'><thead style='background-color: white'><tr><th>path</th><th>name</th><th>size</th><th>modificationTime</th></tr></thead><tbody><tr><td>dbfs:/databricks-datasets/nyctaxi-with-zipcodes/subsampled/_delta_log/</td><td>_delta_log/</td><td>0</td><td>1708075868287</td></tr><tr><td>dbfs:/databricks-datasets/nyctaxi-with-zipcodes/subsampled/nyc-zips-dataset-readme.txt</td><td>nyc-zips-dataset-readme.txt</td><td>1648</td><td>1624321662000</td></tr><tr><td>dbfs:/databricks-datasets/nyctaxi-with-zipcodes/subsampled/part-00000-80b68cae-ce6a-41cf-87cd-2573d91b4c07-c000.snappy.parquet</td><td>part-00000-80b68cae-ce6a-41cf-87cd-2573d91b4c07-c000.snappy.parquet</td><td>90261</td><td>1624321661000</td></tr><tr><td>dbfs:/databricks-datasets/nyctaxi-with-zipcodes/subsampled/part-00001-c883942d-366f-478a-be3b-f13fd4bee0ab-c000.snappy.parquet</td><td>part-00001-c883942d-366f-478a-be3b-f13fd4bee0ab-c000.snappy.parquet</td><td>90986</td><td>1624321662000</td></tr><tr><td>dbfs:/databricks-datasets/nyctaxi-with-zipcodes/subsampled/part-00002-bbf9fd81-4b3a-46f3-943e-841b48ae743e-c000.snappy.parquet</td><td>part-00002-bbf9fd81-4b3a-46f3-943e-841b48ae743e-c000.snappy.parquet</td><td>90740</td><td>1624321662000</td></tr><tr><td>dbfs:/databricks-datasets/nyctaxi-with-zipcodes/subsampled/part-00003-3d80435e-15f8-4154-92c7-515307e41c1b-c000.snappy.parquet</td><td>part-00003-3d80435e-15f8-4154-92c7-515307e41c1b-c000.snappy.parquet</td><td>90840</td><td>1624321662000</td></tr><tr><td>dbfs:/databricks-datasets/nyctaxi-with-zipcodes/subsampled/part-00004-0b996b45-a3ff-4339-afeb-8fc691770056-c000.snappy.parquet</td><td>part-00004-0b996b45-a3ff-4339-afeb-8fc691770056-c000.snappy.parquet</td><td>90818</td><td>1624321663000</td></tr><tr><td>dbfs:/databricks-datasets/nyctaxi-with-zipcodes/subsampled/part-00005-ec9ab51b-23a3-4333-8d42-1730df56bfb6-c000.snappy.parquet</td><td>part-00005-ec9ab51b-23a3-4333-8d42-1730df56bfb6-c000.snappy.parquet</td><td>90707</td><td>1624321663000</td></tr></tbody></table></div>"
      ]
     },
     "metadata": {
      "application/vnd.databricks.v1+output": {
       "addedWidgets": {},
       "aggData": [],
       "aggError": "",
       "aggOverflow": false,
       "aggSchema": [],
       "aggSeriesLimitReached": false,
       "aggType": "",
       "arguments": {},
       "columnCustomDisplayInfos": {},
       "data": [
        [
         "dbfs:/databricks-datasets/nyctaxi-with-zipcodes/subsampled/_delta_log/",
         "_delta_log/",
         0,
         1708075868287
        ],
        [
         "dbfs:/databricks-datasets/nyctaxi-with-zipcodes/subsampled/nyc-zips-dataset-readme.txt",
         "nyc-zips-dataset-readme.txt",
         1648,
         1624321662000
        ],
        [
         "dbfs:/databricks-datasets/nyctaxi-with-zipcodes/subsampled/part-00000-80b68cae-ce6a-41cf-87cd-2573d91b4c07-c000.snappy.parquet",
         "part-00000-80b68cae-ce6a-41cf-87cd-2573d91b4c07-c000.snappy.parquet",
         90261,
         1624321661000
        ],
        [
         "dbfs:/databricks-datasets/nyctaxi-with-zipcodes/subsampled/part-00001-c883942d-366f-478a-be3b-f13fd4bee0ab-c000.snappy.parquet",
         "part-00001-c883942d-366f-478a-be3b-f13fd4bee0ab-c000.snappy.parquet",
         90986,
         1624321662000
        ],
        [
         "dbfs:/databricks-datasets/nyctaxi-with-zipcodes/subsampled/part-00002-bbf9fd81-4b3a-46f3-943e-841b48ae743e-c000.snappy.parquet",
         "part-00002-bbf9fd81-4b3a-46f3-943e-841b48ae743e-c000.snappy.parquet",
         90740,
         1624321662000
        ],
        [
         "dbfs:/databricks-datasets/nyctaxi-with-zipcodes/subsampled/part-00003-3d80435e-15f8-4154-92c7-515307e41c1b-c000.snappy.parquet",
         "part-00003-3d80435e-15f8-4154-92c7-515307e41c1b-c000.snappy.parquet",
         90840,
         1624321662000
        ],
        [
         "dbfs:/databricks-datasets/nyctaxi-with-zipcodes/subsampled/part-00004-0b996b45-a3ff-4339-afeb-8fc691770056-c000.snappy.parquet",
         "part-00004-0b996b45-a3ff-4339-afeb-8fc691770056-c000.snappy.parquet",
         90818,
         1624321663000
        ],
        [
         "dbfs:/databricks-datasets/nyctaxi-with-zipcodes/subsampled/part-00005-ec9ab51b-23a3-4333-8d42-1730df56bfb6-c000.snappy.parquet",
         "part-00005-ec9ab51b-23a3-4333-8d42-1730df56bfb6-c000.snappy.parquet",
         90707,
         1624321663000
        ]
       ],
       "datasetInfos": [],
       "dbfsResultPath": null,
       "isJsonSchema": true,
       "metadata": {
        "isDbfsCommandResult": false
       },
       "overflow": false,
       "plotOptions": {
        "customPlotOptions": {},
        "displayType": "table",
        "pivotAggregation": null,
        "pivotColumns": null,
        "xColumns": null,
        "yColumns": null
       },
       "removedWidgets": [],
       "schema": [
        {
         "metadata": "{}",
         "name": "path",
         "type": "\"string\""
        },
        {
         "metadata": "{}",
         "name": "name",
         "type": "\"string\""
        },
        {
         "metadata": "{}",
         "name": "size",
         "type": "\"long\""
        },
        {
         "metadata": "{}",
         "name": "modificationTime",
         "type": "\"long\""
        }
       ],
       "type": "table"
      }
     },
     "output_type": "display_data"
    }
   ],
   "source": [
    "%fs ls \"dbfs:/databricks-datasets/nyctaxi-with-zipcodes/subsampled\""
   ]
  },
  {
   "cell_type": "code",
   "execution_count": 0,
   "metadata": {
    "application/vnd.databricks.v1+cell": {
     "cellMetadata": {
      "byteLimit": 2048000,
      "rowLimit": 10000
     },
     "inputWidgets": {},
     "nuid": "c33b54ac-679c-407b-9e7b-edc8b7e27d5a",
     "showTitle": false,
     "title": ""
    }
   },
   "outputs": [],
   "source": [
    "df = spark.read.csv(\"/FileStore/tables/mydir/currupt_data.csv\", schema=df_schema)"
   ]
  },
  {
   "cell_type": "code",
   "execution_count": 0,
   "metadata": {
    "application/vnd.databricks.v1+cell": {
     "cellMetadata": {
      "byteLimit": 2048000,
      "rowLimit": 10000
     },
     "collapsed": true,
     "inputWidgets": {},
     "nuid": "4471f518-6c22-4bee-9dd9-6fb726b3008c",
     "showTitle": false,
     "title": ""
    }
   },
   "outputs": [
    {
     "output_type": "stream",
     "name": "stdout",
     "output_type": "stream",
     "text": [
      "+-----+--------+-----+----+\n|Month|Quantity|Sales|Dept|\n+-----+--------+-----+----+\n|  Jan|     256| 8000|  40|\n|  Feb|     679| 6788|  60|\n|  Mar|     675| 6764|  80|\n|  Apr|     333| 3000|  40|\n|  May|     678| 5000|  60|\n| June|     500| 7800|  50|\n| July|     800| NULL|  78|\n|  Aug|     675| 6764|  80|\n+-----+--------+-----+----+\n\n"
     ]
    }
   ],
   "source": [
    "df.show()"
   ]
  },
  {
   "cell_type": "code",
   "execution_count": 0,
   "metadata": {
    "application/vnd.databricks.v1+cell": {
     "cellMetadata": {
      "byteLimit": 2048000,
      "rowLimit": 10000
     },
     "collapsed": true,
     "inputWidgets": {},
     "nuid": "3890a483-218d-4fb3-8e33-4529404ba3a3",
     "showTitle": false,
     "title": ""
    }
   },
   "outputs": [
    {
     "output_type": "stream",
     "name": "stdout",
     "output_type": "stream",
     "text": [
      "root\n |-- Month: string (nullable = true)\n |-- Quantity: integer (nullable = true)\n |-- Sales: integer (nullable = true)\n |-- Dept: integer (nullable = true)\n\n"
     ]
    }
   ],
   "source": [
    "df.printSchema()"
   ]
  },
  {
   "cell_type": "code",
   "execution_count": 0,
   "metadata": {
    "application/vnd.databricks.v1+cell": {
     "cellMetadata": {
      "byteLimit": 2048000,
      "rowLimit": 10000
     },
     "inputWidgets": {},
     "nuid": "b55fc168-c88b-4ffb-ad08-e2d0ec467615",
     "showTitle": false,
     "title": ""
    }
   },
   "outputs": [],
   "source": [
    "from pyspark.sql.types import StringType, StructField, StructType, IntegerType"
   ]
  },
  {
   "cell_type": "code",
   "execution_count": 0,
   "metadata": {
    "application/vnd.databricks.v1+cell": {
     "cellMetadata": {
      "byteLimit": 2048000,
      "rowLimit": 10000
     },
     "inputWidgets": {},
     "nuid": "5dfff1ca-6e6e-40a4-91dc-d2df30be3c30",
     "showTitle": false,
     "title": ""
    }
   },
   "outputs": [],
   "source": [
    "df_schema = StructType([StructField(\"Month\",StringType(),True),\n",
    "                        StructField(\"Quantity\",IntegerType(),True),\n",
    "                        StructField(\"Sales\", IntegerType(),True),\n",
    "                        StructField(\"Dept\",IntegerType(),True),\n",
    "                        StructField(\"Corrupt_data\", StringType(), True)])"
   ]
  },
  {
   "cell_type": "code",
   "execution_count": 0,
   "metadata": {
    "application/vnd.databricks.v1+cell": {
     "cellMetadata": {
      "byteLimit": 2048000,
      "rowLimit": 10000
     },
     "inputWidgets": {},
     "nuid": "4238349c-c9e3-414d-8e8d-a517bab259fd",
     "showTitle": false,
     "title": ""
    }
   },
   "outputs": [],
   "source": [
    "# Permissive\n",
    "\n",
    "df_permissive = spark.read.format('csv').option(\"header\",False).option(\"mode\",\"PERMISSIVE\").schema(df_schema).load(\"/FileStore/tables/mydir/currupt_data.csv\")"
   ]
  },
  {
   "cell_type": "code",
   "execution_count": 0,
   "metadata": {
    "application/vnd.databricks.v1+cell": {
     "cellMetadata": {
      "byteLimit": 2048000,
      "rowLimit": 10000
     },
     "collapsed": true,
     "inputWidgets": {},
     "nuid": "b6abad26-ba21-427e-a514-4da3c71be29a",
     "showTitle": false,
     "title": ""
    }
   },
   "outputs": [
    {
     "output_type": "stream",
     "name": "stdout",
     "output_type": "stream",
     "text": [
      "+-----+--------+-----+----+------------+\n|Month|Quantity|Sales|Dept|Corrupt_data|\n+-----+--------+-----+----+------------+\n|  Jan|     256| 8000|  40|        NULL|\n|  Feb|     679| 6788|  60|        NULL|\n|  Mar|     675| 6764|  80|        NULL|\n|  Apr|     333| 3000|  40|          TV|\n|  May|     678| 5000|  60|        NULL|\n| June|     500| 7800|  50|        NULL|\n| July|     800| NULL|  78|        NULL|\n|  Aug|     675| 6764|  80|        NULL|\n+-----+--------+-----+----+------------+\n\n"
     ]
    }
   ],
   "source": [
    "df_permissive.show()"
   ]
  },
  {
   "cell_type": "code",
   "execution_count": 0,
   "metadata": {
    "application/vnd.databricks.v1+cell": {
     "cellMetadata": {
      "byteLimit": 2048000,
      "rowLimit": 10000
     },
     "inputWidgets": {},
     "nuid": "7ae65657-aeab-488c-bef2-779dc8a75343",
     "showTitle": false,
     "title": ""
    }
   },
   "outputs": [],
   "source": [
    "df_drop = spark.read.format('csv').option(\"header\",False).option(\"mode\",\"DropMalformed\").schema(df_schema).load(\"/FileStore/tables/mydir/currupt_data.csv\")"
   ]
  },
  {
   "cell_type": "code",
   "execution_count": 0,
   "metadata": {
    "application/vnd.databricks.v1+cell": {
     "cellMetadata": {
      "byteLimit": 2048000,
      "rowLimit": 10000
     },
     "collapsed": true,
     "inputWidgets": {},
     "nuid": "3df45296-a03a-40d4-a5fc-566c9559de11",
     "showTitle": false,
     "title": ""
    }
   },
   "outputs": [
    {
     "output_type": "stream",
     "name": "stdout",
     "output_type": "stream",
     "text": [
      "+-----+--------+-----+----+------------+\n|Month|Quantity|Sales|Dept|Corrupt_data|\n+-----+--------+-----+----+------------+\n|  Apr|     333| 3000|  40|          TV|\n+-----+--------+-----+----+------------+\n\n"
     ]
    }
   ],
   "source": [
    "df_drop.show()"
   ]
  },
  {
   "cell_type": "code",
   "execution_count": 0,
   "metadata": {
    "application/vnd.databricks.v1+cell": {
     "cellMetadata": {
      "byteLimit": 2048000,
      "rowLimit": 10000
     },
     "collapsed": true,
     "inputWidgets": {},
     "nuid": "f007f124-72e3-4271-a0cf-2ba59bd77878",
     "showTitle": false,
     "title": ""
    }
   },
   "outputs": [
    {
     "output_type": "display_data",
     "data": {
      "text/plain": [
       "\u001B[0;31m---------------------------------------------------------------------------\u001B[0m\n",
       "\u001B[0;31mPy4JJavaError\u001B[0m                             Traceback (most recent call last)\n",
       "File \u001B[0;32m<command-894128884975875>, line 1\u001B[0m\n",
       "\u001B[0;32m----> 1\u001B[0m \u001B[43mspark\u001B[49m\u001B[38;5;241;43m.\u001B[39;49m\u001B[43mread\u001B[49m\u001B[38;5;241;43m.\u001B[39;49m\u001B[43mformat\u001B[49m\u001B[43m(\u001B[49m\u001B[38;5;124;43m'\u001B[39;49m\u001B[38;5;124;43mcsv\u001B[39;49m\u001B[38;5;124;43m'\u001B[39;49m\u001B[43m)\u001B[49m\u001B[38;5;241;43m.\u001B[39;49m\u001B[43moption\u001B[49m\u001B[43m(\u001B[49m\u001B[38;5;124;43m\"\u001B[39;49m\u001B[38;5;124;43mheader\u001B[39;49m\u001B[38;5;124;43m\"\u001B[39;49m\u001B[43m,\u001B[49m\u001B[38;5;28;43;01mFalse\u001B[39;49;00m\u001B[43m)\u001B[49m\u001B[38;5;241;43m.\u001B[39;49m\u001B[43moption\u001B[49m\u001B[43m(\u001B[49m\u001B[38;5;124;43m\"\u001B[39;49m\u001B[38;5;124;43mmode\u001B[39;49m\u001B[38;5;124;43m\"\u001B[39;49m\u001B[43m,\u001B[49m\u001B[38;5;124;43m\"\u001B[39;49m\u001B[38;5;124;43mFAILFAST\u001B[39;49m\u001B[38;5;124;43m\"\u001B[39;49m\u001B[43m)\u001B[49m\u001B[38;5;241;43m.\u001B[39;49m\u001B[43mschema\u001B[49m\u001B[43m(\u001B[49m\u001B[43mdf_schema\u001B[49m\u001B[43m)\u001B[49m\u001B[38;5;241;43m.\u001B[39;49m\u001B[43mload\u001B[49m\u001B[43m(\u001B[49m\u001B[38;5;124;43m\"\u001B[39;49m\u001B[38;5;124;43m/FileStore/tables/mydir/currupt_data.csv\u001B[39;49m\u001B[38;5;124;43m\"\u001B[39;49m\u001B[43m)\u001B[49m\u001B[38;5;241;43m.\u001B[39;49m\u001B[43mshow\u001B[49m\u001B[43m(\u001B[49m\u001B[43m)\u001B[49m\n",
       "\n",
       "File \u001B[0;32m/databricks/spark/python/pyspark/instrumentation_utils.py:48\u001B[0m, in \u001B[0;36m_wrap_function.<locals>.wrapper\u001B[0;34m(*args, **kwargs)\u001B[0m\n",
       "\u001B[1;32m     46\u001B[0m start \u001B[38;5;241m=\u001B[39m time\u001B[38;5;241m.\u001B[39mperf_counter()\n",
       "\u001B[1;32m     47\u001B[0m \u001B[38;5;28;01mtry\u001B[39;00m:\n",
       "\u001B[0;32m---> 48\u001B[0m     res \u001B[38;5;241m=\u001B[39m \u001B[43mfunc\u001B[49m\u001B[43m(\u001B[49m\u001B[38;5;241;43m*\u001B[39;49m\u001B[43margs\u001B[49m\u001B[43m,\u001B[49m\u001B[43m \u001B[49m\u001B[38;5;241;43m*\u001B[39;49m\u001B[38;5;241;43m*\u001B[39;49m\u001B[43mkwargs\u001B[49m\u001B[43m)\u001B[49m\n",
       "\u001B[1;32m     49\u001B[0m     logger\u001B[38;5;241m.\u001B[39mlog_success(\n",
       "\u001B[1;32m     50\u001B[0m         module_name, class_name, function_name, time\u001B[38;5;241m.\u001B[39mperf_counter() \u001B[38;5;241m-\u001B[39m start, signature\n",
       "\u001B[1;32m     51\u001B[0m     )\n",
       "\u001B[1;32m     52\u001B[0m     \u001B[38;5;28;01mreturn\u001B[39;00m res\n",
       "\n",
       "File \u001B[0;32m/databricks/spark/python/pyspark/sql/dataframe.py:934\u001B[0m, in \u001B[0;36mDataFrame.show\u001B[0;34m(self, n, truncate, vertical)\u001B[0m\n",
       "\u001B[1;32m    928\u001B[0m     \u001B[38;5;28;01mraise\u001B[39;00m PySparkTypeError(\n",
       "\u001B[1;32m    929\u001B[0m         error_class\u001B[38;5;241m=\u001B[39m\u001B[38;5;124m\"\u001B[39m\u001B[38;5;124mNOT_BOOL\u001B[39m\u001B[38;5;124m\"\u001B[39m,\n",
       "\u001B[1;32m    930\u001B[0m         message_parameters\u001B[38;5;241m=\u001B[39m{\u001B[38;5;124m\"\u001B[39m\u001B[38;5;124marg_name\u001B[39m\u001B[38;5;124m\"\u001B[39m: \u001B[38;5;124m\"\u001B[39m\u001B[38;5;124mvertical\u001B[39m\u001B[38;5;124m\"\u001B[39m, \u001B[38;5;124m\"\u001B[39m\u001B[38;5;124marg_type\u001B[39m\u001B[38;5;124m\"\u001B[39m: \u001B[38;5;28mtype\u001B[39m(vertical)\u001B[38;5;241m.\u001B[39m\u001B[38;5;18m__name__\u001B[39m},\n",
       "\u001B[1;32m    931\u001B[0m     )\n",
       "\u001B[1;32m    933\u001B[0m \u001B[38;5;28;01mif\u001B[39;00m \u001B[38;5;28misinstance\u001B[39m(truncate, \u001B[38;5;28mbool\u001B[39m) \u001B[38;5;129;01mand\u001B[39;00m truncate:\n",
       "\u001B[0;32m--> 934\u001B[0m     \u001B[38;5;28mprint\u001B[39m(\u001B[38;5;28;43mself\u001B[39;49m\u001B[38;5;241;43m.\u001B[39;49m\u001B[43m_jdf\u001B[49m\u001B[38;5;241;43m.\u001B[39;49m\u001B[43mshowString\u001B[49m\u001B[43m(\u001B[49m\u001B[43mn\u001B[49m\u001B[43m,\u001B[49m\u001B[43m \u001B[49m\u001B[38;5;241;43m20\u001B[39;49m\u001B[43m,\u001B[49m\u001B[43m \u001B[49m\u001B[43mvertical\u001B[49m\u001B[43m)\u001B[49m)\n",
       "\u001B[1;32m    935\u001B[0m \u001B[38;5;28;01melse\u001B[39;00m:\n",
       "\u001B[1;32m    936\u001B[0m     \u001B[38;5;28;01mtry\u001B[39;00m:\n",
       "\n",
       "File \u001B[0;32m/databricks/spark/python/lib/py4j-0.10.9.7-src.zip/py4j/java_gateway.py:1322\u001B[0m, in \u001B[0;36mJavaMember.__call__\u001B[0;34m(self, *args)\u001B[0m\n",
       "\u001B[1;32m   1316\u001B[0m command \u001B[38;5;241m=\u001B[39m proto\u001B[38;5;241m.\u001B[39mCALL_COMMAND_NAME \u001B[38;5;241m+\u001B[39m\\\n",
       "\u001B[1;32m   1317\u001B[0m     \u001B[38;5;28mself\u001B[39m\u001B[38;5;241m.\u001B[39mcommand_header \u001B[38;5;241m+\u001B[39m\\\n",
       "\u001B[1;32m   1318\u001B[0m     args_command \u001B[38;5;241m+\u001B[39m\\\n",
       "\u001B[1;32m   1319\u001B[0m     proto\u001B[38;5;241m.\u001B[39mEND_COMMAND_PART\n",
       "\u001B[1;32m   1321\u001B[0m answer \u001B[38;5;241m=\u001B[39m \u001B[38;5;28mself\u001B[39m\u001B[38;5;241m.\u001B[39mgateway_client\u001B[38;5;241m.\u001B[39msend_command(command)\n",
       "\u001B[0;32m-> 1322\u001B[0m return_value \u001B[38;5;241m=\u001B[39m \u001B[43mget_return_value\u001B[49m\u001B[43m(\u001B[49m\n",
       "\u001B[1;32m   1323\u001B[0m \u001B[43m    \u001B[49m\u001B[43manswer\u001B[49m\u001B[43m,\u001B[49m\u001B[43m \u001B[49m\u001B[38;5;28;43mself\u001B[39;49m\u001B[38;5;241;43m.\u001B[39;49m\u001B[43mgateway_client\u001B[49m\u001B[43m,\u001B[49m\u001B[43m \u001B[49m\u001B[38;5;28;43mself\u001B[39;49m\u001B[38;5;241;43m.\u001B[39;49m\u001B[43mtarget_id\u001B[49m\u001B[43m,\u001B[49m\u001B[43m \u001B[49m\u001B[38;5;28;43mself\u001B[39;49m\u001B[38;5;241;43m.\u001B[39;49m\u001B[43mname\u001B[49m\u001B[43m)\u001B[49m\n",
       "\u001B[1;32m   1325\u001B[0m \u001B[38;5;28;01mfor\u001B[39;00m temp_arg \u001B[38;5;129;01min\u001B[39;00m temp_args:\n",
       "\u001B[1;32m   1326\u001B[0m     \u001B[38;5;28;01mif\u001B[39;00m \u001B[38;5;28mhasattr\u001B[39m(temp_arg, \u001B[38;5;124m\"\u001B[39m\u001B[38;5;124m_detach\u001B[39m\u001B[38;5;124m\"\u001B[39m):\n",
       "\n",
       "File \u001B[0;32m/databricks/spark/python/pyspark/errors/exceptions/captured.py:188\u001B[0m, in \u001B[0;36mcapture_sql_exception.<locals>.deco\u001B[0;34m(*a, **kw)\u001B[0m\n",
       "\u001B[1;32m    186\u001B[0m \u001B[38;5;28;01mdef\u001B[39;00m \u001B[38;5;21mdeco\u001B[39m(\u001B[38;5;241m*\u001B[39ma: Any, \u001B[38;5;241m*\u001B[39m\u001B[38;5;241m*\u001B[39mkw: Any) \u001B[38;5;241m-\u001B[39m\u001B[38;5;241m>\u001B[39m Any:\n",
       "\u001B[1;32m    187\u001B[0m     \u001B[38;5;28;01mtry\u001B[39;00m:\n",
       "\u001B[0;32m--> 188\u001B[0m         \u001B[38;5;28;01mreturn\u001B[39;00m \u001B[43mf\u001B[49m\u001B[43m(\u001B[49m\u001B[38;5;241;43m*\u001B[39;49m\u001B[43ma\u001B[49m\u001B[43m,\u001B[49m\u001B[43m \u001B[49m\u001B[38;5;241;43m*\u001B[39;49m\u001B[38;5;241;43m*\u001B[39;49m\u001B[43mkw\u001B[49m\u001B[43m)\u001B[49m\n",
       "\u001B[1;32m    189\u001B[0m     \u001B[38;5;28;01mexcept\u001B[39;00m Py4JJavaError \u001B[38;5;28;01mas\u001B[39;00m e:\n",
       "\u001B[1;32m    190\u001B[0m         converted \u001B[38;5;241m=\u001B[39m convert_exception(e\u001B[38;5;241m.\u001B[39mjava_exception)\n",
       "\n",
       "File \u001B[0;32m/databricks/spark/python/lib/py4j-0.10.9.7-src.zip/py4j/protocol.py:326\u001B[0m, in \u001B[0;36mget_return_value\u001B[0;34m(answer, gateway_client, target_id, name)\u001B[0m\n",
       "\u001B[1;32m    324\u001B[0m value \u001B[38;5;241m=\u001B[39m OUTPUT_CONVERTER[\u001B[38;5;28mtype\u001B[39m](answer[\u001B[38;5;241m2\u001B[39m:], gateway_client)\n",
       "\u001B[1;32m    325\u001B[0m \u001B[38;5;28;01mif\u001B[39;00m answer[\u001B[38;5;241m1\u001B[39m] \u001B[38;5;241m==\u001B[39m REFERENCE_TYPE:\n",
       "\u001B[0;32m--> 326\u001B[0m     \u001B[38;5;28;01mraise\u001B[39;00m Py4JJavaError(\n",
       "\u001B[1;32m    327\u001B[0m         \u001B[38;5;124m\"\u001B[39m\u001B[38;5;124mAn error occurred while calling \u001B[39m\u001B[38;5;132;01m{0}\u001B[39;00m\u001B[38;5;132;01m{1}\u001B[39;00m\u001B[38;5;132;01m{2}\u001B[39;00m\u001B[38;5;124m.\u001B[39m\u001B[38;5;130;01m\\n\u001B[39;00m\u001B[38;5;124m\"\u001B[39m\u001B[38;5;241m.\u001B[39m\n",
       "\u001B[1;32m    328\u001B[0m         \u001B[38;5;28mformat\u001B[39m(target_id, \u001B[38;5;124m\"\u001B[39m\u001B[38;5;124m.\u001B[39m\u001B[38;5;124m\"\u001B[39m, name), value)\n",
       "\u001B[1;32m    329\u001B[0m \u001B[38;5;28;01melse\u001B[39;00m:\n",
       "\u001B[1;32m    330\u001B[0m     \u001B[38;5;28;01mraise\u001B[39;00m Py4JError(\n",
       "\u001B[1;32m    331\u001B[0m         \u001B[38;5;124m\"\u001B[39m\u001B[38;5;124mAn error occurred while calling \u001B[39m\u001B[38;5;132;01m{0}\u001B[39;00m\u001B[38;5;132;01m{1}\u001B[39;00m\u001B[38;5;132;01m{2}\u001B[39;00m\u001B[38;5;124m. Trace:\u001B[39m\u001B[38;5;130;01m\\n\u001B[39;00m\u001B[38;5;132;01m{3}\u001B[39;00m\u001B[38;5;130;01m\\n\u001B[39;00m\u001B[38;5;124m\"\u001B[39m\u001B[38;5;241m.\u001B[39m\n",
       "\u001B[1;32m    332\u001B[0m         \u001B[38;5;28mformat\u001B[39m(target_id, \u001B[38;5;124m\"\u001B[39m\u001B[38;5;124m.\u001B[39m\u001B[38;5;124m\"\u001B[39m, name, value))\n",
       "\n",
       "\u001B[0;31mPy4JJavaError\u001B[0m: An error occurred while calling o78621.showString.\n",
       ": org.apache.spark.SparkException: Job aborted due to stage failure: Task 0 in stage 162.0 failed 4 times, most recent failure: Lost task 0.3 in stage 162.0 (TID 268) (10.139.64.4 executor driver): com.databricks.sql.io.FileReadException: Error while reading file dbfs:/FileStore/tables/mydir/currupt_data.csv.\n",
       "\tat org.apache.spark.sql.execution.datasources.FileScanRDD$$anon$1$$anon$2.logFileNameAndThrow(FileScanRDD.scala:695)\n",
       "\tat org.apache.spark.sql.execution.datasources.FileScanRDD$$anon$1$$anon$2.getNext(FileScanRDD.scala:664)\n",
       "\tat org.apache.spark.util.NextIterator.hasNext(NextIterator.scala:73)\n",
       "\tat org.apache.spark.sql.execution.datasources.FileScanRDD$$anon$1.nextIterator(FileScanRDD.scala:790)\n",
       "\tat org.apache.spark.sql.execution.datasources.FileScanRDD$$anon$1.$anonfun$hasNext$1(FileScanRDD.scala:505)\n",
       "\tat scala.runtime.java8.JFunction0$mcZ$sp.apply(JFunction0$mcZ$sp.java:23)\n",
       "\tat com.databricks.spark.util.ExecutorFrameProfiler$.record(ExecutorFrameProfiler.scala:110)\n",
       "\tat org.apache.spark.sql.execution.datasources.FileScanRDD$$anon$1.hasNext(FileScanRDD.scala:500)\n",
       "\tat scala.collection.Iterator$$anon$10.hasNext(Iterator.scala:460)\n",
       "\tat scala.collection.Iterator$$anon$10.hasNext(Iterator.scala:460)\n",
       "\tat scala.collection.convert.Wrappers$IteratorWrapper.hasNext(Wrappers.scala:32)\n",
       "\tat com.google.common.collect.Iterators$PeekingImpl.hasNext(Iterators.java:1139)\n",
       "\tat com.databricks.photon.NativeRowBatchIterator.hasNext(NativeRowBatchIterator.java:44)\n",
       "\tat 0x986db02 <photon>.HasNext(external/workspace_spark_3_4/photon/jni-wrappers/jni-row-batch-iterator.cc:50)\n",
       "\tat com.databricks.photon.JniApiImpl.hasNext(Native Method)\n",
       "\tat com.databricks.photon.JniApi.hasNext(JniApi.scala)\n",
       "\tat com.databricks.photon.JniExecNode.hasNext(JniExecNode.java:78)\n",
       "\tat com.databricks.photon.BasePhotonResultHandler$$anon$1.hasNext(PhotonExec.scala:756)\n",
       "\tat com.databricks.photon.PhotonBasicEvaluatorFactory$PhotonBasicEvaluator$$anon$1.$anonfun$hasNext$1(PhotonBasicEvaluatorFactory.scala:211)\n",
       "\tat scala.runtime.java8.JFunction0$mcZ$sp.apply(JFunction0$mcZ$sp.java:23)\n",
       "\tat com.databricks.photon.PhotonResultHandler.timeit(PhotonResultHandler.scala:30)\n",
       "\tat com.databricks.photon.PhotonResultHandler.timeit$(PhotonResultHandler.scala:28)\n",
       "\tat com.databricks.photon.BasePhotonResultHandler.timeit(PhotonExec.scala:743)\n",
       "\tat com.databricks.photon.PhotonBasicEvaluatorFactory$PhotonBasicEvaluator$$anon$1.hasNext(PhotonBasicEvaluatorFactory.scala:211)\n",
       "\tat com.databricks.photon.CloseableIterator$$anon$10.hasNext(CloseableIterator.scala:211)\n",
       "\tat scala.collection.Iterator$$anon$11.hasNext(Iterator.scala:491)\n",
       "\tat org.apache.spark.sql.execution.collect.UnsafeRowBatchUtils$.$anonfun$encodeUnsafeRows$5(UnsafeRowBatchUtils.scala:88)\n",
       "\tat scala.runtime.java8.JFunction0$mcV$sp.apply(JFunction0$mcV$sp.java:23)\n",
       "\tat com.databricks.spark.util.ExecutorFrameProfiler$.record(ExecutorFrameProfiler.scala:110)\n",
       "\tat org.apache.spark.sql.execution.collect.UnsafeRowBatchUtils$.$anonfun$encodeUnsafeRows$3(UnsafeRowBatchUtils.scala:88)\n",
       "\tat scala.runtime.java8.JFunction0$mcV$sp.apply(JFunction0$mcV$sp.java:23)\n",
       "\tat com.databricks.spark.util.ExecutorFrameProfiler$.record(ExecutorFrameProfiler.scala:110)\n",
       "\tat org.apache.spark.sql.execution.collect.UnsafeRowBatchUtils$.$anonfun$encodeUnsafeRows$1(UnsafeRowBatchUtils.scala:68)\n",
       "\tat com.databricks.spark.util.ExecutorFrameProfiler$.record(ExecutorFrameProfiler.scala:110)\n",
       "\tat org.apache.spark.sql.execution.collect.UnsafeRowBatchUtils$.encodeUnsafeRows(UnsafeRowBatchUtils.scala:62)\n",
       "\tat org.apache.spark.sql.execution.collect.Collector.$anonfun$processFunc$2(Collector.scala:197)\n",
       "\tat org.apache.spark.scheduler.ResultTask.$anonfun$runTask$3(ResultTask.scala:82)\n",
       "\tat com.databricks.spark.util.ExecutorFrameProfiler$.record(ExecutorFrameProfiler.scala:110)\n",
       "\tat org.apache.spark.scheduler.ResultTask.$anonfun$runTask$1(ResultTask.scala:82)\n",
       "\tat com.databricks.spark.util.ExecutorFrameProfiler$.record(ExecutorFrameProfiler.scala:110)\n",
       "\tat org.apache.spark.scheduler.ResultTask.runTask(ResultTask.scala:62)\n",
       "\tat org.apache.spark.TaskContext.runTaskWithListeners(TaskContext.scala:196)\n",
       "\tat org.apache.spark.scheduler.Task.doRunTask(Task.scala:181)\n",
       "\tat org.apache.spark.scheduler.Task.$anonfun$run$5(Task.scala:146)\n",
       "\tat com.databricks.unity.EmptyHandle$.runWithAndClose(UCSHandle.scala:125)\n",
       "\tat org.apache.spark.scheduler.Task.$anonfun$run$1(Task.scala:146)\n",
       "\tat com.databricks.spark.util.ExecutorFrameProfiler$.record(ExecutorFrameProfiler.scala:110)\n",
       "\tat org.apache.spark.scheduler.Task.run(Task.scala:99)\n",
       "\tat org.apache.spark.executor.Executor$TaskRunner.$anonfun$run$8(Executor.scala:897)\n",
       "\tat org.apache.spark.util.Utils$.tryWithSafeFinally(Utils.scala:1709)\n",
       "\tat org.apache.spark.executor.Executor$TaskRunner.$anonfun$run$3(Executor.scala:900)\n",
       "\tat scala.runtime.java8.JFunction0$mcV$sp.apply(JFunction0$mcV$sp.java:23)\n",
       "\tat com.databricks.spark.util.ExecutorFrameProfiler$.record(ExecutorFrameProfiler.scala:110)\n",
       "\tat org.apache.spark.executor.Executor$TaskRunner.run(Executor.scala:795)\n",
       "\tat java.util.concurrent.ThreadPoolExecutor.runWorker(ThreadPoolExecutor.java:1149)\n",
       "\tat java.util.concurrent.ThreadPoolExecutor$Worker.run(ThreadPoolExecutor.java:624)\n",
       "\tat java.lang.Thread.run(Thread.java:750)\n",
       "Caused by: org.apache.spark.SparkException: [MALFORMED_RECORD_IN_PARSING.WITHOUT_SUGGESTION] Malformed records are detected in record parsing: [Jan,256,8000,40,null].\n",
       "Parse Mode: FAILFAST. To process malformed records as null result, try setting the option 'mode' as 'PERMISSIVE'. \n",
       "\tat org.apache.spark.sql.errors.QueryExecutionErrors$.malformedRecordsDetectedInRecordParsingError(QueryExecutionErrors.scala:2025)\n",
       "\tat org.apache.spark.sql.catalyst.util.FailureSafeParser.parse(FailureSafeParser.scala:118)\n",
       "\tat org.apache.spark.sql.catalyst.csv.UnivocityParser$.$anonfun$parseIterator$2(UnivocityParser.scala:512)\n",
       "\tat scala.collection.Iterator$$anon$11.nextCur(Iterator.scala:486)\n",
       "\tat scala.collection.Iterator$$anon$11.hasNext(Iterator.scala:492)\n",
       "\tat org.apache.spark.util.CompletionIterator.hasNext(CompletionIterator.scala:31)\n",
       "\tat scala.collection.Iterator$$anon$10.hasNext(Iterator.scala:460)\n",
       "\tat org.apache.spark.sql.execution.datasources.FileScanRDD$$anon$1$$anon$2.getNext(FileScanRDD.scala:603)\n",
       "\tat org.apache.spark.util.NextIterator.hasNext(NextIterator.scala:73)\n",
       "\tat org.apache.spark.sql.execution.datasources.FileScanRDD$$anon$1.nextIterator(FileScanRDD.scala:790)\n",
       "\tat org.apache.spark.sql.execution.datasources.FileScanRDD$$anon$1.$anonfun$hasNext$1(FileScanRDD.scala:505)\n",
       "\tat scala.runtime.java8.JFunction0$mcZ$sp.apply(JFunction0$mcZ$sp.java:23)\n",
       "\tat com.databricks.spark.util.ExecutorFrameProfiler$.record(ExecutorFrameProfiler.scala:110)\n",
       "\tat org.apache.spark.sql.execution.datasources.FileScanRDD$$anon$1.hasNext(FileScanRDD.scala:500)\n",
       "\tat scala.collection.Iterator$$anon$10.hasNext(Iterator.scala:460)\n",
       "\tat scala.collection.Iterator$$anon$10.hasNext(Iterator.scala:460)\n",
       "\tat scala.collection.convert.Wrappers$IteratorWrapper.hasNext(Wrappers.scala:32)\n",
       "\tat com.google.common.collect.Iterators$PeekingImpl.hasNext(Iterators.java:1139)\n",
       "\tat com.databricks.photon.NativeRowBatchIterator.hasNext(NativeRowBatchIterator.java:44)\n",
       "\t... 43 more\n",
       "Caused by: org.apache.spark.sql.catalyst.util.BadRecordException: org.apache.spark.SparkRuntimeException: [MALFORMED_CSV_RECORD] Malformed CSV record: Jan,256,8000,40\n",
       "Caused by: org.apache.spark.SparkRuntimeException: [MALFORMED_CSV_RECORD] Malformed CSV record: Jan,256,8000,40\n",
       "\tat org.apache.spark.sql.errors.QueryExecutionErrors$.malformedCSVRecordError(QueryExecutionErrors.scala:1790)\n",
       "\tat org.apache.spark.sql.catalyst.csv.UnivocityParser.convert(UnivocityParser.scala:351)\n",
       "\tat org.apache.spark.sql.catalyst.csv.UnivocityParser.$anonfun$parse$2(UnivocityParser.scala:326)\n",
       "\tat org.apache.spark.sql.catalyst.csv.UnivocityParser$.$anonfun$parseIterator$1(UnivocityParser.scala:504)\n",
       "\tat org.apache.spark.sql.catalyst.util.FailureSafeParser.parse(FailureSafeParser.scala:92)\n",
       "\tat org.apache.spark.sql.catalyst.csv.UnivocityParser$.$anonfun$parseIterator$2(UnivocityParser.scala:512)\n",
       "\tat scala.collection.Iterator$$anon$11.nextCur(Iterator.scala:486)\n",
       "\tat scala.collection.Iterator$$anon$11.hasNext(Iterator.scala:492)\n",
       "\tat org.apache.spark.util.CompletionIterator.hasNext(CompletionIterator.scala:31)\n",
       "\tat scala.collection.Iterator$$anon$10.hasNext(Iterator.scala:460)\n",
       "\tat org.apache.spark.sql.execution.datasources.FileScanRDD$$anon$1$$anon$2.getNext(FileScanRDD.scala:603)\n",
       "\tat org.apache.spark.util.NextIterator.hasNext(NextIterator.scala:73)\n",
       "\tat org.apache.spark.sql.execution.datasources.FileScanRDD$$anon$1.nextIterator(FileScanRDD.scala:790)\n",
       "\tat org.apache.spark.sql.execution.datasources.FileScanRDD$$anon$1.$anonfun$hasNext$1(FileScanRDD.scala:505)\n",
       "\tat scala.runtime.java8.JFunction0$mcZ$sp.apply(JFunction0$mcZ$sp.java:23)\n",
       "\tat com.databricks.spark.util.ExecutorFrameProfiler$.record(ExecutorFrameProfiler.scala:110)\n",
       "\tat org.apache.spark.sql.execution.datasources.FileScanRDD$$anon$1.hasNext(FileScanRDD.scala:500)\n",
       "\tat scala.collection.Iterator$$anon$10.hasNext(Iterator.scala:460)\n",
       "\tat scala.collection.Iterator$$anon$10.hasNext(Iterator.scala:460)\n",
       "\tat scala.collection.convert.Wrappers$IteratorWrapper.hasNext(Wrappers.scala:32)\n",
       "\tat com.google.common.collect.Iterators$PeekingImpl.hasNext(Iterators.java:1139)\n",
       "\tat com.databricks.photon.NativeRowBatchIterator.hasNext(NativeRowBatchIterator.java:44)\n",
       "\tat com.databricks.photon.JniApiImpl.hasNext(Native Method)\n",
       "\tat com.databricks.photon.JniApi.hasNext(JniApi.scala)\n",
       "\tat com.databricks.photon.JniExecNode.hasNext(JniExecNode.java:78)\n",
       "\tat com.databricks.photon.BasePhotonResultHandler$$anon$1.hasNext(PhotonExec.scala:756)\n",
       "\tat com.databricks.photon.PhotonBasicEvaluatorFactory$PhotonBasicEvaluator$$anon$1.$anonfun$hasNext$1(PhotonBasicEvaluatorFactory.scala:211)\n",
       "\tat scala.runtime.java8.JFunction0$mcZ$sp.apply(JFunction0$mcZ$sp.java:23)\n",
       "\tat com.databricks.photon.PhotonResultHandler.timeit(PhotonResultHandler.scala:30)\n",
       "\tat com.databricks.photon.PhotonResultHandler.timeit$(PhotonResultHandler.scala:28)\n",
       "\tat com.databricks.photon.BasePhotonResultHandler.timeit(PhotonExec.scala:743)\n",
       "\tat com.databricks.photon.PhotonBasicEvaluatorFactory$PhotonBasicEvaluator$$anon$1.hasNext(PhotonBasicEvaluatorFactory.scala:211)\n",
       "\tat com.databricks.photon.CloseableIterator$$anon$10.hasNext(CloseableIterator.scala:211)\n",
       "\tat scala.collection.Iterator$$anon$11.hasNext(Iterator.scala:491)\n",
       "\tat org.apache.spark.sql.execution.collect.UnsafeRowBatchUtils$.$anonfun$encodeUnsafeRows$5(UnsafeRowBatchUtils.scala:88)\n",
       "\tat scala.runtime.java8.JFunction0$mcV$sp.apply(JFunction0$mcV$sp.java:23)\n",
       "\tat com.databricks.spark.util.ExecutorFrameProfiler$.record(ExecutorFrameProfiler.scala:110)\n",
       "\tat org.apache.spark.sql.execution.collect.UnsafeRowBatchUtils$.$anonfun$encodeUnsafeRows$3(UnsafeRowBatchUtils.scala:88)\n",
       "\tat scala.runtime.java8.JFunction0$mcV$sp.apply(JFunction0$mcV$sp.java:23)\n",
       "\tat com.databricks.spark.util.ExecutorFrameProfiler$.record(ExecutorFrameProfiler.scala:110)\n",
       "\tat org.apache.spark.sql.execution.collect.UnsafeRowBatchUtils$.$anonfun$encodeUnsafeRows$1(UnsafeRowBatchUtils.scala:68)\n",
       "\tat com.databricks.spark.util.ExecutorFrameProfiler$.record(ExecutorFrameProfiler.scala:110)\n",
       "\tat org.apache.spark.sql.execution.collect.UnsafeRowBatchUtils$.encodeUnsafeRows(UnsafeRowBatchUtils.scala:62)\n",
       "\tat org.apache.spark.sql.execution.collect.Collector.$anonfun$processFunc$2(Collector.scala:197)\n",
       "\tat org.apache.spark.scheduler.ResultTask.$anonfun$runTask$3(ResultTask.scala:82)\n",
       "\tat com.databricks.spark.util.ExecutorFrameProfiler$.record(ExecutorFrameProfiler.scala:110)\n",
       "\tat org.apache.spark.scheduler.ResultTask.$anonfun$runTask$1(ResultTask.scala:82)\n",
       "\tat com.databricks.spark.util.ExecutorFrameProfiler$.record(ExecutorFrameProfiler.scala:110)\n",
       "\tat org.apache.spark.scheduler.ResultTask.runTask(ResultTask.scala:62)\n",
       "\tat org.apache.spark.TaskContext.runTaskWithListeners(TaskContext.scala:196)\n",
       "\tat org.apache.spark.scheduler.Task.doRunTask(Task.scala:181)\n",
       "\tat org.apache.spark.scheduler.Task.$anonfun$run$5(Task.scala:146)\n",
       "\tat com.databricks.unity.EmptyHandle$.runWithAndClose(UCSHandle.scala:125)\n",
       "\tat org.apache.spark.scheduler.Task.$anonfun$run$1(Task.scala:146)\n",
       "\tat com.databricks.spark.util.ExecutorFrameProfiler$.record(ExecutorFrameProfiler.scala:110)\n",
       "\tat org.apache.spark.scheduler.Task.run(Task.scala:99)\n",
       "\tat org.apache.spark.executor.Executor$TaskRunner.$anonfun$run$8(Executor.scala:897)\n",
       "\tat org.apache.spark.util.Utils$.tryWithSafeFinally(Utils.scala:1709)\n",
       "\tat org.apache.spark.executor.Executor$TaskRunner.$anonfun$run$3(Executor.scala:900)\n",
       "\tat scala.runtime.java8.JFunction0$mcV$sp.apply(JFunction0$mcV$sp.java:23)\n",
       "\tat com.databricks.spark.util.ExecutorFrameProfiler$.record(ExecutorFrameProfiler.scala:110)\n",
       "\tat org.apache.spark.executor.Executor$TaskRunner.run(Executor.scala:795)\n",
       "\tat java.util.concurrent.ThreadPoolExecutor.runWorker(ThreadPoolExecutor.java:1149)\n",
       "\tat java.util.concurrent.ThreadPoolExecutor$Worker.run(ThreadPoolExecutor.java:624)\n",
       "\tat java.lang.Thread.run(Thread.java:750)\n",
       "\n",
       "Driver stacktrace:\n",
       "\tat org.apache.spark.scheduler.DAGScheduler.failJobAndIndependentStages(DAGScheduler.scala:3588)\n",
       "\tat org.apache.spark.scheduler.DAGScheduler.$anonfun$abortStage$2(DAGScheduler.scala:3519)\n",
       "\tat org.apache.spark.scheduler.DAGScheduler.$anonfun$abortStage$2$adapted(DAGScheduler.scala:3506)\n",
       "\tat scala.collection.mutable.ResizableArray.foreach(ResizableArray.scala:62)\n",
       "\tat scala.collection.mutable.ResizableArray.foreach$(ResizableArray.scala:55)\n",
       "\tat scala.collection.mutable.ArrayBuffer.foreach(ArrayBuffer.scala:49)\n",
       "\tat org.apache.spark.scheduler.DAGScheduler.abortStage(DAGScheduler.scala:3506)\n",
       "\tat org.apache.spark.scheduler.DAGScheduler.$anonfun$handleTaskSetFailed$1(DAGScheduler.scala:1516)\n",
       "\tat org.apache.spark.scheduler.DAGScheduler.$anonfun$handleTaskSetFailed$1$adapted(DAGScheduler.scala:1516)\n",
       "\tat scala.Option.foreach(Option.scala:407)\n",
       "\tat org.apache.spark.scheduler.DAGScheduler.handleTaskSetFailed(DAGScheduler.scala:1516)\n",
       "\tat org.apache.spark.scheduler.DAGSchedulerEventProcessLoop.doOnReceive(DAGScheduler.scala:3835)\n",
       "\tat org.apache.spark.scheduler.DAGSchedulerEventProcessLoop.onReceive(DAGScheduler.scala:3747)\n",
       "\tat org.apache.spark.scheduler.DAGSchedulerEventProcessLoop.onReceive(DAGScheduler.scala:3735)\n",
       "\tat org.apache.spark.util.EventLoop$$anon$1.run(EventLoop.scala:51)\n",
       "\tat org.apache.spark.scheduler.DAGScheduler.$anonfun$runJob$1(DAGScheduler.scala:1240)\n",
       "\tat scala.runtime.java8.JFunction0$mcV$sp.apply(JFunction0$mcV$sp.java:23)\n",
       "\tat com.databricks.spark.util.FrameProfiler$.record(FrameProfiler.scala:94)\n",
       "\tat org.apache.spark.scheduler.DAGScheduler.runJob(DAGScheduler.scala:1228)\n",
       "\tat org.apache.spark.SparkContext.runJobInternal(SparkContext.scala:2959)\n",
       "\tat org.apache.spark.sql.execution.collect.Collector.$anonfun$runSparkJobs$1(Collector.scala:338)\n",
       "\tat scala.runtime.java8.JFunction0$mcV$sp.apply(JFunction0$mcV$sp.java:23)\n",
       "\tat com.databricks.spark.util.FrameProfiler$.record(FrameProfiler.scala:94)\n",
       "\tat org.apache.spark.sql.execution.collect.Collector.runSparkJobs(Collector.scala:282)\n",
       "\tat org.apache.spark.sql.execution.collect.Collector.$anonfun$collect$1(Collector.scala:366)\n",
       "\tat com.databricks.spark.util.FrameProfiler$.record(FrameProfiler.scala:94)\n",
       "\tat org.apache.spark.sql.execution.collect.Collector.collect(Collector.scala:363)\n",
       "\tat org.apache.spark.sql.execution.collect.Collector$.collect(Collector.scala:117)\n",
       "\tat org.apache.spark.sql.execution.collect.Collector$.collect(Collector.scala:124)\n",
       "\tat org.apache.spark.sql.execution.qrc.InternalRowFormat$.collect(cachedSparkResults.scala:126)\n",
       "\tat org.apache.spark.sql.execution.qrc.InternalRowFormat$.collect(cachedSparkResults.scala:114)\n",
       "\tat org.apache.spark.sql.execution.qrc.InternalRowFormat$.collect(cachedSparkResults.scala:94)\n",
       "\tat org.apache.spark.sql.execution.qrc.ResultCacheManager.$anonfun$computeResult$1(ResultCacheManager.scala:553)\n",
       "\tat com.databricks.spark.util.FrameProfiler$.record(FrameProfiler.scala:94)\n",
       "\tat org.apache.spark.sql.execution.qrc.ResultCacheManager.collectResult$1(ResultCacheManager.scala:545)\n",
       "\tat org.apache.spark.sql.execution.qrc.ResultCacheManager.computeResult(ResultCacheManager.scala:565)\n",
       "\tat org.apache.spark.sql.execution.qrc.ResultCacheManager.$anonfun$getOrComputeResultInternal$1(ResultCacheManager.scala:426)\n",
       "\tat scala.Option.getOrElse(Option.scala:189)\n",
       "\tat org.apache.spark.sql.execution.qrc.ResultCacheManager.getOrComputeResultInternal(ResultCacheManager.scala:419)\n",
       "\tat org.apache.spark.sql.execution.qrc.ResultCacheManager.getOrComputeResult(ResultCacheManager.scala:313)\n",
       "\tat org.apache.spark.sql.execution.SparkPlan.$anonfun$executeCollectResult$1(SparkPlan.scala:519)\n",
       "\tat com.databricks.spark.util.FrameProfiler$.record(FrameProfiler.scala:94)\n",
       "\tat org.apache.spark.sql.execution.SparkPlan.executeCollectResult(SparkPlan.scala:516)\n",
       "\tat org.apache.spark.sql.Dataset.collectResult(Dataset.scala:3628)\n",
       "\tat org.apache.spark.sql.Dataset.collectFromPlan(Dataset.scala:4553)\n",
       "\tat org.apache.spark.sql.Dataset.$anonfun$head$1(Dataset.scala:3336)\n",
       "\tat org.apache.spark.sql.Dataset.$anonfun$withAction$3(Dataset.scala:4544)\n",
       "\tat org.apache.spark.sql.execution.QueryExecution$.withInternalError(QueryExecution.scala:945)\n",
       "\tat org.apache.spark.sql.Dataset.$anonfun$withAction$2(Dataset.scala:4542)\n",
       "\tat org.apache.spark.sql.execution.SQLExecution$.$anonfun$withCustomExecutionEnv$8(SQLExecution.scala:282)\n",
       "\tat org.apache.spark.sql.execution.SQLExecution$.withSQLConfPropagated(SQLExecution.scala:510)\n",
       "\tat org.apache.spark.sql.execution.SQLExecution$.$anonfun$withCustomExecutionEnv$1(SQLExecution.scala:209)\n",
       "\tat org.apache.spark.sql.SparkSession.withActive(SparkSession.scala:1113)\n",
       "\tat org.apache.spark.sql.execution.SQLExecution$.withCustomExecutionEnv(SQLExecution.scala:152)\n",
       "\tat org.apache.spark.sql.execution.SQLExecution$.withNewExecutionId(SQLExecution.scala:459)\n",
       "\tat org.apache.spark.sql.Dataset.withAction(Dataset.scala:4542)\n",
       "\tat org.apache.spark.sql.Dataset.head(Dataset.scala:3336)\n",
       "\tat org.apache.spark.sql.Dataset.take(Dataset.scala:3559)\n",
       "\tat org.apache.spark.sql.Dataset.getRows(Dataset.scala:322)\n",
       "\tat org.apache.spark.sql.Dataset.showString(Dataset.scala:357)\n",
       "\tat sun.reflect.GeneratedMethodAccessor813.invoke(Unknown Source)\n",
       "\tat sun.reflect.DelegatingMethodAccessorImpl.invoke(DelegatingMethodAccessorImpl.java:43)\n",
       "\tat java.lang.reflect.Method.invoke(Method.java:498)\n",
       "\tat py4j.reflection.MethodInvoker.invoke(MethodInvoker.java:244)\n",
       "\tat py4j.reflection.ReflectionEngine.invoke(ReflectionEngine.java:397)\n",
       "\tat py4j.Gateway.invoke(Gateway.java:306)\n",
       "\tat py4j.commands.AbstractCommand.invokeMethod(AbstractCommand.java:132)\n",
       "\tat py4j.commands.CallCommand.execute(CallCommand.java:79)\n",
       "\tat py4j.ClientServerConnection.waitForCommands(ClientServerConnection.java:195)\n",
       "\tat py4j.ClientServerConnection.run(ClientServerConnection.java:115)\n",
       "\tat java.lang.Thread.run(Thread.java:750)\n",
       "Caused by: com.databricks.sql.io.FileReadException: Error while reading file dbfs:/FileStore/tables/mydir/currupt_data.csv.\n",
       "\tat org.apache.spark.sql.execution.datasources.FileScanRDD$$anon$1$$anon$2.logFileNameAndThrow(FileScanRDD.scala:695)\n",
       "\tat org.apache.spark.sql.execution.datasources.FileScanRDD$$anon$1$$anon$2.getNext(FileScanRDD.scala:664)\n",
       "\tat org.apache.spark.util.NextIterator.hasNext(NextIterator.scala:73)\n",
       "\tat org.apache.spark.sql.execution.datasources.FileScanRDD$$anon$1.nextIterator(FileScanRDD.scala:790)\n",
       "\tat org.apache.spark.sql.execution.datasources.FileScanRDD$$anon$1.$anonfun$hasNext$1(FileScanRDD.scala:505)\n",
       "\tat scala.runtime.java8.JFunction0$mcZ$sp.apply(JFunction0$mcZ$sp.java:23)\n",
       "\tat com.databricks.spark.util.ExecutorFrameProfiler$.record(ExecutorFrameProfiler.scala:110)\n",
       "\tat org.apache.spark.sql.execution.datasources.FileScanRDD$$anon$1.hasNext(FileScanRDD.scala:500)\n",
       "\tat scala.collection.Iterator$$anon$10.hasNext(Iterator.scala:460)\n",
       "\tat scala.collection.Iterator$$anon$10.hasNext(Iterator.scala:460)\n",
       "\tat scala.collection.convert.Wrappers$IteratorWrapper.hasNext(Wrappers.scala:32)\n",
       "\tat com.google.common.collect.Iterators$PeekingImpl.hasNext(Iterators.java:1139)\n",
       "\tat com.databricks.photon.NativeRowBatchIterator.hasNext(NativeRowBatchIterator.java:44)\n",
       "\tat 0x986db02 <photon>.HasNext(external/workspace_spark_3_4/photon/jni-wrappers/jni-row-batch-iterator.cc:50)\n",
       "\tat com.databricks.photon.JniApiImpl.hasNext(Native Method)\n",
       "\tat com.databricks.photon.JniApi.hasNext(JniApi.scala)\n",
       "\tat com.databricks.photon.JniExecNode.hasNext(JniExecNode.java:78)\n",
       "\tat com.databricks.photon.BasePhotonResultHandler$$anon$1.hasNext(PhotonExec.scala:756)\n",
       "\tat com.databricks.photon.PhotonBasicEvaluatorFactory$PhotonBasicEvaluator$$anon$1.$anonfun$hasNext$1(PhotonBasicEvaluatorFactory.scala:211)\n",
       "\tat scala.runtime.java8.JFunction0$mcZ$sp.apply(JFunction0$mcZ$sp.java:23)\n",
       "\tat com.databricks.photon.PhotonResultHandler.timeit(PhotonResultHandler.scala:30)\n",
       "\tat com.databricks.photon.PhotonResultHandler.timeit$(PhotonResultHandler.scala:28)\n",
       "\tat com.databricks.photon.BasePhotonResultHandler.timeit(PhotonExec.scala:743)\n",
       "\tat com.databricks.photon.PhotonBasicEvaluatorFactory$PhotonBasicEvaluator$$anon$1.hasNext(PhotonBasicEvaluatorFactory.scala:211)\n",
       "\tat com.databricks.photon.CloseableIterator$$anon$10.hasNext(CloseableIterator.scala:211)\n",
       "\tat scala.collection.Iterator$$anon$11.hasNext(Iterator.scala:491)\n",
       "\tat org.apache.spark.sql.execution.collect.UnsafeRowBatchUtils$.$anonfun$encodeUnsafeRows$5(UnsafeRowBatchUtils.scala:88)\n",
       "\tat scala.runtime.java8.JFunction0$mcV$sp.apply(JFunction0$mcV$sp.java:23)\n",
       "\tat com.databricks.spark.util.ExecutorFrameProfiler$.record(ExecutorFrameProfiler.scala:110)\n",
       "\tat org.apache.spark.sql.execution.collect.UnsafeRowBatchUtils$.$anonfun$encodeUnsafeRows$3(UnsafeRowBatchUtils.scala:88)\n",
       "\tat scala.runtime.java8.JFunction0$mcV$sp.apply(JFunction0$mcV$sp.java:23)\n",
       "\tat com.databricks.spark.util.ExecutorFrameProfiler$.record(ExecutorFrameProfiler.scala:110)\n",
       "\tat org.apache.spark.sql.execution.collect.UnsafeRowBatchUtils$.$anonfun$encodeUnsafeRows$1(UnsafeRowBatchUtils.scala:68)\n",
       "\tat com.databricks.spark.util.ExecutorFrameProfiler$.record(ExecutorFrameProfiler.scala:110)\n",
       "\tat org.apache.spark.sql.execution.collect.UnsafeRowBatchUtils$.encodeUnsafeRows(UnsafeRowBatchUtils.scala:62)\n",
       "\tat org.apache.spark.sql.execution.collect.Collector.$anonfun$processFunc$2(Collector.scala:197)\n",
       "\tat org.apache.spark.scheduler.ResultTask.$anonfun$runTask$3(ResultTask.scala:82)\n",
       "\tat com.databricks.spark.util.ExecutorFrameProfiler$.record(ExecutorFrameProfiler.scala:110)\n",
       "\tat org.apache.spark.scheduler.ResultTask.$anonfun$runTask$1(ResultTask.scala:82)\n",
       "\tat com.databricks.spark.util.ExecutorFrameProfiler$.record(ExecutorFrameProfiler.scala:110)\n",
       "\tat org.apache.spark.scheduler.ResultTask.runTask(ResultTask.scala:62)\n",
       "\tat org.apache.spark.TaskContext.runTaskWithListeners(TaskContext.scala:196)\n",
       "\tat org.apache.spark.scheduler.Task.doRunTask(Task.scala:181)\n",
       "\tat org.apache.spark.scheduler.Task.$anonfun$run$5(Task.scala:146)\n",
       "\tat com.databricks.unity.EmptyHandle$.runWithAndClose(UCSHandle.scala:125)\n",
       "\tat org.apache.spark.scheduler.Task.$anonfun$run$1(Task.scala:146)\n",
       "\tat com.databricks.spark.util.ExecutorFrameProfiler$.record(ExecutorFrameProfiler.scala:110)\n",
       "\tat org.apache.spark.scheduler.Task.run(Task.scala:99)\n",
       "\tat org.apache.spark.executor.Executor$TaskRunner.$anonfun$run$8(Executor.scala:897)\n",
       "\tat org.apache.spark.util.Utils$.tryWithSafeFinally(Utils.scala:1709)\n",
       "\tat org.apache.spark.executor.Executor$TaskRunner.$anonfun$run$3(Executor.scala:900)\n",
       "\tat scala.runtime.java8.JFunction0$mcV$sp.apply(JFunction0$mcV$sp.java:23)\n",
       "\tat com.databricks.spark.util.ExecutorFrameProfiler$.record(ExecutorFrameProfiler.scala:110)\n",
       "\tat org.apache.spark.executor.Executor$TaskRunner.run(Executor.scala:795)\n",
       "\tat java.util.concurrent.ThreadPoolExecutor.runWorker(ThreadPoolExecutor.java:1149)\n",
       "\tat java.util.concurrent.ThreadPoolExecutor$Worker.run(ThreadPoolExecutor.java:624)\n",
       "\t... 1 more\n",
       "Caused by: org.apache.spark.SparkException: [MALFORMED_RECORD_IN_PARSING.WITHOUT_SUGGESTION] Malformed records are detected in record parsing: [Jan,256,8000,40,null].\n",
       "Parse Mode: FAILFAST. To process malformed records as null result, try setting the option 'mode' as 'PERMISSIVE'. \n",
       "\tat org.apache.spark.sql.errors.QueryExecutionErrors$.malformedRecordsDetectedInRecordParsingError(QueryExecutionErrors.scala:2025)\n",
       "\tat org.apache.spark.sql.catalyst.util.FailureSafeParser.parse(FailureSafeParser.scala:118)\n",
       "\tat org.apache.spark.sql.catalyst.csv.UnivocityParser$.$anonfun$parseIterator$2(UnivocityParser.scala:512)\n",
       "\tat scala.collection.Iterator$$anon$11.nextCur(Iterator.scala:486)\n",
       "\tat scala.collection.Iterator$$anon$11.hasNext(Iterator.scala:492)\n",
       "\tat org.apache.spark.util.CompletionIterator.hasNext(CompletionIterator.scala:31)\n",
       "\tat scala.collection.Iterator$$anon$10.hasNext(Iterator.scala:460)\n",
       "\tat org.apache.spark.sql.execution.datasources.FileScanRDD$$anon$1$$anon$2.getNext(FileScanRDD.scala:603)\n",
       "\tat org.apache.spark.util.NextIterator.hasNext(NextIterator.scala:73)\n",
       "\tat org.apache.spark.sql.execution.datasources.FileScanRDD$$anon$1.nextIterator(FileScanRDD.scala:790)\n",
       "\tat org.apache.spark.sql.execution.datasources.FileScanRDD$$anon$1.$anonfun$hasNext$1(FileScanRDD.scala:505)\n",
       "\tat scala.runtime.java8.JFunction0$mcZ$sp.apply(JFunction0$mcZ$sp.java:23)\n",
       "\tat com.databricks.spark.util.ExecutorFrameProfiler$.record(ExecutorFrameProfiler.scala:110)\n",
       "\tat org.apache.spark.sql.execution.datasources.FileScanRDD$$anon$1.hasNext(FileScanRDD.scala:500)\n",
       "\tat scala.collection.Iterator$$anon$10.hasNext(Iterator.scala:460)\n",
       "\tat scala.collection.Iterator$$anon$10.hasNext(Iterator.scala:460)\n",
       "\tat scala.collection.convert.Wrappers$IteratorWrapper.hasNext(Wrappers.scala:32)\n",
       "\tat com.google.common.collect.Iterators$PeekingImpl.hasNext(Iterators.java:1139)\n",
       "\tat com.databricks.photon.NativeRowBatchIterator.hasNext(NativeRowBatchIterator.java:44)\n",
       "\t... 43 more\n",
       "Caused by: org.apache.spark.sql.catalyst.util.BadRecordException: org.apache.spark.SparkRuntimeException: [MALFORMED_CSV_RECORD] Malformed CSV record: Jan,256,8000,40\n",
       "Caused by: org.apache.spark.SparkRuntimeException: [MALFORMED_CSV_RECORD] Malformed CSV record: Jan,256,8000,40\n",
       "\tat org.apache.spark.sql.errors.QueryExecutionErrors$.malformedCSVRecordError(QueryExecutionErrors.scala:1790)\n",
       "\tat org.apache.spark.sql.catalyst.csv.UnivocityParser.convert(UnivocityParser.scala:351)\n",
       "\tat org.apache.spark.sql.catalyst.csv.UnivocityParser.$anonfun$parse$2(UnivocityParser.scala:326)\n",
       "\tat org.apache.spark.sql.catalyst.csv.UnivocityParser$.$anonfun$parseIterator$1(UnivocityParser.scala:504)\n",
       "\tat org.apache.spark.sql.catalyst.util.FailureSafeParser.parse(FailureSafeParser.scala:92)\n",
       "\tat org.apache.spark.sql.catalyst.csv.UnivocityParser$.$anonfun$parseIterator$2(UnivocityParser.scala:512)\n",
       "\tat scala.collection.Iterator$$anon$11.nextCur(Iterator.scala:486)\n",
       "\tat scala.collection.Iterator$$anon$11.hasNext(Iterator.scala:492)\n",
       "\tat org.apache.spark.util.CompletionIterator.hasNext(CompletionIterator.scala:31)\n",
       "\tat scala.collection.Iterator$$anon$10.hasNext(Iterator.scala:460)\n",
       "\tat org.apache.spark.sql.execution.datasources.FileScanRDD$$anon$1$$anon$2.getNext(FileScanRDD.scala:603)\n",
       "\tat org.apache.spark.util.NextIterator.hasNext(NextIterator.scala:73)\n",
       "\tat org.apache.spark.sql.execution.datasources.FileScanRDD$$anon$1.nextIterator(FileScanRDD.scala:790)\n",
       "\tat org.apache.spark.sql.execution.datasources.FileScanRDD$$anon$1.$anonfun$hasNext$1(FileScanRDD.scala:505)\n",
       "\tat scala.runtime.java8.JFunction0$mcZ$sp.apply(JFunction0$mcZ$sp.java:23)\n",
       "\tat com.databricks.spark.util.ExecutorFrameProfiler$.record(ExecutorFrameProfiler.scala:110)\n",
       "\tat org.apache.spark.sql.execution.datasources.FileScanRDD$$anon$1.hasNext(FileScanRDD.scala:500)\n",
       "\tat scala.collection.Iterator$$anon$10.hasNext(Iterator.scala:460)\n",
       "\tat scala.collection.Iterator$$anon$10.hasNext(Iterator.scala:460)\n",
       "\tat scala.collection.convert.Wrappers$IteratorWrapper.hasNext(Wrappers.scala:32)\n",
       "\tat com.google.common.collect.Iterators$PeekingImpl.hasNext(Iterators.java:1139)\n",
       "\tat com.databricks.photon.NativeRowBatchIterator.hasNext(NativeRowBatchIterator.java:44)\n",
       "\tat com.databricks.photon.JniApiImpl.hasNext(Native Method)\n",
       "\tat com.databricks.photon.JniApi.hasNext(JniApi.scala)\n",
       "\tat com.databricks.photon.JniExecNode.hasNext(JniExecNode.java:78)\n",
       "\tat com.databricks.photon.BasePhotonResultHandler$$anon$1.hasNext(PhotonExec.scala:756)\n",
       "\tat com.databricks.photon.PhotonBasicEvaluatorFactory$PhotonBasicEvaluator$$anon$1.$anonfun$hasNext$1(PhotonBasicEvaluatorFactory.scala:211)\n",
       "\tat scala.runtime.java8.JFunction0$mcZ$sp.apply(JFunction0$mcZ$sp.java:23)\n",
       "\tat com.databricks.photon.PhotonResultHandler.timeit(PhotonResultHandler.scala:30)\n",
       "\tat com.databricks.photon.PhotonResultHandler.timeit$(PhotonResultHandler.scala:28)\n",
       "\tat com.databricks.photon.BasePhotonResultHandler.timeit(PhotonExec.scala:743)\n",
       "\tat com.databricks.photon.PhotonBasicEvaluatorFactory$PhotonBasicEvaluator$$anon$1.hasNext(PhotonBasicEvaluatorFactory.scala:211)\n",
       "\tat com.databricks.photon.CloseableIterator$$anon$10.hasNext(CloseableIterator.scala:211)\n",
       "\tat scala.collection.Iterator$$anon$11.hasNext(Iterator.scala:491)\n",
       "\tat org.apache.spark.sql.execution.collect.UnsafeRowBatchUtils$.$anonfun$encodeUnsafeRows$5(UnsafeRowBatchUtils.scala:88)\n",
       "\tat scala.runtime.java8.JFunction0$mcV$sp.apply(JFunction0$mcV$sp.java:23)\n",
       "\tat com.databricks.spark.util.ExecutorFrameProfiler$.record(ExecutorFrameProfiler.scala:110)\n",
       "\tat org.apache.spark.sql.execution.collect.UnsafeRowBatchUtils$.$anonfun$encodeUnsafeRows$3(UnsafeRowBatchUtils.scala:88)\n",
       "\tat scala.runtime.java8.JFunction0$mcV$sp.apply(JFunction0$mcV$sp.java:23)\n",
       "\tat com.databricks.spark.util.ExecutorFrameProfiler$.record(ExecutorFrameProfiler.scala:110)\n",
       "\tat org.apache.spark.sql.execution.collect.UnsafeRowBatchUtils$.$anonfun$encodeUnsafeRows$1(UnsafeRowBatchUtils.scala:68)\n",
       "\tat com.databricks.spark.util.ExecutorFrameProfiler$.record(ExecutorFrameProfiler.scala:110)\n",
       "\tat org.apache.spark.sql.execution.collect.UnsafeRowBatchUtils$.encodeUnsafeRows(UnsafeRowBatchUtils.scala:62)\n",
       "\tat org.apache.spark.sql.execution.collect.Collector.$anonfun$processFunc$2(Collector.scala:197)\n",
       "\tat org.apache.spark.scheduler.ResultTask.$anonfun$runTask$3(ResultTask.scala:82)\n",
       "\tat com.databricks.spark.util.ExecutorFrameProfiler$.record(ExecutorFrameProfiler.scala:110)\n",
       "\tat org.apache.spark.scheduler.ResultTask.$anonfun$runTask$1(ResultTask.scala:82)\n",
       "\tat com.databricks.spark.util.ExecutorFrameProfiler$.record(ExecutorFrameProfiler.scala:110)\n",
       "\tat org.apache.spark.scheduler.ResultTask.runTask(ResultTask.scala:62)\n",
       "\tat org.apache.spark.TaskContext.runTaskWithListeners(TaskContext.scala:196)\n",
       "\tat org.apache.spark.scheduler.Task.doRunTask(Task.scala:181)\n",
       "\tat org.apache.spark.scheduler.Task.$anonfun$run$5(Task.scala:146)\n",
       "\tat com.databricks.unity.EmptyHandle$.runWithAndClose(UCSHandle.scala:125)\n",
       "\tat org.apache.spark.scheduler.Task.$anonfun$run$1(Task.scala:146)\n",
       "\tat com.databricks.spark.util.ExecutorFrameProfiler$.record(ExecutorFrameProfiler.scala:110)\n",
       "\tat org.apache.spark.scheduler.Task.run(Task.scala:99)\n",
       "\tat org.apache.spark.executor.Executor$TaskRunner.$anonfun$run$8(Executor.scala:897)\n",
       "\tat org.apache.spark.util.Utils$.tryWithSafeFinally(Utils.scala:1709)\n",
       "\tat org.apache.spark.executor.Executor$TaskRunner.$anonfun$run$3(Executor.scala:900)\n",
       "\tat scala.runtime.java8.JFunction0$mcV$sp.apply(JFunction0$mcV$sp.java:23)\n",
       "\tat com.databricks.spark.util.ExecutorFrameProfiler$.record(ExecutorFrameProfiler.scala:110)\n",
       "\tat org.apache.spark.executor.Executor$TaskRunner.run(Executor.scala:795)\n",
       "\tat java.util.concurrent.ThreadPoolExecutor.runWorker(ThreadPoolExecutor.java:1149)\n",
       "\tat java.util.concurrent.ThreadPoolExecutor$Worker.run(ThreadPoolExecutor.java:624)\n",
       "\tat java.lang.Thread.run(Thread.java:750)\n"
      ]
     },
     "metadata": {
      "application/vnd.databricks.v1+output": {
       "arguments": {},
       "data": "\u001B[0;31m---------------------------------------------------------------------------\u001B[0m\n\u001B[0;31mPy4JJavaError\u001B[0m                             Traceback (most recent call last)\nFile \u001B[0;32m<command-894128884975875>, line 1\u001B[0m\n\u001B[0;32m----> 1\u001B[0m \u001B[43mspark\u001B[49m\u001B[38;5;241;43m.\u001B[39;49m\u001B[43mread\u001B[49m\u001B[38;5;241;43m.\u001B[39;49m\u001B[43mformat\u001B[49m\u001B[43m(\u001B[49m\u001B[38;5;124;43m'\u001B[39;49m\u001B[38;5;124;43mcsv\u001B[39;49m\u001B[38;5;124;43m'\u001B[39;49m\u001B[43m)\u001B[49m\u001B[38;5;241;43m.\u001B[39;49m\u001B[43moption\u001B[49m\u001B[43m(\u001B[49m\u001B[38;5;124;43m\"\u001B[39;49m\u001B[38;5;124;43mheader\u001B[39;49m\u001B[38;5;124;43m\"\u001B[39;49m\u001B[43m,\u001B[49m\u001B[38;5;28;43;01mFalse\u001B[39;49;00m\u001B[43m)\u001B[49m\u001B[38;5;241;43m.\u001B[39;49m\u001B[43moption\u001B[49m\u001B[43m(\u001B[49m\u001B[38;5;124;43m\"\u001B[39;49m\u001B[38;5;124;43mmode\u001B[39;49m\u001B[38;5;124;43m\"\u001B[39;49m\u001B[43m,\u001B[49m\u001B[38;5;124;43m\"\u001B[39;49m\u001B[38;5;124;43mFAILFAST\u001B[39;49m\u001B[38;5;124;43m\"\u001B[39;49m\u001B[43m)\u001B[49m\u001B[38;5;241;43m.\u001B[39;49m\u001B[43mschema\u001B[49m\u001B[43m(\u001B[49m\u001B[43mdf_schema\u001B[49m\u001B[43m)\u001B[49m\u001B[38;5;241;43m.\u001B[39;49m\u001B[43mload\u001B[49m\u001B[43m(\u001B[49m\u001B[38;5;124;43m\"\u001B[39;49m\u001B[38;5;124;43m/FileStore/tables/mydir/currupt_data.csv\u001B[39;49m\u001B[38;5;124;43m\"\u001B[39;49m\u001B[43m)\u001B[49m\u001B[38;5;241;43m.\u001B[39;49m\u001B[43mshow\u001B[49m\u001B[43m(\u001B[49m\u001B[43m)\u001B[49m\n\nFile \u001B[0;32m/databricks/spark/python/pyspark/instrumentation_utils.py:48\u001B[0m, in \u001B[0;36m_wrap_function.<locals>.wrapper\u001B[0;34m(*args, **kwargs)\u001B[0m\n\u001B[1;32m     46\u001B[0m start \u001B[38;5;241m=\u001B[39m time\u001B[38;5;241m.\u001B[39mperf_counter()\n\u001B[1;32m     47\u001B[0m \u001B[38;5;28;01mtry\u001B[39;00m:\n\u001B[0;32m---> 48\u001B[0m     res \u001B[38;5;241m=\u001B[39m \u001B[43mfunc\u001B[49m\u001B[43m(\u001B[49m\u001B[38;5;241;43m*\u001B[39;49m\u001B[43margs\u001B[49m\u001B[43m,\u001B[49m\u001B[43m \u001B[49m\u001B[38;5;241;43m*\u001B[39;49m\u001B[38;5;241;43m*\u001B[39;49m\u001B[43mkwargs\u001B[49m\u001B[43m)\u001B[49m\n\u001B[1;32m     49\u001B[0m     logger\u001B[38;5;241m.\u001B[39mlog_success(\n\u001B[1;32m     50\u001B[0m         module_name, class_name, function_name, time\u001B[38;5;241m.\u001B[39mperf_counter() \u001B[38;5;241m-\u001B[39m start, signature\n\u001B[1;32m     51\u001B[0m     )\n\u001B[1;32m     52\u001B[0m     \u001B[38;5;28;01mreturn\u001B[39;00m res\n\nFile \u001B[0;32m/databricks/spark/python/pyspark/sql/dataframe.py:934\u001B[0m, in \u001B[0;36mDataFrame.show\u001B[0;34m(self, n, truncate, vertical)\u001B[0m\n\u001B[1;32m    928\u001B[0m     \u001B[38;5;28;01mraise\u001B[39;00m PySparkTypeError(\n\u001B[1;32m    929\u001B[0m         error_class\u001B[38;5;241m=\u001B[39m\u001B[38;5;124m\"\u001B[39m\u001B[38;5;124mNOT_BOOL\u001B[39m\u001B[38;5;124m\"\u001B[39m,\n\u001B[1;32m    930\u001B[0m         message_parameters\u001B[38;5;241m=\u001B[39m{\u001B[38;5;124m\"\u001B[39m\u001B[38;5;124marg_name\u001B[39m\u001B[38;5;124m\"\u001B[39m: \u001B[38;5;124m\"\u001B[39m\u001B[38;5;124mvertical\u001B[39m\u001B[38;5;124m\"\u001B[39m, \u001B[38;5;124m\"\u001B[39m\u001B[38;5;124marg_type\u001B[39m\u001B[38;5;124m\"\u001B[39m: \u001B[38;5;28mtype\u001B[39m(vertical)\u001B[38;5;241m.\u001B[39m\u001B[38;5;18m__name__\u001B[39m},\n\u001B[1;32m    931\u001B[0m     )\n\u001B[1;32m    933\u001B[0m \u001B[38;5;28;01mif\u001B[39;00m \u001B[38;5;28misinstance\u001B[39m(truncate, \u001B[38;5;28mbool\u001B[39m) \u001B[38;5;129;01mand\u001B[39;00m truncate:\n\u001B[0;32m--> 934\u001B[0m     \u001B[38;5;28mprint\u001B[39m(\u001B[38;5;28;43mself\u001B[39;49m\u001B[38;5;241;43m.\u001B[39;49m\u001B[43m_jdf\u001B[49m\u001B[38;5;241;43m.\u001B[39;49m\u001B[43mshowString\u001B[49m\u001B[43m(\u001B[49m\u001B[43mn\u001B[49m\u001B[43m,\u001B[49m\u001B[43m \u001B[49m\u001B[38;5;241;43m20\u001B[39;49m\u001B[43m,\u001B[49m\u001B[43m \u001B[49m\u001B[43mvertical\u001B[49m\u001B[43m)\u001B[49m)\n\u001B[1;32m    935\u001B[0m \u001B[38;5;28;01melse\u001B[39;00m:\n\u001B[1;32m    936\u001B[0m     \u001B[38;5;28;01mtry\u001B[39;00m:\n\nFile \u001B[0;32m/databricks/spark/python/lib/py4j-0.10.9.7-src.zip/py4j/java_gateway.py:1322\u001B[0m, in \u001B[0;36mJavaMember.__call__\u001B[0;34m(self, *args)\u001B[0m\n\u001B[1;32m   1316\u001B[0m command \u001B[38;5;241m=\u001B[39m proto\u001B[38;5;241m.\u001B[39mCALL_COMMAND_NAME \u001B[38;5;241m+\u001B[39m\\\n\u001B[1;32m   1317\u001B[0m     \u001B[38;5;28mself\u001B[39m\u001B[38;5;241m.\u001B[39mcommand_header \u001B[38;5;241m+\u001B[39m\\\n\u001B[1;32m   1318\u001B[0m     args_command \u001B[38;5;241m+\u001B[39m\\\n\u001B[1;32m   1319\u001B[0m     proto\u001B[38;5;241m.\u001B[39mEND_COMMAND_PART\n\u001B[1;32m   1321\u001B[0m answer \u001B[38;5;241m=\u001B[39m \u001B[38;5;28mself\u001B[39m\u001B[38;5;241m.\u001B[39mgateway_client\u001B[38;5;241m.\u001B[39msend_command(command)\n\u001B[0;32m-> 1322\u001B[0m return_value \u001B[38;5;241m=\u001B[39m \u001B[43mget_return_value\u001B[49m\u001B[43m(\u001B[49m\n\u001B[1;32m   1323\u001B[0m \u001B[43m    \u001B[49m\u001B[43manswer\u001B[49m\u001B[43m,\u001B[49m\u001B[43m \u001B[49m\u001B[38;5;28;43mself\u001B[39;49m\u001B[38;5;241;43m.\u001B[39;49m\u001B[43mgateway_client\u001B[49m\u001B[43m,\u001B[49m\u001B[43m \u001B[49m\u001B[38;5;28;43mself\u001B[39;49m\u001B[38;5;241;43m.\u001B[39;49m\u001B[43mtarget_id\u001B[49m\u001B[43m,\u001B[49m\u001B[43m \u001B[49m\u001B[38;5;28;43mself\u001B[39;49m\u001B[38;5;241;43m.\u001B[39;49m\u001B[43mname\u001B[49m\u001B[43m)\u001B[49m\n\u001B[1;32m   1325\u001B[0m \u001B[38;5;28;01mfor\u001B[39;00m temp_arg \u001B[38;5;129;01min\u001B[39;00m temp_args:\n\u001B[1;32m   1326\u001B[0m     \u001B[38;5;28;01mif\u001B[39;00m \u001B[38;5;28mhasattr\u001B[39m(temp_arg, \u001B[38;5;124m\"\u001B[39m\u001B[38;5;124m_detach\u001B[39m\u001B[38;5;124m\"\u001B[39m):\n\nFile \u001B[0;32m/databricks/spark/python/pyspark/errors/exceptions/captured.py:188\u001B[0m, in \u001B[0;36mcapture_sql_exception.<locals>.deco\u001B[0;34m(*a, **kw)\u001B[0m\n\u001B[1;32m    186\u001B[0m \u001B[38;5;28;01mdef\u001B[39;00m \u001B[38;5;21mdeco\u001B[39m(\u001B[38;5;241m*\u001B[39ma: Any, \u001B[38;5;241m*\u001B[39m\u001B[38;5;241m*\u001B[39mkw: Any) \u001B[38;5;241m-\u001B[39m\u001B[38;5;241m>\u001B[39m Any:\n\u001B[1;32m    187\u001B[0m     \u001B[38;5;28;01mtry\u001B[39;00m:\n\u001B[0;32m--> 188\u001B[0m         \u001B[38;5;28;01mreturn\u001B[39;00m \u001B[43mf\u001B[49m\u001B[43m(\u001B[49m\u001B[38;5;241;43m*\u001B[39;49m\u001B[43ma\u001B[49m\u001B[43m,\u001B[49m\u001B[43m \u001B[49m\u001B[38;5;241;43m*\u001B[39;49m\u001B[38;5;241;43m*\u001B[39;49m\u001B[43mkw\u001B[49m\u001B[43m)\u001B[49m\n\u001B[1;32m    189\u001B[0m     \u001B[38;5;28;01mexcept\u001B[39;00m Py4JJavaError \u001B[38;5;28;01mas\u001B[39;00m e:\n\u001B[1;32m    190\u001B[0m         converted \u001B[38;5;241m=\u001B[39m convert_exception(e\u001B[38;5;241m.\u001B[39mjava_exception)\n\nFile \u001B[0;32m/databricks/spark/python/lib/py4j-0.10.9.7-src.zip/py4j/protocol.py:326\u001B[0m, in \u001B[0;36mget_return_value\u001B[0;34m(answer, gateway_client, target_id, name)\u001B[0m\n\u001B[1;32m    324\u001B[0m value \u001B[38;5;241m=\u001B[39m OUTPUT_CONVERTER[\u001B[38;5;28mtype\u001B[39m](answer[\u001B[38;5;241m2\u001B[39m:], gateway_client)\n\u001B[1;32m    325\u001B[0m \u001B[38;5;28;01mif\u001B[39;00m answer[\u001B[38;5;241m1\u001B[39m] \u001B[38;5;241m==\u001B[39m REFERENCE_TYPE:\n\u001B[0;32m--> 326\u001B[0m     \u001B[38;5;28;01mraise\u001B[39;00m Py4JJavaError(\n\u001B[1;32m    327\u001B[0m         \u001B[38;5;124m\"\u001B[39m\u001B[38;5;124mAn error occurred while calling \u001B[39m\u001B[38;5;132;01m{0}\u001B[39;00m\u001B[38;5;132;01m{1}\u001B[39;00m\u001B[38;5;132;01m{2}\u001B[39;00m\u001B[38;5;124m.\u001B[39m\u001B[38;5;130;01m\\n\u001B[39;00m\u001B[38;5;124m\"\u001B[39m\u001B[38;5;241m.\u001B[39m\n\u001B[1;32m    328\u001B[0m         \u001B[38;5;28mformat\u001B[39m(target_id, \u001B[38;5;124m\"\u001B[39m\u001B[38;5;124m.\u001B[39m\u001B[38;5;124m\"\u001B[39m, name), value)\n\u001B[1;32m    329\u001B[0m \u001B[38;5;28;01melse\u001B[39;00m:\n\u001B[1;32m    330\u001B[0m     \u001B[38;5;28;01mraise\u001B[39;00m Py4JError(\n\u001B[1;32m    331\u001B[0m         \u001B[38;5;124m\"\u001B[39m\u001B[38;5;124mAn error occurred while calling \u001B[39m\u001B[38;5;132;01m{0}\u001B[39;00m\u001B[38;5;132;01m{1}\u001B[39;00m\u001B[38;5;132;01m{2}\u001B[39;00m\u001B[38;5;124m. Trace:\u001B[39m\u001B[38;5;130;01m\\n\u001B[39;00m\u001B[38;5;132;01m{3}\u001B[39;00m\u001B[38;5;130;01m\\n\u001B[39;00m\u001B[38;5;124m\"\u001B[39m\u001B[38;5;241m.\u001B[39m\n\u001B[1;32m    332\u001B[0m         \u001B[38;5;28mformat\u001B[39m(target_id, \u001B[38;5;124m\"\u001B[39m\u001B[38;5;124m.\u001B[39m\u001B[38;5;124m\"\u001B[39m, name, value))\n\n\u001B[0;31mPy4JJavaError\u001B[0m: An error occurred while calling o78621.showString.\n: org.apache.spark.SparkException: Job aborted due to stage failure: Task 0 in stage 162.0 failed 4 times, most recent failure: Lost task 0.3 in stage 162.0 (TID 268) (10.139.64.4 executor driver): com.databricks.sql.io.FileReadException: Error while reading file dbfs:/FileStore/tables/mydir/currupt_data.csv.\n\tat org.apache.spark.sql.execution.datasources.FileScanRDD$$anon$1$$anon$2.logFileNameAndThrow(FileScanRDD.scala:695)\n\tat org.apache.spark.sql.execution.datasources.FileScanRDD$$anon$1$$anon$2.getNext(FileScanRDD.scala:664)\n\tat org.apache.spark.util.NextIterator.hasNext(NextIterator.scala:73)\n\tat org.apache.spark.sql.execution.datasources.FileScanRDD$$anon$1.nextIterator(FileScanRDD.scala:790)\n\tat org.apache.spark.sql.execution.datasources.FileScanRDD$$anon$1.$anonfun$hasNext$1(FileScanRDD.scala:505)\n\tat scala.runtime.java8.JFunction0$mcZ$sp.apply(JFunction0$mcZ$sp.java:23)\n\tat com.databricks.spark.util.ExecutorFrameProfiler$.record(ExecutorFrameProfiler.scala:110)\n\tat org.apache.spark.sql.execution.datasources.FileScanRDD$$anon$1.hasNext(FileScanRDD.scala:500)\n\tat scala.collection.Iterator$$anon$10.hasNext(Iterator.scala:460)\n\tat scala.collection.Iterator$$anon$10.hasNext(Iterator.scala:460)\n\tat scala.collection.convert.Wrappers$IteratorWrapper.hasNext(Wrappers.scala:32)\n\tat com.google.common.collect.Iterators$PeekingImpl.hasNext(Iterators.java:1139)\n\tat com.databricks.photon.NativeRowBatchIterator.hasNext(NativeRowBatchIterator.java:44)\n\tat 0x986db02 <photon>.HasNext(external/workspace_spark_3_4/photon/jni-wrappers/jni-row-batch-iterator.cc:50)\n\tat com.databricks.photon.JniApiImpl.hasNext(Native Method)\n\tat com.databricks.photon.JniApi.hasNext(JniApi.scala)\n\tat com.databricks.photon.JniExecNode.hasNext(JniExecNode.java:78)\n\tat com.databricks.photon.BasePhotonResultHandler$$anon$1.hasNext(PhotonExec.scala:756)\n\tat com.databricks.photon.PhotonBasicEvaluatorFactory$PhotonBasicEvaluator$$anon$1.$anonfun$hasNext$1(PhotonBasicEvaluatorFactory.scala:211)\n\tat scala.runtime.java8.JFunction0$mcZ$sp.apply(JFunction0$mcZ$sp.java:23)\n\tat com.databricks.photon.PhotonResultHandler.timeit(PhotonResultHandler.scala:30)\n\tat com.databricks.photon.PhotonResultHandler.timeit$(PhotonResultHandler.scala:28)\n\tat com.databricks.photon.BasePhotonResultHandler.timeit(PhotonExec.scala:743)\n\tat com.databricks.photon.PhotonBasicEvaluatorFactory$PhotonBasicEvaluator$$anon$1.hasNext(PhotonBasicEvaluatorFactory.scala:211)\n\tat com.databricks.photon.CloseableIterator$$anon$10.hasNext(CloseableIterator.scala:211)\n\tat scala.collection.Iterator$$anon$11.hasNext(Iterator.scala:491)\n\tat org.apache.spark.sql.execution.collect.UnsafeRowBatchUtils$.$anonfun$encodeUnsafeRows$5(UnsafeRowBatchUtils.scala:88)\n\tat scala.runtime.java8.JFunction0$mcV$sp.apply(JFunction0$mcV$sp.java:23)\n\tat com.databricks.spark.util.ExecutorFrameProfiler$.record(ExecutorFrameProfiler.scala:110)\n\tat org.apache.spark.sql.execution.collect.UnsafeRowBatchUtils$.$anonfun$encodeUnsafeRows$3(UnsafeRowBatchUtils.scala:88)\n\tat scala.runtime.java8.JFunction0$mcV$sp.apply(JFunction0$mcV$sp.java:23)\n\tat com.databricks.spark.util.ExecutorFrameProfiler$.record(ExecutorFrameProfiler.scala:110)\n\tat org.apache.spark.sql.execution.collect.UnsafeRowBatchUtils$.$anonfun$encodeUnsafeRows$1(UnsafeRowBatchUtils.scala:68)\n\tat com.databricks.spark.util.ExecutorFrameProfiler$.record(ExecutorFrameProfiler.scala:110)\n\tat org.apache.spark.sql.execution.collect.UnsafeRowBatchUtils$.encodeUnsafeRows(UnsafeRowBatchUtils.scala:62)\n\tat org.apache.spark.sql.execution.collect.Collector.$anonfun$processFunc$2(Collector.scala:197)\n\tat org.apache.spark.scheduler.ResultTask.$anonfun$runTask$3(ResultTask.scala:82)\n\tat com.databricks.spark.util.ExecutorFrameProfiler$.record(ExecutorFrameProfiler.scala:110)\n\tat org.apache.spark.scheduler.ResultTask.$anonfun$runTask$1(ResultTask.scala:82)\n\tat com.databricks.spark.util.ExecutorFrameProfiler$.record(ExecutorFrameProfiler.scala:110)\n\tat org.apache.spark.scheduler.ResultTask.runTask(ResultTask.scala:62)\n\tat org.apache.spark.TaskContext.runTaskWithListeners(TaskContext.scala:196)\n\tat org.apache.spark.scheduler.Task.doRunTask(Task.scala:181)\n\tat org.apache.spark.scheduler.Task.$anonfun$run$5(Task.scala:146)\n\tat com.databricks.unity.EmptyHandle$.runWithAndClose(UCSHandle.scala:125)\n\tat org.apache.spark.scheduler.Task.$anonfun$run$1(Task.scala:146)\n\tat com.databricks.spark.util.ExecutorFrameProfiler$.record(ExecutorFrameProfiler.scala:110)\n\tat org.apache.spark.scheduler.Task.run(Task.scala:99)\n\tat org.apache.spark.executor.Executor$TaskRunner.$anonfun$run$8(Executor.scala:897)\n\tat org.apache.spark.util.Utils$.tryWithSafeFinally(Utils.scala:1709)\n\tat org.apache.spark.executor.Executor$TaskRunner.$anonfun$run$3(Executor.scala:900)\n\tat scala.runtime.java8.JFunction0$mcV$sp.apply(JFunction0$mcV$sp.java:23)\n\tat com.databricks.spark.util.ExecutorFrameProfiler$.record(ExecutorFrameProfiler.scala:110)\n\tat org.apache.spark.executor.Executor$TaskRunner.run(Executor.scala:795)\n\tat java.util.concurrent.ThreadPoolExecutor.runWorker(ThreadPoolExecutor.java:1149)\n\tat java.util.concurrent.ThreadPoolExecutor$Worker.run(ThreadPoolExecutor.java:624)\n\tat java.lang.Thread.run(Thread.java:750)\nCaused by: org.apache.spark.SparkException: [MALFORMED_RECORD_IN_PARSING.WITHOUT_SUGGESTION] Malformed records are detected in record parsing: [Jan,256,8000,40,null].\nParse Mode: FAILFAST. To process malformed records as null result, try setting the option 'mode' as 'PERMISSIVE'. \n\tat org.apache.spark.sql.errors.QueryExecutionErrors$.malformedRecordsDetectedInRecordParsingError(QueryExecutionErrors.scala:2025)\n\tat org.apache.spark.sql.catalyst.util.FailureSafeParser.parse(FailureSafeParser.scala:118)\n\tat org.apache.spark.sql.catalyst.csv.UnivocityParser$.$anonfun$parseIterator$2(UnivocityParser.scala:512)\n\tat scala.collection.Iterator$$anon$11.nextCur(Iterator.scala:486)\n\tat scala.collection.Iterator$$anon$11.hasNext(Iterator.scala:492)\n\tat org.apache.spark.util.CompletionIterator.hasNext(CompletionIterator.scala:31)\n\tat scala.collection.Iterator$$anon$10.hasNext(Iterator.scala:460)\n\tat org.apache.spark.sql.execution.datasources.FileScanRDD$$anon$1$$anon$2.getNext(FileScanRDD.scala:603)\n\tat org.apache.spark.util.NextIterator.hasNext(NextIterator.scala:73)\n\tat org.apache.spark.sql.execution.datasources.FileScanRDD$$anon$1.nextIterator(FileScanRDD.scala:790)\n\tat org.apache.spark.sql.execution.datasources.FileScanRDD$$anon$1.$anonfun$hasNext$1(FileScanRDD.scala:505)\n\tat scala.runtime.java8.JFunction0$mcZ$sp.apply(JFunction0$mcZ$sp.java:23)\n\tat com.databricks.spark.util.ExecutorFrameProfiler$.record(ExecutorFrameProfiler.scala:110)\n\tat org.apache.spark.sql.execution.datasources.FileScanRDD$$anon$1.hasNext(FileScanRDD.scala:500)\n\tat scala.collection.Iterator$$anon$10.hasNext(Iterator.scala:460)\n\tat scala.collection.Iterator$$anon$10.hasNext(Iterator.scala:460)\n\tat scala.collection.convert.Wrappers$IteratorWrapper.hasNext(Wrappers.scala:32)\n\tat com.google.common.collect.Iterators$PeekingImpl.hasNext(Iterators.java:1139)\n\tat com.databricks.photon.NativeRowBatchIterator.hasNext(NativeRowBatchIterator.java:44)\n\t... 43 more\nCaused by: org.apache.spark.sql.catalyst.util.BadRecordException: org.apache.spark.SparkRuntimeException: [MALFORMED_CSV_RECORD] Malformed CSV record: Jan,256,8000,40\nCaused by: org.apache.spark.SparkRuntimeException: [MALFORMED_CSV_RECORD] Malformed CSV record: Jan,256,8000,40\n\tat org.apache.spark.sql.errors.QueryExecutionErrors$.malformedCSVRecordError(QueryExecutionErrors.scala:1790)\n\tat org.apache.spark.sql.catalyst.csv.UnivocityParser.convert(UnivocityParser.scala:351)\n\tat org.apache.spark.sql.catalyst.csv.UnivocityParser.$anonfun$parse$2(UnivocityParser.scala:326)\n\tat org.apache.spark.sql.catalyst.csv.UnivocityParser$.$anonfun$parseIterator$1(UnivocityParser.scala:504)\n\tat org.apache.spark.sql.catalyst.util.FailureSafeParser.parse(FailureSafeParser.scala:92)\n\tat org.apache.spark.sql.catalyst.csv.UnivocityParser$.$anonfun$parseIterator$2(UnivocityParser.scala:512)\n\tat scala.collection.Iterator$$anon$11.nextCur(Iterator.scala:486)\n\tat scala.collection.Iterator$$anon$11.hasNext(Iterator.scala:492)\n\tat org.apache.spark.util.CompletionIterator.hasNext(CompletionIterator.scala:31)\n\tat scala.collection.Iterator$$anon$10.hasNext(Iterator.scala:460)\n\tat org.apache.spark.sql.execution.datasources.FileScanRDD$$anon$1$$anon$2.getNext(FileScanRDD.scala:603)\n\tat org.apache.spark.util.NextIterator.hasNext(NextIterator.scala:73)\n\tat org.apache.spark.sql.execution.datasources.FileScanRDD$$anon$1.nextIterator(FileScanRDD.scala:790)\n\tat org.apache.spark.sql.execution.datasources.FileScanRDD$$anon$1.$anonfun$hasNext$1(FileScanRDD.scala:505)\n\tat scala.runtime.java8.JFunction0$mcZ$sp.apply(JFunction0$mcZ$sp.java:23)\n\tat com.databricks.spark.util.ExecutorFrameProfiler$.record(ExecutorFrameProfiler.scala:110)\n\tat org.apache.spark.sql.execution.datasources.FileScanRDD$$anon$1.hasNext(FileScanRDD.scala:500)\n\tat scala.collection.Iterator$$anon$10.hasNext(Iterator.scala:460)\n\tat scala.collection.Iterator$$anon$10.hasNext(Iterator.scala:460)\n\tat scala.collection.convert.Wrappers$IteratorWrapper.hasNext(Wrappers.scala:32)\n\tat com.google.common.collect.Iterators$PeekingImpl.hasNext(Iterators.java:1139)\n\tat com.databricks.photon.NativeRowBatchIterator.hasNext(NativeRowBatchIterator.java:44)\n\tat com.databricks.photon.JniApiImpl.hasNext(Native Method)\n\tat com.databricks.photon.JniApi.hasNext(JniApi.scala)\n\tat com.databricks.photon.JniExecNode.hasNext(JniExecNode.java:78)\n\tat com.databricks.photon.BasePhotonResultHandler$$anon$1.hasNext(PhotonExec.scala:756)\n\tat com.databricks.photon.PhotonBasicEvaluatorFactory$PhotonBasicEvaluator$$anon$1.$anonfun$hasNext$1(PhotonBasicEvaluatorFactory.scala:211)\n\tat scala.runtime.java8.JFunction0$mcZ$sp.apply(JFunction0$mcZ$sp.java:23)\n\tat com.databricks.photon.PhotonResultHandler.timeit(PhotonResultHandler.scala:30)\n\tat com.databricks.photon.PhotonResultHandler.timeit$(PhotonResultHandler.scala:28)\n\tat com.databricks.photon.BasePhotonResultHandler.timeit(PhotonExec.scala:743)\n\tat com.databricks.photon.PhotonBasicEvaluatorFactory$PhotonBasicEvaluator$$anon$1.hasNext(PhotonBasicEvaluatorFactory.scala:211)\n\tat com.databricks.photon.CloseableIterator$$anon$10.hasNext(CloseableIterator.scala:211)\n\tat scala.collection.Iterator$$anon$11.hasNext(Iterator.scala:491)\n\tat org.apache.spark.sql.execution.collect.UnsafeRowBatchUtils$.$anonfun$encodeUnsafeRows$5(UnsafeRowBatchUtils.scala:88)\n\tat scala.runtime.java8.JFunction0$mcV$sp.apply(JFunction0$mcV$sp.java:23)\n\tat com.databricks.spark.util.ExecutorFrameProfiler$.record(ExecutorFrameProfiler.scala:110)\n\tat org.apache.spark.sql.execution.collect.UnsafeRowBatchUtils$.$anonfun$encodeUnsafeRows$3(UnsafeRowBatchUtils.scala:88)\n\tat scala.runtime.java8.JFunction0$mcV$sp.apply(JFunction0$mcV$sp.java:23)\n\tat com.databricks.spark.util.ExecutorFrameProfiler$.record(ExecutorFrameProfiler.scala:110)\n\tat org.apache.spark.sql.execution.collect.UnsafeRowBatchUtils$.$anonfun$encodeUnsafeRows$1(UnsafeRowBatchUtils.scala:68)\n\tat com.databricks.spark.util.ExecutorFrameProfiler$.record(ExecutorFrameProfiler.scala:110)\n\tat org.apache.spark.sql.execution.collect.UnsafeRowBatchUtils$.encodeUnsafeRows(UnsafeRowBatchUtils.scala:62)\n\tat org.apache.spark.sql.execution.collect.Collector.$anonfun$processFunc$2(Collector.scala:197)\n\tat org.apache.spark.scheduler.ResultTask.$anonfun$runTask$3(ResultTask.scala:82)\n\tat com.databricks.spark.util.ExecutorFrameProfiler$.record(ExecutorFrameProfiler.scala:110)\n\tat org.apache.spark.scheduler.ResultTask.$anonfun$runTask$1(ResultTask.scala:82)\n\tat com.databricks.spark.util.ExecutorFrameProfiler$.record(ExecutorFrameProfiler.scala:110)\n\tat org.apache.spark.scheduler.ResultTask.runTask(ResultTask.scala:62)\n\tat org.apache.spark.TaskContext.runTaskWithListeners(TaskContext.scala:196)\n\tat org.apache.spark.scheduler.Task.doRunTask(Task.scala:181)\n\tat org.apache.spark.scheduler.Task.$anonfun$run$5(Task.scala:146)\n\tat com.databricks.unity.EmptyHandle$.runWithAndClose(UCSHandle.scala:125)\n\tat org.apache.spark.scheduler.Task.$anonfun$run$1(Task.scala:146)\n\tat com.databricks.spark.util.ExecutorFrameProfiler$.record(ExecutorFrameProfiler.scala:110)\n\tat org.apache.spark.scheduler.Task.run(Task.scala:99)\n\tat org.apache.spark.executor.Executor$TaskRunner.$anonfun$run$8(Executor.scala:897)\n\tat org.apache.spark.util.Utils$.tryWithSafeFinally(Utils.scala:1709)\n\tat org.apache.spark.executor.Executor$TaskRunner.$anonfun$run$3(Executor.scala:900)\n\tat scala.runtime.java8.JFunction0$mcV$sp.apply(JFunction0$mcV$sp.java:23)\n\tat com.databricks.spark.util.ExecutorFrameProfiler$.record(ExecutorFrameProfiler.scala:110)\n\tat org.apache.spark.executor.Executor$TaskRunner.run(Executor.scala:795)\n\tat java.util.concurrent.ThreadPoolExecutor.runWorker(ThreadPoolExecutor.java:1149)\n\tat java.util.concurrent.ThreadPoolExecutor$Worker.run(ThreadPoolExecutor.java:624)\n\tat java.lang.Thread.run(Thread.java:750)\n\nDriver stacktrace:\n\tat org.apache.spark.scheduler.DAGScheduler.failJobAndIndependentStages(DAGScheduler.scala:3588)\n\tat org.apache.spark.scheduler.DAGScheduler.$anonfun$abortStage$2(DAGScheduler.scala:3519)\n\tat org.apache.spark.scheduler.DAGScheduler.$anonfun$abortStage$2$adapted(DAGScheduler.scala:3506)\n\tat scala.collection.mutable.ResizableArray.foreach(ResizableArray.scala:62)\n\tat scala.collection.mutable.ResizableArray.foreach$(ResizableArray.scala:55)\n\tat scala.collection.mutable.ArrayBuffer.foreach(ArrayBuffer.scala:49)\n\tat org.apache.spark.scheduler.DAGScheduler.abortStage(DAGScheduler.scala:3506)\n\tat org.apache.spark.scheduler.DAGScheduler.$anonfun$handleTaskSetFailed$1(DAGScheduler.scala:1516)\n\tat org.apache.spark.scheduler.DAGScheduler.$anonfun$handleTaskSetFailed$1$adapted(DAGScheduler.scala:1516)\n\tat scala.Option.foreach(Option.scala:407)\n\tat org.apache.spark.scheduler.DAGScheduler.handleTaskSetFailed(DAGScheduler.scala:1516)\n\tat org.apache.spark.scheduler.DAGSchedulerEventProcessLoop.doOnReceive(DAGScheduler.scala:3835)\n\tat org.apache.spark.scheduler.DAGSchedulerEventProcessLoop.onReceive(DAGScheduler.scala:3747)\n\tat org.apache.spark.scheduler.DAGSchedulerEventProcessLoop.onReceive(DAGScheduler.scala:3735)\n\tat org.apache.spark.util.EventLoop$$anon$1.run(EventLoop.scala:51)\n\tat org.apache.spark.scheduler.DAGScheduler.$anonfun$runJob$1(DAGScheduler.scala:1240)\n\tat scala.runtime.java8.JFunction0$mcV$sp.apply(JFunction0$mcV$sp.java:23)\n\tat com.databricks.spark.util.FrameProfiler$.record(FrameProfiler.scala:94)\n\tat org.apache.spark.scheduler.DAGScheduler.runJob(DAGScheduler.scala:1228)\n\tat org.apache.spark.SparkContext.runJobInternal(SparkContext.scala:2959)\n\tat org.apache.spark.sql.execution.collect.Collector.$anonfun$runSparkJobs$1(Collector.scala:338)\n\tat scala.runtime.java8.JFunction0$mcV$sp.apply(JFunction0$mcV$sp.java:23)\n\tat com.databricks.spark.util.FrameProfiler$.record(FrameProfiler.scala:94)\n\tat org.apache.spark.sql.execution.collect.Collector.runSparkJobs(Collector.scala:282)\n\tat org.apache.spark.sql.execution.collect.Collector.$anonfun$collect$1(Collector.scala:366)\n\tat com.databricks.spark.util.FrameProfiler$.record(FrameProfiler.scala:94)\n\tat org.apache.spark.sql.execution.collect.Collector.collect(Collector.scala:363)\n\tat org.apache.spark.sql.execution.collect.Collector$.collect(Collector.scala:117)\n\tat org.apache.spark.sql.execution.collect.Collector$.collect(Collector.scala:124)\n\tat org.apache.spark.sql.execution.qrc.InternalRowFormat$.collect(cachedSparkResults.scala:126)\n\tat org.apache.spark.sql.execution.qrc.InternalRowFormat$.collect(cachedSparkResults.scala:114)\n\tat org.apache.spark.sql.execution.qrc.InternalRowFormat$.collect(cachedSparkResults.scala:94)\n\tat org.apache.spark.sql.execution.qrc.ResultCacheManager.$anonfun$computeResult$1(ResultCacheManager.scala:553)\n\tat com.databricks.spark.util.FrameProfiler$.record(FrameProfiler.scala:94)\n\tat org.apache.spark.sql.execution.qrc.ResultCacheManager.collectResult$1(ResultCacheManager.scala:545)\n\tat org.apache.spark.sql.execution.qrc.ResultCacheManager.computeResult(ResultCacheManager.scala:565)\n\tat org.apache.spark.sql.execution.qrc.ResultCacheManager.$anonfun$getOrComputeResultInternal$1(ResultCacheManager.scala:426)\n\tat scala.Option.getOrElse(Option.scala:189)\n\tat org.apache.spark.sql.execution.qrc.ResultCacheManager.getOrComputeResultInternal(ResultCacheManager.scala:419)\n\tat org.apache.spark.sql.execution.qrc.ResultCacheManager.getOrComputeResult(ResultCacheManager.scala:313)\n\tat org.apache.spark.sql.execution.SparkPlan.$anonfun$executeCollectResult$1(SparkPlan.scala:519)\n\tat com.databricks.spark.util.FrameProfiler$.record(FrameProfiler.scala:94)\n\tat org.apache.spark.sql.execution.SparkPlan.executeCollectResult(SparkPlan.scala:516)\n\tat org.apache.spark.sql.Dataset.collectResult(Dataset.scala:3628)\n\tat org.apache.spark.sql.Dataset.collectFromPlan(Dataset.scala:4553)\n\tat org.apache.spark.sql.Dataset.$anonfun$head$1(Dataset.scala:3336)\n\tat org.apache.spark.sql.Dataset.$anonfun$withAction$3(Dataset.scala:4544)\n\tat org.apache.spark.sql.execution.QueryExecution$.withInternalError(QueryExecution.scala:945)\n\tat org.apache.spark.sql.Dataset.$anonfun$withAction$2(Dataset.scala:4542)\n\tat org.apache.spark.sql.execution.SQLExecution$.$anonfun$withCustomExecutionEnv$8(SQLExecution.scala:282)\n\tat org.apache.spark.sql.execution.SQLExecution$.withSQLConfPropagated(SQLExecution.scala:510)\n\tat org.apache.spark.sql.execution.SQLExecution$.$anonfun$withCustomExecutionEnv$1(SQLExecution.scala:209)\n\tat org.apache.spark.sql.SparkSession.withActive(SparkSession.scala:1113)\n\tat org.apache.spark.sql.execution.SQLExecution$.withCustomExecutionEnv(SQLExecution.scala:152)\n\tat org.apache.spark.sql.execution.SQLExecution$.withNewExecutionId(SQLExecution.scala:459)\n\tat org.apache.spark.sql.Dataset.withAction(Dataset.scala:4542)\n\tat org.apache.spark.sql.Dataset.head(Dataset.scala:3336)\n\tat org.apache.spark.sql.Dataset.take(Dataset.scala:3559)\n\tat org.apache.spark.sql.Dataset.getRows(Dataset.scala:322)\n\tat org.apache.spark.sql.Dataset.showString(Dataset.scala:357)\n\tat sun.reflect.GeneratedMethodAccessor813.invoke(Unknown Source)\n\tat sun.reflect.DelegatingMethodAccessorImpl.invoke(DelegatingMethodAccessorImpl.java:43)\n\tat java.lang.reflect.Method.invoke(Method.java:498)\n\tat py4j.reflection.MethodInvoker.invoke(MethodInvoker.java:244)\n\tat py4j.reflection.ReflectionEngine.invoke(ReflectionEngine.java:397)\n\tat py4j.Gateway.invoke(Gateway.java:306)\n\tat py4j.commands.AbstractCommand.invokeMethod(AbstractCommand.java:132)\n\tat py4j.commands.CallCommand.execute(CallCommand.java:79)\n\tat py4j.ClientServerConnection.waitForCommands(ClientServerConnection.java:195)\n\tat py4j.ClientServerConnection.run(ClientServerConnection.java:115)\n\tat java.lang.Thread.run(Thread.java:750)\nCaused by: com.databricks.sql.io.FileReadException: Error while reading file dbfs:/FileStore/tables/mydir/currupt_data.csv.\n\tat org.apache.spark.sql.execution.datasources.FileScanRDD$$anon$1$$anon$2.logFileNameAndThrow(FileScanRDD.scala:695)\n\tat org.apache.spark.sql.execution.datasources.FileScanRDD$$anon$1$$anon$2.getNext(FileScanRDD.scala:664)\n\tat org.apache.spark.util.NextIterator.hasNext(NextIterator.scala:73)\n\tat org.apache.spark.sql.execution.datasources.FileScanRDD$$anon$1.nextIterator(FileScanRDD.scala:790)\n\tat org.apache.spark.sql.execution.datasources.FileScanRDD$$anon$1.$anonfun$hasNext$1(FileScanRDD.scala:505)\n\tat scala.runtime.java8.JFunction0$mcZ$sp.apply(JFunction0$mcZ$sp.java:23)\n\tat com.databricks.spark.util.ExecutorFrameProfiler$.record(ExecutorFrameProfiler.scala:110)\n\tat org.apache.spark.sql.execution.datasources.FileScanRDD$$anon$1.hasNext(FileScanRDD.scala:500)\n\tat scala.collection.Iterator$$anon$10.hasNext(Iterator.scala:460)\n\tat scala.collection.Iterator$$anon$10.hasNext(Iterator.scala:460)\n\tat scala.collection.convert.Wrappers$IteratorWrapper.hasNext(Wrappers.scala:32)\n\tat com.google.common.collect.Iterators$PeekingImpl.hasNext(Iterators.java:1139)\n\tat com.databricks.photon.NativeRowBatchIterator.hasNext(NativeRowBatchIterator.java:44)\n\tat 0x986db02 <photon>.HasNext(external/workspace_spark_3_4/photon/jni-wrappers/jni-row-batch-iterator.cc:50)\n\tat com.databricks.photon.JniApiImpl.hasNext(Native Method)\n\tat com.databricks.photon.JniApi.hasNext(JniApi.scala)\n\tat com.databricks.photon.JniExecNode.hasNext(JniExecNode.java:78)\n\tat com.databricks.photon.BasePhotonResultHandler$$anon$1.hasNext(PhotonExec.scala:756)\n\tat com.databricks.photon.PhotonBasicEvaluatorFactory$PhotonBasicEvaluator$$anon$1.$anonfun$hasNext$1(PhotonBasicEvaluatorFactory.scala:211)\n\tat scala.runtime.java8.JFunction0$mcZ$sp.apply(JFunction0$mcZ$sp.java:23)\n\tat com.databricks.photon.PhotonResultHandler.timeit(PhotonResultHandler.scala:30)\n\tat com.databricks.photon.PhotonResultHandler.timeit$(PhotonResultHandler.scala:28)\n\tat com.databricks.photon.BasePhotonResultHandler.timeit(PhotonExec.scala:743)\n\tat com.databricks.photon.PhotonBasicEvaluatorFactory$PhotonBasicEvaluator$$anon$1.hasNext(PhotonBasicEvaluatorFactory.scala:211)\n\tat com.databricks.photon.CloseableIterator$$anon$10.hasNext(CloseableIterator.scala:211)\n\tat scala.collection.Iterator$$anon$11.hasNext(Iterator.scala:491)\n\tat org.apache.spark.sql.execution.collect.UnsafeRowBatchUtils$.$anonfun$encodeUnsafeRows$5(UnsafeRowBatchUtils.scala:88)\n\tat scala.runtime.java8.JFunction0$mcV$sp.apply(JFunction0$mcV$sp.java:23)\n\tat com.databricks.spark.util.ExecutorFrameProfiler$.record(ExecutorFrameProfiler.scala:110)\n\tat org.apache.spark.sql.execution.collect.UnsafeRowBatchUtils$.$anonfun$encodeUnsafeRows$3(UnsafeRowBatchUtils.scala:88)\n\tat scala.runtime.java8.JFunction0$mcV$sp.apply(JFunction0$mcV$sp.java:23)\n\tat com.databricks.spark.util.ExecutorFrameProfiler$.record(ExecutorFrameProfiler.scala:110)\n\tat org.apache.spark.sql.execution.collect.UnsafeRowBatchUtils$.$anonfun$encodeUnsafeRows$1(UnsafeRowBatchUtils.scala:68)\n\tat com.databricks.spark.util.ExecutorFrameProfiler$.record(ExecutorFrameProfiler.scala:110)\n\tat org.apache.spark.sql.execution.collect.UnsafeRowBatchUtils$.encodeUnsafeRows(UnsafeRowBatchUtils.scala:62)\n\tat org.apache.spark.sql.execution.collect.Collector.$anonfun$processFunc$2(Collector.scala:197)\n\tat org.apache.spark.scheduler.ResultTask.$anonfun$runTask$3(ResultTask.scala:82)\n\tat com.databricks.spark.util.ExecutorFrameProfiler$.record(ExecutorFrameProfiler.scala:110)\n\tat org.apache.spark.scheduler.ResultTask.$anonfun$runTask$1(ResultTask.scala:82)\n\tat com.databricks.spark.util.ExecutorFrameProfiler$.record(ExecutorFrameProfiler.scala:110)\n\tat org.apache.spark.scheduler.ResultTask.runTask(ResultTask.scala:62)\n\tat org.apache.spark.TaskContext.runTaskWithListeners(TaskContext.scala:196)\n\tat org.apache.spark.scheduler.Task.doRunTask(Task.scala:181)\n\tat org.apache.spark.scheduler.Task.$anonfun$run$5(Task.scala:146)\n\tat com.databricks.unity.EmptyHandle$.runWithAndClose(UCSHandle.scala:125)\n\tat org.apache.spark.scheduler.Task.$anonfun$run$1(Task.scala:146)\n\tat com.databricks.spark.util.ExecutorFrameProfiler$.record(ExecutorFrameProfiler.scala:110)\n\tat org.apache.spark.scheduler.Task.run(Task.scala:99)\n\tat org.apache.spark.executor.Executor$TaskRunner.$anonfun$run$8(Executor.scala:897)\n\tat org.apache.spark.util.Utils$.tryWithSafeFinally(Utils.scala:1709)\n\tat org.apache.spark.executor.Executor$TaskRunner.$anonfun$run$3(Executor.scala:900)\n\tat scala.runtime.java8.JFunction0$mcV$sp.apply(JFunction0$mcV$sp.java:23)\n\tat com.databricks.spark.util.ExecutorFrameProfiler$.record(ExecutorFrameProfiler.scala:110)\n\tat org.apache.spark.executor.Executor$TaskRunner.run(Executor.scala:795)\n\tat java.util.concurrent.ThreadPoolExecutor.runWorker(ThreadPoolExecutor.java:1149)\n\tat java.util.concurrent.ThreadPoolExecutor$Worker.run(ThreadPoolExecutor.java:624)\n\t... 1 more\nCaused by: org.apache.spark.SparkException: [MALFORMED_RECORD_IN_PARSING.WITHOUT_SUGGESTION] Malformed records are detected in record parsing: [Jan,256,8000,40,null].\nParse Mode: FAILFAST. To process malformed records as null result, try setting the option 'mode' as 'PERMISSIVE'. \n\tat org.apache.spark.sql.errors.QueryExecutionErrors$.malformedRecordsDetectedInRecordParsingError(QueryExecutionErrors.scala:2025)\n\tat org.apache.spark.sql.catalyst.util.FailureSafeParser.parse(FailureSafeParser.scala:118)\n\tat org.apache.spark.sql.catalyst.csv.UnivocityParser$.$anonfun$parseIterator$2(UnivocityParser.scala:512)\n\tat scala.collection.Iterator$$anon$11.nextCur(Iterator.scala:486)\n\tat scala.collection.Iterator$$anon$11.hasNext(Iterator.scala:492)\n\tat org.apache.spark.util.CompletionIterator.hasNext(CompletionIterator.scala:31)\n\tat scala.collection.Iterator$$anon$10.hasNext(Iterator.scala:460)\n\tat org.apache.spark.sql.execution.datasources.FileScanRDD$$anon$1$$anon$2.getNext(FileScanRDD.scala:603)\n\tat org.apache.spark.util.NextIterator.hasNext(NextIterator.scala:73)\n\tat org.apache.spark.sql.execution.datasources.FileScanRDD$$anon$1.nextIterator(FileScanRDD.scala:790)\n\tat org.apache.spark.sql.execution.datasources.FileScanRDD$$anon$1.$anonfun$hasNext$1(FileScanRDD.scala:505)\n\tat scala.runtime.java8.JFunction0$mcZ$sp.apply(JFunction0$mcZ$sp.java:23)\n\tat com.databricks.spark.util.ExecutorFrameProfiler$.record(ExecutorFrameProfiler.scala:110)\n\tat org.apache.spark.sql.execution.datasources.FileScanRDD$$anon$1.hasNext(FileScanRDD.scala:500)\n\tat scala.collection.Iterator$$anon$10.hasNext(Iterator.scala:460)\n\tat scala.collection.Iterator$$anon$10.hasNext(Iterator.scala:460)\n\tat scala.collection.convert.Wrappers$IteratorWrapper.hasNext(Wrappers.scala:32)\n\tat com.google.common.collect.Iterators$PeekingImpl.hasNext(Iterators.java:1139)\n\tat com.databricks.photon.NativeRowBatchIterator.hasNext(NativeRowBatchIterator.java:44)\n\t... 43 more\nCaused by: org.apache.spark.sql.catalyst.util.BadRecordException: org.apache.spark.SparkRuntimeException: [MALFORMED_CSV_RECORD] Malformed CSV record: Jan,256,8000,40\nCaused by: org.apache.spark.SparkRuntimeException: [MALFORMED_CSV_RECORD] Malformed CSV record: Jan,256,8000,40\n\tat org.apache.spark.sql.errors.QueryExecutionErrors$.malformedCSVRecordError(QueryExecutionErrors.scala:1790)\n\tat org.apache.spark.sql.catalyst.csv.UnivocityParser.convert(UnivocityParser.scala:351)\n\tat org.apache.spark.sql.catalyst.csv.UnivocityParser.$anonfun$parse$2(UnivocityParser.scala:326)\n\tat org.apache.spark.sql.catalyst.csv.UnivocityParser$.$anonfun$parseIterator$1(UnivocityParser.scala:504)\n\tat org.apache.spark.sql.catalyst.util.FailureSafeParser.parse(FailureSafeParser.scala:92)\n\tat org.apache.spark.sql.catalyst.csv.UnivocityParser$.$anonfun$parseIterator$2(UnivocityParser.scala:512)\n\tat scala.collection.Iterator$$anon$11.nextCur(Iterator.scala:486)\n\tat scala.collection.Iterator$$anon$11.hasNext(Iterator.scala:492)\n\tat org.apache.spark.util.CompletionIterator.hasNext(CompletionIterator.scala:31)\n\tat scala.collection.Iterator$$anon$10.hasNext(Iterator.scala:460)\n\tat org.apache.spark.sql.execution.datasources.FileScanRDD$$anon$1$$anon$2.getNext(FileScanRDD.scala:603)\n\tat org.apache.spark.util.NextIterator.hasNext(NextIterator.scala:73)\n\tat org.apache.spark.sql.execution.datasources.FileScanRDD$$anon$1.nextIterator(FileScanRDD.scala:790)\n\tat org.apache.spark.sql.execution.datasources.FileScanRDD$$anon$1.$anonfun$hasNext$1(FileScanRDD.scala:505)\n\tat scala.runtime.java8.JFunction0$mcZ$sp.apply(JFunction0$mcZ$sp.java:23)\n\tat com.databricks.spark.util.ExecutorFrameProfiler$.record(ExecutorFrameProfiler.scala:110)\n\tat org.apache.spark.sql.execution.datasources.FileScanRDD$$anon$1.hasNext(FileScanRDD.scala:500)\n\tat scala.collection.Iterator$$anon$10.hasNext(Iterator.scala:460)\n\tat scala.collection.Iterator$$anon$10.hasNext(Iterator.scala:460)\n\tat scala.collection.convert.Wrappers$IteratorWrapper.hasNext(Wrappers.scala:32)\n\tat com.google.common.collect.Iterators$PeekingImpl.hasNext(Iterators.java:1139)\n\tat com.databricks.photon.NativeRowBatchIterator.hasNext(NativeRowBatchIterator.java:44)\n\tat com.databricks.photon.JniApiImpl.hasNext(Native Method)\n\tat com.databricks.photon.JniApi.hasNext(JniApi.scala)\n\tat com.databricks.photon.JniExecNode.hasNext(JniExecNode.java:78)\n\tat com.databricks.photon.BasePhotonResultHandler$$anon$1.hasNext(PhotonExec.scala:756)\n\tat com.databricks.photon.PhotonBasicEvaluatorFactory$PhotonBasicEvaluator$$anon$1.$anonfun$hasNext$1(PhotonBasicEvaluatorFactory.scala:211)\n\tat scala.runtime.java8.JFunction0$mcZ$sp.apply(JFunction0$mcZ$sp.java:23)\n\tat com.databricks.photon.PhotonResultHandler.timeit(PhotonResultHandler.scala:30)\n\tat com.databricks.photon.PhotonResultHandler.timeit$(PhotonResultHandler.scala:28)\n\tat com.databricks.photon.BasePhotonResultHandler.timeit(PhotonExec.scala:743)\n\tat com.databricks.photon.PhotonBasicEvaluatorFactory$PhotonBasicEvaluator$$anon$1.hasNext(PhotonBasicEvaluatorFactory.scala:211)\n\tat com.databricks.photon.CloseableIterator$$anon$10.hasNext(CloseableIterator.scala:211)\n\tat scala.collection.Iterator$$anon$11.hasNext(Iterator.scala:491)\n\tat org.apache.spark.sql.execution.collect.UnsafeRowBatchUtils$.$anonfun$encodeUnsafeRows$5(UnsafeRowBatchUtils.scala:88)\n\tat scala.runtime.java8.JFunction0$mcV$sp.apply(JFunction0$mcV$sp.java:23)\n\tat com.databricks.spark.util.ExecutorFrameProfiler$.record(ExecutorFrameProfiler.scala:110)\n\tat org.apache.spark.sql.execution.collect.UnsafeRowBatchUtils$.$anonfun$encodeUnsafeRows$3(UnsafeRowBatchUtils.scala:88)\n\tat scala.runtime.java8.JFunction0$mcV$sp.apply(JFunction0$mcV$sp.java:23)\n\tat com.databricks.spark.util.ExecutorFrameProfiler$.record(ExecutorFrameProfiler.scala:110)\n\tat org.apache.spark.sql.execution.collect.UnsafeRowBatchUtils$.$anonfun$encodeUnsafeRows$1(UnsafeRowBatchUtils.scala:68)\n\tat com.databricks.spark.util.ExecutorFrameProfiler$.record(ExecutorFrameProfiler.scala:110)\n\tat org.apache.spark.sql.execution.collect.UnsafeRowBatchUtils$.encodeUnsafeRows(UnsafeRowBatchUtils.scala:62)\n\tat org.apache.spark.sql.execution.collect.Collector.$anonfun$processFunc$2(Collector.scala:197)\n\tat org.apache.spark.scheduler.ResultTask.$anonfun$runTask$3(ResultTask.scala:82)\n\tat com.databricks.spark.util.ExecutorFrameProfiler$.record(ExecutorFrameProfiler.scala:110)\n\tat org.apache.spark.scheduler.ResultTask.$anonfun$runTask$1(ResultTask.scala:82)\n\tat com.databricks.spark.util.ExecutorFrameProfiler$.record(ExecutorFrameProfiler.scala:110)\n\tat org.apache.spark.scheduler.ResultTask.runTask(ResultTask.scala:62)\n\tat org.apache.spark.TaskContext.runTaskWithListeners(TaskContext.scala:196)\n\tat org.apache.spark.scheduler.Task.doRunTask(Task.scala:181)\n\tat org.apache.spark.scheduler.Task.$anonfun$run$5(Task.scala:146)\n\tat com.databricks.unity.EmptyHandle$.runWithAndClose(UCSHandle.scala:125)\n\tat org.apache.spark.scheduler.Task.$anonfun$run$1(Task.scala:146)\n\tat com.databricks.spark.util.ExecutorFrameProfiler$.record(ExecutorFrameProfiler.scala:110)\n\tat org.apache.spark.scheduler.Task.run(Task.scala:99)\n\tat org.apache.spark.executor.Executor$TaskRunner.$anonfun$run$8(Executor.scala:897)\n\tat org.apache.spark.util.Utils$.tryWithSafeFinally(Utils.scala:1709)\n\tat org.apache.spark.executor.Executor$TaskRunner.$anonfun$run$3(Executor.scala:900)\n\tat scala.runtime.java8.JFunction0$mcV$sp.apply(JFunction0$mcV$sp.java:23)\n\tat com.databricks.spark.util.ExecutorFrameProfiler$.record(ExecutorFrameProfiler.scala:110)\n\tat org.apache.spark.executor.Executor$TaskRunner.run(Executor.scala:795)\n\tat java.util.concurrent.ThreadPoolExecutor.runWorker(ThreadPoolExecutor.java:1149)\n\tat java.util.concurrent.ThreadPoolExecutor$Worker.run(ThreadPoolExecutor.java:624)\n\tat java.lang.Thread.run(Thread.java:750)\n",
       "errorSummary": "org.apache.spark.SparkException: Job aborted due to stage failure: Task 0 in stage 162.0 failed 4 times, most recent failure: Lost task 0.3 in stage 162.0 (TID 268) (10.139.64.4 executor driver): com.databricks.sql.io.FileReadException: Error while reading file dbfs:/FileStore/tables/mydir/currupt_data.csv.",
       "errorTraceType": "ansi",
       "metadata": {},
       "type": "ipynbError"
      }
     },
     "output_type": "display_data"
    }
   ],
   "source": [
    "spark.read.format('csv').option(\"header\",False).option(\"mode\",\"FAILFAST\").schema(df_schema).load(\"/FileStore/tables/mydir/currupt_data.csv\").show()"
   ]
  },
  {
   "cell_type": "code",
   "execution_count": 0,
   "metadata": {
    "application/vnd.databricks.v1+cell": {
     "cellMetadata": {},
     "inputWidgets": {},
     "nuid": "8e43048e-1029-47bc-944b-b51e581133c4",
     "showTitle": false,
     "title": ""
    }
   },
   "outputs": [],
   "source": []
  }
 ],
 "metadata": {
  "application/vnd.databricks.v1+notebook": {
   "dashboards": [
    {
     "elements": [
      {
       "dashboardResultIndex": 0,
       "elementNUID": "bed6516b-e166-4c42-8627-cf50249de439",
       "elementType": "command",
       "guid": "8f6b87ae-6ea9-4b36-8c53-0a881339873c",
       "options": null,
       "position": {
        "height": 6,
        "width": 12,
        "x": 0,
        "y": 0,
        "z": null
       },
       "resultIndex": null
      }
     ],
     "globalVars": {},
     "guid": "",
     "layoutOption": {
      "grid": true,
      "stack": true
     },
     "nuid": "e7ed610f-a884-4368-8bed-92ff71c1b1f9",
     "origId": 3630353999285309,
     "title": "Untitled",
     "version": "DashboardViewV1",
     "width": 1024
    }
   ],
   "language": "python",
   "notebookMetadata": {
    "mostRecentlyExecutedCommandWithImplicitDF": {
     "commandId": 894128884975863,
     "dataframes": [
      "_sqldf"
     ]
    },
    "pythonIndentUnit": 4
   },
   "notebookName": "DB_basics",
   "widgets": {}
  }
 },
 "nbformat": 4,
 "nbformat_minor": 0
}
